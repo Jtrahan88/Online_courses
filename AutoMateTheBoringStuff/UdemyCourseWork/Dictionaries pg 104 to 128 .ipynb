{
 "cells": [
  {
   "cell_type": "markdown",
   "id": "a8c81aff",
   "metadata": {},
   "source": [
    "# Dictionary data type"
   ]
  },
  {
   "cell_type": "code",
   "execution_count": 1,
   "id": "402c694d",
   "metadata": {},
   "outputs": [],
   "source": [
    "myCat = {'size': 'fat', 'color': 'gray', 'dispostion': \"loud\"}\n"
   ]
  },
  {
   "cell_type": "code",
   "execution_count": 2,
   "id": "8203d744",
   "metadata": {},
   "outputs": [
    {
     "data": {
      "text/plain": [
       "'fat'"
      ]
     },
     "execution_count": 2,
     "metadata": {},
     "output_type": "execute_result"
    }
   ],
   "source": [
    "myCat['size']"
   ]
  },
  {
   "cell_type": "code",
   "execution_count": 3,
   "id": "88633bf0",
   "metadata": {},
   "outputs": [
    {
     "data": {
      "text/plain": [
       "'my cat has gray fur'"
      ]
     },
     "execution_count": 3,
     "metadata": {},
     "output_type": "execute_result"
    }
   ],
   "source": [
    "'my cat has ' + myCat['color'] + ' fur'"
   ]
  },
  {
   "cell_type": "code",
   "execution_count": 4,
   "id": "7f8f9301",
   "metadata": {},
   "outputs": [
    {
     "data": {
      "text/plain": [
       "{12345: 'Luggaue combination', 43: 'The Answer'}"
      ]
     },
     "execution_count": 4,
     "metadata": {},
     "output_type": "execute_result"
    }
   ],
   "source": [
    "spam = {12345: 'Luggaue combination', 43: 'The Answer'}\n",
    "spam"
   ]
  },
  {
   "cell_type": "markdown",
   "id": "8cb5db81",
   "metadata": {},
   "source": [
    "# Dictionaries have no order:"
   ]
  },
  {
   "cell_type": "markdown",
   "id": "2b8fb9fd",
   "metadata": {},
   "source": [
    "lists have order. here is how python sees this"
   ]
  },
  {
   "cell_type": "code",
   "execution_count": 5,
   "id": "714f57ae",
   "metadata": {},
   "outputs": [
    {
     "data": {
      "text/plain": [
       "True"
      ]
     },
     "execution_count": 5,
     "metadata": {},
     "output_type": "execute_result"
    }
   ],
   "source": [
    "[1,2,3] == [1,2,3]"
   ]
  },
  {
   "cell_type": "code",
   "execution_count": 6,
   "id": "9f3ef735",
   "metadata": {},
   "outputs": [
    {
     "data": {
      "text/plain": [
       "False"
      ]
     },
     "execution_count": 6,
     "metadata": {},
     "output_type": "execute_result"
    }
   ],
   "source": [
    "[1,2,3] == [3,2,1]"
   ]
  },
  {
   "cell_type": "markdown",
   "id": "00362008",
   "metadata": {},
   "source": [
    "For dictaionaries it doesn't matter"
   ]
  },
  {
   "cell_type": "code",
   "execution_count": 7,
   "id": "7ab7dab4",
   "metadata": {},
   "outputs": [],
   "source": [
    "eggs = {'name': 'jacque', 'species': 'human', 'age': 21}\n",
    "ham = {'age': 21, 'name': 'jacque', 'species': 'human'}\n"
   ]
  },
  {
   "cell_type": "code",
   "execution_count": 8,
   "id": "e43207c5",
   "metadata": {},
   "outputs": [
    {
     "data": {
      "text/plain": [
       "True"
      ]
     },
     "execution_count": 8,
     "metadata": {},
     "output_type": "execute_result"
    }
   ],
   "source": [
    "ham == eggs"
   ]
  },
  {
   "cell_type": "markdown",
   "id": "e0f185e7",
   "metadata": {},
   "source": [
    "# Get keys and values mthods as a list of tuples"
   ]
  },
  {
   "cell_type": "markdown",
   "id": "6c5265bd",
   "metadata": {},
   "source": [
    "get the keys method"
   ]
  },
  {
   "cell_type": "code",
   "execution_count": 9,
   "id": "0ee5cfc7",
   "metadata": {},
   "outputs": [
    {
     "data": {
      "text/plain": [
       "dict_keys(['name', 'species', 'age'])"
      ]
     },
     "execution_count": 9,
     "metadata": {},
     "output_type": "execute_result"
    }
   ],
   "source": [
    "eggs.keys()"
   ]
  },
  {
   "cell_type": "markdown",
   "id": "2836a5bd",
   "metadata": {},
   "source": [
    "get the values method"
   ]
  },
  {
   "cell_type": "code",
   "execution_count": 10,
   "id": "b7476bd0",
   "metadata": {},
   "outputs": [
    {
     "data": {
      "text/plain": [
       "dict_values(['jacque', 'human', 21])"
      ]
     },
     "execution_count": 10,
     "metadata": {},
     "output_type": "execute_result"
    }
   ],
   "source": [
    "eggs.values()"
   ]
  },
  {
   "cell_type": "markdown",
   "id": "e9d6e7f8",
   "metadata": {},
   "source": [
    "get both the keys and values method. "
   ]
  },
  {
   "cell_type": "code",
   "execution_count": 11,
   "id": "c6135a88",
   "metadata": {},
   "outputs": [
    {
     "data": {
      "text/plain": [
       "dict_items([('name', 'jacque'), ('species', 'human'), ('age', 21)])"
      ]
     },
     "execution_count": 11,
     "metadata": {},
     "output_type": "execute_result"
    }
   ],
   "source": [
    "eggs.items()"
   ]
  },
  {
   "cell_type": "code",
   "execution_count": 12,
   "id": "7f9279ce",
   "metadata": {},
   "outputs": [
    {
     "name": "stdout",
     "output_type": "stream",
     "text": [
      "name\n",
      "species\n",
      "age\n"
     ]
    }
   ],
   "source": [
    "for key in eggs.keys():\n",
    "    print(key)"
   ]
  },
  {
   "cell_type": "code",
   "execution_count": 13,
   "id": "c78cc7a7",
   "metadata": {},
   "outputs": [
    {
     "name": "stdout",
     "output_type": "stream",
     "text": [
      "jacque\n",
      "human\n",
      "21\n"
     ]
    }
   ],
   "source": [
    "for value in eggs.values():\n",
    "    print(value)"
   ]
  },
  {
   "cell_type": "code",
   "execution_count": 14,
   "id": "388ebed6",
   "metadata": {},
   "outputs": [
    {
     "name": "stdout",
     "output_type": "stream",
     "text": [
      "The key is: name and the value is: jacque\n",
      "The key is: species and the value is: human\n",
      "The key is: age and the value is: 21\n",
      "Total key and item pairs: 3\n"
     ]
    }
   ],
   "source": [
    "for key,value in eggs.items():\n",
    "    print('The key is: ' + str(key) + \" and the value is: \" + str(value))\n",
    "print('Total key and item pairs: '+ str(len(eggs)))"
   ]
  },
  {
   "cell_type": "code",
   "execution_count": 15,
   "id": "5f4d8695",
   "metadata": {
    "scrolled": true
   },
   "outputs": [
    {
     "name": "stdout",
     "output_type": "stream",
     "text": [
      "('name', 'jacque')\n",
      "('species', 'human')\n",
      "('age', 21)\n"
     ]
    }
   ],
   "source": [
    "for print_as_tuples in eggs.items():\n",
    "    print(print_as_tuples)"
   ]
  },
  {
   "cell_type": "markdown",
   "id": "4e27768b",
   "metadata": {},
   "source": [
    "# Get methods \n",
    "either gets the key it needs and out puts that keys values of a dictionairy. if not found it will ouput the second choice. "
   ]
  },
  {
   "cell_type": "code",
   "execution_count": 16,
   "id": "477f78f5",
   "metadata": {},
   "outputs": [
    {
     "data": {
      "text/plain": [
       "'nothing there'"
      ]
     },
     "execution_count": 16,
     "metadata": {},
     "output_type": "execute_result"
    }
   ],
   "source": [
    "eggs.get('color', \"nothing there\") # if key is not there will return other value"
   ]
  },
  {
   "cell_type": "code",
   "execution_count": 49,
   "id": "b1284bcb",
   "metadata": {},
   "outputs": [
    {
     "data": {
      "text/plain": [
       "'jacque'"
      ]
     },
     "execution_count": 49,
     "metadata": {},
     "output_type": "execute_result"
    }
   ],
   "source": [
    "eggs.get('name', 'sup') # if name key is there will return that key's value."
   ]
  },
  {
   "cell_type": "code",
   "execution_count": 19,
   "id": "f8c8b08b",
   "metadata": {},
   "outputs": [
    {
     "name": "stdout",
     "output_type": "stream",
     "text": [
      "I am bringthing 0 napkins to the picnic\n"
     ]
    }
   ],
   "source": [
    "picnicItems = {'apples': 5, 'bananas': 5, 'ham': 1}\n",
    "print('I am bringthing ' + str(picnicItems.get('napkins', 0)) + ' napkins to the picnic')"
   ]
  },
  {
   "cell_type": "markdown",
   "id": "b90dd6df",
   "metadata": {},
   "source": [
    "# Set Default method\n",
    "set a value in a dictionary only fi the key does not exsist"
   ]
  },
  {
   "cell_type": "code",
   "execution_count": 20,
   "id": "9462e077",
   "metadata": {},
   "outputs": [
    {
     "data": {
      "text/plain": [
       "{'name': 'jacque', 'species': 'human', 'age': 21}"
      ]
     },
     "execution_count": 20,
     "metadata": {},
     "output_type": "execute_result"
    }
   ],
   "source": [
    "eggs"
   ]
  },
  {
   "cell_type": "code",
   "execution_count": 21,
   "id": "6d3c871f",
   "metadata": {},
   "outputs": [],
   "source": [
    "if 'color' not in eggs:\n",
    "    eggs['color'] = 'black'"
   ]
  },
  {
   "cell_type": "code",
   "execution_count": 22,
   "id": "a033f53c",
   "metadata": {},
   "outputs": [
    {
     "data": {
      "text/plain": [
       "{'name': 'jacque', 'species': 'human', 'age': 21, 'color': 'black'}"
      ]
     },
     "execution_count": 22,
     "metadata": {},
     "output_type": "execute_result"
    }
   ],
   "source": [
    "eggs"
   ]
  },
  {
   "cell_type": "markdown",
   "id": "27dff807",
   "metadata": {},
   "source": [
    "so the above in one line of code using set default mythod.\n",
    "Will reset our eggs dict first"
   ]
  },
  {
   "cell_type": "code",
   "execution_count": 25,
   "id": "53132ca4",
   "metadata": {},
   "outputs": [
    {
     "data": {
      "text/plain": [
       "{'name': 'jacque', 'species': 'human', 'age': 21}"
      ]
     },
     "execution_count": 25,
     "metadata": {},
     "output_type": "execute_result"
    }
   ],
   "source": [
    "eggs = {'name': 'jacque', 'species': 'human', 'age': 21}\n",
    "eggs"
   ]
  },
  {
   "cell_type": "code",
   "execution_count": 26,
   "id": "12b16081",
   "metadata": {},
   "outputs": [
    {
     "data": {
      "text/plain": [
       "{'name': 'jacque', 'species': 'human', 'age': 21, 'color': 'black'}"
      ]
     },
     "execution_count": 26,
     "metadata": {},
     "output_type": "execute_result"
    }
   ],
   "source": [
    "eggs.setdefault('color', 'black')\n",
    "eggs"
   ]
  },
  {
   "cell_type": "markdown",
   "id": "293a8567",
   "metadata": {},
   "source": [
    "if tries to do this agian with a different color using the 'color' string as a key, nothing will happen becuase the color key is already there"
   ]
  },
  {
   "cell_type": "code",
   "execution_count": 28,
   "id": "7d1b6667",
   "metadata": {},
   "outputs": [
    {
     "data": {
      "text/plain": [
       "{'name': 'jacque', 'species': 'human', 'age': 21, 'color': 'black'}"
      ]
     },
     "execution_count": 28,
     "metadata": {},
     "output_type": "execute_result"
    }
   ],
   "source": [
    "eggs.setdefault('color', 'orange')\n",
    "eggs"
   ]
  },
  {
   "cell_type": "markdown",
   "id": "27d1fa24",
   "metadata": {},
   "source": [
    "# Create a short program\n",
    "to count the number of occurances of a letter in a string"
   ]
  },
  {
   "cell_type": "code",
   "execution_count": 30,
   "id": "ba6ff6d2",
   "metadata": {
    "scrolled": true
   },
   "outputs": [
    {
     "name": "stdout",
     "output_type": "stream",
     "text": [
      "{'I': 1, 't': 6, ' ': 13, 'w': 2, 'a': 5, 's': 3, 'b': 1, 'r': 5, 'i': 6, 'g': 2, 'h': 3, 'c': 3, 'o': 2, 'l': 3, 'd': 3, 'y': 1, 'n': 4, 'p': 1, 'e': 5, 'k': 1}\n"
     ]
    }
   ],
   "source": [
    "message = 'It was a bright cold day in april and the clocks were striing thriteen'\n",
    "count = {}\n",
    "\n",
    "for char in message:\n",
    "    count.setdefault(char, 0)\n",
    "    count[char] += 1\n",
    "print(count)"
   ]
  },
  {
   "cell_type": "markdown",
   "id": "44395bd9",
   "metadata": {},
   "source": [
    "This program is cool but has a fault. It count lower case 'a' and upper case 'A' seperatly so wer can make some small adjustments to remeidy this."
   ]
  },
  {
   "cell_type": "code",
   "execution_count": 33,
   "id": "53bdff52",
   "metadata": {},
   "outputs": [
    {
     "name": "stdout",
     "output_type": "stream",
     "text": [
      "{'I': 7, 'T': 6, ' ': 13, 'W': 2, 'A': 5, 'S': 3, 'B': 1, 'R': 5, 'G': 2, 'H': 3, 'C': 3, 'O': 2, 'L': 3, 'D': 3, 'Y': 1, 'N': 4, 'P': 1, 'E': 5, 'K': 1}\n"
     ]
    }
   ],
   "source": [
    "message = 'It was a bright cold day in april and the clocks were striing thriteen'\n",
    "count = {}\n",
    "\n",
    "for char in message.upper(): # .upper() method capitalizes everything\n",
    "    count.setdefault(char, 0)\n",
    "    count[char] += 1\n",
    "print(count)"
   ]
  },
  {
   "cell_type": "markdown",
   "id": "12c1d6c5",
   "metadata": {},
   "source": [
    "This prgram will work with any amoutn of charecters in the string. Lets import some more text from a URL. Will get a little more advance and import a URL reader to we do not have the entire romero and juliet play shown in this notebook\n"
   ]
  },
  {
   "cell_type": "markdown",
   "id": "63272187",
   "metadata": {},
   "source": [
    "# to see requests documentation go here:\n",
    "https://docs.python-requests.org/en/latest/"
   ]
  },
  {
   "cell_type": "code",
   "execution_count": 42,
   "id": "c02fd1a0",
   "metadata": {},
   "outputs": [
    {
     "name": "stdout",
     "output_type": "stream",
     "text": [
      "{'T': 11051, 'H': 7405, 'E': 14279, ' ': 40775, 'P': 1984, 'R': 7686, 'O': 9938, 'J': 375, 'C': 2751, 'G': 2260, 'U': 4089, 'N': 7493, 'B': 2022, 'K': 987, 'F': 2477, 'M': 3812, 'A': 9153, 'D': 4440, 'L': 5285, 'I': 7854, ',': 2628, 'Y': 2938, 'W': 2856, 'S': 7382, '\\r': 4852, '\\n': 4852, 'V': 1169, '.': 2731, '-': 322, '/': 28, ':': 36, '2': 25, '5': 15, '0': 19, '1': 94, '[': 97, '#': 2, ']': 94, '9': 16, '7': 7, 'X': 160, '*': 32, '!': 491, '(': 38, ')': 38, '<': 2, '3': 16, '>': 2, \"'\": 991, 'Z': 35, ';': 393, 'Q': 76, '?': 371, '\"': 24, '8': 9, '4': 9, '6': 7, '%': 1, '@': 2, '$': 2}\n"
     ]
    }
   ],
   "source": [
    "import requests # gets url info\n",
    "\n",
    "url = 'https://automatetheboringstuff.com/files/rj.txt' # this is the romero and julliet play in full\n",
    "openFile = requests.get(url)\n",
    "message = openFile.text # read file as text\n",
    "\n",
    "\n",
    "count = {}\n",
    "\n",
    "for char in message.upper(): # .upper() method capitalizes everything\n",
    "    count.setdefault(char, 0)\n",
    "    count[char] += 1\n",
    "print(count)"
   ]
  },
  {
   "cell_type": "markdown",
   "id": "f05572f9",
   "metadata": {},
   "source": [
    "dictionaries do not have an order is to why everythig is not in order.\n",
    "to order everything we can import the pretty print module and pprint this dict"
   ]
  },
  {
   "cell_type": "code",
   "execution_count": 43,
   "id": "8aa3e95f",
   "metadata": {
    "scrolled": true
   },
   "outputs": [
    {
     "name": "stdout",
     "output_type": "stream",
     "text": [
      "{'\\n': 4852,\n",
      " '\\r': 4852,\n",
      " ' ': 40775,\n",
      " '!': 491,\n",
      " '\"': 24,\n",
      " '#': 2,\n",
      " '$': 2,\n",
      " '%': 1,\n",
      " \"'\": 991,\n",
      " '(': 38,\n",
      " ')': 38,\n",
      " '*': 32,\n",
      " ',': 2628,\n",
      " '-': 322,\n",
      " '.': 2731,\n",
      " '/': 28,\n",
      " '0': 19,\n",
      " '1': 94,\n",
      " '2': 25,\n",
      " '3': 16,\n",
      " '4': 9,\n",
      " '5': 15,\n",
      " '6': 7,\n",
      " '7': 7,\n",
      " '8': 9,\n",
      " '9': 16,\n",
      " ':': 36,\n",
      " ';': 393,\n",
      " '<': 2,\n",
      " '>': 2,\n",
      " '?': 371,\n",
      " '@': 2,\n",
      " 'A': 9153,\n",
      " 'B': 2022,\n",
      " 'C': 2751,\n",
      " 'D': 4440,\n",
      " 'E': 14279,\n",
      " 'F': 2477,\n",
      " 'G': 2260,\n",
      " 'H': 7405,\n",
      " 'I': 7854,\n",
      " 'J': 375,\n",
      " 'K': 987,\n",
      " 'L': 5285,\n",
      " 'M': 3812,\n",
      " 'N': 7493,\n",
      " 'O': 9938,\n",
      " 'P': 1984,\n",
      " 'Q': 76,\n",
      " 'R': 7686,\n",
      " 'S': 7382,\n",
      " 'T': 11051,\n",
      " 'U': 4089,\n",
      " 'V': 1169,\n",
      " 'W': 2856,\n",
      " 'X': 160,\n",
      " 'Y': 2938,\n",
      " 'Z': 35,\n",
      " '[': 97,\n",
      " ']': 94}\n"
     ]
    }
   ],
   "source": [
    "import pprint\n",
    "\n",
    "pprint.pprint(count)"
   ]
  },
  {
   "cell_type": "markdown",
   "id": "17597157",
   "metadata": {},
   "source": [
    "if we need a string value of this we can ccall the pformat fuction:"
   ]
  },
  {
   "cell_type": "code",
   "execution_count": 48,
   "id": "448fbb2d",
   "metadata": {},
   "outputs": [
    {
     "data": {
      "text/plain": [
       "'{\\'\\\\n\\': 4852,\\n \\'\\\\r\\': 4852,\\n \\' \\': 40775,\\n \\'!\\': 491,\\n \\'\"\\': 24,\\n \\'#\\': 2,\\n \\'$\\': 2,\\n \\'%\\': 1,\\n \"\\'\": 991,\\n \\'(\\': 38,\\n \\')\\': 38,\\n \\'*\\': 32,\\n \\',\\': 2628,\\n \\'-\\': 322,\\n \\'.\\': 2731,\\n \\'/\\': 28,\\n \\'0\\': 19,\\n \\'1\\': 94,\\n \\'2\\': 25,\\n \\'3\\': 16,\\n \\'4\\': 9,\\n \\'5\\': 15,\\n \\'6\\': 7,\\n \\'7\\': 7,\\n \\'8\\': 9,\\n \\'9\\': 16,\\n \\':\\': 36,\\n \\';\\': 393,\\n \\'<\\': 2,\\n \\'>\\': 2,\\n \\'?\\': 371,\\n \\'@\\': 2,\\n \\'A\\': 9153,\\n \\'B\\': 2022,\\n \\'C\\': 2751,\\n \\'D\\': 4440,\\n \\'E\\': 14279,\\n \\'F\\': 2477,\\n \\'G\\': 2260,\\n \\'H\\': 7405,\\n \\'I\\': 7854,\\n \\'J\\': 375,\\n \\'K\\': 987,\\n \\'L\\': 5285,\\n \\'M\\': 3812,\\n \\'N\\': 7493,\\n \\'O\\': 9938,\\n \\'P\\': 1984,\\n \\'Q\\': 76,\\n \\'R\\': 7686,\\n \\'S\\': 7382,\\n \\'T\\': 11051,\\n \\'U\\': 4089,\\n \\'V\\': 1169,\\n \\'W\\': 2856,\\n \\'X\\': 160,\\n \\'Y\\': 2938,\\n \\'Z\\': 35,\\n \\'[\\': 97,\\n \\']\\': 94}'"
      ]
     },
     "execution_count": 48,
     "metadata": {},
     "output_type": "execute_result"
    }
   ],
   "source": [
    "rjtext = pprint.pformat(count)\n",
    "rjtext"
   ]
  },
  {
   "cell_type": "markdown",
   "id": "a3c36bed",
   "metadata": {},
   "source": [
    "# Data structures"
   ]
  },
  {
   "cell_type": "code",
   "execution_count": 50,
   "id": "9c458cc7",
   "metadata": {},
   "outputs": [
    {
     "data": {
      "text/plain": [
       "{'name': 'jacque', 'species': 'human', 'age': 21, 'color': 'black'}"
      ]
     },
     "execution_count": 50,
     "metadata": {},
     "output_type": "execute_result"
    }
   ],
   "source": [
    "eggs"
   ]
  },
  {
   "cell_type": "markdown",
   "id": "9c37503b",
   "metadata": {},
   "source": [
    "## Tic-Tac-Toe Game"
   ]
  },
  {
   "cell_type": "code",
   "execution_count": 51,
   "id": "d04f5b0b",
   "metadata": {},
   "outputs": [
    {
     "name": "stdout",
     "output_type": "stream",
     "text": [
      "{'low-L': ' ',\n",
      " 'low-M': ' ',\n",
      " 'low-R': ' ',\n",
      " 'mid-L': ' ',\n",
      " 'mid-M': ' ',\n",
      " 'mid-R': ' ',\n",
      " 'top-L': ' ',\n",
      " 'top-M': ' ',\n",
      " 'top-R': ' '}\n"
     ]
    }
   ],
   "source": [
    "the_board = {'top-L': ' ', 'top-M': \" \", 'top-R': ' ',\n",
    "            'mid-L': ' ', 'mid-M': \" \", 'mid-R': ' ',\n",
    "            'low-L': ' ', 'low-M': \" \", 'low-R': ' '}\n",
    "\n",
    "pprint.pprint(the_board)"
   ]
  },
  {
   "cell_type": "code",
   "execution_count": 52,
   "id": "e079b528",
   "metadata": {},
   "outputs": [],
   "source": [
    "the_board['mid-M'] = 'X'"
   ]
  },
  {
   "cell_type": "code",
   "execution_count": 53,
   "id": "e47c0321",
   "metadata": {},
   "outputs": [
    {
     "data": {
      "text/plain": [
       "{'top-L': ' ',\n",
       " 'top-M': ' ',\n",
       " 'top-R': ' ',\n",
       " 'mid-L': ' ',\n",
       " 'mid-M': 'X',\n",
       " 'mid-R': ' ',\n",
       " 'low-L': ' ',\n",
       " 'low-M': ' ',\n",
       " 'low-R': ' '}"
      ]
     },
     "execution_count": 53,
     "metadata": {},
     "output_type": "execute_result"
    }
   ],
   "source": [
    "the_board"
   ]
  },
  {
   "cell_type": "markdown",
   "id": "9ec0a758",
   "metadata": {},
   "source": [
    "Make our borad "
   ]
  },
  {
   "cell_type": "code",
   "execution_count": 54,
   "id": "3794a61b",
   "metadata": {},
   "outputs": [
    {
     "name": "stdout",
     "output_type": "stream",
     "text": [
      " | | \n",
      "-+-+-\n",
      " |X| \n",
      "-+-+-\n",
      " | | \n"
     ]
    }
   ],
   "source": [
    "def printBoard(board):\n",
    "    print(board['top-L'] + '|' + board['top-M'] + '|' + board['top-R'])\n",
    "    print('-+-+-')\n",
    "    print(board['mid-L'] + '|' + board['mid-M'] + '|' + board['mid-R'])\n",
    "    print('-+-+-')\n",
    "    print(board['low-L'] + '|' + board['low-M'] + '|' + board['low-R'])\n",
    "printBoard(the_board)"
   ]
  },
  {
   "cell_type": "markdown",
   "id": "30f981ef",
   "metadata": {},
   "source": [
    "# type function \n",
    "helpful to see what data we are working with"
   ]
  },
  {
   "cell_type": "code",
   "execution_count": 55,
   "id": "9f89bcba",
   "metadata": {},
   "outputs": [
    {
     "data": {
      "text/plain": [
       "int"
      ]
     },
     "execution_count": 55,
     "metadata": {},
     "output_type": "execute_result"
    }
   ],
   "source": [
    "type(42)"
   ]
  },
  {
   "cell_type": "code",
   "execution_count": 56,
   "id": "edcf3edc",
   "metadata": {},
   "outputs": [
    {
     "data": {
      "text/plain": [
       "str"
      ]
     },
     "execution_count": 56,
     "metadata": {},
     "output_type": "execute_result"
    }
   ],
   "source": [
    "type('Hello')\n"
   ]
  },
  {
   "cell_type": "code",
   "execution_count": 57,
   "id": "a1ec5413",
   "metadata": {},
   "outputs": [
    {
     "data": {
      "text/plain": [
       "dict"
      ]
     },
     "execution_count": 57,
     "metadata": {},
     "output_type": "execute_result"
    }
   ],
   "source": [
    "type(the_board)"
   ]
  },
  {
   "cell_type": "code",
   "execution_count": null,
   "id": "c49aef59",
   "metadata": {},
   "outputs": [],
   "source": []
  }
 ],
 "metadata": {
  "kernelspec": {
   "display_name": "Python 3",
   "language": "python",
   "name": "python3"
  },
  "language_info": {
   "codemirror_mode": {
    "name": "ipython",
    "version": 3
   },
   "file_extension": ".py",
   "mimetype": "text/x-python",
   "name": "python",
   "nbconvert_exporter": "python",
   "pygments_lexer": "ipython3",
   "version": "3.9.5"
  }
 },
 "nbformat": 4,
 "nbformat_minor": 5
}
