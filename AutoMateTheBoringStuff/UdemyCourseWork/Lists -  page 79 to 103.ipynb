{
 "cells": [
  {
   "cell_type": "markdown",
   "id": "19599add",
   "metadata": {},
   "source": [
    "# list examples"
   ]
  },
  {
   "cell_type": "code",
   "execution_count": 1,
   "id": "a6a6a0ea",
   "metadata": {},
   "outputs": [
    {
     "data": {
      "text/plain": [
       "[1, 2, 3]"
      ]
     },
     "execution_count": 1,
     "metadata": {},
     "output_type": "execute_result"
    }
   ],
   "source": [
    "[1,2,3]"
   ]
  },
  {
   "cell_type": "code",
   "execution_count": 2,
   "id": "b987bb4c",
   "metadata": {},
   "outputs": [
    {
     "data": {
      "text/plain": [
       "['cat', 'bat', 'rat', 'elephant']"
      ]
     },
     "execution_count": 2,
     "metadata": {},
     "output_type": "execute_result"
    }
   ],
   "source": [
    "['cat', 'bat', 'rat', 'elephant']"
   ]
  },
  {
   "cell_type": "code",
   "execution_count": 3,
   "id": "134e4693",
   "metadata": {},
   "outputs": [
    {
     "data": {
      "text/plain": [
       "['hello', 3.1415, True, None, 42]"
      ]
     },
     "execution_count": 3,
     "metadata": {},
     "output_type": "execute_result"
    }
   ],
   "source": [
    "['hello', 3.1415, True, None, 42]"
   ]
  },
  {
   "cell_type": "code",
   "execution_count": 4,
   "id": "7488ec1e",
   "metadata": {},
   "outputs": [],
   "source": [
    "spam = ['cat', 'bat', 'rat', 'elephant']"
   ]
  },
  {
   "cell_type": "code",
   "execution_count": 5,
   "id": "1b93178f",
   "metadata": {},
   "outputs": [
    {
     "data": {
      "text/plain": [
       "['cat', 'bat', 'rat', 'elephant']"
      ]
     },
     "execution_count": 5,
     "metadata": {},
     "output_type": "execute_result"
    }
   ],
   "source": [
    "spam\n"
   ]
  },
  {
   "cell_type": "markdown",
   "id": "1c71b78a",
   "metadata": {},
   "source": [
    "# empty [] is the same as a empty ' '"
   ]
  },
  {
   "cell_type": "code",
   "execution_count": 6,
   "id": "cd2c1c25",
   "metadata": {},
   "outputs": [
    {
     "data": {
      "text/plain": [
       "[]"
      ]
     },
     "execution_count": 6,
     "metadata": {},
     "output_type": "execute_result"
    }
   ],
   "source": [
    "spam = []\n",
    "spam"
   ]
  },
  {
   "cell_type": "code",
   "execution_count": 7,
   "id": "f23c92cc",
   "metadata": {},
   "outputs": [
    {
     "data": {
      "text/plain": [
       "''"
      ]
     },
     "execution_count": 7,
     "metadata": {},
     "output_type": "execute_result"
    }
   ],
   "source": [
    "spam_str = ''\n",
    "spam_str"
   ]
  },
  {
   "cell_type": "markdown",
   "id": "fed910f5",
   "metadata": {},
   "source": [
    "# Get indivudal values in a list with indexes"
   ]
  },
  {
   "cell_type": "code",
   "execution_count": 8,
   "id": "f3a0858c",
   "metadata": {},
   "outputs": [],
   "source": [
    "cat = [1,2,3,4,5,6,7]"
   ]
  },
  {
   "cell_type": "code",
   "execution_count": 9,
   "id": "5ebdbb22",
   "metadata": {},
   "outputs": [
    {
     "data": {
      "text/plain": [
       "[1, 'ho', 3, 4, 5, 6, 7]"
      ]
     },
     "execution_count": 9,
     "metadata": {},
     "output_type": "execute_result"
    }
   ],
   "source": [
    "cat[1] = 'ho'\n",
    "cat"
   ]
  },
  {
   "cell_type": "code",
   "execution_count": 10,
   "id": "647ab157",
   "metadata": {},
   "outputs": [
    {
     "data": {
      "text/plain": [
       "[1, 'ho']"
      ]
     },
     "execution_count": 10,
     "metadata": {},
     "output_type": "execute_result"
    }
   ],
   "source": [
    "cat[:2]"
   ]
  },
  {
   "cell_type": "code",
   "execution_count": 11,
   "id": "0afbefed",
   "metadata": {},
   "outputs": [
    {
     "data": {
      "text/plain": [
       "['ho', 3, 4, 5, 6, 7]"
      ]
     },
     "execution_count": 11,
     "metadata": {},
     "output_type": "execute_result"
    }
   ],
   "source": [
    "cat[1:]"
   ]
  },
  {
   "cell_type": "code",
   "execution_count": 12,
   "id": "ddb37080",
   "metadata": {},
   "outputs": [],
   "source": [
    "del cat[1]"
   ]
  },
  {
   "cell_type": "code",
   "execution_count": 13,
   "id": "6a2fa673",
   "metadata": {},
   "outputs": [
    {
     "data": {
      "text/plain": [
       "[1, 3, 4, 5, 6, 7]"
      ]
     },
     "execution_count": 13,
     "metadata": {},
     "output_type": "execute_result"
    }
   ],
   "source": [
    "cat"
   ]
  },
  {
   "cell_type": "code",
   "execution_count": 14,
   "id": "d46f412c",
   "metadata": {},
   "outputs": [
    {
     "data": {
      "text/plain": [
       "[1, 2, 3, 4, 5, 6, 7, 8]"
      ]
     },
     "execution_count": 14,
     "metadata": {},
     "output_type": "execute_result"
    }
   ],
   "source": [
    "[1,2,3,4] + [5,6,7,8]"
   ]
  },
  {
   "cell_type": "code",
   "execution_count": 15,
   "id": "95cce7d1",
   "metadata": {},
   "outputs": [
    {
     "data": {
      "text/plain": [
       "[1, 3, 4, 5, 6, 7]"
      ]
     },
     "execution_count": 15,
     "metadata": {},
     "output_type": "execute_result"
    }
   ],
   "source": [
    "list(cat)"
   ]
  },
  {
   "cell_type": "code",
   "execution_count": 16,
   "id": "5fc85ea5",
   "metadata": {},
   "outputs": [
    {
     "data": {
      "text/plain": [
       "['s', 'u', 'p', ' ', 'm', 'y', ' ', 'd', 'u', 'd', 'e']"
      ]
     },
     "execution_count": 16,
     "metadata": {},
     "output_type": "execute_result"
    }
   ],
   "source": [
    "list(\"sup my dude\")"
   ]
  },
  {
   "cell_type": "code",
   "execution_count": 17,
   "id": "61b4d57e",
   "metadata": {},
   "outputs": [
    {
     "data": {
      "text/plain": [
       "11"
      ]
     },
     "execution_count": 17,
     "metadata": {},
     "output_type": "execute_result"
    }
   ],
   "source": [
    "len(list(\"sup my dude\"))"
   ]
  },
  {
   "cell_type": "code",
   "execution_count": 18,
   "id": "7e1573f5",
   "metadata": {},
   "outputs": [
    {
     "data": {
      "text/plain": [
       "['s', 'u', 'p', ' ', 'm', 'y', ' ', 'd', 'u', 'd', 'e']"
      ]
     },
     "execution_count": 18,
     "metadata": {},
     "output_type": "execute_result"
    }
   ],
   "source": [
    "list(\"sup my dude\")"
   ]
  },
  {
   "cell_type": "code",
   "execution_count": 19,
   "id": "98fc18b1",
   "metadata": {},
   "outputs": [
    {
     "data": {
      "text/plain": [
       "True"
      ]
     },
     "execution_count": 19,
     "metadata": {},
     "output_type": "execute_result"
    }
   ],
   "source": [
    "3 in cat"
   ]
  },
  {
   "cell_type": "code",
   "execution_count": 20,
   "id": "bf4523af",
   "metadata": {},
   "outputs": [
    {
     "data": {
      "text/plain": [
       "False"
      ]
     },
     "execution_count": 20,
     "metadata": {},
     "output_type": "execute_result"
    }
   ],
   "source": [
    "10 in cat"
   ]
  },
  {
   "cell_type": "code",
   "execution_count": 21,
   "id": "cd2ea129",
   "metadata": {},
   "outputs": [
    {
     "data": {
      "text/plain": [
       "True"
      ]
     },
     "execution_count": 21,
     "metadata": {},
     "output_type": "execute_result"
    }
   ],
   "source": [
    "10 not in cat\n"
   ]
  },
  {
   "cell_type": "code",
   "execution_count": 22,
   "id": "19c00414",
   "metadata": {},
   "outputs": [
    {
     "data": {
      "text/plain": [
       "6"
      ]
     },
     "execution_count": 22,
     "metadata": {},
     "output_type": "execute_result"
    }
   ],
   "source": [
    "cat[-2]"
   ]
  },
  {
   "cell_type": "code",
   "execution_count": 23,
   "id": "a3541d8e",
   "metadata": {},
   "outputs": [
    {
     "data": {
      "text/plain": [
       "7"
      ]
     },
     "execution_count": 23,
     "metadata": {},
     "output_type": "execute_result"
    }
   ],
   "source": [
    "cat[-1]"
   ]
  },
  {
   "cell_type": "code",
   "execution_count": 24,
   "id": "a6400d66",
   "metadata": {},
   "outputs": [
    {
     "data": {
      "text/plain": [
       "6"
      ]
     },
     "execution_count": 24,
     "metadata": {},
     "output_type": "execute_result"
    }
   ],
   "source": [
    "len(cat)"
   ]
  },
  {
   "cell_type": "code",
   "execution_count": 25,
   "id": "4bde3849",
   "metadata": {},
   "outputs": [
    {
     "data": {
      "text/plain": [
       "6"
      ]
     },
     "execution_count": 25,
     "metadata": {},
     "output_type": "execute_result"
    }
   ],
   "source": [
    "len(list(cat))"
   ]
  },
  {
   "cell_type": "markdown",
   "id": "a335bf5b",
   "metadata": {},
   "source": [
    "# useing range(len())  vs enumerate()"
   ]
  },
  {
   "cell_type": "markdown",
   "id": "168c66e7",
   "metadata": {},
   "source": [
    "### range(len())"
   ]
  },
  {
   "cell_type": "code",
   "execution_count": 26,
   "id": "a6d9f94e",
   "metadata": {
    "scrolled": true
   },
   "outputs": [
    {
     "name": "stdout",
     "output_type": "stream",
     "text": [
      "index is: 0 and cat item is: 1\n",
      "[1, 3, 4, 5, 6, 7]\n",
      "index is: 1 and cat item is: 3\n",
      "[1, 3, 4, 5, 6, 7]\n",
      "index is: 2 and cat item is: 4\n",
      "[1, 3, 4, 5, 6, 7]\n",
      "index is: 3 and cat item is: 5\n",
      "[1, 3, 4, 5, 6, 7]\n",
      "index is: 4 and cat item is: 6\n",
      "[1, 3, 4, 5, 6, 7]\n",
      "index is: 5 and cat item is: 7\n",
      "[1, 3, 4, 5, 6, 7]\n"
     ]
    }
   ],
   "source": [
    "for i in range(len(cat)):\n",
    "    print(\"index is: \" + str(i) + \" and cat item is: \" +  str(cat[i]))\n",
    "    print(cat)"
   ]
  },
  {
   "cell_type": "markdown",
   "id": "35017782",
   "metadata": {},
   "source": [
    "### enumerate"
   ]
  },
  {
   "cell_type": "code",
   "execution_count": 27,
   "id": "8409ddc5",
   "metadata": {
    "scrolled": true
   },
   "outputs": [
    {
     "name": "stdout",
     "output_type": "stream",
     "text": [
      "index is: 0 and item is: 1\n",
      "[1, 3, 4, 5, 6, 7]\n",
      "index is: 1 and item is: 3\n",
      "[1, 3, 4, 5, 6, 7]\n",
      "index is: 2 and item is: 4\n",
      "[1, 3, 4, 5, 6, 7]\n",
      "index is: 3 and item is: 5\n",
      "[1, 3, 4, 5, 6, 7]\n",
      "index is: 4 and item is: 6\n",
      "[1, 3, 4, 5, 6, 7]\n",
      "index is: 5 and item is: 7\n",
      "[1, 3, 4, 5, 6, 7]\n"
     ]
    }
   ],
   "source": [
    "for index, item in enumerate(cat):\n",
    "    print(\"index is: \" + str(index) + \" and item is: \" + str(item))\n",
    "    print(cat)"
   ]
  },
  {
   "cell_type": "code",
   "execution_count": 28,
   "id": "a3ab368d",
   "metadata": {},
   "outputs": [
    {
     "data": {
      "text/plain": [
       "[1, 3, 4, 5, 6, 7]"
      ]
     },
     "execution_count": 28,
     "metadata": {},
     "output_type": "execute_result"
    }
   ],
   "source": [
    "cat"
   ]
  },
  {
   "cell_type": "markdown",
   "id": "627e0418",
   "metadata": {},
   "source": [
    "make a list of numbers"
   ]
  },
  {
   "cell_type": "code",
   "execution_count": 29,
   "id": "0a929e7a",
   "metadata": {},
   "outputs": [
    {
     "name": "stdout",
     "output_type": "stream",
     "text": [
      "[0, 2, 4, 6, 8, 10, 12, 14, 16, 18, 20, 22, 24, 26, 28, 30, 32, 34, 36, 38, 40, 42, 44, 46, 48, 50, 52, 54, 56, 58, 60, 62, 64, 66, 68, 70, 72, 74, 76, 78, 80, 82, 84, 86, 88, 90, 92, 94, 96, 98]\n"
     ]
    }
   ],
   "source": [
    "print(list(range(0, 100, 2)))"
   ]
  },
  {
   "cell_type": "markdown",
   "id": "7cf89390",
   "metadata": {},
   "source": [
    "# Methods\n",
    "has to be called on a vaule. can not be called by themselves"
   ]
  },
  {
   "cell_type": "code",
   "execution_count": 30,
   "id": "281417c2",
   "metadata": {},
   "outputs": [
    {
     "data": {
      "text/plain": [
       "[1, 3, 4, 5, 6, 7]"
      ]
     },
     "execution_count": 30,
     "metadata": {},
     "output_type": "execute_result"
    }
   ],
   "source": [
    "cat"
   ]
  },
  {
   "cell_type": "code",
   "execution_count": 31,
   "id": "68bf9315",
   "metadata": {},
   "outputs": [
    {
     "data": {
      "text/plain": [
       "3"
      ]
     },
     "execution_count": 31,
     "metadata": {},
     "output_type": "execute_result"
    }
   ],
   "source": [
    "cat.index(5) # get the index location of an item"
   ]
  },
  {
   "cell_type": "markdown",
   "id": "20364b75",
   "metadata": {},
   "source": [
    "# append and insert are list methods only\n",
    "can not be called on strings, etc.."
   ]
  },
  {
   "cell_type": "code",
   "execution_count": 32,
   "id": "484f39ca",
   "metadata": {},
   "outputs": [
    {
     "data": {
      "text/plain": [
       "[1, 3, 4, 5, 6, 7, 8]"
      ]
     },
     "execution_count": 32,
     "metadata": {},
     "output_type": "execute_result"
    }
   ],
   "source": [
    "cat.append(8) # addes value at end of the list\n",
    "cat"
   ]
  },
  {
   "cell_type": "code",
   "execution_count": 33,
   "id": "f54d9158",
   "metadata": {},
   "outputs": [
    {
     "data": {
      "text/plain": [
       "[1, 'hello', 3, 4, 5, 6, 7, 8]"
      ]
     },
     "execution_count": 33,
     "metadata": {},
     "output_type": "execute_result"
    }
   ],
   "source": [
    "cat.insert(1, \"hello\") # addes a value at this index, with this value\n",
    "cat"
   ]
  },
  {
   "cell_type": "markdown",
   "id": "eb156fc3",
   "metadata": {},
   "source": [
    "# remove method\n",
    "* will remove a value specifed in the list\n",
    "\n",
    "***vs***\n",
    "\n",
    "del\n",
    "* which will remove a value at a certain index in the list"
   ]
  },
  {
   "cell_type": "code",
   "execution_count": 34,
   "id": "8f0a7758",
   "metadata": {},
   "outputs": [
    {
     "data": {
      "text/plain": [
       "[1, 3, 4, 5, 6, 7, 8]"
      ]
     },
     "execution_count": 34,
     "metadata": {},
     "output_type": "execute_result"
    }
   ],
   "source": [
    "cat.remove(\"hello\")\n",
    "cat"
   ]
  },
  {
   "cell_type": "code",
   "execution_count": 35,
   "id": "52e08294",
   "metadata": {},
   "outputs": [],
   "source": [
    "del cat[-1]"
   ]
  },
  {
   "cell_type": "code",
   "execution_count": 36,
   "id": "6a9aca5e",
   "metadata": {},
   "outputs": [
    {
     "data": {
      "text/plain": [
       "[1, 3, 4, 5, 6, 7]"
      ]
     },
     "execution_count": 36,
     "metadata": {},
     "output_type": "execute_result"
    }
   ],
   "source": [
    "cat"
   ]
  },
  {
   "cell_type": "markdown",
   "id": "624ab9d8",
   "metadata": {},
   "source": [
    "# Sort numbers \n",
    "use reverse to reverse the sorting method"
   ]
  },
  {
   "cell_type": "code",
   "execution_count": 37,
   "id": "12f4e5b7",
   "metadata": {},
   "outputs": [
    {
     "data": {
      "text/plain": [
       "[7, 6, 5, 4, 3, 1]"
      ]
     },
     "execution_count": 37,
     "metadata": {},
     "output_type": "execute_result"
    }
   ],
   "source": [
    "cat.sort(reverse=True)\n",
    "cat"
   ]
  },
  {
   "cell_type": "code",
   "execution_count": 38,
   "id": "9ba2688c",
   "metadata": {},
   "outputs": [],
   "source": [
    "spam = ['a', 'z', 'A', 'Z']\n"
   ]
  },
  {
   "cell_type": "markdown",
   "id": "df9628dd",
   "metadata": {},
   "source": [
    "# sorting by strings"
   ]
  },
  {
   "cell_type": "code",
   "execution_count": 39,
   "id": "1f571464",
   "metadata": {},
   "outputs": [
    {
     "data": {
      "text/plain": [
       "['A', 'Z', 'a', 'z']"
      ]
     },
     "execution_count": 39,
     "metadata": {},
     "output_type": "execute_result"
    }
   ],
   "source": [
    "spam.sort()\n",
    "spam"
   ]
  },
  {
   "cell_type": "markdown",
   "id": "7451554e",
   "metadata": {},
   "source": [
    "##### sort will put upper case letter first so a captial 'Z' will come before a lower case 'a'.  To fix this we can use this key argument to fixe this. More deatils on this later. "
   ]
  },
  {
   "cell_type": "code",
   "execution_count": 40,
   "id": "a33d854e",
   "metadata": {},
   "outputs": [
    {
     "data": {
      "text/plain": [
       "['A', 'a', 'Z', 'z']"
      ]
     },
     "execution_count": 40,
     "metadata": {},
     "output_type": "execute_result"
    }
   ],
   "source": [
    "spam.sort(key=str.lower)\n",
    "spam"
   ]
  },
  {
   "cell_type": "markdown",
   "id": "2de35618",
   "metadata": {},
   "source": [
    "# Similarities Between Lists and Strings"
   ]
  },
  {
   "cell_type": "code",
   "execution_count": 41,
   "id": "39c0a70e",
   "metadata": {},
   "outputs": [],
   "source": [
    "name = 'jacque'"
   ]
  },
  {
   "cell_type": "code",
   "execution_count": 42,
   "id": "ab52ef7b",
   "metadata": {},
   "outputs": [
    {
     "data": {
      "text/plain": [
       "'j'"
      ]
     },
     "execution_count": 42,
     "metadata": {},
     "output_type": "execute_result"
    }
   ],
   "source": [
    "name[0]"
   ]
  },
  {
   "cell_type": "code",
   "execution_count": 43,
   "id": "a43fe0b6",
   "metadata": {},
   "outputs": [
    {
     "data": {
      "text/plain": [
       "'ac'"
      ]
     },
     "execution_count": 43,
     "metadata": {},
     "output_type": "execute_result"
    }
   ],
   "source": [
    "name[1:3]"
   ]
  },
  {
   "cell_type": "code",
   "execution_count": 44,
   "id": "9e6f6c97",
   "metadata": {},
   "outputs": [
    {
     "data": {
      "text/plain": [
       "'q'"
      ]
     },
     "execution_count": 44,
     "metadata": {},
     "output_type": "execute_result"
    }
   ],
   "source": [
    "name[-3]"
   ]
  },
  {
   "cell_type": "code",
   "execution_count": 45,
   "id": "d4198456",
   "metadata": {},
   "outputs": [
    {
     "data": {
      "text/plain": [
       "True"
      ]
     },
     "execution_count": 45,
     "metadata": {},
     "output_type": "execute_result"
    }
   ],
   "source": [
    "'ja' in name"
   ]
  },
  {
   "cell_type": "code",
   "execution_count": 46,
   "id": "e72490bb",
   "metadata": {},
   "outputs": [
    {
     "name": "stdout",
     "output_type": "stream",
     "text": [
      "j\n",
      "a\n",
      "c\n",
      "q\n",
      "u\n",
      "e\n"
     ]
    }
   ],
   "source": [
    "for letter in name:\n",
    "    print(letter)"
   ]
  },
  {
   "cell_type": "markdown",
   "id": "d2f4b815",
   "metadata": {},
   "source": [
    "# Mutable and Immutable Data Types"
   ]
  },
  {
   "cell_type": "markdown",
   "id": "71dae68c",
   "metadata": {},
   "source": [
    "###### strings in python are immutable\n",
    "will get the following TypeError"
   ]
  },
  {
   "cell_type": "code",
   "execution_count": 47,
   "id": "3f9d9b35",
   "metadata": {},
   "outputs": [
    {
     "data": {
      "text/plain": [
       "'jacque'"
      ]
     },
     "execution_count": 47,
     "metadata": {},
     "output_type": "execute_result"
    }
   ],
   "source": [
    "name # equals the string 'jacque'"
   ]
  },
  {
   "cell_type": "code",
   "execution_count": 48,
   "id": "aa401da6",
   "metadata": {},
   "outputs": [
    {
     "ename": "TypeError",
     "evalue": "'str' object does not support item assignment",
     "output_type": "error",
     "traceback": [
      "\u001b[1;31m---------------------------------------------------------------------------\u001b[0m",
      "\u001b[1;31mTypeError\u001b[0m                                 Traceback (most recent call last)",
      "\u001b[1;32m<ipython-input-48-59060a76486c>\u001b[0m in \u001b[0;36m<module>\u001b[1;34m\u001b[0m\n\u001b[1;32m----> 1\u001b[1;33m \u001b[0mname\u001b[0m\u001b[1;33m[\u001b[0m\u001b[1;36m5\u001b[0m\u001b[1;33m]\u001b[0m \u001b[1;33m=\u001b[0m \u001b[1;34m'X'\u001b[0m\u001b[1;33m\u001b[0m\u001b[1;33m\u001b[0m\u001b[0m\n\u001b[0m",
      "\u001b[1;31mTypeError\u001b[0m: 'str' object does not support item assignment"
     ]
    }
   ],
   "source": [
    "name[5] = 'X'"
   ]
  },
  {
   "cell_type": "markdown",
   "id": "e7a05db6",
   "metadata": {},
   "source": [
    "proper way to modify a string is to create a new string.\n",
    "# creating new strings from slices"
   ]
  },
  {
   "cell_type": "code",
   "execution_count": 49,
   "id": "394609aa",
   "metadata": {},
   "outputs": [
    {
     "data": {
      "text/plain": [
       "'jacque trahan'"
      ]
     },
     "execution_count": 49,
     "metadata": {},
     "output_type": "execute_result"
    }
   ],
   "source": [
    "newName = name[:] + \" trahan\"\n",
    "newName"
   ]
  },
  {
   "cell_type": "markdown",
   "id": "4a4ad41a",
   "metadata": {},
   "source": [
    "# Differences between immutable and mutabke comes up with 'references', explained next."
   ]
  },
  {
   "cell_type": "markdown",
   "id": "6cd859f5",
   "metadata": {},
   "source": [
    "### Referances"
   ]
  },
  {
   "cell_type": "code",
   "execution_count": 50,
   "id": "0280f8ce",
   "metadata": {},
   "outputs": [
    {
     "data": {
      "text/plain": [
       "100"
      ]
     },
     "execution_count": 50,
     "metadata": {},
     "output_type": "execute_result"
    }
   ],
   "source": [
    "spam =42\n",
    "cheese = spam\n",
    "spam = 100\n",
    "spam"
   ]
  },
  {
   "cell_type": "code",
   "execution_count": 51,
   "id": "c632c3de",
   "metadata": {},
   "outputs": [
    {
     "data": {
      "text/plain": [
       "42"
      ]
     },
     "execution_count": 51,
     "metadata": {},
     "output_type": "execute_result"
    }
   ],
   "source": [
    "cheese"
   ]
  },
  {
   "cell_type": "markdown",
   "id": "8b0a85df",
   "metadata": {},
   "source": [
    "List do not work this way"
   ]
  },
  {
   "cell_type": "code",
   "execution_count": 52,
   "id": "671971b4",
   "metadata": {},
   "outputs": [
    {
     "data": {
      "text/plain": [
       "[0, 'hello', 2, 3, 4, 5]"
      ]
     },
     "execution_count": 52,
     "metadata": {},
     "output_type": "execute_result"
    }
   ],
   "source": [
    "spam = [0,1,2,3,4,5]\n",
    "cheese = spam\n",
    "cheese[1] = 'hello'\n",
    "cheese"
   ]
  },
  {
   "cell_type": "code",
   "execution_count": 53,
   "id": "0ba5c21e",
   "metadata": {},
   "outputs": [
    {
     "data": {
      "text/plain": [
       "[0, 'hello', 2, 3, 4, 5]"
      ]
     },
     "execution_count": 53,
     "metadata": {},
     "output_type": "execute_result"
    }
   ],
   "source": [
    "spam"
   ]
  },
  {
   "cell_type": "markdown",
   "id": "9df1e83f",
   "metadata": {},
   "source": [
    "Spam is changed as well becuse when cheese was assiged to spam the referance is assigned. If it changes somewhere else the referance is changed. therefore the other variables assigned to that referance would be changed as well"
   ]
  },
  {
   "cell_type": "markdown",
   "id": "106245f8",
   "metadata": {},
   "source": [
    "immutable values do not have this ***referance problem*** becasue they can't be modified 'in place' They can only be replaced by new values"
   ]
  },
  {
   "cell_type": "markdown",
   "id": "67768f6f",
   "metadata": {},
   "source": [
    "# example if you do not fully understand this"
   ]
  },
  {
   "cell_type": "code",
   "execution_count": 54,
   "id": "158f4332",
   "metadata": {},
   "outputs": [
    {
     "name": "stdout",
     "output_type": "stream",
     "text": [
      "[1, 2, 3, 'Hello']\n"
     ]
    }
   ],
   "source": [
    "def eggs(cheese):\n",
    "    cheese.append('Hello')\n",
    "    \n",
    "spam = [1,2,3]\n",
    "eggs(spam)\n",
    "print(spam)"
   ]
  },
  {
   "cell_type": "markdown",
   "id": "3af2c2fe",
   "metadata": {},
   "source": [
    "spam changes outside of the varible. Why? because even thought the cheese variable gets destroyed after the the function call, due to it being referanced to the gloable spam list variable.\n",
    "So,\n",
    "when you have mutable items you are refering to a referance and not making a copy of it. so if the referance changes any variable assinged to it will also change."
   ]
  },
  {
   "cell_type": "markdown",
   "id": "6671c9e3",
   "metadata": {},
   "source": [
    "# copy.deepcopy() function\n",
    "import the copy module to get started"
   ]
  },
  {
   "cell_type": "code",
   "execution_count": 55,
   "id": "786ad4cc",
   "metadata": {},
   "outputs": [],
   "source": [
    "import copy"
   ]
  },
  {
   "cell_type": "markdown",
   "id": "def44b08",
   "metadata": {},
   "source": [
    "**deep copy** makes a total copy of a list.\n",
    "* so it doesnt make a copy of the referance but instead makes a whole new list\n",
    "* Then returns a referance to the new list"
   ]
  },
  {
   "cell_type": "code",
   "execution_count": 56,
   "id": "04373ee0",
   "metadata": {},
   "outputs": [
    {
     "data": {
      "text/plain": [
       "[1, 2, 3, 'Hello']"
      ]
     },
     "execution_count": 56,
     "metadata": {},
     "output_type": "execute_result"
    }
   ],
   "source": [
    "spam"
   ]
  },
  {
   "cell_type": "code",
   "execution_count": 57,
   "id": "5ee0d0f2",
   "metadata": {},
   "outputs": [],
   "source": [
    "cheese = copy.deepcopy(spam)"
   ]
  },
  {
   "cell_type": "markdown",
   "id": "78536d36",
   "metadata": {},
   "source": [
    "make a new list copy with its own referance"
   ]
  },
  {
   "cell_type": "code",
   "execution_count": 58,
   "id": "fe8275d8",
   "metadata": {},
   "outputs": [],
   "source": [
    "cheese[1] = 'sup'"
   ]
  },
  {
   "cell_type": "code",
   "execution_count": 59,
   "id": "9c557e74",
   "metadata": {},
   "outputs": [
    {
     "data": {
      "text/plain": [
       "[1, 'sup', 3, 'Hello']"
      ]
     },
     "execution_count": 59,
     "metadata": {},
     "output_type": "execute_result"
    }
   ],
   "source": [
    "cheese\n"
   ]
  },
  {
   "cell_type": "markdown",
   "id": "19903b36",
   "metadata": {},
   "source": [
    "this is why the spam list doesn't change"
   ]
  },
  {
   "cell_type": "code",
   "execution_count": 60,
   "id": "a4d67942",
   "metadata": {},
   "outputs": [
    {
     "data": {
      "text/plain": [
       "[1, 2, 3, 'Hello']"
      ]
     },
     "execution_count": 60,
     "metadata": {},
     "output_type": "execute_result"
    }
   ],
   "source": [
    "spam"
   ]
  },
  {
   "cell_type": "markdown",
   "id": "6be5969a",
   "metadata": {},
   "source": [
    "# Line continuation\n",
    "to make your code easier to read if needed"
   ]
  },
  {
   "cell_type": "code",
   "execution_count": 61,
   "id": "078cff7a",
   "metadata": {},
   "outputs": [],
   "source": [
    "spam = ['apples',\n",
    "       'oramges',\n",
    "       'bananas',\n",
    "       'cats']\n"
   ]
  },
  {
   "cell_type": "code",
   "execution_count": 62,
   "id": "2544bf05",
   "metadata": {},
   "outputs": [
    {
     "data": {
      "text/plain": [
       "['apples', 'oramges', 'bananas', 'cats']"
      ]
     },
     "execution_count": 62,
     "metadata": {},
     "output_type": "execute_result"
    }
   ],
   "source": [
    "spam\n"
   ]
  },
  {
   "cell_type": "markdown",
   "id": "8239b3a0",
   "metadata": {},
   "source": [
    "##### backslash \\ will tell python know that we are contiue our code as well"
   ]
  },
  {
   "cell_type": "code",
   "execution_count": 63,
   "id": "da0a7dbe",
   "metadata": {},
   "outputs": [
    {
     "name": "stdout",
     "output_type": "stream",
     "text": [
      " Four Score and seven years ago\n"
     ]
    }
   ],
   "source": [
    "print(\" Four Score and seven\" + \\\n",
    "     ' years ago')"
   ]
  },
  {
   "cell_type": "markdown",
   "id": "e47f3ee6",
   "metadata": {},
   "source": [
    "# Great video on python values and terms for futher under standing:\n",
    "https://www.youtube.com/watch?v=_AEJHKGk9ns&ab_channel=PyCon2015"
   ]
  },
  {
   "cell_type": "markdown",
   "id": "bebfefa0",
   "metadata": {},
   "source": [
    "### Video practice"
   ]
  },
  {
   "cell_type": "markdown",
   "id": "27559156",
   "metadata": {},
   "source": [
    "This is here due to when we try to play with this code we will be changing the cat referance list a lot, and can see why it is so import in understanding how mutable and immutable objects work."
   ]
  },
  {
   "cell_type": "code",
   "execution_count": 64,
   "id": "8ae8aa7d",
   "metadata": {},
   "outputs": [
    {
     "data": {
      "text/plain": [
       "[1, 2, 3, 4, 5, 6, 7]"
      ]
     },
     "execution_count": 64,
     "metadata": {},
     "output_type": "execute_result"
    }
   ],
   "source": [
    "cat = [1,2,3,4,5,6,7]\n",
    "cat.sort()\n",
    "cat\n"
   ]
  },
  {
   "cell_type": "code",
   "execution_count": 65,
   "id": "0c1a1262",
   "metadata": {},
   "outputs": [
    {
     "data": {
      "text/plain": [
       "['apples', 'oramges', 'bananas', 'cats', 1]"
      ]
     },
     "execution_count": 65,
     "metadata": {},
     "output_type": "execute_result"
    }
   ],
   "source": [
    "cat = spam + [1] \n",
    "cat"
   ]
  },
  {
   "cell_type": "code",
   "execution_count": 66,
   "id": "6e8ae345",
   "metadata": {},
   "outputs": [
    {
     "data": {
      "text/plain": [
       "['apples', 'oramges', 'bananas', 'cats', 1, 1]"
      ]
     },
     "execution_count": 66,
     "metadata": {},
     "output_type": "execute_result"
    }
   ],
   "source": [
    "cat = cat + [1] \n",
    "cat"
   ]
  },
  {
   "cell_type": "code",
   "execution_count": 67,
   "id": "ef8170d7",
   "metadata": {},
   "outputs": [
    {
     "data": {
      "text/plain": [
       "['apples', 'oramges', 'bananas', 'cats']"
      ]
     },
     "execution_count": 67,
     "metadata": {},
     "output_type": "execute_result"
    }
   ],
   "source": [
    "spam"
   ]
  },
  {
   "cell_type": "markdown",
   "id": "22355f23",
   "metadata": {},
   "source": [
    "# For Loops explained in the best way i have seen and heard as follows:\n",
    "for x in sequence:\n",
    "    somthing(x)\n",
    "    \n",
    "is the following:\n",
    "\n",
    "##### we assign x to the sequance value at index 0\n",
    "* x = sequence[0]\n",
    "##### then we do somthing to that x value\n",
    "* somthing(x) \n",
    "\n",
    "***next loop***\n",
    "\n",
    "* x = sequence[1]\n",
    "\n",
    "* something(x)\n",
    "\n",
    "and so on\n"
   ]
  },
  {
   "cell_type": "code",
   "execution_count": 68,
   "id": "cc5249ee",
   "metadata": {},
   "outputs": [
    {
     "name": "stdout",
     "output_type": "stream",
     "text": [
      "[1, 2, 3]\n"
     ]
    }
   ],
   "source": [
    "nums = [1,2,3]\n",
    "for x in nums:\n",
    "    x = x * 10\n",
    "print(nums)"
   ]
  },
  {
   "cell_type": "markdown",
   "id": "2ec9995f",
   "metadata": {},
   "source": [
    "Why do we get the orgianl list and not the list with the values mutilpled by 10?\n",
    "this is becasue we assigned a new name to the orgianl list. \n",
    "x was irrerated over the nums list and new values were evaulated. So here is the same problem but we will print x instesad of nums"
   ]
  },
  {
   "cell_type": "code",
   "execution_count": 69,
   "id": "de2efd41",
   "metadata": {},
   "outputs": [
    {
     "name": "stdout",
     "output_type": "stream",
     "text": [
      "30\n"
     ]
    }
   ],
   "source": [
    "nums = [1,2,3]\n",
    "for x in nums:\n",
    "    x = x * 10\n",
    "print(x)"
   ]
  },
  {
   "cell_type": "markdown",
   "id": "2d9e28b3",
   "metadata": {},
   "source": [
    "now we on get the last mutiplie caltion of x in the num list or x = nums[2] * 10\n",
    "now lets get each value by indenting the print out"
   ]
  },
  {
   "cell_type": "code",
   "execution_count": 75,
   "id": "637e3fe7",
   "metadata": {},
   "outputs": [
    {
     "name": "stdout",
     "output_type": "stream",
     "text": [
      "10\n",
      "20\n",
      "30\n",
      "[1, 2, 3]\n"
     ]
    }
   ],
   "source": [
    "nums = [1,2,3]\n",
    "for x in nums:\n",
    "    x = x * 10\n",
    "    print(x)\n",
    "print(nums)"
   ]
  },
  {
   "cell_type": "markdown",
   "id": "48b521a7",
   "metadata": {},
   "source": [
    "# Function argurment are assignments"
   ]
  },
  {
   "cell_type": "code",
   "execution_count": 77,
   "id": "07419857",
   "metadata": {},
   "outputs": [
    {
     "name": "stdout",
     "output_type": "stream",
     "text": [
      "17\n",
      "17\n"
     ]
    }
   ],
   "source": [
    "def func(x): # x = num this is saying x is being assigned to num\n",
    "    print(x)\n",
    "    return\n",
    "\n",
    "num = 17\n",
    "func(num) # x = num\n",
    "print(num)"
   ]
  },
  {
   "cell_type": "markdown",
   "id": "8212fab3",
   "metadata": {},
   "source": [
    "Mor complicated example:\n"
   ]
  },
  {
   "cell_type": "code",
   "execution_count": 78,
   "id": "ef10bfa3",
   "metadata": {},
   "outputs": [
    {
     "name": "stdout",
     "output_type": "stream",
     "text": [
      "[1, 2, 3, 7, 7]\n"
     ]
    }
   ],
   "source": [
    "def append_twice(a_list, val):\n",
    "    a_list.append(val)\n",
    "    a_list.append(val)\n",
    "    return\n",
    "\n",
    "nums = [1,2,3]\n",
    "append_twice(nums, 7)\n",
    "print(nums)"
   ]
  },
  {
   "cell_type": "markdown",
   "id": "8d2e1ccf",
   "metadata": {},
   "source": [
    "**bad way**"
   ]
  },
  {
   "cell_type": "code",
   "execution_count": 79,
   "id": "8ee26f8d",
   "metadata": {},
   "outputs": [
    {
     "name": "stdout",
     "output_type": "stream",
     "text": [
      "[1, 2, 3]\n"
     ]
    }
   ],
   "source": [
    "def append_twice_bad(a_list, val):\n",
    "    a_list = a_list + [val, val]\n",
    "    return\n",
    "\n",
    "nums = [1,2,3]\n",
    "append_twice_bad(nums, 7)\n",
    "print(nums)"
   ]
  },
  {
   "cell_type": "markdown",
   "id": "e03ab3b1",
   "metadata": {},
   "source": [
    "***Good Way***"
   ]
  },
  {
   "cell_type": "code",
   "execution_count": 81,
   "id": "c962bfe1",
   "metadata": {},
   "outputs": [
    {
     "name": "stdout",
     "output_type": "stream",
     "text": [
      "[1, 2, 3, 7, 7]\n"
     ]
    }
   ],
   "source": [
    "def append_twice_good(a_list, val):\n",
    "    a_list = a_list + [val, val]\n",
    "    return a_list\n",
    "\n",
    "nums = [1,2,3]\n",
    "nums = append_twice_good(nums, 7)\n",
    "print(nums)"
   ]
  },
  {
   "cell_type": "markdown",
   "id": "ba9ed104",
   "metadata": {},
   "source": [
    "# Three append_teice functions"
   ]
  },
  {
   "cell_type": "code",
   "execution_count": 82,
   "id": "4dc5e164",
   "metadata": {},
   "outputs": [
    {
     "name": "stdout",
     "output_type": "stream",
     "text": [
      "[1, 2, 3, 7, 7]\n"
     ]
    }
   ],
   "source": [
    "def append_twice(a_list, val):\n",
    "    \"\"\"Mutates argument\"\"\"\n",
    "    a_list.append(val)\n",
    "    a_list.append(val)\n",
    "    return\n",
    "\n",
    "nums = [1,2,3]\n",
    "append_twice(nums, 7)\n",
    "print(nums)"
   ]
  },
  {
   "cell_type": "code",
   "execution_count": 83,
   "id": "a9e02fca",
   "metadata": {},
   "outputs": [
    {
     "name": "stdout",
     "output_type": "stream",
     "text": [
      "[1, 2, 3]\n"
     ]
    }
   ],
   "source": [
    "def append_twice_bad(a_list, val):\n",
    "    \"\"\"Useless!\"\"\"\n",
    "    a_list = a_list + [val, val]\n",
    "    return\n",
    "\n",
    "nums = [1,2,3]\n",
    "append_twice_bad(nums, 7)\n",
    "print(nums)"
   ]
  },
  {
   "cell_type": "code",
   "execution_count": 84,
   "id": "22973c1d",
   "metadata": {},
   "outputs": [
    {
     "name": "stdout",
     "output_type": "stream",
     "text": [
      "[1, 2, 3, 7, 7]\n"
     ]
    }
   ],
   "source": [
    "\n",
    "def append_twice_good(a_list, val):\n",
    "    \"\"\"Returns new list\"\"\"\n",
    "    a_list = a_list + [val, val]\n",
    "    return a_list\n",
    "\n",
    "nums = [1,2,3]\n",
    "nums = append_twice_good(nums, 7)\n",
    "print(nums)"
   ]
  },
  {
   "cell_type": "markdown",
   "id": "20465115",
   "metadata": {},
   "source": [
    "advised to make new lists so we do not mistakely mix up our orgianl lists and cause confusion"
   ]
  },
  {
   "cell_type": "code",
   "execution_count": null,
   "id": "20e919a5",
   "metadata": {},
   "outputs": [],
   "source": []
  }
 ],
 "metadata": {
  "kernelspec": {
   "display_name": "Python 3",
   "language": "python",
   "name": "python3"
  },
  "language_info": {
   "codemirror_mode": {
    "name": "ipython",
    "version": 3
   },
   "file_extension": ".py",
   "mimetype": "text/x-python",
   "name": "python",
   "nbconvert_exporter": "python",
   "pygments_lexer": "ipython3",
   "version": "3.9.5"
  }
 },
 "nbformat": 4,
 "nbformat_minor": 5
}
