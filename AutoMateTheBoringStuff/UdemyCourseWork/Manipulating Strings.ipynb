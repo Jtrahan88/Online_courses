{
 "cells": [
  {
   "cell_type": "markdown",
   "id": "f1d3ef02",
   "metadata": {},
   "source": [
    "# Escape characters\n",
    "lets you use characterrs that are otherwise impossinble to put into a string\n",
    "\n",
    "* \\' Single Quote\n",
    "* \\\" Double Quote\n",
    "* \\t Tab\n",
    "* \\n Newline (line break)\n",
    "* \\\\ Backslash"
   ]
  },
  {
   "cell_type": "markdown",
   "id": "44a06f5b",
   "metadata": {},
   "source": [
    "# Raw Strings\n",
    "Completely ignores all escape characters and prints any backslash that appears in the string\n",
    "\n",
    "Best used for things like:\n",
    "* regular expressions\n",
    "* Widows file path"
   ]
  },
  {
   "cell_type": "code",
   "execution_count": 1,
   "id": "b8ec4749",
   "metadata": {},
   "outputs": [
    {
     "name": "stdout",
     "output_type": "stream",
     "text": [
      "That is Carol\\'s cat.\n"
     ]
    }
   ],
   "source": [
    "print(r'That is Carol\\'s cat.')"
   ]
  },
  {
   "cell_type": "markdown",
   "id": "c26be8b6",
   "metadata": {},
   "source": [
    "# Multiline strings with triple quotes\n",
    "Any quotes, tabs, or newlines, in bwtween the \"triple quotes\" are considered part of the string"
   ]
  },
  {
   "cell_type": "code",
   "execution_count": 2,
   "id": "d25eb73b",
   "metadata": {},
   "outputs": [
    {
     "name": "stdout",
     "output_type": "stream",
     "text": [
      "\n",
      "hello\n",
      "    jajaja's\n",
      "            skip\n",
      "hello agiagn # 8567309\n",
      "\n",
      "Thaks for your time,\n",
      "    JQT'S\n",
      "\n",
      "\n"
     ]
    }
   ],
   "source": [
    "print(\"\"\"\n",
    "hello\n",
    "    jajaja's\n",
    "            skip\n",
    "hello agiagn # 8567309\n",
    "\n",
    "Thaks for your time,\n",
    "    JQT'S\n",
    "\n",
    "\"\"\")"
   ]
  },
  {
   "cell_type": "markdown",
   "id": "ebd23374",
   "metadata": {},
   "source": [
    "# Multiline comments\n",
    "the '#' symbole is used for comments but we can use the triple quotes inside our functions to explain what they do:"
   ]
  },
  {
   "cell_type": "code",
   "execution_count": 3,
   "id": "e093de2c",
   "metadata": {},
   "outputs": [
    {
     "data": {
      "text/plain": [
       "6"
      ]
     },
     "execution_count": 3,
     "metadata": {},
     "output_type": "execute_result"
    }
   ],
   "source": [
    "def add_two(num):\n",
    "    '''This somment will explain what this function does. \n",
    "    in this case add two'''\n",
    "    return num + 2 \n",
    "\n",
    "add_two(4)"
   ]
  },
  {
   "cell_type": "markdown",
   "id": "39ba8116",
   "metadata": {},
   "source": [
    "# Indexing and slicing strings"
   ]
  },
  {
   "cell_type": "code",
   "execution_count": 4,
   "id": "982ad316",
   "metadata": {},
   "outputs": [
    {
     "data": {
      "text/plain": [
       "'H'"
      ]
     },
     "execution_count": 4,
     "metadata": {},
     "output_type": "execute_result"
    }
   ],
   "source": [
    "spam = 'Hello, World!'\n",
    "spam[0]"
   ]
  },
  {
   "cell_type": "code",
   "execution_count": 5,
   "id": "b5a87ad2",
   "metadata": {},
   "outputs": [
    {
     "data": {
      "text/plain": [
       "'o'"
      ]
     },
     "execution_count": 5,
     "metadata": {},
     "output_type": "execute_result"
    }
   ],
   "source": [
    "spam[4]"
   ]
  },
  {
   "cell_type": "code",
   "execution_count": 6,
   "id": "163f8ba1",
   "metadata": {},
   "outputs": [
    {
     "data": {
      "text/plain": [
       "'!'"
      ]
     },
     "execution_count": 6,
     "metadata": {},
     "output_type": "execute_result"
    }
   ],
   "source": [
    "spam[-1]"
   ]
  },
  {
   "cell_type": "code",
   "execution_count": 7,
   "id": "4f7f4340",
   "metadata": {},
   "outputs": [
    {
     "data": {
      "text/plain": [
       "'Hello'"
      ]
     },
     "execution_count": 7,
     "metadata": {},
     "output_type": "execute_result"
    }
   ],
   "source": [
    "spam[0:5]"
   ]
  },
  {
   "cell_type": "code",
   "execution_count": 8,
   "id": "11c2c478",
   "metadata": {},
   "outputs": [
    {
     "data": {
      "text/plain": [
       "'Hello'"
      ]
     },
     "execution_count": 8,
     "metadata": {},
     "output_type": "execute_result"
    }
   ],
   "source": [
    "spam[:5]"
   ]
  },
  {
   "cell_type": "code",
   "execution_count": 9,
   "id": "32eaf30a",
   "metadata": {},
   "outputs": [
    {
     "data": {
      "text/plain": [
       "'World!'"
      ]
     },
     "execution_count": 9,
     "metadata": {},
     "output_type": "execute_result"
    }
   ],
   "source": [
    "spam[7:]"
   ]
  },
  {
   "cell_type": "code",
   "execution_count": 10,
   "id": "39cab325",
   "metadata": {},
   "outputs": [],
   "source": [
    "fizz = spam[:5]"
   ]
  },
  {
   "cell_type": "code",
   "execution_count": 11,
   "id": "74bef56c",
   "metadata": {},
   "outputs": [
    {
     "data": {
      "text/plain": [
       "'Hello'"
      ]
     },
     "execution_count": 11,
     "metadata": {},
     "output_type": "execute_result"
    }
   ],
   "source": [
    "fizz"
   ]
  },
  {
   "cell_type": "markdown",
   "id": "39287fcb",
   "metadata": {},
   "source": [
    "# The in and not in Operators with Strings\n",
    "Thes expressions tst wether the fierst string(the exact string, case-sensitive) can be found within the second string"
   ]
  },
  {
   "cell_type": "code",
   "execution_count": 12,
   "id": "a07dfbd5",
   "metadata": {},
   "outputs": [
    {
     "data": {
      "text/plain": [
       "True"
      ]
     },
     "execution_count": 12,
     "metadata": {},
     "output_type": "execute_result"
    }
   ],
   "source": [
    "\"Hello\" in spam"
   ]
  },
  {
   "cell_type": "code",
   "execution_count": 13,
   "id": "3a6b4a77",
   "metadata": {},
   "outputs": [
    {
     "data": {
      "text/plain": [
       "False"
      ]
     },
     "execution_count": 13,
     "metadata": {},
     "output_type": "execute_result"
    }
   ],
   "source": [
    "'HELLO' in spam"
   ]
  },
  {
   "cell_type": "code",
   "execution_count": 14,
   "id": "70da2bc5",
   "metadata": {},
   "outputs": [
    {
     "data": {
      "text/plain": [
       "True"
      ]
     },
     "execution_count": 14,
     "metadata": {},
     "output_type": "execute_result"
    }
   ],
   "source": [
    "'' in spam"
   ]
  },
  {
   "cell_type": "code",
   "execution_count": 15,
   "id": "e2d32fa8",
   "metadata": {},
   "outputs": [
    {
     "data": {
      "text/plain": [
       "True"
      ]
     },
     "execution_count": 15,
     "metadata": {},
     "output_type": "execute_result"
    }
   ],
   "source": [
    "'cats' not in spam"
   ]
  },
  {
   "cell_type": "markdown",
   "id": "13478d1c",
   "metadata": {},
   "source": [
    "# Putting strings Inside Other Strings\n",
    "***string interploation:*** in which the %s operator inside the string acts as a marker to replaced by values following the string.\n",
    "\n",
    "One benefit of string interpolation is the str() doesn't have to be called to covert values to strings."
   ]
  },
  {
   "cell_type": "code",
   "execution_count": 16,
   "id": "4c351dfb",
   "metadata": {},
   "outputs": [
    {
     "data": {
      "text/plain": [
       "'My name is JQTs. I am 9000 years old.'"
      ]
     },
     "execution_count": 16,
     "metadata": {},
     "output_type": "execute_result"
    }
   ],
   "source": [
    "name = 'JQTs'\n",
    "age = 9000\n",
    "'My name is %s. I am %s years old.' % (name, age)"
   ]
  },
  {
   "cell_type": "markdown",
   "id": "4ce2cedf",
   "metadata": {},
   "source": [
    "***f-strings:*** which is simlar to string interpolation except that braces are used instead of %s, with the expressions places directly inside the braces.\n",
    "Like raw strings, f-strings have an f prfris before the starting quotation mark."
   ]
  },
  {
   "cell_type": "code",
   "execution_count": 17,
   "id": "3c7474b4",
   "metadata": {},
   "outputs": [
    {
     "data": {
      "text/plain": [
       "'My name is JQTs. I am 9001 years old.'"
      ]
     },
     "execution_count": 17,
     "metadata": {},
     "output_type": "execute_result"
    }
   ],
   "source": [
    "f'My name is {name}. I am {age + 1} years old.'"
   ]
  },
  {
   "cell_type": "markdown",
   "id": "6feeb090",
   "metadata": {},
   "source": [
    "if we forget the f before the quotes wil will get the following:"
   ]
  },
  {
   "cell_type": "code",
   "execution_count": 18,
   "id": "f8e41593",
   "metadata": {},
   "outputs": [
    {
     "data": {
      "text/plain": [
       "'My name is {name}. I am {age + 1} years old.'"
      ]
     },
     "execution_count": 18,
     "metadata": {},
     "output_type": "execute_result"
    }
   ],
   "source": [
    "'My name is {name}. I am {age + 1} years old.'"
   ]
  },
  {
   "cell_type": "markdown",
   "id": "ed29ea03",
   "metadata": {},
   "source": [
    "# Useful String methods\n",
    "* upper()\n",
    "* lower()\n",
    "* title()"
   ]
  },
  {
   "cell_type": "code",
   "execution_count": 69,
   "id": "fdf044a5",
   "metadata": {},
   "outputs": [],
   "source": [
    "spam2 = 'Hello World'"
   ]
  },
  {
   "cell_type": "code",
   "execution_count": 70,
   "id": "dc257e7c",
   "metadata": {},
   "outputs": [
    {
     "data": {
      "text/plain": [
       "'hello world'"
      ]
     },
     "execution_count": 70,
     "metadata": {},
     "output_type": "execute_result"
    }
   ],
   "source": [
    "spam2.lower()"
   ]
  },
  {
   "cell_type": "code",
   "execution_count": 71,
   "id": "cf4f2c36",
   "metadata": {},
   "outputs": [
    {
     "name": "stdout",
     "output_type": "stream",
     "text": [
      "How are you\n",
      "\n",
      "Hope your day gets better\n"
     ]
    }
   ],
   "source": [
    "print('How are you')\n",
    "feeling = input()\n",
    "if feeling.lower() == 'great':\n",
    "    print('I feel great to')\n",
    "else:\n",
    "    print('Hope your day gets better')\n",
    "    \n"
   ]
  },
  {
   "cell_type": "code",
   "execution_count": 72,
   "id": "c11f8b9e",
   "metadata": {},
   "outputs": [
    {
     "data": {
      "text/plain": [
       "'HELLO WORLD'"
      ]
     },
     "execution_count": 72,
     "metadata": {},
     "output_type": "execute_result"
    }
   ],
   "source": [
    "spam2.upper()"
   ]
  },
  {
   "cell_type": "code",
   "execution_count": 74,
   "id": "d25a70e3",
   "metadata": {},
   "outputs": [
    {
     "data": {
      "text/plain": [
       "'Hello World'"
      ]
     },
     "execution_count": 74,
     "metadata": {},
     "output_type": "execute_result"
    }
   ],
   "source": [
    "spam2.title() # capitalization the first char in each word"
   ]
  },
  {
   "cell_type": "markdown",
   "id": "71a07a7d",
   "metadata": {},
   "source": [
    "# isX() Methods\n",
    "* isupper() # Returns True if ther is at least one letter, and all the letter are capitalized\n",
    "* islower() # Returns True if ther is at least one letter, and all the letter are lower case\n",
    "* isalpha() # Returns True if the string consists only of letters and isn't blank\n",
    "* isalnum() # Returns True if the string consists only of letters and numbers and is not blank\n",
    "* isdecimal() # Returns True if the string consists only of numeric characters and is not blank\n",
    "* isspace() # Returns True if the string consists only of spaces, tabs, and newlines\n",
    "* istitle() # Returns True if the string consists only if words that begin with an uppercase letter followed by only lowercase letters. \n"
   ]
  },
  {
   "cell_type": "code",
   "execution_count": 24,
   "id": "344db50d",
   "metadata": {},
   "outputs": [
    {
     "data": {
      "text/plain": [
       "False"
      ]
     },
     "execution_count": 24,
     "metadata": {},
     "output_type": "execute_result"
    }
   ],
   "source": [
    "spam.islower() #Returns True if ther is at least one letter, and all the letter are lower case"
   ]
  },
  {
   "cell_type": "code",
   "execution_count": 25,
   "id": "360d07f0",
   "metadata": {},
   "outputs": [
    {
     "data": {
      "text/plain": [
       "False"
      ]
     },
     "execution_count": 25,
     "metadata": {},
     "output_type": "execute_result"
    }
   ],
   "source": [
    "spam.isupper() # Returns True if ther is at least one letter, and all the letter are capitalized"
   ]
  },
  {
   "cell_type": "code",
   "execution_count": 26,
   "id": "dcf5956e",
   "metadata": {},
   "outputs": [
    {
     "data": {
      "text/plain": [
       "True"
      ]
     },
     "execution_count": 26,
     "metadata": {},
     "output_type": "execute_result"
    }
   ],
   "source": [
    "'HELLO'.isupper() # Returns True if ther is at least one letter, and all the letter are capitalized"
   ]
  },
  {
   "cell_type": "code",
   "execution_count": 27,
   "id": "af2072dd",
   "metadata": {},
   "outputs": [
    {
     "data": {
      "text/plain": [
       "True"
      ]
     },
     "execution_count": 27,
     "metadata": {},
     "output_type": "execute_result"
    }
   ],
   "source": [
    "'hello'.islower() # Returns True if ther is at least one letter, and all the letter are lower case"
   ]
  },
  {
   "cell_type": "code",
   "execution_count": 28,
   "id": "476c3df9",
   "metadata": {},
   "outputs": [
    {
     "data": {
      "text/plain": [
       "True"
      ]
     },
     "execution_count": 28,
     "metadata": {},
     "output_type": "execute_result"
    }
   ],
   "source": [
    "'hello'.isalpha() # Returns True if the string consists only of letters and isn't blank"
   ]
  },
  {
   "cell_type": "code",
   "execution_count": 29,
   "id": "44b4031f",
   "metadata": {},
   "outputs": [
    {
     "data": {
      "text/plain": [
       "False"
      ]
     },
     "execution_count": 29,
     "metadata": {},
     "output_type": "execute_result"
    }
   ],
   "source": [
    "'hello123'.isalpha() # Returns True if the string consists only of letters and isn't blank"
   ]
  },
  {
   "cell_type": "code",
   "execution_count": 30,
   "id": "985679d7",
   "metadata": {},
   "outputs": [
    {
     "data": {
      "text/plain": [
       "True"
      ]
     },
     "execution_count": 30,
     "metadata": {},
     "output_type": "execute_result"
    }
   ],
   "source": [
    "'hello'.isalnum() # Returns True if the string consists only of letters and numbers and is not blank"
   ]
  },
  {
   "cell_type": "code",
   "execution_count": 31,
   "id": "75ad6ab7",
   "metadata": {},
   "outputs": [
    {
     "data": {
      "text/plain": [
       "True"
      ]
     },
     "execution_count": 31,
     "metadata": {},
     "output_type": "execute_result"
    }
   ],
   "source": [
    "'hello123'.isalnum() # Returns True if the string consists only of letters and numbers and is not blank"
   ]
  },
  {
   "cell_type": "code",
   "execution_count": 32,
   "id": "22a14090",
   "metadata": {},
   "outputs": [
    {
     "data": {
      "text/plain": [
       "True"
      ]
     },
     "execution_count": 32,
     "metadata": {},
     "output_type": "execute_result"
    }
   ],
   "source": [
    "'123'.isdecimal() # Returns True if the string consists only of numeric characters and is not blank"
   ]
  },
  {
   "cell_type": "code",
   "execution_count": 33,
   "id": "9b31c168",
   "metadata": {},
   "outputs": [
    {
     "data": {
      "text/plain": [
       "True"
      ]
     },
     "execution_count": 33,
     "metadata": {},
     "output_type": "execute_result"
    }
   ],
   "source": [
    "'  '.isspace()  # Returns True if the string consists only of spaces, tabs, and newlines"
   ]
  },
  {
   "cell_type": "code",
   "execution_count": 34,
   "id": "fe74421d",
   "metadata": {},
   "outputs": [
    {
     "data": {
      "text/plain": [
       "True"
      ]
     },
     "execution_count": 34,
     "metadata": {},
     "output_type": "execute_result"
    }
   ],
   "source": [
    "'This Is Title Case'.istitle() # Returns True if the string consists only if words that begin with an uppercase \n",
    "# letter followed by only lowercase letters."
   ]
  },
  {
   "cell_type": "code",
   "execution_count": 35,
   "id": "e7a23741",
   "metadata": {},
   "outputs": [
    {
     "data": {
      "text/plain": [
       "True"
      ]
     },
     "execution_count": 35,
     "metadata": {},
     "output_type": "execute_result"
    }
   ],
   "source": [
    "'This Is Title Case 123'.istitle() "
   ]
  },
  {
   "cell_type": "code",
   "execution_count": 36,
   "id": "9a170698",
   "metadata": {},
   "outputs": [
    {
     "data": {
      "text/plain": [
       "False"
      ]
     },
     "execution_count": 36,
     "metadata": {},
     "output_type": "execute_result"
    }
   ],
   "source": [
    "'This is NOT Title Case'.istitle()"
   ]
  },
  {
   "cell_type": "code",
   "execution_count": 37,
   "id": "95191c45",
   "metadata": {},
   "outputs": [
    {
     "data": {
      "text/plain": [
       "False"
      ]
     },
     "execution_count": 37,
     "metadata": {},
     "output_type": "execute_result"
    }
   ],
   "source": [
    "'This is not Title Case either'.istitle()"
   ]
  },
  {
   "cell_type": "code",
   "execution_count": 38,
   "id": "fcc75a3f",
   "metadata": {},
   "outputs": [
    {
     "name": "stdout",
     "output_type": "stream",
     "text": [
      "Enter your age\n",
      "\n",
      "Please enter a number for your age\n",
      "Enter your age\n",
      "32\n",
      "Select a new password (letters and numbers only):\n",
      "dfkjhglkjsgh5\n"
     ]
    }
   ],
   "source": [
    "while True:\n",
    "    print(\"Enter your age\")\n",
    "    age = input()\n",
    "    if age.isdecimal():\n",
    "        break\n",
    "    print(\"Please enter a number for your age\")\n",
    "    \n",
    "    \n",
    "while True:\n",
    "    print('Select a new password (letters and numbers only):')\n",
    "    password = input()\n",
    "    if password.isalnum():\n",
    "        break\n",
    "    print('Passwords can oly have letters and numbers.')\n",
    "    "
   ]
  },
  {
   "cell_type": "markdown",
   "id": "6f124fd6",
   "metadata": {},
   "source": [
    "# The startswith() and endswith() Methods\n",
    "* startswith() # Return True if the string value they are called on begins with the string passed to the method\n",
    "* endswith() # Return True if the string value they are called ends with the string passed to the method"
   ]
  },
  {
   "cell_type": "code",
   "execution_count": 40,
   "id": "9eb995e7",
   "metadata": {},
   "outputs": [
    {
     "data": {
      "text/plain": [
       "True"
      ]
     },
     "execution_count": 40,
     "metadata": {},
     "output_type": "execute_result"
    }
   ],
   "source": [
    "'Hello, words!'.startswith('Hello')"
   ]
  },
  {
   "cell_type": "code",
   "execution_count": 41,
   "id": "8d582567",
   "metadata": {},
   "outputs": [
    {
     "data": {
      "text/plain": [
       "True"
      ]
     },
     "execution_count": 41,
     "metadata": {},
     "output_type": "execute_result"
    }
   ],
   "source": [
    "'Hello, world!'.endswith('world!')"
   ]
  },
  {
   "cell_type": "code",
   "execution_count": 42,
   "id": "f0fc1443",
   "metadata": {},
   "outputs": [
    {
     "data": {
      "text/plain": [
       "False"
      ]
     },
     "execution_count": 42,
     "metadata": {},
     "output_type": "execute_result"
    }
   ],
   "source": [
    "'abc123'.startswith('abcdef')"
   ]
  },
  {
   "cell_type": "code",
   "execution_count": 43,
   "id": "7e1794e6",
   "metadata": {},
   "outputs": [
    {
     "data": {
      "text/plain": [
       "False"
      ]
     },
     "execution_count": 43,
     "metadata": {},
     "output_type": "execute_result"
    }
   ],
   "source": [
    "'abc123'.endswith('12')"
   ]
  },
  {
   "cell_type": "code",
   "execution_count": 44,
   "id": "c542a012",
   "metadata": {},
   "outputs": [
    {
     "data": {
      "text/plain": [
       "True"
      ]
     },
     "execution_count": 44,
     "metadata": {},
     "output_type": "execute_result"
    }
   ],
   "source": [
    "'Hello, world!'.startswith('Hello, world!')"
   ]
  },
  {
   "cell_type": "code",
   "execution_count": 46,
   "id": "f242c177",
   "metadata": {},
   "outputs": [
    {
     "data": {
      "text/plain": [
       "True"
      ]
     },
     "execution_count": 46,
     "metadata": {},
     "output_type": "execute_result"
    }
   ],
   "source": [
    "'Hello, world!'.endswith('Hello, world!')"
   ]
  },
  {
   "cell_type": "markdown",
   "id": "8815e61a",
   "metadata": {},
   "source": [
    "# .join() \n",
    "* .join() # is a method called on a string, gets passed a list of strings, and returns a string. The returned string is the concatenation of each string in the passed-in list. Notince that the string join() valls on is inseerted between each string of the list argiment.\n",
    "***Remeber that join() is called on a string values and is passed a list value***"
   ]
  },
  {
   "cell_type": "code",
   "execution_count": 51,
   "id": "ad40f665",
   "metadata": {},
   "outputs": [
    {
     "data": {
      "text/plain": [
       "'cats: rats: dogs'"
      ]
     },
     "execution_count": 51,
     "metadata": {},
     "output_type": "execute_result"
    }
   ],
   "source": [
    "sup = ['cats', 'rats', 'dogs']\n",
    "': '.join(sup)"
   ]
  },
  {
   "cell_type": "code",
   "execution_count": 52,
   "id": "85a3e20f",
   "metadata": {},
   "outputs": [
    {
     "data": {
      "text/plain": [
       "'cats-ABC-rats-ABC-dogs'"
      ]
     },
     "execution_count": 52,
     "metadata": {},
     "output_type": "execute_result"
    }
   ],
   "source": [
    "\"-ABC-\".join(sup)"
   ]
  },
  {
   "cell_type": "markdown",
   "id": "76521188",
   "metadata": {},
   "source": [
    "# .split() methods\n",
    "* .split() # does the opposite of the join() method: \n",
    "***Called on a string value and returns a list of strings.***\n",
    "* by defualt split() splits the string by whitespace characters such as the space, tab, or newline characters found"
   ]
  },
  {
   "cell_type": "code",
   "execution_count": 54,
   "id": "21ece9c3",
   "metadata": {},
   "outputs": [
    {
     "data": {
      "text/plain": [
       "['My', 'name', 'is', 'Jacque']"
      ]
     },
     "execution_count": 54,
     "metadata": {},
     "output_type": "execute_result"
    }
   ],
   "source": [
    "sup2 = 'My name is Jacque'\n",
    "sup2.split()"
   ]
  },
  {
   "cell_type": "code",
   "execution_count": 55,
   "id": "89f9c19c",
   "metadata": {},
   "outputs": [
    {
     "data": {
      "text/plain": [
       "['My', 'name', 'is', 'Jacque']"
      ]
     },
     "execution_count": 55,
     "metadata": {},
     "output_type": "execute_result"
    }
   ],
   "source": [
    "sup3 = \"MyABCnameABCisABCJacque\"\n",
    "sup3.split('ABC')"
   ]
  },
  {
   "cell_type": "code",
   "execution_count": 56,
   "id": "4e0e8e8c",
   "metadata": {},
   "outputs": [
    {
     "data": {
      "text/plain": [
       "['My na', 'e is Jacque']"
      ]
     },
     "execution_count": 56,
     "metadata": {},
     "output_type": "execute_result"
    }
   ],
   "source": [
    "sup2.split('m')"
   ]
  },
  {
   "cell_type": "code",
   "execution_count": 57,
   "id": "4a31bdc3",
   "metadata": {},
   "outputs": [],
   "source": [
    "spam = ''' Dear Alice,\n",
    "How have you been? I am fine.\n",
    "There is a container in the fridge\n",
    "tha is labeled \"Milk Experiment.\"\n",
    "\n",
    "Please do no deink it.\n",
    "Sincerely,\n",
    "Bob\n",
    "\n",
    "\n",
    "'''"
   ]
  },
  {
   "cell_type": "code",
   "execution_count": 60,
   "id": "979d71f0",
   "metadata": {},
   "outputs": [
    {
     "name": "stdout",
     "output_type": "stream",
     "text": [
      "[' Dear Alice,', 'How have you been? I am fine.', 'There is a container in the fridge', 'tha is labeled \"Milk Experiment.\"', '', 'Please do no deink it.', 'Sincerely,', 'Bob', '', '', '']\n"
     ]
    }
   ],
   "source": [
    "print(spam.split('\\n')) # splits a string by the newlines"
   ]
  },
  {
   "cell_type": "markdown",
   "id": "eea64de7",
   "metadata": {},
   "source": [
    "# partition() Method\n",
    "* .partition() # can split a sting into the text before and after a separtor string."
   ]
  },
  {
   "cell_type": "code",
   "execution_count": 61,
   "id": "dd035512",
   "metadata": {},
   "outputs": [
    {
     "data": {
      "text/plain": [
       "('Hello ', 'w', 'orld!')"
      ]
     },
     "execution_count": 61,
     "metadata": {},
     "output_type": "execute_result"
    }
   ],
   "source": [
    "'Hello world!'.partition('w')"
   ]
  },
  {
   "cell_type": "code",
   "execution_count": 62,
   "id": "99573022",
   "metadata": {},
   "outputs": [
    {
     "data": {
      "text/plain": [
       "('Hell', 'o', ' world')"
      ]
     },
     "execution_count": 62,
     "metadata": {},
     "output_type": "execute_result"
    }
   ],
   "source": [
    "'Hello world'.partition('o') # will only happen at the first occurance"
   ]
  },
  {
   "cell_type": "code",
   "execution_count": 63,
   "id": "0a5e557e",
   "metadata": {},
   "outputs": [
    {
     "data": {
      "text/plain": [
       "('Hello world!', '', '')"
      ]
     },
     "execution_count": 63,
     "metadata": {},
     "output_type": "execute_result"
    }
   ],
   "source": [
    "'Hello world!'.partition('XYZ') # if the seporator string can nnot be found, the first string returned in the tuple will be\n",
    "# the entire string, and the other two string wil be empty"
   ]
  },
  {
   "cell_type": "code",
   "execution_count": 64,
   "id": "e28b1802",
   "metadata": {},
   "outputs": [],
   "source": [
    "before, sep, after = 'Hello, world!'.partition(' ') # can use multiple assignments trick to assign the three returned string\n",
    "# to three variable"
   ]
  },
  {
   "cell_type": "code",
   "execution_count": 65,
   "id": "d084c982",
   "metadata": {},
   "outputs": [
    {
     "data": {
      "text/plain": [
       "'Hello,'"
      ]
     },
     "execution_count": 65,
     "metadata": {},
     "output_type": "execute_result"
    }
   ],
   "source": [
    "before"
   ]
  },
  {
   "cell_type": "code",
   "execution_count": 66,
   "id": "d416e66a",
   "metadata": {},
   "outputs": [
    {
     "data": {
      "text/plain": [
       "'world!'"
      ]
     },
     "execution_count": 66,
     "metadata": {},
     "output_type": "execute_result"
    }
   ],
   "source": [
    "after"
   ]
  },
  {
   "cell_type": "code",
   "execution_count": 67,
   "id": "4deefe48",
   "metadata": {},
   "outputs": [
    {
     "data": {
      "text/plain": [
       "' '"
      ]
     },
     "execution_count": 67,
     "metadata": {},
     "output_type": "execute_result"
    }
   ],
   "source": [
    "sep"
   ]
  },
  {
   "cell_type": "markdown",
   "id": "0c958139",
   "metadata": {},
   "source": [
    "# rjust(), ljust(), and center() Methods\n",
    "* rjust() # return a padded verision to the string they are called on, with spaces inserted to justify the text.\n",
    "* ljust() return a padded verision to the string they are called on, with spaces inserted to justify the text."
   ]
  },
  {
   "cell_type": "code",
   "execution_count": 96,
   "id": "fbd9ac23",
   "metadata": {},
   "outputs": [
    {
     "data": {
      "text/plain": [
       "'     Hello'"
      ]
     },
     "execution_count": 96,
     "metadata": {},
     "output_type": "execute_result"
    }
   ],
   "source": [
    "a= 'Hello'\n",
    "a.rjust(10) # has a total length of 10"
   ]
  },
  {
   "cell_type": "code",
   "execution_count": 97,
   "id": "98e9400f",
   "metadata": {},
   "outputs": [
    {
     "data": {
      "text/plain": [
       "'Hello               '"
      ]
     },
     "execution_count": 97,
     "metadata": {},
     "output_type": "execute_result"
    }
   ],
   "source": [
    "b ='Hello'\n",
    "b.ljust(20) # has a total length of 20"
   ]
  },
  {
   "cell_type": "code",
   "execution_count": 98,
   "id": "70821052",
   "metadata": {},
   "outputs": [
    {
     "name": "stdout",
     "output_type": "stream",
     "text": [
      "5\n",
      "5\n"
     ]
    }
   ],
   "source": [
    "print(len(a))\n",
    "print(len(b))"
   ]
  },
  {
   "cell_type": "markdown",
   "id": "c51c4bdb",
   "metadata": {},
   "source": [
    "optional method to fill in the empty space with charecters"
   ]
  },
  {
   "cell_type": "code",
   "execution_count": 99,
   "id": "1bbbd0f4",
   "metadata": {},
   "outputs": [
    {
     "data": {
      "text/plain": [
       "'***************Hello'"
      ]
     },
     "execution_count": 99,
     "metadata": {},
     "output_type": "execute_result"
    }
   ],
   "source": [
    "'Hello'.rjust(20, \"*\")"
   ]
  },
  {
   "cell_type": "markdown",
   "id": "6b933618",
   "metadata": {},
   "source": [
    "* The center() method works just like rjust() and ljust() except the text is centered rather than justifying it to the left or right."
   ]
  },
  {
   "cell_type": "code",
   "execution_count": 100,
   "id": "37cccea3",
   "metadata": {},
   "outputs": [
    {
     "data": {
      "text/plain": [
       "'       Hello        '"
      ]
     },
     "execution_count": 100,
     "metadata": {},
     "output_type": "execute_result"
    }
   ],
   "source": [
    "a.center(20)"
   ]
  },
  {
   "cell_type": "code",
   "execution_count": 101,
   "id": "9ca587d9",
   "metadata": {},
   "outputs": [
    {
     "data": {
      "text/plain": [
       "'=======Hello========'"
      ]
     },
     "execution_count": 101,
     "metadata": {},
     "output_type": "execute_result"
    }
   ],
   "source": [
    "a.center(20, '=')"
   ]
  },
  {
   "cell_type": "code",
   "execution_count": 102,
   "id": "af144b10",
   "metadata": {},
   "outputs": [
    {
     "data": {
      "text/plain": [
       "'---------------Hello---------------'"
      ]
     },
     "execution_count": 102,
     "metadata": {},
     "output_type": "execute_result"
    }
   ],
   "source": [
    "a.center(35, '-')"
   ]
  },
  {
   "cell_type": "code",
   "execution_count": 105,
   "id": "27391ad1",
   "metadata": {},
   "outputs": [
    {
     "name": "stdout",
     "output_type": "stream",
     "text": [
      "---Picnic Items--\n",
      "sandwiches..    4\n",
      "apples......   12\n",
      "cups........    4\n",
      "cookies..... 8000\n",
      "-------Picnic Items-------\n",
      "sandwiches..........     4\n",
      "apples..............    12\n",
      "cups................     4\n",
      "cookies.............  8000\n"
     ]
    }
   ],
   "source": [
    "def picnicList(itemDict, leftWidth, rightWidth):\n",
    "    print('Picnic Items'.center(leftWidth + rightWidth, '-'))\n",
    "    for key, value in itemDict.items():\n",
    "        print(key.ljust(leftWidth, \".\") + str(value).rjust(rightWidth))\n",
    "        \n",
    "picnicItems = {'sandwiches': 4, 'apples': 12, 'cups': 4, 'cookies': 8000}\n",
    "picnicList(picnicItems, 12, 5)\n",
    "picnicList(picnicItems, 20, 6)"
   ]
  },
  {
   "cell_type": "code",
   "execution_count": null,
   "id": "84d9f693",
   "metadata": {},
   "outputs": [],
   "source": []
  }
 ],
 "metadata": {
  "kernelspec": {
   "display_name": "Python 3",
   "language": "python",
   "name": "python3"
  },
  "language_info": {
   "codemirror_mode": {
    "name": "ipython",
    "version": 3
   },
   "file_extension": ".py",
   "mimetype": "text/x-python",
   "name": "python",
   "nbconvert_exporter": "python",
   "pygments_lexer": "ipython3",
   "version": "3.9.5"
  }
 },
 "nbformat": 4,
 "nbformat_minor": 5
}
