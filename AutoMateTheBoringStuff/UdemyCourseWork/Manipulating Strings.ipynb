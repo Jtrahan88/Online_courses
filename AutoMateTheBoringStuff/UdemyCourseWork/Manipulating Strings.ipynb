{
 "cells": [
  {
   "cell_type": "markdown",
   "id": "f1d3ef02",
   "metadata": {},
   "source": [
    "# Escape characters\n",
    "lets you use characterrs that are otherwise impossinble to put into a string\n",
    "\n",
    "* \\' Single Quote\n",
    "* \\\" Double Quote\n",
    "* \\t Tab\n",
    "* \\n Newline (line break)\n",
    "* \\\\ Backslash"
   ]
  },
  {
   "cell_type": "markdown",
   "id": "44a06f5b",
   "metadata": {},
   "source": [
    "# Raw Strings\n",
    "Completely ignores all escape characters and prints any backslash that appears in the string\n",
    "\n",
    "Best used for things like:\n",
    "* regular expressions\n",
    "* Widows file path"
   ]
  },
  {
   "cell_type": "code",
   "execution_count": 1,
   "id": "b8ec4749",
   "metadata": {},
   "outputs": [
    {
     "name": "stdout",
     "output_type": "stream",
     "text": [
      "That is Carol\\'s cat.\n"
     ]
    }
   ],
   "source": [
    "print(r'That is Carol\\'s cat.')"
   ]
  },
  {
   "cell_type": "markdown",
   "id": "c26be8b6",
   "metadata": {},
   "source": [
    "# Multiline strings with triple quotes\n",
    "Any quotes, tabs, or newlines, in bwtween the \"triple quotes\" are considered part of the string"
   ]
  },
  {
   "cell_type": "code",
   "execution_count": 2,
   "id": "d25eb73b",
   "metadata": {},
   "outputs": [
    {
     "name": "stdout",
     "output_type": "stream",
     "text": [
      "\n",
      "hello\n",
      "    jajaja's\n",
      "            skip\n",
      "hello agiagn # 8567309\n",
      "\n",
      "Thaks for your time,\n",
      "    JQT'S\n",
      "\n",
      "\n"
     ]
    }
   ],
   "source": [
    "print(\"\"\"\n",
    "hello\n",
    "    jajaja's\n",
    "            skip\n",
    "hello agiagn # 8567309\n",
    "\n",
    "Thaks for your time,\n",
    "    JQT'S\n",
    "\n",
    "\"\"\")"
   ]
  },
  {
   "cell_type": "markdown",
   "id": "ebd23374",
   "metadata": {},
   "source": [
    "# Multiline comments\n",
    "the '#' symbole is used for comments but we can use the triple quotes inside our functions to explain what they do:"
   ]
  },
  {
   "cell_type": "code",
   "execution_count": 3,
   "id": "e093de2c",
   "metadata": {},
   "outputs": [
    {
     "data": {
      "text/plain": [
       "6"
      ]
     },
     "execution_count": 3,
     "metadata": {},
     "output_type": "execute_result"
    }
   ],
   "source": [
    "def add_two(num):\n",
    "    '''This somment will explain what this function does. \n",
    "    in this case add two'''\n",
    "    return num + 2 \n",
    "\n",
    "add_two(4)"
   ]
  },
  {
   "cell_type": "markdown",
   "id": "39ba8116",
   "metadata": {},
   "source": [
    "# Indexing and slicing strings"
   ]
  },
  {
   "cell_type": "code",
   "execution_count": 4,
   "id": "982ad316",
   "metadata": {},
   "outputs": [
    {
     "data": {
      "text/plain": [
       "'H'"
      ]
     },
     "execution_count": 4,
     "metadata": {},
     "output_type": "execute_result"
    }
   ],
   "source": [
    "spam = 'Hello, World!'\n",
    "spam[0]"
   ]
  },
  {
   "cell_type": "code",
   "execution_count": 5,
   "id": "b5a87ad2",
   "metadata": {},
   "outputs": [
    {
     "data": {
      "text/plain": [
       "'o'"
      ]
     },
     "execution_count": 5,
     "metadata": {},
     "output_type": "execute_result"
    }
   ],
   "source": [
    "spam[4]"
   ]
  },
  {
   "cell_type": "code",
   "execution_count": 6,
   "id": "163f8ba1",
   "metadata": {},
   "outputs": [
    {
     "data": {
      "text/plain": [
       "'!'"
      ]
     },
     "execution_count": 6,
     "metadata": {},
     "output_type": "execute_result"
    }
   ],
   "source": [
    "spam[-1]"
   ]
  },
  {
   "cell_type": "code",
   "execution_count": 7,
   "id": "4f7f4340",
   "metadata": {},
   "outputs": [
    {
     "data": {
      "text/plain": [
       "'Hello'"
      ]
     },
     "execution_count": 7,
     "metadata": {},
     "output_type": "execute_result"
    }
   ],
   "source": [
    "spam[0:5]"
   ]
  },
  {
   "cell_type": "code",
   "execution_count": 8,
   "id": "11c2c478",
   "metadata": {},
   "outputs": [
    {
     "data": {
      "text/plain": [
       "'Hello'"
      ]
     },
     "execution_count": 8,
     "metadata": {},
     "output_type": "execute_result"
    }
   ],
   "source": [
    "spam[:5]"
   ]
  },
  {
   "cell_type": "code",
   "execution_count": 9,
   "id": "32eaf30a",
   "metadata": {},
   "outputs": [
    {
     "data": {
      "text/plain": [
       "'World!'"
      ]
     },
     "execution_count": 9,
     "metadata": {},
     "output_type": "execute_result"
    }
   ],
   "source": [
    "spam[7:]"
   ]
  },
  {
   "cell_type": "code",
   "execution_count": 10,
   "id": "39cab325",
   "metadata": {},
   "outputs": [],
   "source": [
    "fizz = spam[:5]"
   ]
  },
  {
   "cell_type": "code",
   "execution_count": 11,
   "id": "74bef56c",
   "metadata": {},
   "outputs": [
    {
     "data": {
      "text/plain": [
       "'Hello'"
      ]
     },
     "execution_count": 11,
     "metadata": {},
     "output_type": "execute_result"
    }
   ],
   "source": [
    "fizz"
   ]
  },
  {
   "cell_type": "markdown",
   "id": "39287fcb",
   "metadata": {},
   "source": [
    "# The in and not in Operators with Strings\n",
    "Thes expressions tst wether the fierst string(the exact string, case-sensitive) can be found within the second string"
   ]
  },
  {
   "cell_type": "code",
   "execution_count": 12,
   "id": "a07dfbd5",
   "metadata": {},
   "outputs": [
    {
     "data": {
      "text/plain": [
       "True"
      ]
     },
     "execution_count": 12,
     "metadata": {},
     "output_type": "execute_result"
    }
   ],
   "source": [
    "\"Hello\" in spam"
   ]
  },
  {
   "cell_type": "code",
   "execution_count": 13,
   "id": "3a6b4a77",
   "metadata": {},
   "outputs": [
    {
     "data": {
      "text/plain": [
       "False"
      ]
     },
     "execution_count": 13,
     "metadata": {},
     "output_type": "execute_result"
    }
   ],
   "source": [
    "'HELLO' in spam"
   ]
  },
  {
   "cell_type": "code",
   "execution_count": 14,
   "id": "70da2bc5",
   "metadata": {},
   "outputs": [
    {
     "data": {
      "text/plain": [
       "True"
      ]
     },
     "execution_count": 14,
     "metadata": {},
     "output_type": "execute_result"
    }
   ],
   "source": [
    "'' in spam"
   ]
  },
  {
   "cell_type": "code",
   "execution_count": 15,
   "id": "e2d32fa8",
   "metadata": {},
   "outputs": [
    {
     "data": {
      "text/plain": [
       "True"
      ]
     },
     "execution_count": 15,
     "metadata": {},
     "output_type": "execute_result"
    }
   ],
   "source": [
    "'cats' not in spam"
   ]
  },
  {
   "cell_type": "markdown",
   "id": "13478d1c",
   "metadata": {},
   "source": [
    "# Putting strings Inside Other Strings\n",
    "***string interploation:*** in which the %s operator inside the string acts as a marker to replaced by values following the string.\n",
    "\n",
    "One benefit of string interpolation is the str() doesn't have to be called to covert values to strings."
   ]
  },
  {
   "cell_type": "code",
   "execution_count": 16,
   "id": "4c351dfb",
   "metadata": {},
   "outputs": [
    {
     "data": {
      "text/plain": [
       "'My name is JQTs. I am 9000 years old.'"
      ]
     },
     "execution_count": 16,
     "metadata": {},
     "output_type": "execute_result"
    }
   ],
   "source": [
    "name = 'JQTs'\n",
    "age = 9000\n",
    "'My name is %s. I am %s years old.' % (name, age)"
   ]
  },
  {
   "cell_type": "markdown",
   "id": "4ce2cedf",
   "metadata": {},
   "source": [
    "***f-strings:*** which is simlar to string interpolation except that braces are used instead of %s, with the expressions places directly inside the braces.\n",
    "Like raw strings, f-strings have an f prfris before the starting quotation mark."
   ]
  },
  {
   "cell_type": "code",
   "execution_count": 17,
   "id": "3c7474b4",
   "metadata": {},
   "outputs": [
    {
     "data": {
      "text/plain": [
       "'My name is JQTs. I am 9001 years old.'"
      ]
     },
     "execution_count": 17,
     "metadata": {},
     "output_type": "execute_result"
    }
   ],
   "source": [
    "f'My name is {name}. I am {age + 1} years old.'"
   ]
  },
  {
   "cell_type": "markdown",
   "id": "6feeb090",
   "metadata": {},
   "source": [
    "if we forget the f before the quotes wil will get the following:"
   ]
  },
  {
   "cell_type": "code",
   "execution_count": 18,
   "id": "f8e41593",
   "metadata": {},
   "outputs": [
    {
     "data": {
      "text/plain": [
       "'My name is {name}. I am {age + 1} years old.'"
      ]
     },
     "execution_count": 18,
     "metadata": {},
     "output_type": "execute_result"
    }
   ],
   "source": [
    "'My name is {name}. I am {age + 1} years old.'"
   ]
  },
  {
   "cell_type": "markdown",
   "id": "ed29ea03",
   "metadata": {},
   "source": [
    "# Useful String methods\n",
    "* upper()\n",
    "* lower()"
   ]
  },
  {
   "cell_type": "code",
   "execution_count": 19,
   "id": "fdf044a5",
   "metadata": {},
   "outputs": [],
   "source": [
    "spam = 'Hello World'"
   ]
  },
  {
   "cell_type": "code",
   "execution_count": 20,
   "id": "dc257e7c",
   "metadata": {},
   "outputs": [
    {
     "data": {
      "text/plain": [
       "'hello world'"
      ]
     },
     "execution_count": 20,
     "metadata": {},
     "output_type": "execute_result"
    }
   ],
   "source": [
    "spam.lower()"
   ]
  },
  {
   "cell_type": "code",
   "execution_count": 24,
   "id": "10056d7a",
   "metadata": {},
   "outputs": [
    {
     "name": "stdout",
     "output_type": "stream",
     "text": [
      "How are you\n",
      "GREAT\n",
      "I feel great to\n"
     ]
    }
   ],
   "source": [
    "print('How are you')\n",
    "feeling = input()\n",
    "if feeling.lower() == 'great':\n",
    "    print('I feel great to')\n",
    "else:\n",
    "    print('Hope your day gets better')\n",
    "    \n"
   ]
  },
  {
   "cell_type": "code",
   "execution_count": 21,
   "id": "c11f8b9e",
   "metadata": {},
   "outputs": [
    {
     "data": {
      "text/plain": [
       "'HELLO WORLD'"
      ]
     },
     "execution_count": 21,
     "metadata": {},
     "output_type": "execute_result"
    }
   ],
   "source": [
    "spam.upper()"
   ]
  },
  {
   "cell_type": "markdown",
   "id": "1823b871",
   "metadata": {},
   "source": [
    "# isX() Methods\n",
    "* isupper() # Returns True if ther is at least one letter, and all the letter are capitalized\n",
    "* islower() # Returns True if ther is at least one letter, and all the letter are lower case\n",
    "* isalpha() # Returns True if the string consists only of letters and isn't blank\n",
    "* isalnum() # Returns True if the string consists only of letters and numbers and is not blank\n",
    "* isdecimal() # Returns True if the string consists only of numeric characters and is not blank\n",
    "* isspace() # Returns True if the string consists only of spaces, tabs, and newlines\n",
    "* istitle() # Returns True if the string consists only if words that begin with an uppercase letter followed by only lowercase letters. \n"
   ]
  },
  {
   "cell_type": "code",
   "execution_count": 22,
   "id": "344db50d",
   "metadata": {},
   "outputs": [
    {
     "data": {
      "text/plain": [
       "False"
      ]
     },
     "execution_count": 22,
     "metadata": {},
     "output_type": "execute_result"
    }
   ],
   "source": [
    "spam.islower()Returns True if ther is at least one letter, and all the letter are lower case"
   ]
  },
  {
   "cell_type": "code",
   "execution_count": 23,
   "id": "360d07f0",
   "metadata": {},
   "outputs": [
    {
     "data": {
      "text/plain": [
       "False"
      ]
     },
     "execution_count": 23,
     "metadata": {},
     "output_type": "execute_result"
    }
   ],
   "source": [
    "spam.isupper() # Returns True if ther is at least one letter, and all the letter are capitalized"
   ]
  },
  {
   "cell_type": "code",
   "execution_count": 26,
   "id": "dcf5956e",
   "metadata": {},
   "outputs": [
    {
     "data": {
      "text/plain": [
       "True"
      ]
     },
     "execution_count": 26,
     "metadata": {},
     "output_type": "execute_result"
    }
   ],
   "source": [
    "'HELLO'.isupper() # Returns True if ther is at least one letter, and all the letter are capitalized"
   ]
  },
  {
   "cell_type": "code",
   "execution_count": 28,
   "id": "af2072dd",
   "metadata": {},
   "outputs": [
    {
     "data": {
      "text/plain": [
       "True"
      ]
     },
     "execution_count": 28,
     "metadata": {},
     "output_type": "execute_result"
    }
   ],
   "source": [
    "'hello'.islower() # Returns True if ther is at least one letter, and all the letter are lower case"
   ]
  },
  {
   "cell_type": "code",
   "execution_count": 29,
   "id": "476c3df9",
   "metadata": {},
   "outputs": [
    {
     "data": {
      "text/plain": [
       "True"
      ]
     },
     "execution_count": 29,
     "metadata": {},
     "output_type": "execute_result"
    }
   ],
   "source": [
    "'hello'.isalpha() # Returns True if the string consists only of letters and isn't blank"
   ]
  },
  {
   "cell_type": "code",
   "execution_count": 30,
   "id": "b3205760",
   "metadata": {},
   "outputs": [
    {
     "data": {
      "text/plain": [
       "False"
      ]
     },
     "execution_count": 30,
     "metadata": {},
     "output_type": "execute_result"
    }
   ],
   "source": [
    "'hello123'.isalpha() # Returns True if the string consists only of letters and isn't blank"
   ]
  },
  {
   "cell_type": "code",
   "execution_count": 31,
   "id": "8ec304ca",
   "metadata": {},
   "outputs": [
    {
     "data": {
      "text/plain": [
       "True"
      ]
     },
     "execution_count": 31,
     "metadata": {},
     "output_type": "execute_result"
    }
   ],
   "source": [
    "'hello'.isalnum() # Returns True if the string consists only of letters and numbers and is not blank"
   ]
  },
  {
   "cell_type": "code",
   "execution_count": 32,
   "id": "e8b186f7",
   "metadata": {},
   "outputs": [
    {
     "data": {
      "text/plain": [
       "True"
      ]
     },
     "execution_count": 32,
     "metadata": {},
     "output_type": "execute_result"
    }
   ],
   "source": [
    "'hello123'.isalnum() # Returns True if the string consists only of letters and numbers and is not blank"
   ]
  },
  {
   "cell_type": "code",
   "execution_count": 33,
   "id": "22dfc63b",
   "metadata": {},
   "outputs": [
    {
     "data": {
      "text/plain": [
       "True"
      ]
     },
     "execution_count": 33,
     "metadata": {},
     "output_type": "execute_result"
    }
   ],
   "source": [
    "'123'.isdecimal() # Returns True if the string consists only of numeric characters and is not blank"
   ]
  },
  {
   "cell_type": "code",
   "execution_count": 34,
   "id": "7375353e",
   "metadata": {},
   "outputs": [
    {
     "data": {
      "text/plain": [
       "True"
      ]
     },
     "execution_count": 34,
     "metadata": {},
     "output_type": "execute_result"
    }
   ],
   "source": [
    "'  '.isspace()  # Returns True if the string consists only of spaces, tabs, and newlines"
   ]
  },
  {
   "cell_type": "code",
   "execution_count": 35,
   "id": "17a711d7",
   "metadata": {},
   "outputs": [
    {
     "data": {
      "text/plain": [
       "True"
      ]
     },
     "execution_count": 35,
     "metadata": {},
     "output_type": "execute_result"
    }
   ],
   "source": [
    "'This Is Title Case'.istitle() # Returns True if the string consists only if words that begin with an uppercase \n",
    "# letter followed by only lowercase letters."
   ]
  },
  {
   "cell_type": "code",
   "execution_count": 37,
   "id": "6688ee46",
   "metadata": {},
   "outputs": [
    {
     "data": {
      "text/plain": [
       "True"
      ]
     },
     "execution_count": 37,
     "metadata": {},
     "output_type": "execute_result"
    }
   ],
   "source": [
    "'This Is Title Case 123'.istitle() "
   ]
  },
  {
   "cell_type": "code",
   "execution_count": 38,
   "id": "a393040d",
   "metadata": {},
   "outputs": [
    {
     "data": {
      "text/plain": [
       "False"
      ]
     },
     "execution_count": 38,
     "metadata": {},
     "output_type": "execute_result"
    }
   ],
   "source": [
    "'This is NOT Title Case'.istitle()"
   ]
  },
  {
   "cell_type": "code",
   "execution_count": 39,
   "id": "9781670b",
   "metadata": {},
   "outputs": [
    {
     "data": {
      "text/plain": [
       "False"
      ]
     },
     "execution_count": 39,
     "metadata": {},
     "output_type": "execute_result"
    }
   ],
   "source": [
    "'This is not Title Case either'.istitle()"
   ]
  },
  {
   "cell_type": "code",
   "execution_count": 43,
   "id": "7f8c1648",
   "metadata": {},
   "outputs": [
    {
     "name": "stdout",
     "output_type": "stream",
     "text": [
      "Enter your age\n",
      "f\n",
      "Please enter a number for your age\n",
      "Enter your age\n",
      "32\n",
      "Select a new password (letters and numbers only):\n",
      "hala buenos dias\n",
      "Passwords can oly have letters and numbers.\n",
      "Select a new password (letters and numbers only):\n",
      "hello\n"
     ]
    }
   ],
   "source": [
    "while True:\n",
    "    print(\"Enter your age\")\n",
    "    age = input()\n",
    "    if age.isdecimal():\n",
    "        break\n",
    "    print(\"Please enter a number for your age\")\n",
    "    \n",
    "    \n",
    "while True:\n",
    "    print('Select a new password (letters and numbers only):')\n",
    "    password = input()\n",
    "    if password.isalnum():\n",
    "        break\n",
    "    print('Passwords can oly have letters and numbers.')\n",
    "    "
   ]
  },
  {
   "cell_type": "markdown",
   "id": "0bf56a94",
   "metadata": {},
   "source": [
    "# The startwith() and endwith() Methods"
   ]
  },
  {
   "cell_type": "code",
   "execution_count": null,
   "id": "f58fefd1",
   "metadata": {},
   "outputs": [],
   "source": []
  }
 ],
 "metadata": {
  "kernelspec": {
   "display_name": "Python 3",
   "language": "python",
   "name": "python3"
  },
  "language_info": {
   "codemirror_mode": {
    "name": "ipython",
    "version": 3
   },
   "file_extension": ".py",
   "mimetype": "text/x-python",
   "name": "python",
   "nbconvert_exporter": "python",
   "pygments_lexer": "ipython3",
   "version": "3.9.5"
  }
 },
 "nbformat": 4,
 "nbformat_minor": 5
}
