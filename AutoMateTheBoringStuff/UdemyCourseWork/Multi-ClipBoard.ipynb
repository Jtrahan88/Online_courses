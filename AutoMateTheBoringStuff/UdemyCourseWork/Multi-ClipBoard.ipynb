{
 "cells": [
  {
   "cell_type": "markdown",
   "id": "41022222",
   "metadata": {},
   "source": [
    "# Step One: Program Design and Data Structures\n"
   ]
  },
  {
   "cell_type": "markdown",
   "id": "b838dbe0",
   "metadata": {},
   "source": [
    "#! python 3 # this is needed for running code in the command line (known as shebang)\n",
    "see info here:\n",
    "\n",
    "    https://automatetheboringstuff.com/appendixb/\n",
    "    ***Shebang Line***\n",
    "The first line of all your Python programs should be a shebang line, which tells your computer that you want Python to execute this program. The shebang line begins with #!, but the rest depends on your operating system."
   ]
  },
  {
   "cell_type": "code",
   "execution_count": 5,
   "id": "0bba862a",
   "metadata": {},
   "outputs": [],
   "source": [
    "# Make our dictionary to pull from\n",
    "TEXT = {\n",
    "    'agree': '''Yes, I agree. That sounds fine to me''',\n",
    "    'busy': '''Sorry, can we do this later this week or next week?''',\n",
    "    'upsell': '''Would you consider making this a monthly donation?'''\n",
    "}"
   ]
  },
  {
   "cell_type": "markdown",
   "id": "18d44907",
   "metadata": {},
   "source": [
    "# Step Two: Handle Command Line Arguments\n",
    "We will use command line arguments sys.argv to store command line arguements. \n",
    "The first item in the sys.arg should always be a string containing the programs's filename, and the second line argument is the key pharse of the message you want."
   ]
  },
  {
   "cell_type": "code",
   "execution_count": 7,
   "id": "34181e43",
   "metadata": {},
   "outputs": [],
   "source": [
    "import sys, pyperclip\n",
    "if len(sys.argv) < 2:\n",
    "    print('Usage: python Multi-ClipBoard.ipynb [keyphrase] - copy phrase text')\n",
    "    sys.exit()\n",
    "    \n",
    "keyphrase = sys.argv[1] # first command line argument is key phrase"
   ]
  },
  {
   "cell_type": "markdown",
   "id": "47e5d486",
   "metadata": {},
   "source": [
    "# Step Three: Copy the Right phrase\n",
    "we have our keyphrase strored in the keypharse variable ***This is actually not needed, we could just use sys.argv[1], but having it in a variable just make it easier to read***"
   ]
  },
  {
   "cell_type": "code",
   "execution_count": 9,
   "id": "83b9818d",
   "metadata": {},
   "outputs": [
    {
     "name": "stdout",
     "output_type": "stream",
     "text": [
      "There is no text for -f\n"
     ]
    }
   ],
   "source": [
    "if keyphrase in TEXT:\n",
    "    pyperclip.copy(TEXT[keyphrase])\n",
    "    print('Text for ' + keyphrase + ' coppied to clipboard')\n",
    "else:\n",
    "    print('There is no text for ' + keyphrase)"
   ]
  },
  {
   "cell_type": "markdown",
   "id": "1abaa8b3",
   "metadata": {},
   "source": [
    "Our file put together all as one:"
   ]
  },
  {
   "cell_type": "code",
   "execution_count": 11,
   "id": "c48692eb",
   "metadata": {},
   "outputs": [
    {
     "name": "stdout",
     "output_type": "stream",
     "text": [
      "There is no text for -f\n"
     ]
    }
   ],
   "source": [
    "# Make our dictionary to pull from\n",
    "TEXT = {\n",
    "    'agree': '''Yes, I agree. That sounds fine to me''',\n",
    "    'busy': '''Sorry, can we do this later this week or next week?''',\n",
    "    'upsell': '''Would you consider making this a monthly donation?'''\n",
    "}\n",
    "import sys, pyperclip\n",
    "if len(sys.argv) < 2:\n",
    "    print('Usage: python Multi-ClipBoard.ipynb [keyphrase] - copy phrase text')\n",
    "    sys.exit()\n",
    "    \n",
    "keyphrase = sys.argv[1] # first command line argument is key phrase\n",
    "if keyphrase in TEXT:\n",
    "    pyperclip.copy(TEXT[keyphrase])\n",
    "    print('Text for ' + keyphrase + ' coppied to clipboard')\n",
    "else:\n",
    "    print('There is no text for ' + keyphrase)"
   ]
  },
  {
   "cell_type": "markdown",
   "id": "d97e7577",
   "metadata": {},
   "source": [
    "To run this program from jupyter we need to do the following:\n"
   ]
  }
 ],
 "metadata": {
  "kernelspec": {
   "display_name": "Python 3",
   "language": "python",
   "name": "python3"
  },
  "language_info": {
   "codemirror_mode": {
    "name": "ipython",
    "version": 3
   },
   "file_extension": ".py",
   "mimetype": "text/x-python",
   "name": "python",
   "nbconvert_exporter": "python",
   "pygments_lexer": "ipython3",
   "version": "3.9.5"
  }
 },
 "nbformat": 4,
 "nbformat_minor": 5
}
