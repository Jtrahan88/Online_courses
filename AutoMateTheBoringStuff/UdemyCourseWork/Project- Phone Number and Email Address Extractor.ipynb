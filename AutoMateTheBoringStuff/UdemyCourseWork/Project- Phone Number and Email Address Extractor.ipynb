{
 "cells": [
  {
   "cell_type": "markdown",
   "id": "d9e1d032",
   "metadata": {},
   "source": [
    "# for this program to work you hae to have something copied to your clip board (CTRL+C).\n",
    "Copy the text below for an example:\n",
    "\n",
    "https://nostarch.com/contactus/\n"
   ]
  },
  {
   "cell_type": "markdown",
   "id": "ebe5fb13",
   "metadata": {},
   "source": [
    "# Goal:  finding every phone number and email address in a long web page or document\n",
    "\n",
    "Or other aspects"
   ]
  },
  {
   "cell_type": "markdown",
   "id": "a83f5406",
   "metadata": {},
   "source": [
    "# Steps: Create our road map(Big Picture Thinking)\n",
    "* Get the text off the clipboard.\n",
    "* Find all phone numbers and email addresses in the text.\n",
    "* Paste them onto the clipboard.\n",
    "\n",
    "Now you can start thinking about how this might work in code. The code will need to do the following:\n",
    "\n",
    "* Use the pyperclip module to copy and paste strings.\n",
    "* Create two regexes, one for matching phone numbers and the other for matching email addresses.\n",
    "* Find all matches, not just the first match, of both regexes.\n",
    "* Neatly format the matched strings into a single string to paste.\n",
    "* Display some kind of message if no matches were found in the text."
   ]
  },
  {
   "cell_type": "markdown",
   "id": "b982f0f4",
   "metadata": {},
   "source": [
    "# import modules needed"
   ]
  },
  {
   "cell_type": "code",
   "execution_count": 1,
   "id": "5edab337",
   "metadata": {},
   "outputs": [],
   "source": [
    "import pyperclip, re"
   ]
  },
  {
   "cell_type": "markdown",
   "id": "f5c4c6b6",
   "metadata": {},
   "source": [
    "# Create a Regex for phone number"
   ]
  },
  {
   "cell_type": "code",
   "execution_count": 2,
   "id": "b3948e0e",
   "metadata": {},
   "outputs": [],
   "source": [
    "phoneRegex = re.compile(r\"\"\"\n",
    "(\\d{3}|\\(\\d{3}\\))? # area code\n",
    "(\\s|-|\\.)? # seperator\n",
    "(\\d{3}) # first three digits\n",
    "(\\s|-|\\.)? # sperator\n",
    "(\\d{4}) # last 4 digits\n",
    "(\\s*(ext|x|ext.)\\s*(\\d{2,5}))? # extension\n",
    "\"\"\", re.VERBOSE)"
   ]
  },
  {
   "cell_type": "markdown",
   "id": "8051f832",
   "metadata": {},
   "source": [
    "#### the breakdown of above:\n",
    "The phone number begins with an optional area code, so the area code group is followed with a question mark. Since the area code can be just three digits (that is, \\d{3}) or three digits within parentheses (that is, \\(\\d{3}\\)), you should have a pipe joining those parts. You can add the regex comment # Area code to this part of the multiline string to help you remember what (\\d{3}|\\(\\d{3}\\))? is supposed to match.\n",
    "\n",
    "The phone number separator character can be a space (\\s), hyphen (-), or period (.), so these parts should also be joined by pipes. The next few parts of the regular expression are straightforward: three digits, followed by another separator, followed by four digits. The last part is an optional extension made up of any number of spaces followed by ext, x, or ext., followed by two to five digits."
   ]
  },
  {
   "cell_type": "markdown",
   "id": "9f298654",
   "metadata": {},
   "source": [
    "# Step 2: Create a Regex for Email Addresses"
   ]
  },
  {
   "cell_type": "code",
   "execution_count": 3,
   "id": "1ecd2298",
   "metadata": {},
   "outputs": [],
   "source": [
    "emailRegex = re.compile(r\"\"\"(\n",
    "[a-zA-Z0-9._%+-]+ #username->1\n",
    "@                # the @ symbol->2\n",
    "[a-zA-Z0-9.-]+   # domain name->3\n",
    "(\\.[a-zA-Z]{2,4})# dot something->last part\n",
    ")\"\"\", re.VERBOSE)"
   ]
  },
  {
   "cell_type": "markdown",
   "id": "22dc51f4",
   "metadata": {},
   "source": [
    "#### the breakdown of above:\n",
    "The username part of the email address ➊ is one or more characters that can be any of the following: lowercase and uppercase letters, numbers, a dot, an underscore, a percent sign, a plus sign, or a hyphen. You can put all of these into a character class: [a-zA-Z0-9._%+-].\n",
    "\n",
    "The domain and username are separated by an @ symbol ➋. The domain name ➌ has a slightly less permissive character class with only letters, numbers, periods, and hyphens: [a-zA-Z0-9.-]. And last will be the “dot-com” part (technically known as the top-level domain), which can really be dot-anything. This is between two and four characters.\n",
    "\n",
    "The format for email addresses has a lot of weird rules. This regular expression won’t match every possible valid email address, but it’ll match almost any typical email address you’ll encounter"
   ]
  },
  {
   "cell_type": "markdown",
   "id": "e06db70a",
   "metadata": {},
   "source": [
    "# Step 3: Find All Matches in the Clipboard Text"
   ]
  },
  {
   "cell_type": "code",
   "execution_count": 4,
   "id": "a86aa562",
   "metadata": {},
   "outputs": [],
   "source": [
    "text = str(pyperclip.paste())\n",
    "\n",
    "matches = [] # 1\n",
    "for groups in phoneRegex.findall(text): # 2\n",
    "    phoneNum = '-'.join([groups[1], groups[3], groups[5]])\n",
    "    if groups[8] != \"\":\n",
    "        phoneNum += ' x' + groups[8]\n",
    "    matches.append(phoneNum)\n",
    "for groups in emailRegex.findall(text): # 3\n",
    "    matches.append(groups[0])"
   ]
  },
  {
   "cell_type": "markdown",
   "id": "91529e1b",
   "metadata": {},
   "source": [
    "#### the breakdown of above:\n",
    "There is one tuple for each match, and each tuple contains strings for each group in the regular expression. Remember that group 0 matches the entire regular expression, so the group at index 0 of the tuple is the one you are interested in.\n",
    "\n",
    "As you can see at ➊, you’ll store the matches in a list variable named matches. It starts off as an empty list, and a couple for loops. For the email addresses, you append group 0 of each match ➌. For the matched phone numbers, you don’t want to just append group 0. While the program detects phone numbers in several formats, you want the phone number appended to be in a single, standard format. The phoneNum variable contains a string built from groups 1, 3, 5, and 8 of the matched text ➋. (These groups are the area code, first three digits, last four digits, and extension.)"
   ]
  },
  {
   "cell_type": "markdown",
   "id": "b179f56f",
   "metadata": {},
   "source": [
    "# Step 4: Join the Matches into a String for the Clipboard"
   ]
  },
  {
   "cell_type": "code",
   "execution_count": 5,
   "id": "2b6b7450",
   "metadata": {},
   "outputs": [
    {
     "name": "stdout",
     "output_type": "stream",
     "text": [
      "No phone numbers or email addresses found\n"
     ]
    }
   ],
   "source": [
    "if len(matches) > 0:\n",
    "    pyperclip.copy('\\n'.join(matches))\n",
    "    print('Copied to clipboard:')\n",
    "    print('\\n'.join(matches))\n",
    "else:\n",
    "    print('No phone numbers or email addresses found')"
   ]
  },
  {
   "cell_type": "markdown",
   "id": "6796ab71",
   "metadata": {},
   "source": [
    "# Put it all together and run your code all in one"
   ]
  },
  {
   "cell_type": "code",
   "execution_count": 14,
   "id": "f2db12d1",
   "metadata": {},
   "outputs": [
    {
     "name": "stdout",
     "output_type": "stream",
     "text": [
      "Copied to clipboard:\n",
      "800-420-7240\n",
      "415-863-9900\n",
      "415-863-9950\n",
      "info@nostarch.com\n",
      "media@nostarch.com\n",
      "academic@nostarch.com\n",
      "conferences@nostarch.com\n",
      "info@nostarch.com\n"
     ]
    }
   ],
   "source": [
    "phoneRegex = re.compile(r\"\"\"(\n",
    "(\\d{3}|\\(\\d{3}\\))? # area code\n",
    "(\\s|-|\\.)? # seperator\n",
    "(\\d{3}) # first three digits\n",
    "(\\s|-|\\.) # sperator\n",
    "(\\d{4}) # last 4 digits\n",
    "(\\s*(ext|x|ext.)\\s*(\\d{2,5}))? # extension\n",
    ")\"\"\", re.VERBOSE)\n",
    "\n",
    "emailRegex = re.compile(r\"\"\"(\n",
    "[a-zA-Z0-9._%+-]+ #username->1\n",
    "@                # the @ symbol->2\n",
    "[a-zA-Z0-9.-]+   # domain name->3\n",
    "(\\.[a-zA-Z]{2,4})# dot something->last part\n",
    ")\"\"\", re.VERBOSE)\n",
    "\n",
    "text = str(pyperclip.paste())\n",
    "\n",
    "matches = [] # 1\n",
    "for groups in phoneRegex.findall(text): # 2\n",
    "    phoneNum = '-'.join([groups[1], groups[3], groups[5]])\n",
    "    if groups[8] != \"\":\n",
    "        phoneNum += ' x' + groups[8]\n",
    "    matches.append(phoneNum)\n",
    "    \n",
    "for groups in emailRegex.findall(text): # 3\n",
    "    matches.append(groups[0])\n",
    "    \n",
    "if len(matches) > 0:\n",
    "    pyperclip.copy('\\n'.join(matches))\n",
    "    print('Copied to clipboard:')\n",
    "    print('\\n'.join(matches))\n",
    "else:\n",
    "    print('No phone numbers or email addresses found')"
   ]
  },
  {
   "cell_type": "markdown",
   "id": "3fb08716",
   "metadata": {},
   "source": [
    "# practice question on Flash cards can be found here"
   ]
  },
  {
   "cell_type": "code",
   "execution_count": null,
   "id": "f78774b3",
   "metadata": {},
   "outputs": [],
   "source": []
  }
 ],
 "metadata": {
  "kernelspec": {
   "display_name": "Python 3",
   "language": "python",
   "name": "python3"
  },
  "language_info": {
   "codemirror_mode": {
    "name": "ipython",
    "version": 3
   },
   "file_extension": ".py",
   "mimetype": "text/x-python",
   "name": "python",
   "nbconvert_exporter": "python",
   "pygments_lexer": "ipython3",
   "version": "3.9.4"
  }
 },
 "nbformat": 4,
 "nbformat_minor": 5
}
