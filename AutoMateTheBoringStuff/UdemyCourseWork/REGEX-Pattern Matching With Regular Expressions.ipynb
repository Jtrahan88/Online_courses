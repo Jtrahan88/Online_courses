{
 "cells": [
  {
   "cell_type": "markdown",
   "id": "2afa97f1",
   "metadata": {},
   "source": [
    "# Steps\n",
    "* 1 make a mini program without RE expressions\n",
    "* 2 use regualr expression to make the aboe mini program less bloated. \n",
    "* 3 end of chapter program with have us extract phone numbers and emails from ablock of text."
   ]
  },
  {
   "cell_type": "markdown",
   "id": "646d6eae",
   "metadata": {},
   "source": [
    "# Finding patters of text withhout expressions\n",
    "find an american phone number in a string:\n",
    "* three numbers\n",
    "* a hyphen\n",
    "* three numbers\n",
    "* a hyphen\n",
    "* four numbers\n",
    "* example: 123-123-1234"
   ]
  },
  {
   "cell_type": "code",
   "execution_count": 1,
   "id": "8d37f13e",
   "metadata": {},
   "outputs": [
    {
     "name": "stdout",
     "output_type": "stream",
     "text": [
      "Is 415-555-4242 a phone number?\n",
      "True\n",
      "Is Mishi mishi a phone number?\n",
      "False\n"
     ]
    }
   ],
   "source": [
    "def isPhoneNumber(text):\n",
    "    if len(text) != 12:\n",
    "        return False\n",
    "    for i in range(0,3):\n",
    "        if not text[i].isdecimal():\n",
    "            return False\n",
    "    if text[3] != '-':\n",
    "        return False\n",
    "    for i in range(4,7):\n",
    "        if not text[i].isdecimal():\n",
    "            return False\n",
    "        if text[7] != '-':\n",
    "            return False\n",
    "    for i in range(8, 12):\n",
    "        if not text[i].isdecimal():\n",
    "            return False\n",
    "    return True\n",
    "\n",
    "print(\"Is 415-555-4242 a phone number?\")\n",
    "print(isPhoneNumber('415-555-4242'))\n",
    "print(\"Is Mishi mishi a phone number?\")\n",
    "print(isPhoneNumber('Mishi mishi'))"
   ]
  },
  {
   "cell_type": "markdown",
   "id": "0df3d2ac",
   "metadata": {},
   "source": [
    "replaced the last four line of code with a string message to pull a number from that string"
   ]
  },
  {
   "cell_type": "code",
   "execution_count": 2,
   "id": "c9ec3c46",
   "metadata": {},
   "outputs": [
    {
     "name": "stdout",
     "output_type": "stream",
     "text": [
      "Phnone number found: 415-555-1011\n",
      "Phnone number found: 415-555-9999\n",
      "Done\n"
     ]
    }
   ],
   "source": [
    "def isPhoneNumber(text):\n",
    "    if len(text) != 12:\n",
    "        return False\n",
    "    for i in range(0,3):\n",
    "        if not text[i].isdecimal():\n",
    "            return False\n",
    "    if text[3] != '-':\n",
    "        return False\n",
    "    for i in range(4,7):\n",
    "        if not text[i].isdecimal():\n",
    "            return False\n",
    "        if text[7] != '-':\n",
    "            return False\n",
    "    for i in range(8, 12):\n",
    "        if not text[i].isdecimal():\n",
    "            return False\n",
    "    return True\n",
    "\n",
    "message = 'Call me at 415-555-1011 tomorrow, 415-555-9999 is my office.'\n",
    "for i in range(len(message)):\n",
    "    chunk = message[i:i+12]\n",
    "    if isPhoneNumber(chunk):\n",
    "        print('Phnone number found: ' + chunk)\n",
    "print('Done')"
   ]
  },
  {
   "cell_type": "markdown",
   "id": "fdac812d",
   "metadata": {},
   "source": [
    "# Import the RE module and Creat REGEX Objects"
   ]
  },
  {
   "cell_type": "code",
   "execution_count": 3,
   "id": "62edaa52",
   "metadata": {},
   "outputs": [],
   "source": [
    "import re"
   ]
  },
  {
   "cell_type": "markdown",
   "id": "04dfce6f",
   "metadata": {},
   "source": [
    "passing a string value representing your regular expression to re.compile() returns a Regex pattern object(or simply a Regex object.)\n",
    "Rember that \\d means 'A digital character' and \\d\\d\\d-\\d\\d\\d-\\d\\d\\d\\d is the regualr expression for a phone number pattern."
   ]
  },
  {
   "cell_type": "code",
   "execution_count": 4,
   "id": "f0fb9971",
   "metadata": {},
   "outputs": [],
   "source": [
    "phoneNumRegex = re.compile(r'\\d\\d\\d-\\d\\d\\d-\\d\\d\\d\\d')"
   ]
  },
  {
   "cell_type": "markdown",
   "id": "b27d0c25",
   "metadata": {},
   "source": [
    "The below code does the same thing as our above isPhoneNumber function above"
   ]
  },
  {
   "cell_type": "code",
   "execution_count": 5,
   "id": "8c5f1e53",
   "metadata": {},
   "outputs": [
    {
     "name": "stdout",
     "output_type": "stream",
     "text": [
      "Phone number found: 415-555-4242\n"
     ]
    }
   ],
   "source": [
    "mo = phoneNumRegex.search('My number is 415-555-4242.')\n",
    "print(\"Phone number found: \" + mo.group())"
   ]
  },
  {
   "cell_type": "markdown",
   "id": "7ca10b9d",
   "metadata": {},
   "source": [
    ".search() method is tell our REGEX object to seach a particular string\n",
    "\n",
    ".group() method will display the wole match."
   ]
  },
  {
   "cell_type": "markdown",
   "id": "e9887308",
   "metadata": {},
   "source": [
    "# Review of Regualr exprresion Match:\n",
    "1) Import the regex module with import re\n",
    "\n",
    "2) Create a Regex object with the re.compile() function. (Remember to use a raw string)\n",
    "\n",
    "3) Pass the string you want to search intp the Regex onject's search() method. This returns a m Match object.\n",
    "\n",
    "4) Call the Match object's group() method to return a string of the actual matched text.\n",
    "\n",
    "REGEX tester can be found at:\n",
    "\n",
    "https://pythex.org/"
   ]
  },
  {
   "cell_type": "markdown",
   "id": "1cbae942",
   "metadata": {},
   "source": [
    "# More Patter Matching with Regualr Expressions"
   ]
  },
  {
   "cell_type": "markdown",
   "id": "7f914cde",
   "metadata": {},
   "source": [
    "Group with parentheses\n",
    "* more .group() method examples"
   ]
  },
  {
   "cell_type": "code",
   "execution_count": 6,
   "id": "118e6055",
   "metadata": {},
   "outputs": [
    {
     "data": {
      "text/plain": [
       "'415'"
      ]
     },
     "execution_count": 6,
     "metadata": {},
     "output_type": "execute_result"
    }
   ],
   "source": [
    "textString = 'My number is 415-555-4242.'\n",
    "\n",
    "phoneNumRegex2 = re.compile(r'(\\d\\d\\d)-(\\d\\d\\d)-(\\d\\d\\d\\d)')\n",
    "mo2 = phoneNumRegex2.search(textString)\n",
    "mo2.group(1)"
   ]
  },
  {
   "cell_type": "code",
   "execution_count": 7,
   "id": "639fa58d",
   "metadata": {},
   "outputs": [
    {
     "data": {
      "text/plain": [
       "'555'"
      ]
     },
     "execution_count": 7,
     "metadata": {},
     "output_type": "execute_result"
    }
   ],
   "source": [
    "mo2.group(2)"
   ]
  },
  {
   "cell_type": "code",
   "execution_count": 8,
   "id": "6ba56c94",
   "metadata": {},
   "outputs": [
    {
     "data": {
      "text/plain": [
       "'4242'"
      ]
     },
     "execution_count": 8,
     "metadata": {},
     "output_type": "execute_result"
    }
   ],
   "source": [
    "mo2.group(3)"
   ]
  },
  {
   "cell_type": "code",
   "execution_count": 9,
   "id": "192625e9",
   "metadata": {},
   "outputs": [
    {
     "data": {
      "text/plain": [
       "'415-555-4242'"
      ]
     },
     "execution_count": 9,
     "metadata": {},
     "output_type": "execute_result"
    }
   ],
   "source": [
    "mo2.group()"
   ]
  },
  {
   "cell_type": "code",
   "execution_count": 10,
   "id": "386ee0fd",
   "metadata": {},
   "outputs": [
    {
     "data": {
      "text/plain": [
       "('415', '555', '4242')"
      ]
     },
     "execution_count": 10,
     "metadata": {},
     "output_type": "execute_result"
    }
   ],
   "source": [
    "mo2.groups()"
   ]
  },
  {
   "cell_type": "code",
   "execution_count": 11,
   "id": "c0307605",
   "metadata": {},
   "outputs": [],
   "source": [
    "phoneNumRegex3 = re.compile(r'(\\d\\d\\d)-(\\d\\d\\d-\\d\\d\\d\\d)')\n",
    "mo3 = phoneNumRegex3.search('My number is 415-555-4242.')"
   ]
  },
  {
   "cell_type": "code",
   "execution_count": 12,
   "id": "f268e7f8",
   "metadata": {},
   "outputs": [
    {
     "data": {
      "text/plain": [
       "('415', '555-4242')"
      ]
     },
     "execution_count": 12,
     "metadata": {},
     "output_type": "execute_result"
    }
   ],
   "source": [
    "mo3.groups()"
   ]
  },
  {
   "cell_type": "markdown",
   "id": "9298afde",
   "metadata": {},
   "source": [
    "Above code makes a tuple of multiple values so we can assign each value like so:"
   ]
  },
  {
   "cell_type": "code",
   "execution_count": 13,
   "id": "6b98c4bd",
   "metadata": {},
   "outputs": [
    {
     "name": "stdout",
     "output_type": "stream",
     "text": [
      "415\n",
      "555-4242\n"
     ]
    }
   ],
   "source": [
    "areaCode, mainNumber = mo3.groups()\n",
    "print(areaCode)\n",
    "print(mainNumber)"
   ]
  },
  {
   "cell_type": "markdown",
   "id": "b35afa3a",
   "metadata": {},
   "source": [
    "We may need to have chars that python usually ignore like the \"\\\". Here is how we can do this:"
   ]
  },
  {
   "cell_type": "code",
   "execution_count": 14,
   "id": "908645f5",
   "metadata": {},
   "outputs": [
    {
     "data": {
      "text/plain": [
       "'(415)'"
      ]
     },
     "execution_count": 14,
     "metadata": {},
     "output_type": "execute_result"
    }
   ],
   "source": [
    "phoneNumRegex4 = re.compile(r'(\\(\\d\\d\\d\\)) (\\d\\d\\d-\\d\\d\\d\\d)')\n",
    "mo4 = phoneNumRegex4.search('My phone number is (415) 555-4242.')\n",
    "mo4.group(1)"
   ]
  },
  {
   "cell_type": "code",
   "execution_count": 15,
   "id": "88c2ee18",
   "metadata": {},
   "outputs": [
    {
     "data": {
      "text/plain": [
       "'555-4242'"
      ]
     },
     "execution_count": 15,
     "metadata": {},
     "output_type": "execute_result"
    }
   ],
   "source": [
    "mo4.group(2)"
   ]
  },
  {
   "cell_type": "markdown",
   "id": "e1ca0d3d",
   "metadata": {},
   "source": [
    "# The following Chars in REGEX expression have special meanings:\n",
    "* .\n",
    "* ^\n",
    "* *\n",
    "* +\n",
    "* ?\n",
    "* }\n",
    "* {\n",
    "* [\n",
    "* ]\n",
    "* \\\n",
    "* |\n",
    "* (\n",
    "* )\n",
    "To detect the above special charecters in a RE expression we will have to use the balvkslah char \"\\\\\" to escape them"
   ]
  },
  {
   "cell_type": "markdown",
   "id": "941cab26",
   "metadata": {},
   "source": [
    "Common mistake is to forget to cloth a REGEX by accidently puting or not putting the correct number of backslashes.\n",
    "Below is an example:"
   ]
  },
  {
   "cell_type": "code",
   "execution_count": 16,
   "id": "2d5617d0",
   "metadata": {},
   "outputs": [
    {
     "ename": "error",
     "evalue": "missing ), unterminated subpattern at position 0",
     "output_type": "error",
     "traceback": [
      "\u001b[1;31m---------------------------------------------------------------------------\u001b[0m",
      "\u001b[1;31merror\u001b[0m                                     Traceback (most recent call last)",
      "\u001b[1;32m<ipython-input-16-051679312224>\u001b[0m in \u001b[0;36m<module>\u001b[1;34m\u001b[0m\n\u001b[1;32m----> 1\u001b[1;33m \u001b[0mre\u001b[0m\u001b[1;33m.\u001b[0m\u001b[0mcompile\u001b[0m\u001b[1;33m(\u001b[0m\u001b[1;34mr'(\\(Parentheses\\)'\u001b[0m\u001b[1;33m)\u001b[0m\u001b[1;33m\u001b[0m\u001b[1;33m\u001b[0m\u001b[0m\n\u001b[0m",
      "\u001b[1;32mc:\\users\\jacque quinn trahan\\appdata\\local\\programs\\python\\python39\\lib\\re.py\u001b[0m in \u001b[0;36mcompile\u001b[1;34m(pattern, flags)\u001b[0m\n\u001b[0;32m    250\u001b[0m \u001b[1;32mdef\u001b[0m \u001b[0mcompile\u001b[0m\u001b[1;33m(\u001b[0m\u001b[0mpattern\u001b[0m\u001b[1;33m,\u001b[0m \u001b[0mflags\u001b[0m\u001b[1;33m=\u001b[0m\u001b[1;36m0\u001b[0m\u001b[1;33m)\u001b[0m\u001b[1;33m:\u001b[0m\u001b[1;33m\u001b[0m\u001b[1;33m\u001b[0m\u001b[0m\n\u001b[0;32m    251\u001b[0m     \u001b[1;34m\"Compile a regular expression pattern, returning a Pattern object.\"\u001b[0m\u001b[1;33m\u001b[0m\u001b[1;33m\u001b[0m\u001b[0m\n\u001b[1;32m--> 252\u001b[1;33m     \u001b[1;32mreturn\u001b[0m \u001b[0m_compile\u001b[0m\u001b[1;33m(\u001b[0m\u001b[0mpattern\u001b[0m\u001b[1;33m,\u001b[0m \u001b[0mflags\u001b[0m\u001b[1;33m)\u001b[0m\u001b[1;33m\u001b[0m\u001b[1;33m\u001b[0m\u001b[0m\n\u001b[0m\u001b[0;32m    253\u001b[0m \u001b[1;33m\u001b[0m\u001b[0m\n\u001b[0;32m    254\u001b[0m \u001b[1;32mdef\u001b[0m \u001b[0mpurge\u001b[0m\u001b[1;33m(\u001b[0m\u001b[1;33m)\u001b[0m\u001b[1;33m:\u001b[0m\u001b[1;33m\u001b[0m\u001b[1;33m\u001b[0m\u001b[0m\n",
      "\u001b[1;32mc:\\users\\jacque quinn trahan\\appdata\\local\\programs\\python\\python39\\lib\\re.py\u001b[0m in \u001b[0;36m_compile\u001b[1;34m(pattern, flags)\u001b[0m\n\u001b[0;32m    302\u001b[0m     \u001b[1;32mif\u001b[0m \u001b[1;32mnot\u001b[0m \u001b[0msre_compile\u001b[0m\u001b[1;33m.\u001b[0m\u001b[0misstring\u001b[0m\u001b[1;33m(\u001b[0m\u001b[0mpattern\u001b[0m\u001b[1;33m)\u001b[0m\u001b[1;33m:\u001b[0m\u001b[1;33m\u001b[0m\u001b[1;33m\u001b[0m\u001b[0m\n\u001b[0;32m    303\u001b[0m         \u001b[1;32mraise\u001b[0m \u001b[0mTypeError\u001b[0m\u001b[1;33m(\u001b[0m\u001b[1;34m\"first argument must be string or compiled pattern\"\u001b[0m\u001b[1;33m)\u001b[0m\u001b[1;33m\u001b[0m\u001b[1;33m\u001b[0m\u001b[0m\n\u001b[1;32m--> 304\u001b[1;33m     \u001b[0mp\u001b[0m \u001b[1;33m=\u001b[0m \u001b[0msre_compile\u001b[0m\u001b[1;33m.\u001b[0m\u001b[0mcompile\u001b[0m\u001b[1;33m(\u001b[0m\u001b[0mpattern\u001b[0m\u001b[1;33m,\u001b[0m \u001b[0mflags\u001b[0m\u001b[1;33m)\u001b[0m\u001b[1;33m\u001b[0m\u001b[1;33m\u001b[0m\u001b[0m\n\u001b[0m\u001b[0;32m    305\u001b[0m     \u001b[1;32mif\u001b[0m \u001b[1;32mnot\u001b[0m \u001b[1;33m(\u001b[0m\u001b[0mflags\u001b[0m \u001b[1;33m&\u001b[0m \u001b[0mDEBUG\u001b[0m\u001b[1;33m)\u001b[0m\u001b[1;33m:\u001b[0m\u001b[1;33m\u001b[0m\u001b[1;33m\u001b[0m\u001b[0m\n\u001b[0;32m    306\u001b[0m         \u001b[1;32mif\u001b[0m \u001b[0mlen\u001b[0m\u001b[1;33m(\u001b[0m\u001b[0m_cache\u001b[0m\u001b[1;33m)\u001b[0m \u001b[1;33m>=\u001b[0m \u001b[0m_MAXCACHE\u001b[0m\u001b[1;33m:\u001b[0m\u001b[1;33m\u001b[0m\u001b[1;33m\u001b[0m\u001b[0m\n",
      "\u001b[1;32mc:\\users\\jacque quinn trahan\\appdata\\local\\programs\\python\\python39\\lib\\sre_compile.py\u001b[0m in \u001b[0;36mcompile\u001b[1;34m(p, flags)\u001b[0m\n\u001b[0;32m    762\u001b[0m     \u001b[1;32mif\u001b[0m \u001b[0misstring\u001b[0m\u001b[1;33m(\u001b[0m\u001b[0mp\u001b[0m\u001b[1;33m)\u001b[0m\u001b[1;33m:\u001b[0m\u001b[1;33m\u001b[0m\u001b[1;33m\u001b[0m\u001b[0m\n\u001b[0;32m    763\u001b[0m         \u001b[0mpattern\u001b[0m \u001b[1;33m=\u001b[0m \u001b[0mp\u001b[0m\u001b[1;33m\u001b[0m\u001b[1;33m\u001b[0m\u001b[0m\n\u001b[1;32m--> 764\u001b[1;33m         \u001b[0mp\u001b[0m \u001b[1;33m=\u001b[0m \u001b[0msre_parse\u001b[0m\u001b[1;33m.\u001b[0m\u001b[0mparse\u001b[0m\u001b[1;33m(\u001b[0m\u001b[0mp\u001b[0m\u001b[1;33m,\u001b[0m \u001b[0mflags\u001b[0m\u001b[1;33m)\u001b[0m\u001b[1;33m\u001b[0m\u001b[1;33m\u001b[0m\u001b[0m\n\u001b[0m\u001b[0;32m    765\u001b[0m     \u001b[1;32melse\u001b[0m\u001b[1;33m:\u001b[0m\u001b[1;33m\u001b[0m\u001b[1;33m\u001b[0m\u001b[0m\n\u001b[0;32m    766\u001b[0m         \u001b[0mpattern\u001b[0m \u001b[1;33m=\u001b[0m \u001b[1;32mNone\u001b[0m\u001b[1;33m\u001b[0m\u001b[1;33m\u001b[0m\u001b[0m\n",
      "\u001b[1;32mc:\\users\\jacque quinn trahan\\appdata\\local\\programs\\python\\python39\\lib\\sre_parse.py\u001b[0m in \u001b[0;36mparse\u001b[1;34m(str, flags, state)\u001b[0m\n\u001b[0;32m    946\u001b[0m \u001b[1;33m\u001b[0m\u001b[0m\n\u001b[0;32m    947\u001b[0m     \u001b[1;32mtry\u001b[0m\u001b[1;33m:\u001b[0m\u001b[1;33m\u001b[0m\u001b[1;33m\u001b[0m\u001b[0m\n\u001b[1;32m--> 948\u001b[1;33m         \u001b[0mp\u001b[0m \u001b[1;33m=\u001b[0m \u001b[0m_parse_sub\u001b[0m\u001b[1;33m(\u001b[0m\u001b[0msource\u001b[0m\u001b[1;33m,\u001b[0m \u001b[0mstate\u001b[0m\u001b[1;33m,\u001b[0m \u001b[0mflags\u001b[0m \u001b[1;33m&\u001b[0m \u001b[0mSRE_FLAG_VERBOSE\u001b[0m\u001b[1;33m,\u001b[0m \u001b[1;36m0\u001b[0m\u001b[1;33m)\u001b[0m\u001b[1;33m\u001b[0m\u001b[1;33m\u001b[0m\u001b[0m\n\u001b[0m\u001b[0;32m    949\u001b[0m     \u001b[1;32mexcept\u001b[0m \u001b[0mVerbose\u001b[0m\u001b[1;33m:\u001b[0m\u001b[1;33m\u001b[0m\u001b[1;33m\u001b[0m\u001b[0m\n\u001b[0;32m    950\u001b[0m         \u001b[1;31m# the VERBOSE flag was switched on inside the pattern.  to be\u001b[0m\u001b[1;33m\u001b[0m\u001b[1;33m\u001b[0m\u001b[1;33m\u001b[0m\u001b[0m\n",
      "\u001b[1;32mc:\\users\\jacque quinn trahan\\appdata\\local\\programs\\python\\python39\\lib\\sre_parse.py\u001b[0m in \u001b[0;36m_parse_sub\u001b[1;34m(source, state, verbose, nested)\u001b[0m\n\u001b[0;32m    441\u001b[0m     \u001b[0mstart\u001b[0m \u001b[1;33m=\u001b[0m \u001b[0msource\u001b[0m\u001b[1;33m.\u001b[0m\u001b[0mtell\u001b[0m\u001b[1;33m(\u001b[0m\u001b[1;33m)\u001b[0m\u001b[1;33m\u001b[0m\u001b[1;33m\u001b[0m\u001b[0m\n\u001b[0;32m    442\u001b[0m     \u001b[1;32mwhile\u001b[0m \u001b[1;32mTrue\u001b[0m\u001b[1;33m:\u001b[0m\u001b[1;33m\u001b[0m\u001b[1;33m\u001b[0m\u001b[0m\n\u001b[1;32m--> 443\u001b[1;33m         itemsappend(_parse(source, state, verbose, nested + 1,\n\u001b[0m\u001b[0;32m    444\u001b[0m                            not nested and not items))\n\u001b[0;32m    445\u001b[0m         \u001b[1;32mif\u001b[0m \u001b[1;32mnot\u001b[0m \u001b[0msourcematch\u001b[0m\u001b[1;33m(\u001b[0m\u001b[1;34m\"|\"\u001b[0m\u001b[1;33m)\u001b[0m\u001b[1;33m:\u001b[0m\u001b[1;33m\u001b[0m\u001b[1;33m\u001b[0m\u001b[0m\n",
      "\u001b[1;32mc:\\users\\jacque quinn trahan\\appdata\\local\\programs\\python\\python39\\lib\\sre_parse.py\u001b[0m in \u001b[0;36m_parse\u001b[1;34m(source, state, verbose, nested, first)\u001b[0m\n\u001b[0;32m    834\u001b[0m             \u001b[0mp\u001b[0m \u001b[1;33m=\u001b[0m \u001b[0m_parse_sub\u001b[0m\u001b[1;33m(\u001b[0m\u001b[0msource\u001b[0m\u001b[1;33m,\u001b[0m \u001b[0mstate\u001b[0m\u001b[1;33m,\u001b[0m \u001b[0msub_verbose\u001b[0m\u001b[1;33m,\u001b[0m \u001b[0mnested\u001b[0m \u001b[1;33m+\u001b[0m \u001b[1;36m1\u001b[0m\u001b[1;33m)\u001b[0m\u001b[1;33m\u001b[0m\u001b[1;33m\u001b[0m\u001b[0m\n\u001b[0;32m    835\u001b[0m             \u001b[1;32mif\u001b[0m \u001b[1;32mnot\u001b[0m \u001b[0msource\u001b[0m\u001b[1;33m.\u001b[0m\u001b[0mmatch\u001b[0m\u001b[1;33m(\u001b[0m\u001b[1;34m\")\"\u001b[0m\u001b[1;33m)\u001b[0m\u001b[1;33m:\u001b[0m\u001b[1;33m\u001b[0m\u001b[1;33m\u001b[0m\u001b[0m\n\u001b[1;32m--> 836\u001b[1;33m                 raise source.error(\"missing ), unterminated subpattern\",\n\u001b[0m\u001b[0;32m    837\u001b[0m                                    source.tell() - start)\n\u001b[0;32m    838\u001b[0m             \u001b[1;32mif\u001b[0m \u001b[0mgroup\u001b[0m \u001b[1;32mis\u001b[0m \u001b[1;32mnot\u001b[0m \u001b[1;32mNone\u001b[0m\u001b[1;33m:\u001b[0m\u001b[1;33m\u001b[0m\u001b[1;33m\u001b[0m\u001b[0m\n",
      "\u001b[1;31merror\u001b[0m: missing ), unterminated subpattern at position 0"
     ]
    }
   ],
   "source": [
    "re.compile(r'(\\(Parentheses\\)')"
   ]
  },
  {
   "cell_type": "markdown",
   "id": "78b35f9b",
   "metadata": {},
   "source": [
    "***error: missing ), unterminated subpattern at position 0***\n",
    "\n",
    "The above erros tells us tha there is an openinf parenthesis at the index 0 of the r'(\\(Parentheses\\)' string that is missing its correspning closing parenthesis."
   ]
  },
  {
   "cell_type": "markdown",
   "id": "fbec32a0",
   "metadata": {},
   "source": [
    "# Mathing Multiple Groups with the pipe\n",
    "the \" | \" character is called a ***pipe***\n",
    "* the pipe \"|\" can be used anywhere you want to match one of many expressions\n",
    "***example:***\n",
    "r'Batman|Tina Fey' will match either 'Batman' or 'Tina Fey'\n",
    "\n",
    "When both Batman and Tina Fey are in the same string only teh first occurance of matching text will be returned as the matching object."
   ]
  },
  {
   "cell_type": "code",
   "execution_count": 17,
   "id": "5d635ed4",
   "metadata": {},
   "outputs": [
    {
     "data": {
      "text/plain": [
       "'Batman'"
      ]
     },
     "execution_count": 17,
     "metadata": {},
     "output_type": "execute_result"
    }
   ],
   "source": [
    "heroRegex = re.compile(r'Batman|Tina Fey')\n",
    "mo5 = heroRegex.search('Batman and Tina Fey')\n",
    "mo5.group()"
   ]
  },
  {
   "cell_type": "code",
   "execution_count": 18,
   "id": "f4cd4fc2",
   "metadata": {},
   "outputs": [
    {
     "data": {
      "text/plain": [
       "'Tina Fey'"
      ]
     },
     "execution_count": 18,
     "metadata": {},
     "output_type": "execute_result"
    }
   ],
   "source": [
    "mo6 = heroRegex.search('Tina Fey and Batman')\n",
    "mo6.group()"
   ]
  },
  {
   "cell_type": "markdown",
   "id": "a65f0b46",
   "metadata": {},
   "source": [
    "We can finall all mataching occurances by useing .findall() method"
   ]
  },
  {
   "cell_type": "code",
   "execution_count": 19,
   "id": "c7c3325f",
   "metadata": {},
   "outputs": [
    {
     "data": {
      "text/plain": [
       "['Batman', 'Tina Fey']"
      ]
     },
     "execution_count": 19,
     "metadata": {},
     "output_type": "execute_result"
    }
   ],
   "source": [
    "mo7 = heroRegex.findall(\"Batman and Tina Fey\")\n",
    "mo7"
   ]
  },
  {
   "cell_type": "markdown",
   "id": "1b6920cf",
   "metadata": {},
   "source": [
    "There is a way to find matchs using part of word for everything that goes with it.\n",
    "\n",
    "for example batman, batmobile, batcoper, batbat"
   ]
  },
  {
   "cell_type": "code",
   "execution_count": 20,
   "id": "62092fae",
   "metadata": {},
   "outputs": [
    {
     "data": {
      "text/plain": [
       "'batmobile'"
      ]
     },
     "execution_count": 20,
     "metadata": {},
     "output_type": "execute_result"
    }
   ],
   "source": [
    "batRegex = re.compile(r'bat(man|mobile|coper|bat)')\n",
    "mo8 = batRegex.search('batmobile lost a whell')\n",
    "mo8.group()"
   ]
  },
  {
   "cell_type": "code",
   "execution_count": 21,
   "id": "28d5c849",
   "metadata": {},
   "outputs": [
    {
     "data": {
      "text/plain": [
       "'mobile'"
      ]
     },
     "execution_count": 21,
     "metadata": {},
     "output_type": "execute_result"
    }
   ],
   "source": [
    "mo8.group(1)"
   ]
  },
  {
   "cell_type": "markdown",
   "id": "a8212c47",
   "metadata": {},
   "source": [
    "# Optional MAtching with the Question Mark\n",
    "The \"?\" character flags the group the ***precedes*** the question mark as an optional part of the pattern.\n",
    "* We can think of the ? as saying: Match zero or one of the group preceding this question mark."
   ]
  },
  {
   "cell_type": "code",
   "execution_count": 22,
   "id": "96859174",
   "metadata": {},
   "outputs": [
    {
     "data": {
      "text/plain": [
       "'batman'"
      ]
     },
     "execution_count": 22,
     "metadata": {},
     "output_type": "execute_result"
    }
   ],
   "source": [
    "batRegex2 = re.compile(r'bat(wo)?man')\n",
    "mo9 = batRegex2.search('The adventures of batman')\n",
    "mo9.group()"
   ]
  },
  {
   "cell_type": "code",
   "execution_count": 23,
   "id": "3c6d9aa2",
   "metadata": {},
   "outputs": [
    {
     "data": {
      "text/plain": [
       "'batwoman'"
      ]
     },
     "execution_count": 23,
     "metadata": {},
     "output_type": "execute_result"
    }
   ],
   "source": [
    "mo10 = batRegex2.search('The adventures of batwoman')\n",
    "mo10.group()"
   ]
  },
  {
   "cell_type": "markdown",
   "id": "fb15ed2d",
   "metadata": {},
   "source": [
    "Marke the area code of a number optional from our previous exampeles:"
   ]
  },
  {
   "cell_type": "code",
   "execution_count": 24,
   "id": "04c8b2cf",
   "metadata": {},
   "outputs": [
    {
     "data": {
      "text/plain": [
       "'123-555-1234'"
      ]
     },
     "execution_count": 24,
     "metadata": {},
     "output_type": "execute_result"
    }
   ],
   "source": [
    "phoneRegexArea = re.compile(r'(\\d\\d\\d-)?\\d\\d\\d-\\d\\d\\d\\d')\n",
    "mo11 = phoneRegexArea.search('My number is 123-555-1234')\n",
    "mo11.group()"
   ]
  },
  {
   "cell_type": "code",
   "execution_count": 25,
   "id": "252961ad",
   "metadata": {},
   "outputs": [
    {
     "data": {
      "text/plain": [
       "'555-1234'"
      ]
     },
     "execution_count": 25,
     "metadata": {},
     "output_type": "execute_result"
    }
   ],
   "source": [
    "mo12 = phoneRegexArea.search('My number is 555-1234')\n",
    "mo12.group()"
   ]
  },
  {
   "cell_type": "markdown",
   "id": "ac401480",
   "metadata": {},
   "source": [
    "# Matching zero or more with a star '*'\n",
    "The '*' (called the star or asterisk) means: match zero or more--The group that ***precedes*** the star can occure any number of times in the text."
   ]
  },
  {
   "cell_type": "code",
   "execution_count": 26,
   "id": "819d1ef7",
   "metadata": {},
   "outputs": [
    {
     "data": {
      "text/plain": [
       "'Batman'"
      ]
     },
     "execution_count": 26,
     "metadata": {},
     "output_type": "execute_result"
    }
   ],
   "source": [
    "batRegexStar = re.compile(r'Bat(wo)*man')\n",
    "mo13 = batRegexStar.search('The Adventures of Batman')\n",
    "mo13.group()"
   ]
  },
  {
   "cell_type": "code",
   "execution_count": 27,
   "id": "48b051f3",
   "metadata": {},
   "outputs": [
    {
     "data": {
      "text/plain": [
       "'Batwoman'"
      ]
     },
     "execution_count": 27,
     "metadata": {},
     "output_type": "execute_result"
    }
   ],
   "source": [
    "mo14 = batRegexStar.search('The Adventures of Batwoman')\n",
    "mo14.group()"
   ]
  },
  {
   "cell_type": "code",
   "execution_count": 28,
   "id": "55c9638b",
   "metadata": {},
   "outputs": [
    {
     "data": {
      "text/plain": [
       "'Batwowowowowowoman'"
      ]
     },
     "execution_count": 28,
     "metadata": {},
     "output_type": "execute_result"
    }
   ],
   "source": [
    "mo15 = batRegexStar.search('The adventures of Batwowowowowowoman')\n",
    "mo15.group()"
   ]
  },
  {
   "cell_type": "markdown",
   "id": "6c8246ab",
   "metadata": {},
   "source": [
    "# Matching One or more with the plus\n",
    "The '+' means to match one or more\n",
    "unlike the start which does not require its group to appear in the matched string, the group preceding a plus '+' sign ***must appear at least once. Not optional***"
   ]
  },
  {
   "cell_type": "code",
   "execution_count": 29,
   "id": "63d694d2",
   "metadata": {},
   "outputs": [
    {
     "data": {
      "text/plain": [
       "'Batwoman'"
      ]
     },
     "execution_count": 29,
     "metadata": {},
     "output_type": "execute_result"
    }
   ],
   "source": [
    "batRegexPlus = re.compile(r'Bat(wo)+man')\n",
    "mo16 = batRegexPlus.search('The Adventure os Batwoman')\n",
    "mo16.group()"
   ]
  },
  {
   "cell_type": "code",
   "execution_count": 30,
   "id": "7e884297",
   "metadata": {},
   "outputs": [
    {
     "data": {
      "text/plain": [
       "'Batwowowowowoman'"
      ]
     },
     "execution_count": 30,
     "metadata": {},
     "output_type": "execute_result"
    }
   ],
   "source": [
    "mo17 = batRegexPlus.search('The Adventures of Batwowowowowoman')\n",
    "mo17.group()"
   ]
  },
  {
   "cell_type": "code",
   "execution_count": 31,
   "id": "7f859a00",
   "metadata": {},
   "outputs": [
    {
     "data": {
      "text/plain": [
       "True"
      ]
     },
     "execution_count": 31,
     "metadata": {},
     "output_type": "execute_result"
    }
   ],
   "source": [
    "mo18 = batRegexPlus.search('The Adventues of Batman')\n",
    "mo18 == None"
   ]
  },
  {
   "cell_type": "markdown",
   "id": "08c1ed5b",
   "metadata": {},
   "source": [
    "# Matching Specific Repetitions with Brace\n",
    "{} will match a spefic number of times for the value before it. Example:\n",
    "(ha){3} eould match hahaha but not haha because ha did not have 3 toegeher ad haha only has two.\n",
    "\n",
    "If we need a range we can do so by adding a comma. and the the max number needed. Example:\n",
    "(ha){3,5} will match a mine of three hahaha but will also match hahahaha or hahahahaha \n",
    "\n",
    "or\n",
    "we could do {3, } and this woul match a min of 3 and up\n",
    "\n",
    "vs\n",
    "{ , 5} would match a min of one but no more than 5"
   ]
  },
  {
   "cell_type": "code",
   "execution_count": 32,
   "id": "00079d48",
   "metadata": {},
   "outputs": [
    {
     "data": {
      "text/plain": [
       "'HaHaHa'"
      ]
     },
     "execution_count": 32,
     "metadata": {},
     "output_type": "execute_result"
    }
   ],
   "source": [
    "haRegex = re.compile(r'(Ha){3}')\n",
    "mo19 = haRegex.search('HaHaHa')\n",
    "mo19.group()"
   ]
  },
  {
   "cell_type": "code",
   "execution_count": 34,
   "id": "efee1b75",
   "metadata": {},
   "outputs": [
    {
     "data": {
      "text/plain": [
       "True"
      ]
     },
     "execution_count": 34,
     "metadata": {},
     "output_type": "execute_result"
    }
   ],
   "source": [
    "mo20 = haRegex.search('Ha')\n",
    "mo20 == None"
   ]
  },
  {
   "cell_type": "markdown",
   "id": "91e9d69c",
   "metadata": {},
   "source": [
    "# Greedy and non-Greedy Matching\n",
    "Pythons RE are greedy by default meaning that in ambiguous situatuons they will match the longest string possiable.\n",
    "\n",
    "The ***non-Greedy*** (also called lazy) version of the braces, which matches the shortest string possible, has a closing brace followed by a question mark."
   ]
  },
  {
   "cell_type": "code",
   "execution_count": 37,
   "id": "f10c198c",
   "metadata": {},
   "outputs": [
    {
     "data": {
      "text/plain": [
       "'HaHaHaHaHa'"
      ]
     },
     "execution_count": 37,
     "metadata": {},
     "output_type": "execute_result"
    }
   ],
   "source": [
    "greedyRegex = re.compile(r'(Ha){3,5}')\n",
    "mo21 = greedyRegex.search(\"HaHaHaHaHa\")\n",
    "mo21.group()"
   ]
  },
  {
   "cell_type": "code",
   "execution_count": 36,
   "id": "2de8035d",
   "metadata": {},
   "outputs": [
    {
     "data": {
      "text/plain": [
       "'HaHaHa'"
      ]
     },
     "execution_count": 36,
     "metadata": {},
     "output_type": "execute_result"
    }
   ],
   "source": [
    "nongreedyRegex = re.compile(r'(Ha){3,5}?')\n",
    "mo22 = nongreedyRegex.search(\"HaHaHaHaHa\")\n",
    "mo22.group()"
   ]
  },
  {
   "cell_type": "markdown",
   "id": "09f561bd",
   "metadata": {},
   "source": [
    "# Note\n",
    "The a question mark can have two meaning in regular expressions: ***declaring non-greedy match*** or ***flagging an optional group***"
   ]
  },
  {
   "cell_type": "code",
   "execution_count": null,
   "id": "81cadbb5",
   "metadata": {},
   "outputs": [],
   "source": []
  }
 ],
 "metadata": {
  "kernelspec": {
   "display_name": "Python 3",
   "language": "python",
   "name": "python3"
  },
  "language_info": {
   "codemirror_mode": {
    "name": "ipython",
    "version": 3
   },
   "file_extension": ".py",
   "mimetype": "text/x-python",
   "name": "python",
   "nbconvert_exporter": "python",
   "pygments_lexer": "ipython3",
   "version": "3.9.5"
  }
 },
 "nbformat": 4,
 "nbformat_minor": 5
}
