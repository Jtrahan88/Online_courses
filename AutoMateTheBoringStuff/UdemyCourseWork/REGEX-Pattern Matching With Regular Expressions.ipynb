{
 "cells": [
  {
   "cell_type": "markdown",
   "id": "2afa97f1",
   "metadata": {},
   "source": [
    "# Steps\n",
    "* 1 make a mini program without RE expressions\n",
    "* 2 use regualr expression to make the aboe mini program less bloated. \n",
    "* 3 end of chapter program with have us extract phone numbers and emails from ablock of text."
   ]
  },
  {
   "cell_type": "markdown",
   "id": "646d6eae",
   "metadata": {},
   "source": [
    "# Finding patters of text withhout expressions\n",
    "find an american phone number in a string:\n",
    "* three numbers\n",
    "* a hyphen\n",
    "* three numbers\n",
    "* a hyphen\n",
    "* four numbers\n",
    "* example: 123-123-1234"
   ]
  },
  {
   "cell_type": "code",
   "execution_count": 1,
   "id": "8d37f13e",
   "metadata": {},
   "outputs": [
    {
     "name": "stdout",
     "output_type": "stream",
     "text": [
      "Is 415-555-4242 a phone number?\n",
      "True\n",
      "Is Mishi mishi a phone number?\n",
      "False\n"
     ]
    }
   ],
   "source": [
    "def isPhoneNumber(text):\n",
    "    if len(text) != 12:\n",
    "        return False\n",
    "    for i in range(0,3):\n",
    "        if not text[i].isdecimal():\n",
    "            return False\n",
    "    if text[3] != '-':\n",
    "        return False\n",
    "    for i in range(4,7):\n",
    "        if not text[i].isdecimal():\n",
    "            return False\n",
    "        if text[7] != '-':\n",
    "            return False\n",
    "    for i in range(8, 12):\n",
    "        if not text[i].isdecimal():\n",
    "            return False\n",
    "    return True\n",
    "\n",
    "print(\"Is 415-555-4242 a phone number?\")\n",
    "print(isPhoneNumber('415-555-4242'))\n",
    "print(\"Is Mishi mishi a phone number?\")\n",
    "print(isPhoneNumber('Mishi mishi'))"
   ]
  },
  {
   "cell_type": "markdown",
   "id": "0df3d2ac",
   "metadata": {},
   "source": [
    "replaced the last four line of code with a string message to pull a number from that string"
   ]
  },
  {
   "cell_type": "code",
   "execution_count": 2,
   "id": "c9ec3c46",
   "metadata": {},
   "outputs": [
    {
     "name": "stdout",
     "output_type": "stream",
     "text": [
      "Phnone number found: 415-555-1011\n",
      "Phnone number found: 415-555-9999\n",
      "Done\n"
     ]
    }
   ],
   "source": [
    "def isPhoneNumber(text):\n",
    "    if len(text) != 12:\n",
    "        return False\n",
    "    for i in range(0,3):\n",
    "        if not text[i].isdecimal():\n",
    "            return False\n",
    "    if text[3] != '-':\n",
    "        return False\n",
    "    for i in range(4,7):\n",
    "        if not text[i].isdecimal():\n",
    "            return False\n",
    "        if text[7] != '-':\n",
    "            return False\n",
    "    for i in range(8, 12):\n",
    "        if not text[i].isdecimal():\n",
    "            return False\n",
    "    return True\n",
    "\n",
    "message = 'Call me at 415-555-1011 tomorrow, 415-555-9999 is my office.'\n",
    "for i in range(len(message)):\n",
    "    chunk = message[i:i+12]\n",
    "    if isPhoneNumber(chunk):\n",
    "        print('Phnone number found: ' + chunk)\n",
    "print('Done')"
   ]
  },
  {
   "cell_type": "markdown",
   "id": "fdac812d",
   "metadata": {},
   "source": [
    "# Import the RE module and Creat REGEX Objects"
   ]
  },
  {
   "cell_type": "code",
   "execution_count": 3,
   "id": "62edaa52",
   "metadata": {},
   "outputs": [],
   "source": [
    "import re"
   ]
  },
  {
   "cell_type": "markdown",
   "id": "04dfce6f",
   "metadata": {},
   "source": [
    "passing a string value representing your regular expression to re.compile() returns a Regex pattern object(or simply a Regex object.)\n",
    "Rember that \\d means 'A digital character' and \\d\\d\\d-\\d\\d\\d-\\d\\d\\d\\d is the regualr expression for a phone number pattern."
   ]
  },
  {
   "cell_type": "code",
   "execution_count": 4,
   "id": "f0fb9971",
   "metadata": {},
   "outputs": [],
   "source": [
    "phoneNumRegex = re.compile(r'\\d\\d\\d-\\d\\d\\d-\\d\\d\\d\\d')"
   ]
  },
  {
   "cell_type": "markdown",
   "id": "b27d0c25",
   "metadata": {},
   "source": [
    "The below code does the same thing as our above isPhoneNumber function above"
   ]
  },
  {
   "cell_type": "code",
   "execution_count": 5,
   "id": "8c5f1e53",
   "metadata": {},
   "outputs": [
    {
     "name": "stdout",
     "output_type": "stream",
     "text": [
      "Phone number found: 415-555-4242\n"
     ]
    }
   ],
   "source": [
    "mo = phoneNumRegex.search('My number is 415-555-4242.')\n",
    "print(\"Phone number found: \" + mo.group())"
   ]
  },
  {
   "cell_type": "markdown",
   "id": "7ca10b9d",
   "metadata": {},
   "source": [
    ".search() method is tell our REGEX object to seach a particular string\n",
    "\n",
    ".group() method will display the wole match."
   ]
  },
  {
   "cell_type": "markdown",
   "id": "e9887308",
   "metadata": {},
   "source": [
    "# Review of Regualr exprresion Match:\n",
    "1) Import the regex module with import re\n",
    "\n",
    "2) Create a Regex object with the re.compile() function. (Remember to use a raw string)\n",
    "\n",
    "3) Pass the string you want to search intp the Regex onject's search() method. This returns a m Match object.\n",
    "\n",
    "4) Call the Match object's group() method to return a string of the actual matched text.\n",
    "\n",
    "REGEX tester can be found at:\n",
    "\n",
    "https://pythex.org/"
   ]
  },
  {
   "cell_type": "markdown",
   "id": "1cbae942",
   "metadata": {},
   "source": [
    "# More Patter Matching with Regualr Expressions"
   ]
  },
  {
   "cell_type": "markdown",
   "id": "7f914cde",
   "metadata": {},
   "source": [
    "Group with parentheses\n",
    "* more .group() method examples"
   ]
  },
  {
   "cell_type": "code",
   "execution_count": 6,
   "id": "118e6055",
   "metadata": {},
   "outputs": [
    {
     "data": {
      "text/plain": [
       "'415'"
      ]
     },
     "execution_count": 6,
     "metadata": {},
     "output_type": "execute_result"
    }
   ],
   "source": [
    "textString = 'My number is 415-555-4242.'\n",
    "\n",
    "phoneNumRegex2 = re.compile(r'(\\d\\d\\d)-(\\d\\d\\d)-(\\d\\d\\d\\d)')\n",
    "mo2 = phoneNumRegex2.search(textString)\n",
    "mo2.group(1)"
   ]
  },
  {
   "cell_type": "code",
   "execution_count": 7,
   "id": "639fa58d",
   "metadata": {},
   "outputs": [
    {
     "data": {
      "text/plain": [
       "'555'"
      ]
     },
     "execution_count": 7,
     "metadata": {},
     "output_type": "execute_result"
    }
   ],
   "source": [
    "mo2.group(2)"
   ]
  },
  {
   "cell_type": "code",
   "execution_count": 8,
   "id": "6ba56c94",
   "metadata": {},
   "outputs": [
    {
     "data": {
      "text/plain": [
       "'4242'"
      ]
     },
     "execution_count": 8,
     "metadata": {},
     "output_type": "execute_result"
    }
   ],
   "source": [
    "mo2.group(3)"
   ]
  },
  {
   "cell_type": "code",
   "execution_count": 9,
   "id": "192625e9",
   "metadata": {},
   "outputs": [
    {
     "data": {
      "text/plain": [
       "'415-555-4242'"
      ]
     },
     "execution_count": 9,
     "metadata": {},
     "output_type": "execute_result"
    }
   ],
   "source": [
    "mo2.group()"
   ]
  },
  {
   "cell_type": "code",
   "execution_count": 10,
   "id": "386ee0fd",
   "metadata": {},
   "outputs": [
    {
     "data": {
      "text/plain": [
       "('415', '555', '4242')"
      ]
     },
     "execution_count": 10,
     "metadata": {},
     "output_type": "execute_result"
    }
   ],
   "source": [
    "mo2.groups()"
   ]
  },
  {
   "cell_type": "code",
   "execution_count": 11,
   "id": "c0307605",
   "metadata": {},
   "outputs": [],
   "source": [
    "phoneNumRegex3 = re.compile(r'(\\d\\d\\d)-(\\d\\d\\d-\\d\\d\\d\\d)')\n",
    "mo3 = phoneNumRegex3.search('My number is 415-555-4242.')"
   ]
  },
  {
   "cell_type": "code",
   "execution_count": 12,
   "id": "f268e7f8",
   "metadata": {},
   "outputs": [
    {
     "data": {
      "text/plain": [
       "('415', '555-4242')"
      ]
     },
     "execution_count": 12,
     "metadata": {},
     "output_type": "execute_result"
    }
   ],
   "source": [
    "mo3.groups()"
   ]
  },
  {
   "cell_type": "markdown",
   "id": "9298afde",
   "metadata": {},
   "source": [
    "Above code makes a tuple of multiple values so we can assign each value like so:"
   ]
  },
  {
   "cell_type": "code",
   "execution_count": 13,
   "id": "6b98c4bd",
   "metadata": {},
   "outputs": [
    {
     "name": "stdout",
     "output_type": "stream",
     "text": [
      "415\n",
      "555-4242\n"
     ]
    }
   ],
   "source": [
    "areaCode, mainNumber = mo3.groups()\n",
    "print(areaCode)\n",
    "print(mainNumber)"
   ]
  },
  {
   "cell_type": "markdown",
   "id": "b35afa3a",
   "metadata": {},
   "source": [
    "We may need to have chars that python usually ignore like the \"\\\". Here is how we can do this:"
   ]
  },
  {
   "cell_type": "code",
   "execution_count": 14,
   "id": "908645f5",
   "metadata": {},
   "outputs": [
    {
     "data": {
      "text/plain": [
       "'(415)'"
      ]
     },
     "execution_count": 14,
     "metadata": {},
     "output_type": "execute_result"
    }
   ],
   "source": [
    "phoneNumRegex4 = re.compile(r'(\\(\\d\\d\\d\\)) (\\d\\d\\d-\\d\\d\\d\\d)')\n",
    "mo4 = phoneNumRegex4.search('My phone number is (415) 555-4242.')\n",
    "mo4.group(1)"
   ]
  },
  {
   "cell_type": "code",
   "execution_count": 15,
   "id": "88c2ee18",
   "metadata": {},
   "outputs": [
    {
     "data": {
      "text/plain": [
       "'555-4242'"
      ]
     },
     "execution_count": 15,
     "metadata": {},
     "output_type": "execute_result"
    }
   ],
   "source": [
    "mo4.group(2)"
   ]
  },
  {
   "cell_type": "markdown",
   "id": "e1ca0d3d",
   "metadata": {},
   "source": [
    "# The following Chars in REGEX expression have special meanings:\n",
    "* .\n",
    "* ^\n",
    "* *\n",
    "* +\n",
    "* ?\n",
    "* }\n",
    "* {\n",
    "* [\n",
    "* ]\n",
    "* \\\n",
    "* |\n",
    "* (\n",
    "* )\n",
    "\n",
    "To detect the above special charecters in a RE expression we will have to use the balvkslah char \"\\\\\" to escape them"
   ]
  },
  {
   "cell_type": "markdown",
   "id": "941cab26",
   "metadata": {},
   "source": [
    "Common mistake is to forget to cloth a REGEX by accidently puting or not putting the correct number of backslashes.\n",
    "Below is an example:"
   ]
  },
  {
   "cell_type": "code",
   "execution_count": 16,
   "id": "2d5617d0",
   "metadata": {},
   "outputs": [
    {
     "ename": "error",
     "evalue": "missing ), unterminated subpattern at position 0",
     "output_type": "error",
     "traceback": [
      "\u001b[1;31m---------------------------------------------------------------------------\u001b[0m",
      "\u001b[1;31merror\u001b[0m                                     Traceback (most recent call last)",
      "\u001b[1;32m<ipython-input-16-051679312224>\u001b[0m in \u001b[0;36m<module>\u001b[1;34m\u001b[0m\n\u001b[1;32m----> 1\u001b[1;33m \u001b[0mre\u001b[0m\u001b[1;33m.\u001b[0m\u001b[0mcompile\u001b[0m\u001b[1;33m(\u001b[0m\u001b[1;34mr'(\\(Parentheses\\)'\u001b[0m\u001b[1;33m)\u001b[0m\u001b[1;33m\u001b[0m\u001b[1;33m\u001b[0m\u001b[0m\n\u001b[0m",
      "\u001b[1;32mc:\\users\\jacque.trahan\\appdata\\local\\programs\\python\\python39\\lib\\re.py\u001b[0m in \u001b[0;36mcompile\u001b[1;34m(pattern, flags)\u001b[0m\n\u001b[0;32m    250\u001b[0m \u001b[1;32mdef\u001b[0m \u001b[0mcompile\u001b[0m\u001b[1;33m(\u001b[0m\u001b[0mpattern\u001b[0m\u001b[1;33m,\u001b[0m \u001b[0mflags\u001b[0m\u001b[1;33m=\u001b[0m\u001b[1;36m0\u001b[0m\u001b[1;33m)\u001b[0m\u001b[1;33m:\u001b[0m\u001b[1;33m\u001b[0m\u001b[1;33m\u001b[0m\u001b[0m\n\u001b[0;32m    251\u001b[0m     \u001b[1;34m\"Compile a regular expression pattern, returning a Pattern object.\"\u001b[0m\u001b[1;33m\u001b[0m\u001b[1;33m\u001b[0m\u001b[0m\n\u001b[1;32m--> 252\u001b[1;33m     \u001b[1;32mreturn\u001b[0m \u001b[0m_compile\u001b[0m\u001b[1;33m(\u001b[0m\u001b[0mpattern\u001b[0m\u001b[1;33m,\u001b[0m \u001b[0mflags\u001b[0m\u001b[1;33m)\u001b[0m\u001b[1;33m\u001b[0m\u001b[1;33m\u001b[0m\u001b[0m\n\u001b[0m\u001b[0;32m    253\u001b[0m \u001b[1;33m\u001b[0m\u001b[0m\n\u001b[0;32m    254\u001b[0m \u001b[1;32mdef\u001b[0m \u001b[0mpurge\u001b[0m\u001b[1;33m(\u001b[0m\u001b[1;33m)\u001b[0m\u001b[1;33m:\u001b[0m\u001b[1;33m\u001b[0m\u001b[1;33m\u001b[0m\u001b[0m\n",
      "\u001b[1;32mc:\\users\\jacque.trahan\\appdata\\local\\programs\\python\\python39\\lib\\re.py\u001b[0m in \u001b[0;36m_compile\u001b[1;34m(pattern, flags)\u001b[0m\n\u001b[0;32m    302\u001b[0m     \u001b[1;32mif\u001b[0m \u001b[1;32mnot\u001b[0m \u001b[0msre_compile\u001b[0m\u001b[1;33m.\u001b[0m\u001b[0misstring\u001b[0m\u001b[1;33m(\u001b[0m\u001b[0mpattern\u001b[0m\u001b[1;33m)\u001b[0m\u001b[1;33m:\u001b[0m\u001b[1;33m\u001b[0m\u001b[1;33m\u001b[0m\u001b[0m\n\u001b[0;32m    303\u001b[0m         \u001b[1;32mraise\u001b[0m \u001b[0mTypeError\u001b[0m\u001b[1;33m(\u001b[0m\u001b[1;34m\"first argument must be string or compiled pattern\"\u001b[0m\u001b[1;33m)\u001b[0m\u001b[1;33m\u001b[0m\u001b[1;33m\u001b[0m\u001b[0m\n\u001b[1;32m--> 304\u001b[1;33m     \u001b[0mp\u001b[0m \u001b[1;33m=\u001b[0m \u001b[0msre_compile\u001b[0m\u001b[1;33m.\u001b[0m\u001b[0mcompile\u001b[0m\u001b[1;33m(\u001b[0m\u001b[0mpattern\u001b[0m\u001b[1;33m,\u001b[0m \u001b[0mflags\u001b[0m\u001b[1;33m)\u001b[0m\u001b[1;33m\u001b[0m\u001b[1;33m\u001b[0m\u001b[0m\n\u001b[0m\u001b[0;32m    305\u001b[0m     \u001b[1;32mif\u001b[0m \u001b[1;32mnot\u001b[0m \u001b[1;33m(\u001b[0m\u001b[0mflags\u001b[0m \u001b[1;33m&\u001b[0m \u001b[0mDEBUG\u001b[0m\u001b[1;33m)\u001b[0m\u001b[1;33m:\u001b[0m\u001b[1;33m\u001b[0m\u001b[1;33m\u001b[0m\u001b[0m\n\u001b[0;32m    306\u001b[0m         \u001b[1;32mif\u001b[0m \u001b[0mlen\u001b[0m\u001b[1;33m(\u001b[0m\u001b[0m_cache\u001b[0m\u001b[1;33m)\u001b[0m \u001b[1;33m>=\u001b[0m \u001b[0m_MAXCACHE\u001b[0m\u001b[1;33m:\u001b[0m\u001b[1;33m\u001b[0m\u001b[1;33m\u001b[0m\u001b[0m\n",
      "\u001b[1;32mc:\\users\\jacque.trahan\\appdata\\local\\programs\\python\\python39\\lib\\sre_compile.py\u001b[0m in \u001b[0;36mcompile\u001b[1;34m(p, flags)\u001b[0m\n\u001b[0;32m    762\u001b[0m     \u001b[1;32mif\u001b[0m \u001b[0misstring\u001b[0m\u001b[1;33m(\u001b[0m\u001b[0mp\u001b[0m\u001b[1;33m)\u001b[0m\u001b[1;33m:\u001b[0m\u001b[1;33m\u001b[0m\u001b[1;33m\u001b[0m\u001b[0m\n\u001b[0;32m    763\u001b[0m         \u001b[0mpattern\u001b[0m \u001b[1;33m=\u001b[0m \u001b[0mp\u001b[0m\u001b[1;33m\u001b[0m\u001b[1;33m\u001b[0m\u001b[0m\n\u001b[1;32m--> 764\u001b[1;33m         \u001b[0mp\u001b[0m \u001b[1;33m=\u001b[0m \u001b[0msre_parse\u001b[0m\u001b[1;33m.\u001b[0m\u001b[0mparse\u001b[0m\u001b[1;33m(\u001b[0m\u001b[0mp\u001b[0m\u001b[1;33m,\u001b[0m \u001b[0mflags\u001b[0m\u001b[1;33m)\u001b[0m\u001b[1;33m\u001b[0m\u001b[1;33m\u001b[0m\u001b[0m\n\u001b[0m\u001b[0;32m    765\u001b[0m     \u001b[1;32melse\u001b[0m\u001b[1;33m:\u001b[0m\u001b[1;33m\u001b[0m\u001b[1;33m\u001b[0m\u001b[0m\n\u001b[0;32m    766\u001b[0m         \u001b[0mpattern\u001b[0m \u001b[1;33m=\u001b[0m \u001b[1;32mNone\u001b[0m\u001b[1;33m\u001b[0m\u001b[1;33m\u001b[0m\u001b[0m\n",
      "\u001b[1;32mc:\\users\\jacque.trahan\\appdata\\local\\programs\\python\\python39\\lib\\sre_parse.py\u001b[0m in \u001b[0;36mparse\u001b[1;34m(str, flags, state)\u001b[0m\n\u001b[0;32m    946\u001b[0m \u001b[1;33m\u001b[0m\u001b[0m\n\u001b[0;32m    947\u001b[0m     \u001b[1;32mtry\u001b[0m\u001b[1;33m:\u001b[0m\u001b[1;33m\u001b[0m\u001b[1;33m\u001b[0m\u001b[0m\n\u001b[1;32m--> 948\u001b[1;33m         \u001b[0mp\u001b[0m \u001b[1;33m=\u001b[0m \u001b[0m_parse_sub\u001b[0m\u001b[1;33m(\u001b[0m\u001b[0msource\u001b[0m\u001b[1;33m,\u001b[0m \u001b[0mstate\u001b[0m\u001b[1;33m,\u001b[0m \u001b[0mflags\u001b[0m \u001b[1;33m&\u001b[0m \u001b[0mSRE_FLAG_VERBOSE\u001b[0m\u001b[1;33m,\u001b[0m \u001b[1;36m0\u001b[0m\u001b[1;33m)\u001b[0m\u001b[1;33m\u001b[0m\u001b[1;33m\u001b[0m\u001b[0m\n\u001b[0m\u001b[0;32m    949\u001b[0m     \u001b[1;32mexcept\u001b[0m \u001b[0mVerbose\u001b[0m\u001b[1;33m:\u001b[0m\u001b[1;33m\u001b[0m\u001b[1;33m\u001b[0m\u001b[0m\n\u001b[0;32m    950\u001b[0m         \u001b[1;31m# the VERBOSE flag was switched on inside the pattern.  to be\u001b[0m\u001b[1;33m\u001b[0m\u001b[1;33m\u001b[0m\u001b[1;33m\u001b[0m\u001b[0m\n",
      "\u001b[1;32mc:\\users\\jacque.trahan\\appdata\\local\\programs\\python\\python39\\lib\\sre_parse.py\u001b[0m in \u001b[0;36m_parse_sub\u001b[1;34m(source, state, verbose, nested)\u001b[0m\n\u001b[0;32m    441\u001b[0m     \u001b[0mstart\u001b[0m \u001b[1;33m=\u001b[0m \u001b[0msource\u001b[0m\u001b[1;33m.\u001b[0m\u001b[0mtell\u001b[0m\u001b[1;33m(\u001b[0m\u001b[1;33m)\u001b[0m\u001b[1;33m\u001b[0m\u001b[1;33m\u001b[0m\u001b[0m\n\u001b[0;32m    442\u001b[0m     \u001b[1;32mwhile\u001b[0m \u001b[1;32mTrue\u001b[0m\u001b[1;33m:\u001b[0m\u001b[1;33m\u001b[0m\u001b[1;33m\u001b[0m\u001b[0m\n\u001b[1;32m--> 443\u001b[1;33m         itemsappend(_parse(source, state, verbose, nested + 1,\n\u001b[0m\u001b[0;32m    444\u001b[0m                            not nested and not items))\n\u001b[0;32m    445\u001b[0m         \u001b[1;32mif\u001b[0m \u001b[1;32mnot\u001b[0m \u001b[0msourcematch\u001b[0m\u001b[1;33m(\u001b[0m\u001b[1;34m\"|\"\u001b[0m\u001b[1;33m)\u001b[0m\u001b[1;33m:\u001b[0m\u001b[1;33m\u001b[0m\u001b[1;33m\u001b[0m\u001b[0m\n",
      "\u001b[1;32mc:\\users\\jacque.trahan\\appdata\\local\\programs\\python\\python39\\lib\\sre_parse.py\u001b[0m in \u001b[0;36m_parse\u001b[1;34m(source, state, verbose, nested, first)\u001b[0m\n\u001b[0;32m    834\u001b[0m             \u001b[0mp\u001b[0m \u001b[1;33m=\u001b[0m \u001b[0m_parse_sub\u001b[0m\u001b[1;33m(\u001b[0m\u001b[0msource\u001b[0m\u001b[1;33m,\u001b[0m \u001b[0mstate\u001b[0m\u001b[1;33m,\u001b[0m \u001b[0msub_verbose\u001b[0m\u001b[1;33m,\u001b[0m \u001b[0mnested\u001b[0m \u001b[1;33m+\u001b[0m \u001b[1;36m1\u001b[0m\u001b[1;33m)\u001b[0m\u001b[1;33m\u001b[0m\u001b[1;33m\u001b[0m\u001b[0m\n\u001b[0;32m    835\u001b[0m             \u001b[1;32mif\u001b[0m \u001b[1;32mnot\u001b[0m \u001b[0msource\u001b[0m\u001b[1;33m.\u001b[0m\u001b[0mmatch\u001b[0m\u001b[1;33m(\u001b[0m\u001b[1;34m\")\"\u001b[0m\u001b[1;33m)\u001b[0m\u001b[1;33m:\u001b[0m\u001b[1;33m\u001b[0m\u001b[1;33m\u001b[0m\u001b[0m\n\u001b[1;32m--> 836\u001b[1;33m                 raise source.error(\"missing ), unterminated subpattern\",\n\u001b[0m\u001b[0;32m    837\u001b[0m                                    source.tell() - start)\n\u001b[0;32m    838\u001b[0m             \u001b[1;32mif\u001b[0m \u001b[0mgroup\u001b[0m \u001b[1;32mis\u001b[0m \u001b[1;32mnot\u001b[0m \u001b[1;32mNone\u001b[0m\u001b[1;33m:\u001b[0m\u001b[1;33m\u001b[0m\u001b[1;33m\u001b[0m\u001b[0m\n",
      "\u001b[1;31merror\u001b[0m: missing ), unterminated subpattern at position 0"
     ]
    }
   ],
   "source": [
    "re.compile(r'(\\(Parentheses\\)')"
   ]
  },
  {
   "cell_type": "markdown",
   "id": "78b35f9b",
   "metadata": {},
   "source": [
    "***error: missing ), unterminated subpattern at position 0***\n",
    "\n",
    "The above erros tells us tha there is an openinf parenthesis at the index 0 of the r'(\\(Parentheses\\)' string that is missing its correspning closing parenthesis."
   ]
  },
  {
   "cell_type": "markdown",
   "id": "fbec32a0",
   "metadata": {},
   "source": [
    "# Mathing Multiple Groups with the pipe\n",
    "the \" | \" character is called a ***pipe***\n",
    "* the pipe \"|\" can be used anywhere you want to match one of many expressions\n",
    "***example:***\n",
    "r'Batman|Tina Fey' will match either 'Batman' or 'Tina Fey'\n",
    "\n",
    "When both Batman and Tina Fey are in the same string only teh first occurance of matching text will be returned as the matching object."
   ]
  },
  {
   "cell_type": "code",
   "execution_count": null,
   "id": "5d635ed4",
   "metadata": {},
   "outputs": [],
   "source": [
    "heroRegex = re.compile(r'Batman|Tina Fey')\n",
    "mo5 = heroRegex.search('Batman and Tina Fey')\n",
    "mo5.group()"
   ]
  },
  {
   "cell_type": "code",
   "execution_count": null,
   "id": "f4cd4fc2",
   "metadata": {},
   "outputs": [],
   "source": [
    "mo6 = heroRegex.search('Tina Fey and Batman')\n",
    "mo6.group()"
   ]
  },
  {
   "cell_type": "markdown",
   "id": "a65f0b46",
   "metadata": {},
   "source": [
    "We can finall all mataching occurances by useing .findall() method"
   ]
  },
  {
   "cell_type": "code",
   "execution_count": null,
   "id": "c7c3325f",
   "metadata": {},
   "outputs": [],
   "source": [
    "mo7 = heroRegex.findall(\"Batman and Tina Fey\")\n",
    "mo7"
   ]
  },
  {
   "cell_type": "markdown",
   "id": "1b6920cf",
   "metadata": {},
   "source": [
    "There is a way to find matchs using part of word for everything that goes with it.\n",
    "\n",
    "for example batman, batmobile, batcoper, batbat"
   ]
  },
  {
   "cell_type": "code",
   "execution_count": null,
   "id": "62092fae",
   "metadata": {},
   "outputs": [],
   "source": [
    "batRegex = re.compile(r'bat(man|mobile|coper|bat)')\n",
    "mo8 = batRegex.search('batmobile lost a whell')\n",
    "mo8.group()"
   ]
  },
  {
   "cell_type": "code",
   "execution_count": null,
   "id": "28d5c849",
   "metadata": {},
   "outputs": [],
   "source": [
    "mo8.group(1)"
   ]
  },
  {
   "cell_type": "markdown",
   "id": "a8212c47",
   "metadata": {},
   "source": [
    "# Optional MAtching with the Question Mark\n",
    "The \"?\" character flags the group the ***precedes*** the question mark as an optional part of the pattern.\n",
    "* We can think of the ? as saying: Match zero or one of the group preceding this question mark."
   ]
  },
  {
   "cell_type": "code",
   "execution_count": null,
   "id": "96859174",
   "metadata": {},
   "outputs": [],
   "source": [
    "batRegex2 = re.compile(r'bat(wo)?man')\n",
    "mo9 = batRegex2.search('The adventures of batman')\n",
    "mo9.group()"
   ]
  },
  {
   "cell_type": "code",
   "execution_count": null,
   "id": "3c6d9aa2",
   "metadata": {},
   "outputs": [],
   "source": [
    "mo10 = batRegex2.search('The adventures of batwoman')\n",
    "mo10.group()"
   ]
  },
  {
   "cell_type": "markdown",
   "id": "fb15ed2d",
   "metadata": {},
   "source": [
    "Marke the area code of a number optional from our previous exampeles:"
   ]
  },
  {
   "cell_type": "code",
   "execution_count": null,
   "id": "04c8b2cf",
   "metadata": {},
   "outputs": [],
   "source": [
    "phoneRegexArea = re.compile(r'(\\d\\d\\d-)?\\d\\d\\d-\\d\\d\\d\\d')\n",
    "mo11 = phoneRegexArea.search('My number is 123-555-1234')\n",
    "mo11.group()"
   ]
  },
  {
   "cell_type": "code",
   "execution_count": null,
   "id": "252961ad",
   "metadata": {},
   "outputs": [],
   "source": [
    "mo12 = phoneRegexArea.search('My number is 555-1234')\n",
    "mo12.group()"
   ]
  },
  {
   "cell_type": "markdown",
   "id": "ac401480",
   "metadata": {},
   "source": [
    "# Matching zero or more with a star '*'\n",
    "The '*' (called the star or asterisk) means: match zero or more--The group that ***precedes*** the star can occure any number of times in the text."
   ]
  },
  {
   "cell_type": "code",
   "execution_count": null,
   "id": "819d1ef7",
   "metadata": {},
   "outputs": [],
   "source": [
    "batRegexStar = re.compile(r'Bat(wo)*man')\n",
    "mo13 = batRegexStar.search('The Adventures of Batman')\n",
    "mo13.group()"
   ]
  },
  {
   "cell_type": "code",
   "execution_count": null,
   "id": "48b051f3",
   "metadata": {},
   "outputs": [],
   "source": [
    "mo14 = batRegexStar.search('The Adventures of Batwoman')\n",
    "mo14.group()"
   ]
  },
  {
   "cell_type": "code",
   "execution_count": null,
   "id": "55c9638b",
   "metadata": {},
   "outputs": [],
   "source": [
    "mo15 = batRegexStar.search('The adventures of Batwowowowowowoman')\n",
    "mo15.group()"
   ]
  },
  {
   "cell_type": "markdown",
   "id": "6c8246ab",
   "metadata": {},
   "source": [
    "# Matching One or more with the plus\n",
    "The '+' means to match one or more\n",
    "unlike the start which does not require its group to appear in the matched string, the group preceding a plus '+' sign ***must appear at least once. Not optional***"
   ]
  },
  {
   "cell_type": "code",
   "execution_count": null,
   "id": "63d694d2",
   "metadata": {},
   "outputs": [],
   "source": [
    "batRegexPlus = re.compile(r'Bat(wo)+man')\n",
    "mo16 = batRegexPlus.search('The Adventure os Batwoman')\n",
    "mo16.group()"
   ]
  },
  {
   "cell_type": "code",
   "execution_count": null,
   "id": "7e884297",
   "metadata": {},
   "outputs": [],
   "source": [
    "mo17 = batRegexPlus.search('The Adventures of Batwowowowowoman')\n",
    "mo17.group()"
   ]
  },
  {
   "cell_type": "code",
   "execution_count": null,
   "id": "7f859a00",
   "metadata": {},
   "outputs": [],
   "source": [
    "mo18 = batRegexPlus.search('The Adventues of Batman')\n",
    "mo18 == None"
   ]
  },
  {
   "cell_type": "markdown",
   "id": "08c1ed5b",
   "metadata": {},
   "source": [
    "# Matching Specific Repetitions with Brace\n",
    "{} will match a spefic number of times for the value before it. Example:\n",
    "(ha){3} eould match hahaha but not haha because ha did not have 3 toegeher ad haha only has two.\n",
    "\n",
    "If we need a range we can do so by adding a comma. and the the max number needed. Example:\n",
    "(ha){3,5} will match a mine of three hahaha but will also match hahahaha or hahahahaha \n",
    "\n",
    "or\n",
    "we could do {3, } and this woul match a min of 3 and up\n",
    "\n",
    "vs\n",
    "{ , 5} would match a min of one but no more than 5"
   ]
  },
  {
   "cell_type": "code",
   "execution_count": null,
   "id": "00079d48",
   "metadata": {},
   "outputs": [],
   "source": [
    "haRegex = re.compile(r'(Ha){3}')\n",
    "mo19 = haRegex.search('HaHaHa')\n",
    "mo19.group()"
   ]
  },
  {
   "cell_type": "code",
   "execution_count": null,
   "id": "efee1b75",
   "metadata": {},
   "outputs": [],
   "source": [
    "mo20 = haRegex.search('Ha')\n",
    "mo20 == None"
   ]
  },
  {
   "cell_type": "markdown",
   "id": "91e9d69c",
   "metadata": {},
   "source": [
    "# Greedy and non-Greedy Matching\n",
    "Pythons RE are greedy by default meaning that in ambiguous situatuons they will match the longest string possiable.\n",
    "\n",
    "The ***non-Greedy*** (also called lazy) version of the braces, which matches the shortest string possible, has a closing brace followed by a question mark."
   ]
  },
  {
   "cell_type": "code",
   "execution_count": null,
   "id": "f10c198c",
   "metadata": {},
   "outputs": [],
   "source": [
    "greedyRegex = re.compile(r'(Ha){3,5}')\n",
    "mo21 = greedyRegex.search(\"HaHaHaHaHa\")\n",
    "mo21.group()"
   ]
  },
  {
   "cell_type": "code",
   "execution_count": null,
   "id": "2de8035d",
   "metadata": {},
   "outputs": [],
   "source": [
    "nongreedyRegex = re.compile(r'(Ha){3,5}?')\n",
    "mo22 = nongreedyRegex.search(\"HaHaHaHaHa\")\n",
    "mo22.group()"
   ]
  },
  {
   "cell_type": "markdown",
   "id": "09f561bd",
   "metadata": {},
   "source": [
    "# Note\n",
    "The a question mark can have two meaning in regular expressions: ***declaring non-greedy match*** or ***flagging an optional group. (zero or 1)***"
   ]
  },
  {
   "cell_type": "markdown",
   "id": "098ca2d1",
   "metadata": {},
   "source": [
    "# The findall() Method\n",
    "method will return the strings of every match in the searched string"
   ]
  },
  {
   "cell_type": "code",
   "execution_count": null,
   "id": "88f67721",
   "metadata": {},
   "outputs": [],
   "source": [
    "# using .search()\n",
    "# returns a Match object only on the first instance of matching text\n",
    "phoneNumRegex = re.compile(r'\\d\\d\\d-\\d\\d\\d-\\d\\d\\d\\d')\n",
    "mo23 = phoneNumRegex.search('Cell: 415-555-9999 Work: 212-555-0000')\n",
    "mo23.group()"
   ]
  },
  {
   "cell_type": "code",
   "execution_count": null,
   "id": "b9d09830",
   "metadata": {},
   "outputs": [],
   "source": [
    "# using findall()\n",
    "# will not return a Match object but a list of strings—as long as there are no groups in the regular expression.\n",
    "phoneFNumRegex = re.compile(r'(\\d\\d\\d)-(\\d\\d\\d)-(\\d\\d\\d\\d)') # has groups\n",
    "phoneFNumRegex.findall('Cell: 415-555-9999 Work: 212-555-9990')"
   ]
  },
  {
   "cell_type": "code",
   "execution_count": null,
   "id": "aa3760ee",
   "metadata": {},
   "outputs": [],
   "source": [
    "phoneFNumRegex2 = re.compile(r'\\d\\d\\d-\\d\\d\\d-\\d\\d\\d\\d') # has no groups\n",
    "phoneFNumRegex2.findall('Cell: 415-555-9999 Work: 212-555-9990')"
   ]
  },
  {
   "cell_type": "markdown",
   "id": "527ff640",
   "metadata": {},
   "source": [
    "### To summarize what the findall() method returns, remember the following:\n",
    "\n",
    "* When called on a regex with no groups, such as \\d\\d\\d-\\d\\d\\d-\\d\\d\\d\\d, the method findall() returns a ***list of string matches***, such as ['415-555-9999', '212-555-0000'].\n",
    "* When called on a regex that has groups, such as (\\d\\d\\d)-(\\d\\d\\d)-(\\d\\d\\d\\d), the method findall() returns a ***list of tuples of strings*** (one string for each group), such as [('415', '555', '9999'), ('212', '555', '0000')]."
   ]
  },
  {
   "cell_type": "markdown",
   "id": "02ae5c0b",
   "metadata": {},
   "source": [
    "# Character Classes\n",
    "In the earlier phone number regex example, you learned that \\d could stand for any numeric digit. That is, \\d is shorthand for the regular expression (0|1|2|3|4|5|6|7|8|9). There are many such shorthand character classes, as shown in Table 7-1."
   ]
  },
  {
   "cell_type": "markdown",
   "id": "4183fb1d",
   "metadata": {},
   "source": [
    "Table 7-1: Shorthand Codes for Common Character Classes\n",
    "\n",
    "Shorthand character class\n",
    "\n",
    "Represents\n",
    "\n",
    "***\\d*** -------> Any numeric digit from 0 to 9.\n",
    "\n",
    "***\\D*** -------> Any character that is ***NOT*** a numeric digit from 0 to 9.\n",
    "\n",
    "***\\w*** -------> Any letter, numeric digit, or the underscore character. (Think of this as matching “word” characters.)\n",
    "\n",
    "***\\W*** -------> Any character that is ***NOT*** a letter, numeric digit, or the underscore character.\n",
    "\n",
    "***\\s*** -------> Any space, tab, or newline character. (Think of this as matching “space” characters.)\n",
    "\n",
    "***\\S*** -------> Any character that is ***NOT*** a space, tab, or newline.\n",
    "\n",
    "\n",
    "Character classes are nice for shortening regular expressions. The character class [0-5] will match only the numbers 0 to 5; this is much shorter than typing (0|1|2|3|4|5). Note that while \\d matches digits and \\w matches digits, letters, and the underscore, there is no shorthand character class that matches only letters. (Though you can use the [a-zA-Z] character class, as explained next.)\n"
   ]
  },
  {
   "cell_type": "code",
   "execution_count": null,
   "id": "8255ed29",
   "metadata": {},
   "outputs": [],
   "source": [
    "xmasRegex = re.compile(r'\\d\\s\\w+')\n",
    "xmasRegex.findall(\"12 drummers, 11 pipers, 10 lords, 9 ladies, 8 maids, 7 swans, 6 geese, 5 rings, 4 bird, 3 hens, 2 doves, 1 partridge\")"
   ]
  },
  {
   "cell_type": "markdown",
   "id": "dc01882a",
   "metadata": {},
   "source": [
    "#### What above is doing:\n",
    "* The regular expression \\d+\\s\\w+ will match text that has one or more numeric digits (\\d+), \n",
    "* followed by a whitespace character (\\s), \n",
    "* followed by one or more letter/digit/underscore characters (\\w+). \n",
    "* The findall() method returns all matching strings of the regex pattern in a list."
   ]
  },
  {
   "cell_type": "markdown",
   "id": "20c7b7be",
   "metadata": {},
   "source": [
    "# Making Your Own Character Classes\n",
    "There are times when you want to match a set of characters but the shorthand character classes (\\d, \\w, \\s, and so on) are too broad. \n",
    "\n",
    "You can define your own character class using square brackets. For example, the character ***class [aeiouAEIOU]*** will match any vowel, both lowercase and uppercase"
   ]
  },
  {
   "cell_type": "code",
   "execution_count": null,
   "id": "3ce2dfbd",
   "metadata": {},
   "outputs": [],
   "source": [
    "vowelRegex = re.compile(r'[aeiouAEIOU]')\n",
    "vowelRegex.findall(\"RoboCop easts baby food. BABYFOOD\")"
   ]
  },
  {
   "cell_type": "markdown",
   "id": "283b7430",
   "metadata": {},
   "source": [
    "You can also include ranges of letters or numbers by using a hyphen. \n",
    "\n",
    "For example, the character ***class [a-zA-Z0-9]*** will match all lowercase letters, uppercase letters, and numbers.\n",
    "\n",
    "Note that inside the square brackets, the normal regular expression symbols are not interpreted as such. This means you do not need to escape the ., *, ?, or () characters with a preceding backslash. For example, ***the character class [0-5.] will match digits 0 to 5 and a period. You do not need to write it as [0-5\\.].***\n",
    "\n",
    "By placing a caret character (^) just after the character class’s opening bracket, you can make a negative character class. \n",
    "***A negative character class will match all the characters that are not in the character class.***"
   ]
  },
  {
   "cell_type": "markdown",
   "id": "e7c0e022",
   "metadata": {},
   "source": [
    "By placing a ***caret character*** (^) just after the character class’s opening bracket, you can make a ***negative character*** class.\n",
    "\n",
    "* A negative character class will match all the characters that are not in the character class"
   ]
  },
  {
   "cell_type": "code",
   "execution_count": null,
   "id": "1f4118a6",
   "metadata": {},
   "outputs": [],
   "source": [
    "consonsantRegex = re.compile(r'[^aeiouAEIOU]')\n",
    "consonsantRegex.findall('RoboCop eats babyfood. BABYFOOD')\n",
    "# Now, instead of matching every vowel, we’re matching every character that isn’t a vowel."
   ]
  },
  {
   "cell_type": "markdown",
   "id": "82290aa2",
   "metadata": {},
   "source": [
    "# The Caret and Dollar Sign Characters\n",
    "You can also use the caret symbol (^) at the start of a regex to indicate that a match ***must occur at the beginning of the searched text***. \n",
    "\n",
    "Likewise, you can put a dollar sign ($) at the end of the regex to indicate the ***string must end with this regex pattern.*** \n",
    "\n",
    "And\n",
    "\n",
    "You can use the ^ and $ together to indicate that the ***entire string must match the regex—that is, it’s not enough for a match to be made on some subset of the string.***\n",
    "\n",
    "* For example, the r'^Hello' regular expression string matches strings that begin with 'Hello'."
   ]
  },
  {
   "cell_type": "code",
   "execution_count": null,
   "id": "fc7b2ad9",
   "metadata": {},
   "outputs": [],
   "source": [
    "beginsWithHello = re.compile(r'^Hello')\n",
    "begin = beginsWithHello.search('Hello, world!')\n",
    "begin.group()"
   ]
  },
  {
   "cell_type": "markdown",
   "id": "50229590",
   "metadata": {},
   "source": [
    "The ***r'\\d$'*** regular expression string matches strings that end with a numeric character from 0 to 9"
   ]
  },
  {
   "cell_type": "code",
   "execution_count": null,
   "id": "c4e8a754",
   "metadata": {},
   "outputs": [],
   "source": [
    "endsWithNum = re.compile(r'\\d$')\n",
    "ends = endsWithNum.search('Your number is 42')\n",
    "ends.group()"
   ]
  },
  {
   "cell_type": "code",
   "execution_count": null,
   "id": "b9980fd2",
   "metadata": {},
   "outputs": [],
   "source": [
    "endsWithNum = re.compile(r'\\d$')\n",
    "ends = endsWithNum.search('Your number is forty two')\n",
    "ends == None"
   ]
  },
  {
   "cell_type": "markdown",
   "id": "8c210c2b",
   "metadata": {},
   "source": [
    "The ***r'^\\d+$'*** regular expression string matches strings that both begin and end with one or more numeric characters"
   ]
  },
  {
   "cell_type": "code",
   "execution_count": null,
   "id": "26053824",
   "metadata": {},
   "outputs": [],
   "source": [
    "wholeNumString = re.compile(r'\\d+$')\n",
    "wholeNum = wholeNumString.search('1234567890')\n",
    "wholeNum.group()"
   ]
  },
  {
   "cell_type": "code",
   "execution_count": null,
   "id": "071dd0a5",
   "metadata": {},
   "outputs": [],
   "source": [
    "wholeNumString2 = re.compile(r'\\d+$')\n",
    "wholeNum2 = wholeNumString2.search('12 3456 789 0')\n",
    "wholeNum2.group()"
   ]
  },
  {
   "cell_type": "code",
   "execution_count": null,
   "id": "71815efe",
   "metadata": {},
   "outputs": [],
   "source": [
    "wholeNumString3 = re.compile(r'\\d+$')\n",
    "wholeNum3 = wholeNumString3.search('123456xyz7890')\n",
    "wholeNum3.group()"
   ]
  },
  {
   "cell_type": "markdown",
   "id": "2f9461e2",
   "metadata": {},
   "source": [
    "The last two search() calls in the previous interactive shell example demonstrate how the entire string must match the regex if ^ and $ are used.\n",
    "\n",
    "I always confuse the meanings of these two symbols, so I use the mnemonic ***“Carrots cost dollars”*** to remind myself that the ***caret comes first and the dollar sign comes last***"
   ]
  },
  {
   "cell_type": "markdown",
   "id": "ad958c37",
   "metadata": {},
   "source": [
    "# The Wildcard Character\n",
    "The ***. (or dot)*** character in a regular expression is called a wildcard and will match any character except for a newline"
   ]
  },
  {
   "cell_type": "code",
   "execution_count": null,
   "id": "fab59df3",
   "metadata": {},
   "outputs": [],
   "source": [
    "dotRegex = re.compile(r'.at')\n",
    "dotIt = dotRegex.search('The cat in the hat sat on a flat mat')\n",
    "dotIt.group()"
   ]
  },
  {
   "cell_type": "code",
   "execution_count": null,
   "id": "e1ab09b5",
   "metadata": {},
   "outputs": [],
   "source": [
    "dotRegex = re.compile(r'.at')\n",
    "dotRegex.findall('The cat in the hat sat on a flat mat')\n"
   ]
  },
  {
   "cell_type": "markdown",
   "id": "025ce089",
   "metadata": {},
   "source": [
    "Remember that the dot character will match just one character, which is why the match for the text flat in the previous example matched only lat. To match an actual dot, escape the dot with a backslash: \\..\n",
    "\n",
    "* Also seems like if we do it by group we only get the first match"
   ]
  },
  {
   "cell_type": "markdown",
   "id": "9adf9b55",
   "metadata": {},
   "source": [
    "# Matching Everything with Dot-Star\n",
    "dot-star (.*) to stand in for that “anything.” Remember that the \n",
    "* dot character means “any single character except the newline,” \n",
    "\n",
    "and the \n",
    "* star character means “zero or more of the preceding character.”"
   ]
  },
  {
   "cell_type": "code",
   "execution_count": null,
   "id": "35a47841",
   "metadata": {},
   "outputs": [],
   "source": [
    "nameRegex = re.compile(r'First Name:(.*) Last Name:(.*)')\n",
    "name = nameRegex.search('First Name: JQT Last Name: S')\n",
    "name.group()"
   ]
  },
  {
   "cell_type": "code",
   "execution_count": null,
   "id": "f4b222ad",
   "metadata": {},
   "outputs": [],
   "source": [
    "nameRegex2 = re.compile(r'First Name:?(.*) Last Name:?(.*)')\n",
    "name2 = nameRegex2.search('First Name: JQT Last Name S')\n",
    "name2.group()"
   ]
  },
  {
   "cell_type": "markdown",
   "id": "84e315f7",
   "metadata": {},
   "source": [
    "The dot-star uses greedy mode: It will always try to match as much text as possible. To match any and all text in a non-greedy fashion, use the dot, star, and question mark (.*?). \n",
    "\n",
    "Like with braces, the question mark tells Python to match in a non-greedy way"
   ]
  },
  {
   "cell_type": "code",
   "execution_count": null,
   "id": "91c5b175",
   "metadata": {},
   "outputs": [],
   "source": [
    "notGreedyRegex = re.compile(r'<.*?>')\n",
    "notGreed = notGreedyRegex.search('<To serve man> for dinner.>')\n",
    "notGreed.group()"
   ]
  },
  {
   "cell_type": "code",
   "execution_count": null,
   "id": "7e6e94a3",
   "metadata": {},
   "outputs": [],
   "source": [
    "GreedyRegex2 = re.compile(r'<.*>')\n",
    "Greed2 = GreedyRegex2.search('<To serve man> for dinner.>')\n",
    "Greed2.group()"
   ]
  },
  {
   "cell_type": "markdown",
   "id": "42d41cdc",
   "metadata": {},
   "source": [
    "Both regexes roughly translate to “Match an opening angle bracket, followed by anything, followed by a closing angle bracket.” But the string '<To serve man> for dinner.>' has two possible matches for the closing angle bracket. \n",
    "    \n",
    "* In the non-greedy version of the regex, Python matches the shortest possible string: '<To serve man>'.\n",
    "    \n",
    "* In the greedy version, Python matches the longest possible string: '<To serve man> for dinner.>'."
   ]
  },
  {
   "cell_type": "markdown",
   "id": "e6ef5dbb",
   "metadata": {},
   "source": [
    "# Matching Newlines with the Dot Character\n",
    "The dot-star will match everything except a newline. By passing re.DOTALL as the second argument to re.compile(), you can make the dot character match all characters, including the newline character."
   ]
  },
  {
   "cell_type": "code",
   "execution_count": null,
   "id": "20a0ed0e",
   "metadata": {},
   "outputs": [],
   "source": [
    "noNewLineRegex = re.compile('.*')\n",
    "NoNewLines = noNewLineRegex.search('Serve the public Trust. \\n Protect the innocent. \\n Uphold the law.')\n",
    "NoNewLines.group()"
   ]
  },
  {
   "cell_type": "code",
   "execution_count": null,
   "id": "80e54df9",
   "metadata": {},
   "outputs": [],
   "source": [
    "NewLineRegex = re.compile('.*', re.DOTALL)\n",
    "NewLines = NewLineRegex.search('Serve the public Trust. \\n Protect the innocent. \\n Uphold the law.')\n",
    "NewLines.group()"
   ]
  },
  {
   "cell_type": "markdown",
   "id": "b81d4a1e",
   "metadata": {},
   "source": [
    "* The regex noNewlineRegex, which did not have re.DOTALL passed to the re.compile() call that created it, will match everything only up to the first newline character, \n",
    "\n",
    "whereas \n",
    "\n",
    "* newlineRegex, which did have re.DOTALL passed to re.compile(), matches everything. This is why the newlineRegex.search() call matches the full string, including its newline characters"
   ]
  },
  {
   "cell_type": "markdown",
   "id": "4b27a6bc",
   "metadata": {},
   "source": [
    "# Review of Regex Symbols"
   ]
  },
  {
   "cell_type": "markdown",
   "id": "e08f305d",
   "metadata": {},
   "source": [
    "* The ? matches zero or one of the preceding group.\n",
    "* The * matches zero or more of the preceding group.\n",
    "* The + matches one or more of the preceding group.\n",
    "* The {n} matches exactly n of the preceding group.\n",
    "* The {n,} matches n or more of the preceding group.\n",
    "* The {,m} matches 0 to m of the preceding group.\n",
    "* The {n,m} matches at least n and at most m of the preceding group.\n",
    "* {n,m}? or *? or +? performs a non-greedy match of the preceding group.\n",
    "* ^spam means the string must begin with spam.\n",
    "* spam$ means the string must end with spam.\n",
    "* The . matches any character, except newline characters.\n",
    "* \\d, \\w, and \\s match a digit, word, or space character, respectively.\n",
    "* \\D, \\W, and \\S match anything except a digit, word, or space character, respectively.\n",
    "* [abc] matches any character between the brackets (such as a, b, or c).\n",
    "* [^abc] matches any character that isn’t between the brackets."
   ]
  },
  {
   "cell_type": "markdown",
   "id": "6255f793",
   "metadata": {},
   "source": [
    "# Case-Insensitive Matching\n",
    "Normally, regular expressions match text with the exact casing you specify. For example, the following regexes match completely different strings\n",
    "\n",
    "But sometimes you care only about matching the letters without worrying whether they’re uppercase or lowercase. To make your regex case-insensitive, you can pass ***re.IGNORECASE or re.I*** as a second argument to re.compile()"
   ]
  },
  {
   "cell_type": "code",
   "execution_count": null,
   "id": "3c2505fe",
   "metadata": {},
   "outputs": [],
   "source": [
    "robocop = re.compile(r'robocop', re.I)\n",
    "robocop.search('Robocop is part man, part machine, all cop').group()"
   ]
  },
  {
   "cell_type": "code",
   "execution_count": null,
   "id": "9c546cb0",
   "metadata": {},
   "outputs": [],
   "source": [
    "robocop2 = re.compile(r'robocop', re.I)\n",
    "robocop2.search('ROBOCOP is part man, part machine, all cop').group()"
   ]
  },
  {
   "cell_type": "code",
   "execution_count": null,
   "id": "ab3cf500",
   "metadata": {},
   "outputs": [],
   "source": [
    "robocop3 = re.compile(r'robocop', re.I)\n",
    "robocop3.search('Al, why does your programing talk about robocop so much?').group()"
   ]
  },
  {
   "cell_type": "markdown",
   "id": "e5f1c52b",
   "metadata": {},
   "source": [
    "# Substituting Strings with the sub() Method\n",
    "Regular expressions can not only find text patterns but can also substitute new text in place of those patterns. \n",
    "\n",
    "* The sub() method for Regex objects is passed two arguments. \n",
    "\n",
    "The first argument is a string to replace any matches. The second is the string for the regular expression. The sub() method returns a string with the substitutions applied."
   ]
  },
  {
   "cell_type": "code",
   "execution_count": null,
   "id": "d9e8a1e5",
   "metadata": {},
   "outputs": [],
   "source": [
    "subRegex = re.compile(r'Agent \\w+')\n",
    "subRegex.sub('CENSORED', 'Agent Alice gave the secret documents to Agent Bob')"
   ]
  },
  {
   "cell_type": "markdown",
   "id": "08aac0d5",
   "metadata": {},
   "source": [
    "Sometimes you may need to use the matched text itself as part of the substitution. In the first argument to sub(), you can type \\1, \\2, \\3, and so on, to mean “Enter the text of group 1, 2, 3, and so on, in the substitution.”\n",
    "\n",
    "For example, say you want to censor the names of the secret agents by showing just the first letters of their names. To do this, you could use the regex Agent (\\w)\\w* and pass r'\\1****' as the first argument to sub(). The \\1 in that string will be replaced by whatever text was matched by group 1—that is, the (\\w) group of the regular expression."
   ]
  },
  {
   "cell_type": "code",
   "execution_count": null,
   "id": "36f389ae",
   "metadata": {},
   "outputs": [],
   "source": [
    "sub1Regex = re.compile(r'Agent (\\w)\\w*')\n",
    "sub1Regex.sub(r'\\1****', 'Agent Alice told Agent Carol that Agent Eve knew Agent Bob was a double agent')"
   ]
  },
  {
   "cell_type": "markdown",
   "id": "7c40ca31",
   "metadata": {},
   "source": [
    "# Managing Complex Regexes\n",
    "Regular expressions are fine if the text pattern you need to match is simple. But matching complicated text patterns might require long, convoluted regular expressions. You can mitigate this by telling the re.compile() function to ignore whitespace and comments inside the regular expression string. This ***“verbose mode”*** can be enabled by passing the variable ***re.VERBOSE*** as the second argument to re.compile()."
   ]
  },
  {
   "cell_type": "markdown",
   "id": "371a7bf3",
   "metadata": {},
   "source": [
    "##### Why is is important:\n",
    "Now instead of a hard-to-read regular expression like this:\n",
    "\n",
    "phoneRegex = re.compile(r'((\\d{3}|\\(\\d{3}\\))?(\\s|-|\\.)?\\d{3}(\\s|-|\\.)\\d{4}\n",
    "(\\s*(ext|x|ext.)\\s*\\d{2,5})?)')\n",
    "\n",
    "you can spread the regular expression over multiple lines with comments like this:\n",
    "\n",
    "phoneRegex = re.compile(r'''(\n",
    "\n",
    "    (\\d{3}|\\(\\d{3}\\))?   # area code\n",
    "    \n",
    "    (\\s|-|\\.)?   # separator\n",
    "    \n",
    "    \\d{3}  # first 3 digits\n",
    "    \n",
    "    (\\s|-|\\.)   # separator\n",
    "    \n",
    "    \\d{4}  # last 4 digits\n",
    "    \n",
    "    (\\s*(ext|x|ext.)\\s*\\d{2,5})?  # extension\n",
    "    \n",
    "    )''', re.VERBOSE)"
   ]
  },
  {
   "cell_type": "markdown",
   "id": "c9d5735a",
   "metadata": {},
   "source": [
    "Note how the previous example uses the triple-quote syntax (''') to create a multiline string so that you can spread the regular expression definition over many lines, making it much more legible.\n",
    "\n",
    "The comment rules inside the regular expression string are the same as regular Python code: the # symbol and everything after it to the end of the line are ignored. Also, the extra spaces inside the multiline string for the regular expression are not considered part of the text pattern to be matched. This lets you organize the regular expression so it’s easier to read."
   ]
  },
  {
   "cell_type": "markdown",
   "id": "04fca07f",
   "metadata": {},
   "source": [
    "# Combining re.IGNORECASE, re.DOTALL, and re.VERBOSE\n",
    "\n",
    "What if you want to use re.VERBOSE to write comments in your regular expression but also want to use re.IGNORECASE to ignore capitalization? Unfortunately, the re.compile() function takes only a single value as its second argument. You can get around this limitation by combining the re.IGNORECASE, re.DOTALL, and re.VERBOSE variables using the pipe character (|), which in this context is known as the bitwise or operator.\n",
    "\n",
    "So if you want a regular expression that’s case-insensitive and includes newlines to match the dot character:"
   ]
  },
  {
   "cell_type": "markdown",
   "id": "f35c1086",
   "metadata": {},
   "source": [
    "***someRegexValue = re.compile(r'foo', re.IGNORCASE|re.DOTALL|re.VERBOSE)***"
   ]
  },
  {
   "cell_type": "markdown",
   "id": "e4d5cad9",
   "metadata": {},
   "source": [
    "This syntax is a little old-fashioned and originates from early versions of Python. The details of the bitwise operators are beyond the scope of this book, but check out the resources at https://nostarch.com/automatestuff2/ for more information. You can also pass other options for the second argument; they’re uncommon, but you can read more about them in the resources, too."
   ]
  },
  {
   "cell_type": "code",
   "execution_count": null,
   "id": "d56f30c4",
   "metadata": {},
   "outputs": [],
   "source": []
  }
 ],
 "metadata": {
  "kernelspec": {
   "display_name": "Python 3",
   "language": "python",
   "name": "python3"
  },
  "language_info": {
   "codemirror_mode": {
    "name": "ipython",
    "version": 3
   },
   "file_extension": ".py",
   "mimetype": "text/x-python",
   "name": "python",
   "nbconvert_exporter": "python",
   "pygments_lexer": "ipython3",
   "version": "3.9.4"
  }
 },
 "nbformat": 4,
 "nbformat_minor": 5
}
