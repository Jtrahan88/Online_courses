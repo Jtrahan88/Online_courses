{
 "cells": [
  {
   "cell_type": "code",
   "execution_count": 12,
   "id": "9363245f",
   "metadata": {},
   "outputs": [],
   "source": [
    "import openpyxl"
   ]
  },
  {
   "cell_type": "code",
   "execution_count": 14,
   "id": "c377c417",
   "metadata": {},
   "outputs": [
    {
     "data": {
      "text/plain": [
       "<openpyxl.workbook.workbook.Workbook at 0x1347405ff10>"
      ]
     },
     "execution_count": 14,
     "metadata": {},
     "output_type": "execute_result"
    }
   ],
   "source": [
    "wb = openpyxl.load_workbook('Northern Branch Phase II Debris Removal Ops (1).xlsx')\n",
    "wb"
   ]
  },
  {
   "cell_type": "markdown",
   "id": "a95f3b4e",
   "metadata": {},
   "source": [
    "If we know sheet name we want to work on"
   ]
  },
  {
   "cell_type": "code",
   "execution_count": 20,
   "id": "c0da3875",
   "metadata": {},
   "outputs": [
    {
     "data": {
      "text/plain": [
       "<Worksheet \"Northern Branch Phase II Debris\">"
      ]
     },
     "execution_count": 20,
     "metadata": {},
     "output_type": "execute_result"
    }
   ],
   "source": [
    "sheet = wb['Northern Branch Phase II Debris']\n",
    "sheet"
   ]
  },
  {
   "cell_type": "markdown",
   "id": "6c940613",
   "metadata": {},
   "source": [
    "IF we do not know the sheet names"
   ]
  },
  {
   "cell_type": "code",
   "execution_count": 24,
   "id": "6076e4e0",
   "metadata": {},
   "outputs": [
    {
     "data": {
      "text/plain": [
       "['Northern Branch Phase II Debris', 'Comments', 'Summary']"
      ]
     },
     "execution_count": 24,
     "metadata": {},
     "output_type": "execute_result"
    }
   ],
   "source": [
    "wb.sheetnames"
   ]
  },
  {
   "cell_type": "markdown",
   "id": "813228a3",
   "metadata": {},
   "source": [
    "Get a value of a cell"
   ]
  },
  {
   "cell_type": "code",
   "execution_count": 27,
   "id": "ebd0ca8b",
   "metadata": {},
   "outputs": [
    {
     "data": {
      "text/plain": [
       "'APN'"
      ]
     },
     "execution_count": 27,
     "metadata": {},
     "output_type": "execute_result"
    }
   ],
   "source": [
    "cell = sheet['A1']\n",
    "cell.value"
   ]
  },
  {
   "cell_type": "code",
   "execution_count": 28,
   "id": "3f930483",
   "metadata": {},
   "outputs": [
    {
     "data": {
      "text/plain": [
       "'APN'"
      ]
     },
     "execution_count": 28,
     "metadata": {},
     "output_type": "execute_result"
    }
   ],
   "source": [
    "# same as above but without useing a variable\n",
    "str(sheet['A1'].value)"
   ]
  },
  {
   "cell_type": "code",
   "execution_count": 30,
   "id": "8d3ac289",
   "metadata": {},
   "outputs": [
    {
     "data": {
      "text/plain": [
       "'062-130-003-000'"
      ]
     },
     "execution_count": 30,
     "metadata": {},
     "output_type": "execute_result"
    }
   ],
   "source": [
    "str(sheet['A2'].value)"
   ]
  },
  {
   "cell_type": "code",
   "execution_count": 33,
   "id": "719daaba",
   "metadata": {},
   "outputs": [
    {
     "data": {
      "text/plain": [
       "<Cell 'Northern Branch Phase II Debris'.B1>"
      ]
     },
     "execution_count": 33,
     "metadata": {},
     "output_type": "execute_result"
    }
   ],
   "source": [
    "sheet.cell(row=1, column=2)"
   ]
  },
  {
   "cell_type": "code",
   "execution_count": 34,
   "id": "582e10e0",
   "metadata": {},
   "outputs": [
    {
     "data": {
      "text/plain": [
       "'Structural Status'"
      ]
     },
     "execution_count": 34,
     "metadata": {},
     "output_type": "execute_result"
    }
   ],
   "source": [
    "sheet.cell(row=1, column=2).value"
   ]
  },
  {
   "cell_type": "code",
   "execution_count": 35,
   "id": "2cf48259",
   "metadata": {},
   "outputs": [
    {
     "name": "stdout",
     "output_type": "stream",
     "text": [
      "1 Structural Status\n",
      "2 Ready for Tree Operations\n",
      "3 ROE Received\n",
      "4 Ready for Soil Sampling\n",
      "5 Debris Removal in Progress\n",
      "6 Pending Soil Sample Results\n",
      "7 ROE Received\n"
     ]
    }
   ],
   "source": [
    "for i in range(1,8):\n",
    "    print(i, sheet.cell(row=i, column=2).value)"
   ]
  },
  {
   "cell_type": "code",
   "execution_count": null,
   "id": "13d57afd",
   "metadata": {},
   "outputs": [],
   "source": []
  }
 ],
 "metadata": {
  "kernelspec": {
   "display_name": "Python 3",
   "language": "python",
   "name": "python3"
  },
  "language_info": {
   "codemirror_mode": {
    "name": "ipython",
    "version": 3
   },
   "file_extension": ".py",
   "mimetype": "text/x-python",
   "name": "python",
   "nbconvert_exporter": "python",
   "pygments_lexer": "ipython3",
   "version": "3.9.5"
  }
 },
 "nbformat": 4,
 "nbformat_minor": 5
}
