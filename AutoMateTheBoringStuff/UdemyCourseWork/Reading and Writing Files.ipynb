{
 "cells": [
  {
   "cell_type": "markdown",
   "id": "1619abbf",
   "metadata": {},
   "source": [
    "# Reading and Writing Files"
   ]
  },
  {
   "cell_type": "markdown",
   "id": "e3820ffd",
   "metadata": {},
   "source": [
    "We can ask python to created a path to our file by using the os system. This will create apath for any system type to be able to use"
   ]
  },
  {
   "cell_type": "code",
   "execution_count": 3,
   "id": "639bd4f5",
   "metadata": {},
   "outputs": [
    {
     "data": {
      "text/plain": [
       "'folder1\\\\folder 2\\\\folder 3\\\\filename'"
      ]
     },
     "execution_count": 3,
     "metadata": {},
     "output_type": "execute_result"
    }
   ],
   "source": [
    "import os\n",
    "os.path.join('folder1', 'folder 2', 'folder 3', 'filename')"
   ]
  },
  {
   "cell_type": "code",
   "execution_count": 4,
   "id": "34b11680",
   "metadata": {},
   "outputs": [
    {
     "data": {
      "text/plain": [
       "'\\\\'"
      ]
     },
     "execution_count": 4,
     "metadata": {},
     "output_type": "execute_result"
    }
   ],
   "source": [
    "os.sep"
   ]
  },
  {
   "cell_type": "markdown",
   "id": "d9e02a3d",
   "metadata": {},
   "source": [
    "The above os.sep is a function side the os module that allows this to happen"
   ]
  },
  {
   "cell_type": "code",
   "execution_count": null,
   "id": "48f0c785",
   "metadata": {},
   "outputs": [],
   "source": []
  }
 ],
 "metadata": {
  "kernelspec": {
   "display_name": "Python 3",
   "language": "python",
   "name": "python3"
  },
  "language_info": {
   "codemirror_mode": {
    "name": "ipython",
    "version": 3
   },
   "file_extension": ".py",
   "mimetype": "text/x-python",
   "name": "python",
   "nbconvert_exporter": "python",
   "pygments_lexer": "ipython3",
   "version": "3.9.4"
  }
 },
 "nbformat": 4,
 "nbformat_minor": 5
}
