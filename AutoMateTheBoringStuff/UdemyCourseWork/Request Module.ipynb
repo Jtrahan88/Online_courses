{
 "cells": [
  {
   "cell_type": "code",
   "execution_count": 1,
   "id": "1afe87f1",
   "metadata": {},
   "outputs": [],
   "source": [
    "import requests"
   ]
  },
  {
   "cell_type": "markdown",
   "id": "e51a4b14",
   "metadata": {},
   "source": [
    "# Use the request module to download web pages and files"
   ]
  },
  {
   "cell_type": "code",
   "execution_count": 2,
   "id": "39c69674",
   "metadata": {},
   "outputs": [],
   "source": [
    "res = requests.get('https://automatetheboringstuff.com/files/rj.txt') # returns and object"
   ]
  },
  {
   "cell_type": "code",
   "execution_count": 3,
   "id": "e20ef37a",
   "metadata": {},
   "outputs": [
    {
     "data": {
      "text/plain": [
       "200"
      ]
     },
     "execution_count": 3,
     "metadata": {},
     "output_type": "execute_result"
    }
   ],
   "source": [
    "res.status_code # to check if everything went ok. 200 mean we are good"
   ]
  },
  {
   "cell_type": "code",
   "execution_count": 5,
   "id": "c1305716",
   "metadata": {},
   "outputs": [
    {
     "data": {
      "text/plain": [
       "178978"
      ]
     },
     "execution_count": 5,
     "metadata": {},
     "output_type": "execute_result"
    }
   ],
   "source": [
    "len(res.text) # total number of chars in file"
   ]
  },
  {
   "cell_type": "code",
   "execution_count": 10,
   "id": "2d4e13f4",
   "metadata": {},
   "outputs": [
    {
     "name": "stdout",
     "output_type": "stream",
     "text": [
      "The Project Gutenberg EBook of Romeo and Juliet, by William Shakespeare\r\n",
      "\r\n",
      "This eBook is for the use of anyone anywhere at no cost and with\r\n",
      "almost no restrictions whatsoever.  You may copy it, give it away or\r\n",
      "re-use it under the terms of the Project Gutenberg License included\r\n",
      "with this eBook or online at www.gutenberg.org/license\r\n",
      "\r\n",
      "\r\n",
      "Title: Romeo and Juliet\r\n",
      "\r\n",
      "Author: William Shakespeare\r\n",
      "\r\n",
      "Posting Date: May 25, 2012 [EBook #1112]\r\n",
      "Release Date: November, 1997  [Etext #1112]\r\n",
      "\r\n",
      "Language: Eng\n"
     ]
    }
   ],
   "source": [
    "print(res.text[:500]) # this lesson is not doen in jupyter notebooks if we do not use print it looks weird."
   ]
  },
  {
   "cell_type": "code",
   "execution_count": 12,
   "id": "bdef256c",
   "metadata": {},
   "outputs": [],
   "source": [
    "res.raise_for_status() # if download succeeded then nothing will happen. if it did not work and error will be raise"
   ]
  },
  {
   "cell_type": "code",
   "execution_count": 14,
   "id": "1d5e24a5",
   "metadata": {},
   "outputs": [],
   "source": [
    "badres = requests.get('https://automatetheboringstuff.com/alkhdflkashdf/')"
   ]
  },
  {
   "cell_type": "code",
   "execution_count": 16,
   "id": "1b777c36",
   "metadata": {},
   "outputs": [
    {
     "data": {
      "text/plain": [
       "<bound method Response.raise_for_status of <Response [404]>>"
      ]
     },
     "execution_count": 16,
     "metadata": {},
     "output_type": "execute_result"
    }
   ],
   "source": [
    "badres.raise_for_status # will give us a 404 error"
   ]
  },
  {
   "cell_type": "code",
   "execution_count": 17,
   "id": "7662bcc3",
   "metadata": {},
   "outputs": [],
   "source": [
    "playFile = open('RomeoAndJuliet.txt', 'wb')"
   ]
  },
  {
   "cell_type": "markdown",
   "id": "271676e3",
   "metadata": {},
   "source": [
    "# Save file to harddrive"
   ]
  },
  {
   "cell_type": "code",
   "execution_count": 20,
   "id": "8b035d43",
   "metadata": {},
   "outputs": [],
   "source": [
    "for chunck in res.iter_content(100000):\n",
    "    playFile.write(chunck)\n",
    "playFile.close()    "
   ]
  },
  {
   "cell_type": "code",
   "execution_count": null,
   "id": "133b7b8f",
   "metadata": {},
   "outputs": [],
   "source": []
  }
 ],
 "metadata": {
  "kernelspec": {
   "display_name": "Python 3",
   "language": "python",
   "name": "python3"
  },
  "language_info": {
   "codemirror_mode": {
    "name": "ipython",
    "version": 3
   },
   "file_extension": ".py",
   "mimetype": "text/x-python",
   "name": "python",
   "nbconvert_exporter": "python",
   "pygments_lexer": "ipython3",
   "version": "3.9.5"
  }
 },
 "nbformat": 4,
 "nbformat_minor": 5
}
