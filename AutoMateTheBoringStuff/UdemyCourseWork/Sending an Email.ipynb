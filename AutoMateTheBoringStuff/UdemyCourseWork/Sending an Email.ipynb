{
 "cells": [
  {
   "cell_type": "code",
   "execution_count": 1,
   "id": "bc98c203",
   "metadata": {},
   "outputs": [],
   "source": [
    "import smtplib"
   ]
  },
  {
   "cell_type": "markdown",
   "id": "291a7870",
   "metadata": {},
   "source": [
    "# Note\n",
    "Don’t enter this example in IDLE; it won’t work because smtp.example.com, FakeEmailToTestPython@hotmail.com, MY_SECRET_PASSWORD are just placeholders. This code is just an overview of the process of sending email with Python."
   ]
  },
  {
   "cell_type": "markdown",
   "id": "d68cc57a",
   "metadata": {},
   "source": [
    "# Sending Email"
   ]
  },
  {
   "cell_type": "code",
   "execution_count": 2,
   "id": "4baff4e6",
   "metadata": {},
   "outputs": [],
   "source": [
    "test = smtplib.SMTP('smtp-mail.outlook.com', 587) # 587 is smtp settings"
   ]
  },
  {
   "cell_type": "code",
   "execution_count": 3,
   "id": "acae7c88",
   "metadata": {},
   "outputs": [
    {
     "name": "stdout",
     "output_type": "stream",
     "text": [
      "<class 'smtplib.SMTP'>\n"
     ]
    }
   ],
   "source": [
    "print(type(test))"
   ]
  },
  {
   "cell_type": "markdown",
   "id": "4086dc04",
   "metadata": {},
   "source": [
    "# Note\n",
    "If you are not connected to the Internet, Python will raise a socket.gaierror: [Errno 11004] getaddrinfo failed or similar exception"
   ]
  },
  {
   "cell_type": "code",
   "execution_count": 4,
   "id": "78df1f93",
   "metadata": {},
   "outputs": [
    {
     "data": {
      "text/plain": [
       "(250,\n",
       " b'MWHPR14CA0010.outlook.office365.com Hello [208.53.71.170]\\nSIZE 157286400\\nPIPELINING\\nDSN\\nENHANCEDSTATUSCODES\\nSTARTTLS\\n8BITMIME\\nBINARYMIME\\nCHUNKING\\nSMTPUTF8')"
      ]
     },
     "execution_count": 4,
     "metadata": {},
     "output_type": "execute_result"
    }
   ],
   "source": [
    "test.ehlo()"
   ]
  },
  {
   "cell_type": "markdown",
   "id": "83625a4f",
   "metadata": {},
   "source": [
    "# Starting TLS Encryption\n",
    "If you are connecting to port 587 on the SMTP server (that is, you’re using TLS encryption), you’ll need to call the starttls() method next. This required step enables encryption for your connection. If you are connecting to port 465 (using SSL), then encryption is already set up, and you should skip this step."
   ]
  },
  {
   "cell_type": "code",
   "execution_count": 5,
   "id": "a741be87",
   "metadata": {},
   "outputs": [
    {
     "data": {
      "text/plain": [
       "(220, b'2.0.0 SMTP server ready')"
      ]
     },
     "execution_count": 5,
     "metadata": {},
     "output_type": "execute_result"
    }
   ],
   "source": [
    "test.starttls()"
   ]
  },
  {
   "cell_type": "markdown",
   "id": "0a640682",
   "metadata": {},
   "source": [
    "starttls() puts your SMTP connection in TLS mode. The 220 in the return value tells you that the server is ready."
   ]
  },
  {
   "cell_type": "markdown",
   "id": "326f5ad6",
   "metadata": {},
   "source": [
    "# Warning\n",
    "Be careful about putting passwords in your source code. If anyone ever copies your program, they’ll have access to your email account! It’s a good idea to call input() and have the user type in the password. It may be inconvenient to have to enter a password each time you run your program, but this approach will prevent you from leaving your password in an unencrypted file on your computer where a hacker or laptop thief could easily get it."
   ]
  },
  {
   "cell_type": "code",
   "execution_count": 6,
   "id": "ea19f111",
   "metadata": {},
   "outputs": [
    {
     "data": {
      "text/plain": [
       "(235, b'2.7.0 Authentication successful')"
      ]
     },
     "execution_count": 6,
     "metadata": {},
     "output_type": "execute_result"
    }
   ],
   "source": [
    "# this a fake email fell free to use. Please do not change the password so other can use and learn as well\n",
    "test.login('crobear21@hotmail.com', 'MY_SECRET_PASSWORD') "
   ]
  },
  {
   "cell_type": "markdown",
   "id": "e2c98f32",
   "metadata": {},
   "source": [
    "# Note\n",
    "Gmail’s Application-Specific Passwords\n",
    "\n",
    "Gmail has an additional security feature for Google accounts called application-specific passwords. If you receive an Application-specific password required error message when your program tries to log in, you will have to set up one of these passwords for your Python script. Check out the resources at http://nostarch.com/automatestuff/ for detailed directions on how to set up an application-specific password for your Google account."
   ]
  },
  {
   "cell_type": "code",
   "execution_count": 7,
   "id": "7aa66604",
   "metadata": {},
   "outputs": [
    {
     "data": {
      "text/plain": [
       "{}"
      ]
     },
     "execution_count": 7,
     "metadata": {},
     "output_type": "execute_result"
    }
   ],
   "source": [
    "test.sendmail('crobear21@hotmail.com', 'jacquetrahan88@hotmail.com', '''Subject: So long.\n",
    "\\nDear Alice, so long and thanks for all the fish. Sincerely,Bob''')"
   ]
  },
  {
   "cell_type": "markdown",
   "id": "e951f55e",
   "metadata": {},
   "source": [
    "I added triple quotes \"\"\" message \"\"\" to get the body of the email to send correctly. "
   ]
  },
  {
   "cell_type": "markdown",
   "id": "ef0e4190",
   "metadata": {},
   "source": [
    "Example:\n",
    ">>> smtpObj.sendmail(' my_email_address@gmail.com ', ' recipient@example.com ',\n",
    "'Subject: So long.\\nDear Alice, so long and thanks for all the fish. Sincerely,\n",
    "Bob')\n",
    "{}\n",
    "\n",
    "The sendmail() method requires three arguments.\n",
    "\n",
    "* Your email address as a string (for the email’s “from” address)\n",
    "\n",
    "* The recipient’s email address as a string or a list of strings for multiple recipients (for the “to” address)\n",
    "\n",
    "* The email body as a string\n",
    "\n",
    "The start of the email body string must begin with 'Subject: \\n' for the subject line of the email. The '\\n' newline character separates the subject line from the main body of the email.\n",
    "\n",
    "The return value from sendmail() is a dictionary. There will be one key-value pair in the dictionary for each recipient for whom email delivery failed. An empty dictionary means all recipients were successfully sent the email."
   ]
  },
  {
   "cell_type": "markdown",
   "id": "339620d0",
   "metadata": {},
   "source": [
    "# Disconnecting from the SMTP Server\n",
    "Be sure to call the quit() method when you are done sending emails. This will disconnect your program from the SMTP server."
   ]
  },
  {
   "cell_type": "code",
   "execution_count": 8,
   "id": "7b7436a5",
   "metadata": {},
   "outputs": [
    {
     "data": {
      "text/plain": [
       "(221, b'2.0.0 Service closing transmission channel')"
      ]
     },
     "execution_count": 8,
     "metadata": {},
     "output_type": "execute_result"
    }
   ],
   "source": [
    "test.quit()"
   ]
  },
  {
   "cell_type": "code",
   "execution_count": null,
   "id": "2fad2969",
   "metadata": {},
   "outputs": [],
   "source": []
  },
  {
   "cell_type": "code",
   "execution_count": null,
   "id": "bb7deb87",
   "metadata": {},
   "outputs": [],
   "source": []
  },
  {
   "cell_type": "code",
   "execution_count": null,
   "id": "ed40dece",
   "metadata": {},
   "outputs": [],
   "source": []
  },
  {
   "cell_type": "code",
   "execution_count": null,
   "id": "0984d11e",
   "metadata": {},
   "outputs": [],
   "source": []
  }
 ],
 "metadata": {
  "kernelspec": {
   "display_name": "Python 3",
   "language": "python",
   "name": "python3"
  },
  "language_info": {
   "codemirror_mode": {
    "name": "ipython",
    "version": 3
   },
   "file_extension": ".py",
   "mimetype": "text/x-python",
   "name": "python",
   "nbconvert_exporter": "python",
   "pygments_lexer": "ipython3",
   "version": "3.9.4"
  }
 },
 "nbformat": 4,
 "nbformat_minor": 5
}
