{
 "cells": [
  {
   "cell_type": "markdown",
   "id": "2d88aa8f",
   "metadata": {},
   "source": [
    "# Current weather map for any city\n",
    "First create an account at \n",
    "\n",
    "https://openweathermap.org/"
   ]
  },
  {
   "cell_type": "code",
   "execution_count": 1,
   "id": "60bd2839",
   "metadata": {},
   "outputs": [],
   "source": [
    "import requests"
   ]
  },
  {
   "cell_type": "code",
   "execution_count": 2,
   "id": "dc6b7678",
   "metadata": {},
   "outputs": [
    {
     "name": "stdout",
     "output_type": "stream",
     "text": [
      "Enter City name: Chico\n"
     ]
    }
   ],
   "source": [
    "# paste or key variable here\n",
    "\n",
    "api_key = \"1d95d323c58a422494d3a25d3fab9209\" # default\n",
    "\n",
    "\n",
    "# Get city name from user\n",
    "city = input(\"Enter City name: \")\n"
   ]
  },
  {
   "cell_type": "code",
   "execution_count": 3,
   "id": "cb1e532b",
   "metadata": {},
   "outputs": [
    {
     "name": "stdout",
     "output_type": "stream",
     "text": [
      "{'coord': {'lon': -121.8375, 'lat': 39.7285}, 'weather': [{'id': 800, 'main': 'Clear', 'description': 'clear sky', 'icon': '01d'}], 'base': 'stations', 'main': {'temp': 31.89, 'feels_like': 31.63, 'temp_min': 29.05, 'temp_max': 36.47, 'pressure': 1008, 'humidity': 37}, 'visibility': 10000, 'wind': {'speed': 2.57, 'deg': 0}, 'clouds': {'all': 1}, 'dt': 1624991403, 'sys': {'type': 1, 'id': 3626, 'country': 'US', 'sunrise': 1624970535, 'sunset': 1625024357}, 'timezone': -25200, 'id': 5336269, 'name': 'Chico', 'cod': 200}\n"
     ]
    }
   ],
   "source": [
    "data = requests.get(f\"https://api.openweathermap.org/data/2.5/weather?q={city}&units=metric&APPID={api_key}\")\n",
    "\n",
    "print(data.json())"
   ]
  },
  {
   "cell_type": "code",
   "execution_count": 4,
   "id": "ea841f68",
   "metadata": {},
   "outputs": [
    {
     "name": "stdout",
     "output_type": "stream",
     "text": [
      "Location: Chico, US\n",
      "Temperature: 31.89°C\n",
      "Weather: Clear\n",
      "Min/Max Temperature: 29.05°C/36.47°C\n",
      "Humidity: 37%\n",
      "Wind: 2.57 km/h\n"
     ]
    }
   ],
   "source": [
    "print(f\"Location: {data.json().get('name')}, {data.json().get('sys').get('country')}\")\n",
    "print(f\"Temperature: {data.json().get('main')['temp']}°C\")\n",
    "print(f\"Weather: {data.json().get('weather')[0].get('main')}\")\n",
    "print(\n",
    "    f\"Min/Max Temperature: {data.json().get('main')['temp_min']}°C/{data.json().get('main')['temp_max']}°C\"\n",
    ")\n",
    "print(f\"Humidity: {data.json().get('main')['humidity']}%\")\n",
    "print(f\"Wind: {data.json().get('wind')['speed']} km/h\")"
   ]
  },
  {
   "cell_type": "code",
   "execution_count": null,
   "id": "c3231196",
   "metadata": {},
   "outputs": [],
   "source": []
  }
 ],
 "metadata": {
  "kernelspec": {
   "display_name": "Python 3",
   "language": "python",
   "name": "python3"
  },
  "language_info": {
   "codemirror_mode": {
    "name": "ipython",
    "version": 3
   },
   "file_extension": ".py",
   "mimetype": "text/x-python",
   "name": "python",
   "nbconvert_exporter": "python",
   "pygments_lexer": "ipython3",
   "version": "3.9.4"
  }
 },
 "nbformat": 4,
 "nbformat_minor": 5
}
