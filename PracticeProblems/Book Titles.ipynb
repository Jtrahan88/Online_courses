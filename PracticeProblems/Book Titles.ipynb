{
 "cells": [
  {
   "cell_type": "markdown",
   "id": "c44dc34a",
   "metadata": {},
   "source": [
    "Book Titles\n",
    "\n",
    "\n",
    "You have been asked to make a special book categorization program, which assigns each book a special code based on its title.\n",
    "The code is equal to the first letter of the book, followed by the number of characters in the title.\n",
    "For example, for the book \"Harry Potter\", the code would be: H12, as it contains 12 characters (including the space).\n",
    "\n",
    "You are provided a books.txt file, which includes the book titles, each one written on a separate line.\n",
    "Read the title one by one and output the code for each book on a separate line.\n",
    "\n",
    "For example, if the books.txt file contains:\n",
    "Some book\n",
    "Another book\n",
    "\n",
    "Your program should output:\n",
    "\n",
    "S9\n",
    "\n",
    "A12\n",
    "\n",
    "***Recall the readlines() method, which returns a list containing the lines of the file.\n",
    "Also, remember that all lines, except the last one, contain a \\n at the end, which should not be included in the character count.***"
   ]
  },
  {
   "cell_type": "code",
   "execution_count": 4,
   "id": "07a0c641",
   "metadata": {},
   "outputs": [
    {
     "name": "stdout",
     "output_type": "stream",
     "text": [
      "J4\n",
      "O5\n",
      "J5\n"
     ]
    }
   ],
   "source": [
    "file = open(\"NAmes.txt\", \"r\")\n",
    "\n",
    "\n",
    "\n",
    "for line in file:\n",
    "    if line[-1] == \"\\n\":\n",
    "        print(line[0] + str(len(line)-1)) # -1 becuase the first letter should not be counted\n",
    "    else:\n",
    "        print(line[0] + str(len(line)))\n",
    "\n",
    "file.close()"
   ]
  },
  {
   "cell_type": "code",
   "execution_count": null,
   "id": "a88ff53d",
   "metadata": {},
   "outputs": [],
   "source": []
  }
 ],
 "metadata": {
  "kernelspec": {
   "display_name": "Python 3",
   "language": "python",
   "name": "python3"
  },
  "language_info": {
   "codemirror_mode": {
    "name": "ipython",
    "version": 3
   },
   "file_extension": ".py",
   "mimetype": "text/x-python",
   "name": "python",
   "nbconvert_exporter": "python",
   "pygments_lexer": "ipython3",
   "version": "3.9.5"
  }
 },
 "nbformat": 4,
 "nbformat_minor": 5
}
