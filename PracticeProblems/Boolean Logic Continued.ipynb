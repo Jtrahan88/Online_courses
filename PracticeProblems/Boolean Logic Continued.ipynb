{
 "cells": [
  {
   "cell_type": "markdown",
   "id": "d67145dc",
   "metadata": {},
   "source": [
    "Boolean Logic\n",
    "\n",
    "\n",
    "Given the age of a person as input, you need to output their age group.\n",
    "Here are the age groups you need to handle:\n",
    "Child: 0 to 11\n",
    "Teen: 12 to 17\n",
    "Adult: 18 to 64\n",
    "Senior: 65+\n",
    "\n",
    "Sample Input\n",
    "42\n",
    "\n",
    "Sample Output\n",
    "\n",
    "Adult\n",
    "Remember, you can use the Boolean and operator to combine conditions, like x>0 and x<20."
   ]
  },
  {
   "cell_type": "code",
   "execution_count": 1,
   "id": "5d4667d7",
   "metadata": {},
   "outputs": [
    {
     "name": "stdout",
     "output_type": "stream",
     "text": [
      "4\n",
      "Child\n"
     ]
    }
   ],
   "source": [
    "age = int(input())\n",
    "# your code goes here\n",
    "#Child: 0 to 11\n",
    "#Teen: 12 to 17\n",
    "#Adult: 18 to 64\n",
    "#Senior: 65+\n",
    "if age >= 0 and age <= 11:\n",
    "\tprint(\"Child\")\n",
    "elif age > 11 and age <= 17:\n",
    "\tprint(\"Teen\")\n",
    "elif age >= 18 and age <= 64:\n",
    "\tprint(\"Adult\")\n",
    "else:\n",
    "\tprint(\"Senior\")"
   ]
  },
  {
   "cell_type": "code",
   "execution_count": null,
   "id": "4e4eb8b9",
   "metadata": {},
   "outputs": [],
   "source": []
  }
 ],
 "metadata": {
  "kernelspec": {
   "display_name": "Python 3",
   "language": "python",
   "name": "python3"
  },
  "language_info": {
   "codemirror_mode": {
    "name": "ipython",
    "version": 3
   },
   "file_extension": ".py",
   "mimetype": "text/x-python",
   "name": "python",
   "nbconvert_exporter": "python",
   "pygments_lexer": "ipython3",
   "version": "3.9.4"
  }
 },
 "nbformat": 4,
 "nbformat_minor": 5
}
