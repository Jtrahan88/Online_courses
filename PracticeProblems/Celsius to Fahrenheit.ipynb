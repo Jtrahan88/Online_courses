{
 "cells": [
  {
   "cell_type": "markdown",
   "id": "41a16720",
   "metadata": {},
   "source": [
    "Celsius to Fahrenheit\n",
    "\n",
    "\n",
    "You are making a Celsius to Fahrenheit converter.\n",
    "Write a function to take the Celsius value as an argument and return the corresponding Fahrenheit value.\n",
    "\n",
    "Sample Input\n",
    "36\n",
    "\n",
    "Sample Output:\n",
    "\n",
    "96.8\n",
    "\n",
    "***The following equation is used to calculate the Fahrenheit value: 9/5 * celsius + 32***"
   ]
  },
  {
   "cell_type": "code",
   "execution_count": 1,
   "id": "efe75420",
   "metadata": {},
   "outputs": [
    {
     "name": "stdout",
     "output_type": "stream",
     "text": [
      "75\n",
      "167.0\n"
     ]
    }
   ],
   "source": [
    "celsius = int(input())\n",
    "\n",
    "def conv(c):\n",
    "    convert = (9/5) * c + 32\n",
    "    return convert\n",
    "\n",
    "fahrenheit = conv(celsius)\n",
    "print(fahrenheit)"
   ]
  },
  {
   "cell_type": "code",
   "execution_count": null,
   "id": "cdf03f92",
   "metadata": {},
   "outputs": [],
   "source": []
  }
 ],
 "metadata": {
  "kernelspec": {
   "display_name": "Python 3",
   "language": "python",
   "name": "python3"
  },
  "language_info": {
   "codemirror_mode": {
    "name": "ipython",
    "version": 3
   },
   "file_extension": ".py",
   "mimetype": "text/x-python",
   "name": "python",
   "nbconvert_exporter": "python",
   "pygments_lexer": "ipython3",
   "version": "3.9.4"
  }
 },
 "nbformat": 4,
 "nbformat_minor": 5
}
