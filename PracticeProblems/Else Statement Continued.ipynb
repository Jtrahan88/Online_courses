{
 "cells": [
  {
   "cell_type": "markdown",
   "id": "a5316b77",
   "metadata": {},
   "source": [
    "Else Statement\n",
    "\n",
    "\n",
    "Pythagoras theorem says: In a right-angled triangle, the square of the hypotenuse side is equal to the sum of squares of the other two sides.\n",
    "\n",
    "Write a program that takes lengths of triangle sides as inputs, and output whether our triangle is right-angled or not. If the triangle is right-angled, the program should output \"Right-angled\", and \"Not right-angled\" if it's not.\n",
    "\n",
    "Sample Input\n",
    "3\n",
    "4\n",
    "7\n",
    "\n",
    "Sample Output:\n",
    "\n",
    "Not right-angled\n",
    "\n",
    "Take the 3rd input (side3 variable in sample code) as the longest side, which will represent the hypotenuse if the triangle is right-angled."
   ]
  },
  {
   "cell_type": "code",
   "execution_count": 1,
   "id": "d5873a18",
   "metadata": {},
   "outputs": [
    {
     "name": "stdout",
     "output_type": "stream",
     "text": [
      "5\n",
      "4\n",
      "8\n",
      "Not right-angled\n"
     ]
    }
   ],
   "source": [
    "side1 = int(input())\n",
    "side2 = int(input())\n",
    "side3 = int(input())\n",
    "#your code goes here\n",
    "if side3**2 == (side1**2 + side2**2):\n",
    "\tprint(\"Right-angled\")\n",
    "else:\n",
    "\tprint(\"Not right-angled\")"
   ]
  },
  {
   "cell_type": "code",
   "execution_count": null,
   "id": "031d694d",
   "metadata": {},
   "outputs": [],
   "source": []
  }
 ],
 "metadata": {
  "kernelspec": {
   "display_name": "Python 3",
   "language": "python",
   "name": "python3"
  },
  "language_info": {
   "codemirror_mode": {
    "name": "ipython",
    "version": 3
   },
   "file_extension": ".py",
   "mimetype": "text/x-python",
   "name": "python",
   "nbconvert_exporter": "python",
   "pygments_lexer": "ipython3",
   "version": "3.9.4"
  }
 },
 "nbformat": 4,
 "nbformat_minor": 5
}
