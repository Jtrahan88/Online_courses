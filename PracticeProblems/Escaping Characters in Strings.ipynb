{
 "cells": [
  {
   "cell_type": "markdown",
   "id": "6eff02e1",
   "metadata": {},
   "source": [
    "Escaping Characters in Strings\n",
    "\n",
    "\n",
    "Strings are enclosed in double or single quotes.\n",
    "In order to include double quotes in double quoted strings, or single quotes in single quoted strings, you need to escape them.\n",
    "\n",
    "Task:\n",
    "Fix the given Python code to generate the expected output.\n",
    "Remember, you need to escape the quotes in the strings to fix the errors in the code.\n",
    "In order to do that use \\ before the quotes you need to escape."
   ]
  },
  {
   "cell_type": "code",
   "execution_count": 1,
   "id": "2d591c69",
   "metadata": {},
   "outputs": [
    {
     "name": "stdout",
     "output_type": "stream",
     "text": [
      "I'm learning Python!\n",
      "A number enclosed in double quotes: \"42\"\n"
     ]
    }
   ],
   "source": [
    "print('I\\'m learning Python!')\n",
    "print(\"A number enclosed in double quotes: \\\"42\\\"\")"
   ]
  },
  {
   "cell_type": "code",
   "execution_count": null,
   "id": "077c47cc",
   "metadata": {},
   "outputs": [],
   "source": []
  }
 ],
 "metadata": {
  "kernelspec": {
   "display_name": "Python 3",
   "language": "python",
   "name": "python3"
  },
  "language_info": {
   "codemirror_mode": {
    "name": "ipython",
    "version": 3
   },
   "file_extension": ".py",
   "mimetype": "text/x-python",
   "name": "python",
   "nbconvert_exporter": "python",
   "pygments_lexer": "ipython3",
   "version": "3.9.4"
  }
 },
 "nbformat": 4,
 "nbformat_minor": 5
}
