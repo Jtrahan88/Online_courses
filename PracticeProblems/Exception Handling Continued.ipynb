{
 "cells": [
  {
   "cell_type": "markdown",
   "id": "7dfdf84d",
   "metadata": {},
   "source": [
    "Exception Handling\n",
    "\n",
    "\n",
    "A coffee vending machine makes 5 types of coffee:\n",
    "coffee = [\"Café Latte\", \"Caffe Americano\", \"Espresso\", \"Cappuccino\", \"Macchiato\"] \n",
    "PY\n",
    "Each coffee option has its own number, starting with 0. Write a program that will take a number from the customer as input from the customer and serve the corresponding coffee type. If the customer enters a number that is out of the accepted range, the program should output \"Invalid number\". Regardless of coffee option result, the program should output \"Have a good day\" at the end.\n",
    "\n",
    "Sample Input\n",
    "7\n",
    "\n",
    "Sample Output:\n",
    "\n",
    "Invalid number\n",
    "\n",
    "Have a good day\n",
    "\n",
    "***Remember, that the first element of the list has 0 index.***"
   ]
  },
  {
   "cell_type": "code",
   "execution_count": 1,
   "id": "7a7a1d3e",
   "metadata": {},
   "outputs": [
    {
     "name": "stdout",
     "output_type": "stream",
     "text": [
      "Cafe Latte\n",
      "Have a good day\n"
     ]
    },
    {
     "ename": "ValueError",
     "evalue": "invalid literal for int() with base 10: 'Cafe Latte'",
     "output_type": "error",
     "traceback": [
      "\u001b[1;31m---------------------------------------------------------------------------\u001b[0m",
      "\u001b[1;31mValueError\u001b[0m                                Traceback (most recent call last)",
      "\u001b[1;32m<ipython-input-1-7818c82a027f>\u001b[0m in \u001b[0;36m<module>\u001b[1;34m\u001b[0m\n\u001b[0;32m      4\u001b[0m \u001b[1;33m\u001b[0m\u001b[0m\n\u001b[0;32m      5\u001b[0m \u001b[1;32mtry\u001b[0m\u001b[1;33m:\u001b[0m\u001b[1;33m\u001b[0m\u001b[1;33m\u001b[0m\u001b[0m\n\u001b[1;32m----> 6\u001b[1;33m         \u001b[0mchoice\u001b[0m \u001b[1;33m=\u001b[0m \u001b[0mint\u001b[0m\u001b[1;33m(\u001b[0m\u001b[0minput\u001b[0m\u001b[1;33m(\u001b[0m\u001b[1;33m)\u001b[0m\u001b[1;33m)\u001b[0m\u001b[1;33m\u001b[0m\u001b[1;33m\u001b[0m\u001b[0m\n\u001b[0m\u001b[0;32m      7\u001b[0m \u001b[1;33m\u001b[0m\u001b[0m\n\u001b[0;32m      8\u001b[0m         \u001b[0mprint\u001b[0m\u001b[1;33m(\u001b[0m\u001b[0mcoffee\u001b[0m\u001b[1;33m[\u001b[0m\u001b[0mchoice\u001b[0m\u001b[1;33m]\u001b[0m\u001b[1;33m)\u001b[0m\u001b[1;33m\u001b[0m\u001b[1;33m\u001b[0m\u001b[0m\n",
      "\u001b[1;31mValueError\u001b[0m: invalid literal for int() with base 10: 'Cafe Latte'"
     ]
    }
   ],
   "source": [
    "coffee = [\"Café Latte\", \"Caffe Americano\", \"Espresso\", \"Cappuccino\", \"Macchiato\"]\n",
    "\n",
    "\n",
    "\n",
    "try:\n",
    "\tchoice = int(input())\n",
    "\n",
    "\tprint(coffee[choice])\n",
    "except (IndexError, TypeError):\n",
    "\t#and here\n",
    "\tprint(\"Invalid number\")\n",
    "finally:\n",
    "\t#and finally here\n",
    "\tprint(\"Have a good day\")"
   ]
  },
  {
   "cell_type": "code",
   "execution_count": 2,
   "id": "8bf546a3",
   "metadata": {},
   "outputs": [
    {
     "name": "stdout",
     "output_type": "stream",
     "text": [
      "1\n",
      "Caffe Americano\n",
      "Have a good day\n"
     ]
    }
   ],
   "source": [
    "coffee = [\"Café Latte\", \"Caffe Americano\", \"Espresso\", \"Cappuccino\", \"Macchiato\"]\n",
    "\n",
    "\n",
    "\n",
    "try:\n",
    "\tchoice = int(input())\n",
    "\tprint(coffee[choice])\n",
    "except (IndexError, TypeError):\n",
    "\t#and here\n",
    "\tprint(\"Invalid number\")\n",
    "finally:\n",
    "\t#and finally here\n",
    "\tprint(\"Have a good day\")"
   ]
  },
  {
   "cell_type": "code",
   "execution_count": null,
   "id": "d694bd79",
   "metadata": {},
   "outputs": [],
   "source": []
  }
 ],
 "metadata": {
  "kernelspec": {
   "display_name": "Python 3",
   "language": "python",
   "name": "python3"
  },
  "language_info": {
   "codemirror_mode": {
    "name": "ipython",
    "version": 3
   },
   "file_extension": ".py",
   "mimetype": "text/x-python",
   "name": "python",
   "nbconvert_exporter": "python",
   "pygments_lexer": "ipython3",
   "version": "3.9.5"
  }
 },
 "nbformat": 4,
 "nbformat_minor": 5
}
