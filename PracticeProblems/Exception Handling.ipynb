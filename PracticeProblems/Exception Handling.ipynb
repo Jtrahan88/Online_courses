{
 "cells": [
  {
   "cell_type": "markdown",
   "id": "619423f0",
   "metadata": {},
   "source": [
    "Exception Handling\n",
    "\n",
    "\n",
    "We need to create a program that allows users to create their own PIN codes for their bank cards. Each PIN code consists of digits. Complete the program so that when the user enters a character, the program stops and outputs \"Please enter a number\" and when the user enters only digits, the program outputs\n",
    "PIN code is created\".\n",
    "\n",
    "Sample Input\n",
    "44a5\n",
    "\n",
    "Sample Output\n",
    "\n",
    "Please enter a number\n",
    "\n",
    "***Recall int() function, that occurs an error when the argument is not a number.***"
   ]
  },
  {
   "cell_type": "code",
   "execution_count": 1,
   "id": "3087e358",
   "metadata": {},
   "outputs": [
    {
     "name": "stdout",
     "output_type": "stream",
     "text": [
      "f\n",
      "Please enter a number\n"
     ]
    }
   ],
   "source": [
    "try:\n",
    "\tpin = int(input())\n",
    "\tprint(\"PIN code is created\")\n",
    "\n",
    "except ValueError:\n",
    "\t#and here\n",
    "\tprint(\"Please enter a number\")"
   ]
  },
  {
   "cell_type": "code",
   "execution_count": 2,
   "id": "4856162d",
   "metadata": {},
   "outputs": [
    {
     "name": "stdout",
     "output_type": "stream",
     "text": [
      "5\n",
      "PIN code is created\n"
     ]
    }
   ],
   "source": [
    "try:\n",
    "\tpin = int(input())\n",
    "\tprint(\"PIN code is created\")\n",
    "\n",
    "except ValueError:\n",
    "\t#and here\n",
    "\tprint(\"Please enter a number\")"
   ]
  },
  {
   "cell_type": "code",
   "execution_count": null,
   "id": "95e959d6",
   "metadata": {},
   "outputs": [],
   "source": []
  }
 ],
 "metadata": {
  "kernelspec": {
   "display_name": "Python 3",
   "language": "python",
   "name": "python3"
  },
  "language_info": {
   "codemirror_mode": {
    "name": "ipython",
    "version": 3
   },
   "file_extension": ".py",
   "mimetype": "text/x-python",
   "name": "python",
   "nbconvert_exporter": "python",
   "pygments_lexer": "ipython3",
   "version": "3.9.5"
  }
 },
 "nbformat": 4,
 "nbformat_minor": 5
}
