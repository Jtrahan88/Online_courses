{
 "cells": [
  {
   "cell_type": "markdown",
   "id": "b0dcb207",
   "metadata": {},
   "source": [
    "FizzBuzz\n",
    "\n",
    "\n",
    "FizzBuzz is a well known programming assignment, asked during interviews.\n",
    "\n",
    "The given code solves the FizzBuzz problem and uses the words \"Solo\" and \"Learn\" instead of \"Fizz\" and \"Buzz\".\n",
    "* It takes an input n and outputs the numbers from 1 to n.\n",
    "* For each multiple of 3, print \"Solo\" instead of the number.\n",
    "* For each multiple of 5, prints \"Learn\" instead of the number.\n",
    "* For numbers which are multiples of both 3 and 5, output \"SoloLearn\".\n",
    "\n",
    "You need to change the code to skip the even numbers, so that the logic only applies to odd numbers in the range.\n",
    "Remember, the continue statement can be used to skip a loop iteration."
   ]
  },
  {
   "cell_type": "code",
   "execution_count": 1,
   "id": "0ec113c5",
   "metadata": {},
   "outputs": [
    {
     "name": "stdout",
     "output_type": "stream",
     "text": [
      "4\n",
      "1\n",
      "Solo\n"
     ]
    }
   ],
   "source": [
    "n = int(input())\n",
    "\n",
    "for x in range(1, n):\n",
    "    if x % 2 ==0:\n",
    "    \tcontinue\n",
    "    elif x % 3 == 0 and x % 5 == 0:\n",
    "        print(\"SoloLearn\")\n",
    "    elif x % 3 == 0:\n",
    "        print(\"Solo\")\n",
    "    elif x % 5 == 0:\n",
    "        print(\"Learn\")\n",
    "    else:\n",
    "    \tprint(x)"
   ]
  },
  {
   "cell_type": "code",
   "execution_count": null,
   "id": "04b4a563",
   "metadata": {},
   "outputs": [],
   "source": []
  }
 ],
 "metadata": {
  "kernelspec": {
   "display_name": "Python 3",
   "language": "python",
   "name": "python3"
  },
  "language_info": {
   "codemirror_mode": {
    "name": "ipython",
    "version": 3
   },
   "file_extension": ".py",
   "mimetype": "text/x-python",
   "name": "python",
   "nbconvert_exporter": "python",
   "pygments_lexer": "ipython3",
   "version": "3.9.4"
  }
 },
 "nbformat": 4,
 "nbformat_minor": 5
}
