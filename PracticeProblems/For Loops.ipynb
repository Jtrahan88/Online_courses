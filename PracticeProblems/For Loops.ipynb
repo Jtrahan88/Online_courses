{
 "cells": [
  {
   "cell_type": "markdown",
   "id": "ab9c9b70",
   "metadata": {},
   "source": [
    "for Loops\n",
    "\n",
    "\n",
    "for loops allow you to easily iterate through lists.\n",
    "\n",
    "Given a list of numbers, output their sum.\n",
    "\n",
    "Sample Input\n",
    "1 3 7 5\n",
    "\n",
    "Sample Output\n",
    "\n",
    "16\n",
    "\n",
    "***Output the sum after the loop.***"
   ]
  },
  {
   "cell_type": "code",
   "execution_count": 1,
   "id": "6ac14acb",
   "metadata": {},
   "outputs": [
    {
     "name": "stdout",
     "output_type": "stream",
     "text": [
      "45\n"
     ]
    }
   ],
   "source": [
    "list = [1, 2, 3, 4, 5, 6, 7, 8, 9]\n",
    "\n",
    "sum = 0\n",
    "#your code goes here\n",
    "for num in list:\n",
    "\tsum += num\n",
    "\t\n",
    "print(sum)"
   ]
  },
  {
   "cell_type": "code",
   "execution_count": null,
   "id": "2a4a4c14",
   "metadata": {},
   "outputs": [],
   "source": []
  }
 ],
 "metadata": {
  "kernelspec": {
   "display_name": "Python 3",
   "language": "python",
   "name": "python3"
  },
  "language_info": {
   "codemirror_mode": {
    "name": "ipython",
    "version": 3
   },
   "file_extension": ".py",
   "mimetype": "text/x-python",
   "name": "python",
   "nbconvert_exporter": "python",
   "pygments_lexer": "ipython3",
   "version": "3.9.4"
  }
 },
 "nbformat": 4,
 "nbformat_minor": 5
}
