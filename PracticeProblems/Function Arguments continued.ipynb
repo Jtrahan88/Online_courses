{
 "cells": [
  {
   "cell_type": "markdown",
   "id": "e7b61e61",
   "metadata": {},
   "source": [
    "Function Arguments continued\n",
    "\n",
    "\n",
    "We need to calculate the area of the rectangle.\n",
    "Complete and call the function to output the area of the rectangle, taking 2 arguments as length and width. If sides are equal, the function should also show \"Square\" as the second output.\n",
    "\n",
    "Sample Input 1\n",
    "7\n",
    "4\n",
    "\n",
    "Sample Output 1:\n",
    "\n",
    "28\n",
    "\n",
    "***To find the area of a rectangle, multiply the length by the width.***"
   ]
  },
  {
   "cell_type": "code",
   "execution_count": 1,
   "id": "a6fd10e7",
   "metadata": {},
   "outputs": [
    {
     "name": "stdout",
     "output_type": "stream",
     "text": [
      "4\n",
      "6\n",
      "24\n"
     ]
    }
   ],
   "source": [
    "length = int(input())\n",
    "width = int(input())\n",
    "def area(length, width):\n",
    "\t#your code goes here\n",
    "\tarea = length * width\n",
    "\tif length == width:\n",
    "\t\tprint(area)\n",
    "\t\tprint(\"Square\")\n",
    "\telse:\n",
    "\t\tprint(area)\n",
    "\t\t\n",
    "area(length, width)"
   ]
  },
  {
   "cell_type": "code",
   "execution_count": null,
   "id": "b9a58167",
   "metadata": {},
   "outputs": [],
   "source": []
  }
 ],
 "metadata": {
  "kernelspec": {
   "display_name": "Python 3",
   "language": "python",
   "name": "python3"
  },
  "language_info": {
   "codemirror_mode": {
    "name": "ipython",
    "version": 3
   },
   "file_extension": ".py",
   "mimetype": "text/x-python",
   "name": "python",
   "nbconvert_exporter": "python",
   "pygments_lexer": "ipython3",
   "version": "3.9.4"
  }
 },
 "nbformat": 4,
 "nbformat_minor": 5
}
