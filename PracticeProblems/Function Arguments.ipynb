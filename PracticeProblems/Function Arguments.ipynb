{
 "cells": [
  {
   "cell_type": "markdown",
   "id": "6c36e9e7",
   "metadata": {},
   "source": [
    "Function Arguments\n",
    "\n",
    "\n",
    "You are given a program with two inputs: one as password and the second one as password repeat. Complete and call the given function to output \"Correct\" if password and repeat are equal, and output \"Wrong\", if they are not.\n",
    "\n",
    "Sample Input:\n",
    "\n",
    "nfs1598\n",
    "\n",
    "nfs1598\n",
    "\n",
    "Sample Output:\n",
    "\n",
    "Correct\n",
    "\n",
    "***Don't forget to add arguments when you call the function.***"
   ]
  },
  {
   "cell_type": "code",
   "execution_count": 1,
   "id": "8f511c97",
   "metadata": {},
   "outputs": [
    {
     "name": "stdout",
     "output_type": "stream",
     "text": [
      "hello \n",
      "world\n",
      "Wrong\n"
     ]
    }
   ],
   "source": [
    "password = input()\n",
    "repeat = input()\n",
    "\n",
    "def validate(text1, text2):\n",
    "\tif text1 == text2:\n",
    "\t\tprint(\"Correct\")\n",
    "\telse:\n",
    "\t\tprint(\"Wrong\")\n",
    "\t\t\n",
    "validate(password, repeat)"
   ]
  },
  {
   "cell_type": "code",
   "execution_count": null,
   "id": "1d6630fa",
   "metadata": {},
   "outputs": [],
   "source": []
  }
 ],
 "metadata": {
  "kernelspec": {
   "display_name": "Python 3",
   "language": "python",
   "name": "python3"
  },
  "language_info": {
   "codemirror_mode": {
    "name": "ipython",
    "version": 3
   },
   "file_extension": ".py",
   "mimetype": "text/x-python",
   "name": "python",
   "nbconvert_exporter": "python",
   "pygments_lexer": "ipython3",
   "version": "3.9.4"
  }
 },
 "nbformat": 4,
 "nbformat_minor": 5
}
