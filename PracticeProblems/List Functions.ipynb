{
 "cells": [
  {
   "cell_type": "markdown",
   "id": "24639e18",
   "metadata": {},
   "source": [
    "List Functions\n",
    "\n",
    "\n",
    "You are working on a queue management program.\n",
    "The queue is represented by a list.\n",
    "\n",
    "Write a program to take an input, add it to the end of the queue and output the resulting list.\n",
    "The append() method can be used to add new items to the list."
   ]
  },
  {
   "cell_type": "code",
   "execution_count": 1,
   "id": "cd107905",
   "metadata": {},
   "outputs": [
    {
     "name": "stdout",
     "output_type": "stream",
     "text": [
      "JQTs\n",
      "['John', 'James', 'Amy', 'JQTs']\n"
     ]
    }
   ],
   "source": [
    "queue = [\"John\", \"James\", \"Amy\"]\n",
    "\n",
    "txt = input()\n",
    "\n",
    "queue.append(txt)\n",
    "\n",
    "print(queue)"
   ]
  },
  {
   "cell_type": "code",
   "execution_count": null,
   "id": "04c9b303",
   "metadata": {},
   "outputs": [],
   "source": []
  }
 ],
 "metadata": {
  "kernelspec": {
   "display_name": "Python 3",
   "language": "python",
   "name": "python3"
  },
  "language_info": {
   "codemirror_mode": {
    "name": "ipython",
    "version": 3
   },
   "file_extension": ".py",
   "mimetype": "text/x-python",
   "name": "python",
   "nbconvert_exporter": "python",
   "pygments_lexer": "ipython3",
   "version": "3.9.4"
  }
 },
 "nbformat": 4,
 "nbformat_minor": 5
}
