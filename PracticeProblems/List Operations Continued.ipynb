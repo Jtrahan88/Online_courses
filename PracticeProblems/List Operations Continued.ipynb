{
 "cells": [
  {
   "cell_type": "markdown",
   "id": "669821b6",
   "metadata": {},
   "source": [
    "List Operations\n",
    "\n",
    "\n",
    "You are building a search system and need to search for the character 'a' in an input string.\n",
    "Output \"Match\" if 'a' is found in the string, and \"No match\" if it's not.\n",
    "\n",
    "Sample Input\n",
    "great\n",
    "\n",
    "Sample Output\n",
    "\n",
    "Match\n",
    "\n",
    "To check if an item is in a list, you can use the in operator."
   ]
  },
  {
   "cell_type": "code",
   "execution_count": 1,
   "id": "ffcb2298",
   "metadata": {},
   "outputs": [
    {
     "name": "stdout",
     "output_type": "stream",
     "text": [
      "4\n",
      "No match\n"
     ]
    }
   ],
   "source": [
    "s = input()\n",
    "\n",
    "if \"a\" in s:\n",
    "\tprint(\"Match\")\n",
    "else:\n",
    "\tprint(\"No match\")"
   ]
  },
  {
   "cell_type": "code",
   "execution_count": 2,
   "id": "10e460c3",
   "metadata": {},
   "outputs": [
    {
     "name": "stdout",
     "output_type": "stream",
     "text": [
      "Bananas\n",
      "Match\n"
     ]
    }
   ],
   "source": [
    "s = input()\n",
    "\n",
    "if \"a\" in s:\n",
    "\tprint(\"Match\")\n",
    "else:\n",
    "\tprint(\"No match\")"
   ]
  },
  {
   "cell_type": "code",
   "execution_count": null,
   "id": "14946892",
   "metadata": {},
   "outputs": [],
   "source": []
  }
 ],
 "metadata": {
  "kernelspec": {
   "display_name": "Python 3",
   "language": "python",
   "name": "python3"
  },
  "language_info": {
   "codemirror_mode": {
    "name": "ipython",
    "version": 3
   },
   "file_extension": ".py",
   "mimetype": "text/x-python",
   "name": "python",
   "nbconvert_exporter": "python",
   "pygments_lexer": "ipython3",
   "version": "3.9.4"
  }
 },
 "nbformat": 4,
 "nbformat_minor": 5
}
