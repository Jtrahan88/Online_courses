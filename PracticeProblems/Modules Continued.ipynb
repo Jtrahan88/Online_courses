{
 "cells": [
  {
   "cell_type": "markdown",
   "id": "4c875ab6",
   "metadata": {},
   "source": [
    "Modules\n",
    "\n",
    "\n",
    "You are given a program that takes the radius of a circle as the input.\n",
    "Complete the code to calculate the circle's perimeter and output the result.\n",
    "Remember, the perimeter of a circle = 2*pi*radius\n",
    "\n",
    "Sample Input\n",
    "5\n",
    "\n",
    "Sample Output\n",
    "31.42\n",
    "\n",
    "You need to import the pi constant from the math module to perform the calculation.\n",
    "\n",
    "***The round() function in the code is used to round the decimal places of the output.***"
   ]
  },
  {
   "cell_type": "code",
   "execution_count": 1,
   "id": "78b2a5ef",
   "metadata": {},
   "outputs": [
    {
     "name": "stdout",
     "output_type": "stream",
     "text": [
      "4\n",
      "25.13\n"
     ]
    }
   ],
   "source": [
    "import math\n",
    "\n",
    "radius = int(input())\n",
    "\t\n",
    "perim = 2 * math.pi * radius#calculate perimeter\n",
    "\n",
    "print(round(perim, 2))"
   ]
  },
  {
   "cell_type": "code",
   "execution_count": null,
   "id": "0e4ab477",
   "metadata": {},
   "outputs": [],
   "source": []
  }
 ],
 "metadata": {
  "kernelspec": {
   "display_name": "Python 3",
   "language": "python",
   "name": "python3"
  },
  "language_info": {
   "codemirror_mode": {
    "name": "ipython",
    "version": 3
   },
   "file_extension": ".py",
   "mimetype": "text/x-python",
   "name": "python",
   "nbconvert_exporter": "python",
   "pygments_lexer": "ipython3",
   "version": "3.9.4"
  }
 },
 "nbformat": 4,
 "nbformat_minor": 5
}
