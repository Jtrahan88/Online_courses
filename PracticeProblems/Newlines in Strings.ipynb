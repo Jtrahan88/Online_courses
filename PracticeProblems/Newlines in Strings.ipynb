{
 "cells": [
  {
   "cell_type": "markdown",
   "id": "57f4a014",
   "metadata": {},
   "source": [
    "Newlines in Strings\n",
    "\n",
    "\n",
    "Working with strings is an essential programming skill.\n",
    "\n",
    "Task:\n",
    "The given code outputs A B C D (each letter is separated by a space).\n",
    "Modify the code to output each letter on a separate line, resulting in the following output:\n",
    "A\n",
    "B\n",
    "C\n",
    "D\n",
    "Consult the Python Strings lesson if you do not remember the newline symbol."
   ]
  },
  {
   "cell_type": "code",
   "execution_count": 1,
   "id": "b691b73f",
   "metadata": {},
   "outputs": [
    {
     "name": "stdout",
     "output_type": "stream",
     "text": [
      "A\n",
      "B\n",
      "C\n",
      "D\n"
     ]
    }
   ],
   "source": [
    "print('A\\nB\\nC\\nD')"
   ]
  },
  {
   "cell_type": "code",
   "execution_count": null,
   "id": "0b305a60",
   "metadata": {},
   "outputs": [],
   "source": []
  }
 ],
 "metadata": {
  "kernelspec": {
   "display_name": "Python 3",
   "language": "python",
   "name": "python3"
  },
  "language_info": {
   "codemirror_mode": {
    "name": "ipython",
    "version": 3
   },
   "file_extension": ".py",
   "mimetype": "text/x-python",
   "name": "python",
   "nbconvert_exporter": "python",
   "pygments_lexer": "ipython3",
   "version": "3.9.4"
  }
 },
 "nbformat": 4,
 "nbformat_minor": 5
}
