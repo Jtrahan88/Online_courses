{
 "cells": [
  {
   "cell_type": "markdown",
   "id": "c551b3c1",
   "metadata": {},
   "source": [
    "String Operations\n",
    "\n",
    "\n",
    "The provided code outputs the string \"ni\".\n",
    "print(\"ni\")\n",
    "PY\n",
    "\n",
    "Task:\n",
    "Modify the code to output the string repeated 3 times, and add an ! (exclamation mark) at the end of the output.\n",
    "Remember, you can concatenate strings using the + operator."
   ]
  },
  {
   "cell_type": "code",
   "execution_count": 1,
   "id": "10b39d8e",
   "metadata": {},
   "outputs": [
    {
     "name": "stdout",
     "output_type": "stream",
     "text": [
      "ninini!\n"
     ]
    }
   ],
   "source": [
    "print( \"ni\" * 3 + \"!\")"
   ]
  },
  {
   "cell_type": "code",
   "execution_count": null,
   "id": "2ab3bdb3",
   "metadata": {},
   "outputs": [],
   "source": []
  }
 ],
 "metadata": {
  "kernelspec": {
   "display_name": "Python 3",
   "language": "python",
   "name": "python3"
  },
  "language_info": {
   "codemirror_mode": {
    "name": "ipython",
    "version": 3
   },
   "file_extension": ".py",
   "mimetype": "text/x-python",
   "name": "python",
   "nbconvert_exporter": "python",
   "pygments_lexer": "ipython3",
   "version": "3.9.4"
  }
 },
 "nbformat": 4,
 "nbformat_minor": 5
}
