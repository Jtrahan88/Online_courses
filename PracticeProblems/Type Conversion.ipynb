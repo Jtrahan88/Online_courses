{
 "cells": [
  {
   "cell_type": "markdown",
   "id": "f8b21427",
   "metadata": {},
   "source": [
    "Type Conversion\n",
    "\n",
    "\n",
    "Somebody wrote code to take two integer inputs and output their product.\n",
    "However, the code results in an error.\n",
    "\n",
    "Task:\n",
    "Fix the code to output the product of two integer inputs.\n",
    "\n",
    "Sample Input:\n",
    "3\n",
    "6\n",
    "\n",
    "Sample Output:\n",
    "18\n",
    "Remember, that the input() function results in a string, even if the input is a number."
   ]
  },
  {
   "cell_type": "code",
   "execution_count": 1,
   "id": "984efc28",
   "metadata": {},
   "outputs": [
    {
     "name": "stdout",
     "output_type": "stream",
     "text": [
      "6\n",
      "3\n",
      "18\n"
     ]
    }
   ],
   "source": [
    "print( int(input())*int(input()))\n"
   ]
  },
  {
   "cell_type": "code",
   "execution_count": null,
   "id": "77f6e4c9",
   "metadata": {},
   "outputs": [],
   "source": []
  }
 ],
 "metadata": {
  "kernelspec": {
   "display_name": "Python 3",
   "language": "python",
   "name": "python3"
  },
  "language_info": {
   "codemirror_mode": {
    "name": "ipython",
    "version": 3
   },
   "file_extension": ".py",
   "mimetype": "text/x-python",
   "name": "python",
   "nbconvert_exporter": "python",
   "pygments_lexer": "ipython3",
   "version": "3.9.4"
  }
 },
 "nbformat": 4,
 "nbformat_minor": 5
}
