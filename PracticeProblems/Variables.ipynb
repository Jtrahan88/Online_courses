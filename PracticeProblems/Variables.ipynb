{
 "cells": [
  {
   "cell_type": "markdown",
   "id": "d3a6c370",
   "metadata": {},
   "source": [
    "Variables\n",
    "\n",
    "\n",
    "The provided code stores the value 7 in a variable, and outputs it.\n",
    "\n",
    "Task\n",
    "Change the code to output the value of the variable raised to the power of 3.\n",
    "Exponentiation can be used to raise a number to the power of another."
   ]
  },
  {
   "cell_type": "code",
   "execution_count": 1,
   "id": "29e6864a",
   "metadata": {},
   "outputs": [
    {
     "name": "stdout",
     "output_type": "stream",
     "text": [
      "343\n"
     ]
    }
   ],
   "source": [
    "x = 7**3\n",
    "\n",
    "print(x)"
   ]
  },
  {
   "cell_type": "code",
   "execution_count": null,
   "id": "48030966",
   "metadata": {},
   "outputs": [],
   "source": []
  }
 ],
 "metadata": {
  "kernelspec": {
   "display_name": "Python 3",
   "language": "python",
   "name": "python3"
  },
  "language_info": {
   "codemirror_mode": {
    "name": "ipython",
    "version": 3
   },
   "file_extension": ".py",
   "mimetype": "text/x-python",
   "name": "python",
   "nbconvert_exporter": "python",
   "pygments_lexer": "ipython3",
   "version": "3.9.4"
  }
 },
 "nbformat": 4,
 "nbformat_minor": 5
}
