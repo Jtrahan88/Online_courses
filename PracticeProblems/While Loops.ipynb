{
 "cells": [
  {
   "cell_type": "markdown",
   "id": "8532fae8",
   "metadata": {},
   "source": [
    "while Loops\n",
    "\n",
    "\n",
    "You are given a program that outputs all the numbers from 0 to 10.\n",
    "\n",
    "Change the code to make it output only the even numbers.\n",
    "\n",
    "Any integer that can be divided exactly by 2 is an even number."
   ]
  },
  {
   "cell_type": "code",
   "execution_count": null,
   "id": "3ec3262c",
   "metadata": {},
   "outputs": [],
   "source": []
  },
  {
   "cell_type": "code",
   "execution_count": 2,
   "id": "6af22391",
   "metadata": {},
   "outputs": [
    {
     "ename": "IndentationError",
     "evalue": "expected an indented block (<ipython-input-2-273fd1bf8259>, line 2)",
     "output_type": "error",
     "traceback": [
      "\u001b[1;36m  File \u001b[1;32m\"<ipython-input-2-273fd1bf8259>\"\u001b[1;36m, line \u001b[1;32m2\u001b[0m\n\u001b[1;33m    while x <= 10:\u001b[0m\n\u001b[1;37m                  ^\u001b[0m\n\u001b[1;31mIndentationError\u001b[0m\u001b[1;31m:\u001b[0m expected an indented block\n"
     ]
    }
   ],
   "source": [
    "x = 0\n",
    "while x <= 10:\n"
   ]
  },
  {
   "cell_type": "code",
   "execution_count": 3,
   "id": "20477cca",
   "metadata": {},
   "outputs": [
    {
     "name": "stdout",
     "output_type": "stream",
     "text": [
      "0\n",
      "2\n",
      "4\n",
      "6\n",
      "8\n",
      "10\n"
     ]
    }
   ],
   "source": [
    "x = 0\n",
    "while x <= 10:\n",
    "\tif x % 2 == 0:\n",
    "\t\tprint(x)\n",
    "\tx += 1"
   ]
  },
  {
   "cell_type": "code",
   "execution_count": null,
   "id": "aa33a6b0",
   "metadata": {},
   "outputs": [],
   "source": []
  }
 ],
 "metadata": {
  "kernelspec": {
   "display_name": "Python 3",
   "language": "python",
   "name": "python3"
  },
  "language_info": {
   "codemirror_mode": {
    "name": "ipython",
    "version": 3
   },
   "file_extension": ".py",
   "mimetype": "text/x-python",
   "name": "python",
   "nbconvert_exporter": "python",
   "pygments_lexer": "ipython3",
   "version": "3.9.4"
  }
 },
 "nbformat": 4,
 "nbformat_minor": 5
}
