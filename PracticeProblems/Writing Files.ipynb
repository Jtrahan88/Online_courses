{
 "cells": [
  {
   "cell_type": "markdown",
   "id": "d3db9c35",
   "metadata": {},
   "source": [
    "Writing Files\n",
    "\n",
    "\n",
    "You are given the following list:\n",
    "names = [\"John\", \"Oscar\", \"Jacob\"] \n",
    "PY\n",
    "Complete the program to create a file where you write the names from the list, each on a new line, and separately output them.\n",
    "\n",
    "Output:\n",
    "\n",
    "John\n",
    "\n",
    "Oscar\n",
    "\n",
    "Jacob\n",
    "\n",
    "***Remember that \"\\n\" represents a new line.***"
   ]
  },
  {
   "cell_type": "code",
   "execution_count": 7,
   "id": "5f4dbbc2",
   "metadata": {},
   "outputs": [
    {
     "name": "stdout",
     "output_type": "stream",
     "text": [
      "John\n",
      "Oscar\n",
      "Jacob\n"
     ]
    }
   ],
   "source": [
    "names = [\"John\", \"Oscar\", \"Jacob\"]\n",
    " \n",
    "file = open(\"Names.txt\", 'w')\n",
    "#write down the names into the file\n",
    "file.write(\"\\n\".join(names))\n",
    "#file.write(\"\\n\")\n",
    "file.close()\n",
    "\n",
    "file= open(\"names.txt\", \"r\")\n",
    "#output the content of file in console\n",
    "print(file.read())\n",
    "\n",
    "file.close()"
   ]
  },
  {
   "cell_type": "code",
   "execution_count": null,
   "id": "8ff7b63e",
   "metadata": {},
   "outputs": [],
   "source": []
  }
 ],
 "metadata": {
  "kernelspec": {
   "display_name": "Python 3",
   "language": "python",
   "name": "python3"
  },
  "language_info": {
   "codemirror_mode": {
    "name": "ipython",
    "version": 3
   },
   "file_extension": ".py",
   "mimetype": "text/x-python",
   "name": "python",
   "nbconvert_exporter": "python",
   "pygments_lexer": "ipython3",
   "version": "3.9.5"
  }
 },
 "nbformat": 4,
 "nbformat_minor": 5
}
