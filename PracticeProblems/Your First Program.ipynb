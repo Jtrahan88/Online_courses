{
 "cells": [
  {
   "cell_type": "markdown",
   "id": "87178e47",
   "metadata": {},
   "source": [
    "Your First Program\n",
    "\n",
    "\n",
    "Write a program to print \"Python is fun\".\n",
    "Note that the sentence starts with a capital letter.\n",
    "\n",
    "***Hint\n",
    "Use print() function.***\n",
    "\n",
    "Remember to enclose the text into single or double quotes."
   ]
  },
  {
   "cell_type": "code",
   "execution_count": 1,
   "id": "5aff6566",
   "metadata": {},
   "outputs": [
    {
     "name": "stdout",
     "output_type": "stream",
     "text": [
      "Python is fun\n"
     ]
    }
   ],
   "source": [
    "#output \"Python is fun\"\n",
    "print(\"Python is fun\")"
   ]
  },
  {
   "cell_type": "code",
   "execution_count": null,
   "id": "6ed06d90",
   "metadata": {},
   "outputs": [],
   "source": []
  }
 ],
 "metadata": {
  "kernelspec": {
   "display_name": "Python 3",
   "language": "python",
   "name": "python3"
  },
  "language_info": {
   "codemirror_mode": {
    "name": "ipython",
    "version": 3
   },
   "file_extension": ".py",
   "mimetype": "text/x-python",
   "name": "python",
   "nbconvert_exporter": "python",
   "pygments_lexer": "ipython3",
   "version": "3.9.4"
  }
 },
 "nbformat": 4,
 "nbformat_minor": 5
}
