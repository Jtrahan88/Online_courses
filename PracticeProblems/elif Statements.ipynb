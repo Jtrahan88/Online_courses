{
 "cells": [
  {
   "cell_type": "markdown",
   "id": "e276c014",
   "metadata": {},
   "source": [
    "elif Statements\n",
    "\n",
    "\n",
    "Write a program that takes a number as input and\n",
    "- returns its double, if the number is even\n",
    "- returns its triple, if the number is odd\n",
    "- returns 0, if number is 0\n",
    "\n",
    "Sample Input:\n",
    "1\n",
    "\n",
    "Sample Output:\n",
    "\n",
    "3\n",
    "\n",
    "An integer is even if it is divisible by two and odd if it is not even."
   ]
  },
  {
   "cell_type": "code",
   "execution_count": 1,
   "id": "72cae70c",
   "metadata": {},
   "outputs": [
    {
     "name": "stdout",
     "output_type": "stream",
     "text": [
      "5\n",
      "15\n"
     ]
    }
   ],
   "source": [
    "number = int(input())\n",
    "\n",
    "if number == 0:\n",
    "\tprint(0)\n",
    "elif number % 2 == 0:\n",
    "\tprint(number * 2)\n",
    "else:\n",
    "\tprint(number * 3)"
   ]
  },
  {
   "cell_type": "code",
   "execution_count": null,
   "id": "3abb7ea8",
   "metadata": {},
   "outputs": [],
   "source": []
  }
 ],
 "metadata": {
  "kernelspec": {
   "display_name": "Python 3",
   "language": "python",
   "name": "python3"
  },
  "language_info": {
   "codemirror_mode": {
    "name": "ipython",
    "version": 3
   },
   "file_extension": ".py",
   "mimetype": "text/x-python",
   "name": "python",
   "nbconvert_exporter": "python",
   "pygments_lexer": "ipython3",
   "version": "3.9.4"
  }
 },
 "nbformat": 4,
 "nbformat_minor": 5
}
