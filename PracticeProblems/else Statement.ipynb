{
 "cells": [
  {
   "cell_type": "markdown",
   "id": "f60377a3",
   "metadata": {},
   "source": [
    "else Statement\n",
    "\n",
    "\n",
    "Write a program to control entrance to a club.\n",
    "Only people who are 18 or older are allowed to enter the club.\n",
    "Your program takes the age and the name of the person who tries to enter, and outputs \"Welcome\" followed by the name of the person if they are allowed to enter the club, and \"Sorry\" if they are younger than the allowed age.\n",
    "\n",
    "Sample Input\n",
    "24\n",
    "James\n",
    "\n",
    "Sample Output\n",
    "Welcome James\n",
    "Do not forget to put a space between \"Welcome\" and the name."
   ]
  },
  {
   "cell_type": "code",
   "execution_count": 1,
   "id": "6692dc9d",
   "metadata": {},
   "outputs": [
    {
     "name": "stdout",
     "output_type": "stream",
     "text": [
      "32\n",
      "JQTs\n",
      "Welcome JQTs\n"
     ]
    }
   ],
   "source": [
    "age = int(input())\n",
    "name = input()\n",
    "# your code goes here\n",
    "if age < 18:\n",
    "\tprint(\"Sorry\")\n",
    "else:\n",
    "\tprint(\"Welcome \" + name)\n",
    "    "
   ]
  },
  {
   "cell_type": "code",
   "execution_count": null,
   "id": "c72669c5",
   "metadata": {},
   "outputs": [],
   "source": []
  }
 ],
 "metadata": {
  "kernelspec": {
   "display_name": "Python 3",
   "language": "python",
   "name": "python3"
  },
  "language_info": {
   "codemirror_mode": {
    "name": "ipython",
    "version": 3
   },
   "file_extension": ".py",
   "mimetype": "text/x-python",
   "name": "python",
   "nbconvert_exporter": "python",
   "pygments_lexer": "ipython3",
   "version": "3.9.4"
  }
 },
 "nbformat": 4,
 "nbformat_minor": 5
}
