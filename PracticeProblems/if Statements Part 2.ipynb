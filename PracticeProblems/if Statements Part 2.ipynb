{
 "cells": [
  {
   "cell_type": "markdown",
   "id": "c34f6b7c",
   "metadata": {},
   "source": [
    "if Statements\n",
    "\n",
    "\n",
    "Let's imagine you want to buy an ice-cream for 10 of your friends.\n",
    "Write a program that will take the money you have and the price of one ice-cream, and will output the remaining money only if you can buy that ice-cream for your all 10 friends.\n",
    "\n",
    "Sample Input\n",
    "80\n",
    "7\n",
    "\n",
    "Sample Output\n",
    "10\n",
    "\n",
    "Explanation\n",
    "To buy 10 ice-creams you need 7*10 = 70.\n",
    "The remaining money is 80-70 = 10.\n",
    "\n",
    "\n",
    "Do not output anything if you don't have enough money."
   ]
  },
  {
   "cell_type": "code",
   "execution_count": 1,
   "id": "feee8bc0",
   "metadata": {},
   "outputs": [
    {
     "name": "stdout",
     "output_type": "stream",
     "text": [
      "5\n",
      "3\n"
     ]
    }
   ],
   "source": [
    "money = int(input())\n",
    "price = int(input())\n",
    "\n",
    "total = price*10\n",
    "\n",
    "if money / total <= 0:\n",
    "\tpass\n",
    "elif money - total < 0:\n",
    "\tpass\n",
    "else:\n",
    "\tprint(money - total)"
   ]
  },
  {
   "cell_type": "code",
   "execution_count": null,
   "id": "60f719a3",
   "metadata": {},
   "outputs": [],
   "source": []
  }
 ],
 "metadata": {
  "kernelspec": {
   "display_name": "Python 3",
   "language": "python",
   "name": "python3"
  },
  "language_info": {
   "codemirror_mode": {
    "name": "ipython",
    "version": 3
   },
   "file_extension": ".py",
   "mimetype": "text/x-python",
   "name": "python",
   "nbconvert_exporter": "python",
   "pygments_lexer": "ipython3",
   "version": "3.9.4"
  }
 },
 "nbformat": 4,
 "nbformat_minor": 5
}
