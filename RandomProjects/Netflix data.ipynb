{
 "cells": [
  {
   "cell_type": "markdown",
   "id": "bf0ad2b4",
   "metadata": {},
   "source": [
    "All Credit Goes to the below site:\n",
    "\n",
    "https://www.dataquest.io/blog/python-tutorial-analyze-personal-netflix-data/"
   ]
  },
  {
   "cell_type": "markdown",
   "id": "fe1bec09",
   "metadata": {},
   "source": []
  },
  {
   "cell_type": "markdown",
   "id": "a77cf715",
   "metadata": {},
   "source": [
    "# Load Your Data into a Jupyter Notebook"
   ]
  },
  {
   "cell_type": "code",
   "execution_count": 1,
   "id": "f235281e",
   "metadata": {},
   "outputs": [],
   "source": [
    "import pandas as pd"
   ]
  },
  {
   "cell_type": "markdown",
   "id": "5da3a624",
   "metadata": {},
   "source": [
    "The website URL can be read directlyinto pandas as follows:"
   ]
  },
  {
   "cell_type": "code",
   "execution_count": 2,
   "id": "868ca869",
   "metadata": {},
   "outputs": [],
   "source": [
    "df = pd.read_csv(\"https://www.dataquest.io/wp-content/uploads/2020/11/ViewingActivity-sample.csv\")\n",
    "\n"
   ]
  },
  {
   "cell_type": "code",
   "execution_count": 3,
   "id": "c48630d1",
   "metadata": {},
   "outputs": [
    {
     "data": {
      "text/plain": [
       "(200, 10)"
      ]
     },
     "execution_count": 3,
     "metadata": {},
     "output_type": "execute_result"
    }
   ],
   "source": [
    "df.shape"
   ]
  },
  {
   "cell_type": "code",
   "execution_count": 4,
   "id": "ea53903b",
   "metadata": {
    "scrolled": false
   },
   "outputs": [
    {
     "data": {
      "text/html": [
       "<div>\n",
       "<style scoped>\n",
       "    .dataframe tbody tr th:only-of-type {\n",
       "        vertical-align: middle;\n",
       "    }\n",
       "\n",
       "    .dataframe tbody tr th {\n",
       "        vertical-align: top;\n",
       "    }\n",
       "\n",
       "    .dataframe thead th {\n",
       "        text-align: right;\n",
       "    }\n",
       "</style>\n",
       "<table border=\"1\" class=\"dataframe\">\n",
       "  <thead>\n",
       "    <tr style=\"text-align: right;\">\n",
       "      <th></th>\n",
       "      <th>Profile Name</th>\n",
       "      <th>Start Time</th>\n",
       "      <th>Duration</th>\n",
       "      <th>Attributes</th>\n",
       "      <th>Title</th>\n",
       "      <th>Supplemental Video Type</th>\n",
       "      <th>Device Type</th>\n",
       "      <th>Bookmark</th>\n",
       "      <th>Latest Bookmark</th>\n",
       "      <th>Country</th>\n",
       "    </tr>\n",
       "  </thead>\n",
       "  <tbody>\n",
       "    <tr>\n",
       "      <th>0</th>\n",
       "      <td>Charlie</td>\n",
       "      <td>2013-03-20 5:17:53</td>\n",
       "      <td>0:00:05</td>\n",
       "      <td>NaN</td>\n",
       "      <td>Star Trek: Deep Space Nine: Season 5: Empok No...</td>\n",
       "      <td>NaN</td>\n",
       "      <td>Mac</td>\n",
       "      <td>0:00:05</td>\n",
       "      <td>Not latest view</td>\n",
       "      <td>US (United States)</td>\n",
       "    </tr>\n",
       "  </tbody>\n",
       "</table>\n",
       "</div>"
      ],
      "text/plain": [
       "  Profile Name          Start Time Duration  Attributes  \\\n",
       "0      Charlie  2013-03-20 5:17:53  0:00:05         NaN   \n",
       "\n",
       "                                               Title  Supplemental Video Type  \\\n",
       "0  Star Trek: Deep Space Nine: Season 5: Empok No...                      NaN   \n",
       "\n",
       "  Device Type Bookmark  Latest Bookmark             Country  \n",
       "0         Mac  0:00:05  Not latest view  US (United States)  "
      ]
     },
     "execution_count": 4,
     "metadata": {},
     "output_type": "execute_result"
    }
   ],
   "source": [
    "df.head(1)"
   ]
  },
  {
   "cell_type": "markdown",
   "id": "b9f5c50e",
   "metadata": {},
   "source": [
    "# Preparing the Data for Analysis\n",
    "Before we can do our number-crunching, let's clean up this data a bit to make it easier to work with.\n",
    "\n",
    "### Dropping Unnecessary Columns (Optional)\n",
    "First, we'll start by dropping the columns we're not planning to use. This is totally optional, and it's probably not a good idea for large-scale or ongoing projects. But for a small-scale personal project like this, it can be nice to work with a dataframe that includes only columns we're actually using.\n",
    "\n",
    "In this case, we're planning to analyze how much and when I've watched The Office, so we'll need to keep the Start Time, Duration, and Title columns. Everything else can go.\n",
    "\n",
    "To do this, we'll use df.drop() and pass it two arguments:\n",
    "\n",
    "1)  A list of the columns we'd like to drop\n",
    "\n",
    "2)  axis=1, which tells pandas to drop columns\n",
    "\n",
    "Here's what it looks like:"
   ]
  },
  {
   "cell_type": "code",
   "execution_count": 5,
   "id": "cb56ac75",
   "metadata": {},
   "outputs": [
    {
     "data": {
      "text/html": [
       "<div>\n",
       "<style scoped>\n",
       "    .dataframe tbody tr th:only-of-type {\n",
       "        vertical-align: middle;\n",
       "    }\n",
       "\n",
       "    .dataframe tbody tr th {\n",
       "        vertical-align: top;\n",
       "    }\n",
       "\n",
       "    .dataframe thead th {\n",
       "        text-align: right;\n",
       "    }\n",
       "</style>\n",
       "<table border=\"1\" class=\"dataframe\">\n",
       "  <thead>\n",
       "    <tr style=\"text-align: right;\">\n",
       "      <th></th>\n",
       "      <th>Start Time</th>\n",
       "      <th>Duration</th>\n",
       "      <th>Title</th>\n",
       "    </tr>\n",
       "  </thead>\n",
       "  <tbody>\n",
       "    <tr>\n",
       "      <th>0</th>\n",
       "      <td>2013-03-20 5:17:53</td>\n",
       "      <td>0:00:05</td>\n",
       "      <td>Star Trek: Deep Space Nine: Season 5: Empok No...</td>\n",
       "    </tr>\n",
       "    <tr>\n",
       "      <th>1</th>\n",
       "      <td>2013-03-20 4:27:45</td>\n",
       "      <td>0:44:31</td>\n",
       "      <td>Star Trek: Deep Space Nine: Season 5: Blaze of...</td>\n",
       "    </tr>\n",
       "    <tr>\n",
       "      <th>2</th>\n",
       "      <td>2013-03-20 4:05:21</td>\n",
       "      <td>0:22:06</td>\n",
       "      <td>Star Trek: Deep Space Nine: Season 5: Children...</td>\n",
       "    </tr>\n",
       "    <tr>\n",
       "      <th>3</th>\n",
       "      <td>2013-03-20 0:20:03</td>\n",
       "      <td>0:48:14</td>\n",
       "      <td>The Invisible War</td>\n",
       "    </tr>\n",
       "    <tr>\n",
       "      <th>4</th>\n",
       "      <td>2013-03-20 0:10:31</td>\n",
       "      <td>0:04:51</td>\n",
       "      <td>The Invisible War</td>\n",
       "    </tr>\n",
       "  </tbody>\n",
       "</table>\n",
       "</div>"
      ],
      "text/plain": [
       "           Start Time Duration  \\\n",
       "0  2013-03-20 5:17:53  0:00:05   \n",
       "1  2013-03-20 4:27:45  0:44:31   \n",
       "2  2013-03-20 4:05:21  0:22:06   \n",
       "3  2013-03-20 0:20:03  0:48:14   \n",
       "4  2013-03-20 0:10:31  0:04:51   \n",
       "\n",
       "                                               Title  \n",
       "0  Star Trek: Deep Space Nine: Season 5: Empok No...  \n",
       "1  Star Trek: Deep Space Nine: Season 5: Blaze of...  \n",
       "2  Star Trek: Deep Space Nine: Season 5: Children...  \n",
       "3                                  The Invisible War  \n",
       "4                                  The Invisible War  "
      ]
     },
     "execution_count": 5,
     "metadata": {},
     "output_type": "execute_result"
    }
   ],
   "source": [
    "df = df.drop(['Profile Name', 'Attributes', 'Supplemental Video Type', 'Device Type', 'Bookmark', 'Latest Bookmark', 'Country'], axis=1)\n",
    "df.head()"
   ]
  },
  {
   "cell_type": "markdown",
   "id": "2383bdca",
   "metadata": {},
   "source": [
    "# Converting Strings to Datetime and Timedelta in Pandas\n",
    "The data in our two time-related columns certainly looks correct, but what format is this data actually being stored in? We can use df.dtypes to get a quick list of the data types for each column in our dataframe:"
   ]
  },
  {
   "cell_type": "code",
   "execution_count": 6,
   "id": "bba225bc",
   "metadata": {},
   "outputs": [
    {
     "data": {
      "text/plain": [
       "Start Time    object\n",
       "Duration      object\n",
       "Title         object\n",
       "dtype: object"
      ]
     },
     "execution_count": 6,
     "metadata": {},
     "output_type": "execute_result"
    }
   ],
   "source": [
    "df.dtypes"
   ]
  },
  {
   "cell_type": "markdown",
   "id": "6529d820",
   "metadata": {},
   "source": [
    "As we can see here, all three columns are stored as object, which means they're strings. That's fine for the Title column, but we need to change the two time-related columns into the correct datatypes before we can work with them.\n",
    "\n",
    "Specifically, we need to do the following:\n",
    "\n",
    "Convert Start Time to datetime (a data and time format pandas can understand and perform calculations with)\n",
    "Convert Start Time from UTC to our local timezone\n",
    "Convert Duration to timedelta (a time duration format pandas can understand and perform calculations with)\n",
    "So, let's approach those tasks in that order, starting with converting Start Time to datetime using pandas's pd.to_datetime().\n",
    "\n",
    "We'll also add the optional argument utc=True so that our datetime data has the UTC timezone attached to it. This is important, since we'll need to convert it to a different timezone in the next step.\n",
    "\n",
    "We'll then run df.dtypes again just to confirm that this has worked as expected."
   ]
  },
  {
   "cell_type": "code",
   "execution_count": 7,
   "id": "ed5f1830",
   "metadata": {},
   "outputs": [
    {
     "data": {
      "text/plain": [
       "Start Time    datetime64[ns, UTC]\n",
       "Duration                   object\n",
       "Title                      object\n",
       "dtype: object"
      ]
     },
     "execution_count": 7,
     "metadata": {},
     "output_type": "execute_result"
    }
   ],
   "source": [
    "df['Start Time'] = pd.to_datetime(df['Start Time'], utc=True)\n",
    "df.dtypes"
   ]
  },
  {
   "cell_type": "markdown",
   "id": "cd20c504",
   "metadata": {},
   "source": [
    "Now we've got that column in the correct format, it's time to change the timezone so that when we do our analysis, we'll see everything in local time.\n",
    "\n",
    "We can convert datetimes to any timezone using the .tz_convert() and passing it an argument with the string for the timezone we want to convert to. In this case, that's 'US/Eastern'. To find your specific timezone, here's a handy reference of TZ timezone options:\n",
    "\n",
    "https://en.wikipedia.org/wiki/List_of_tz_database_time_zones\n",
    "\n",
    "The tricky bit here is that we can only use ***.tz_convert()*** on a DatetimeIndex, so we need to set our Start Time column as the index using set_index() before we perform the conversion.\n",
    "\n",
    "In this tutorial, we'll then use reset_index() to turn it back into a regular column afterwards. Depending on your preference and goals, this may not be necessary, but for the purposes of simplicity here, we'll try to do our analysis with all of our data in columns rather than having some of it as the index.\n",
    "\n",
    "Putting all of that together looks like this: (My zone is The North American Central Time Zone (CT))"
   ]
  },
  {
   "cell_type": "markdown",
   "id": "20d3563f",
   "metadata": {},
   "source": [
    "***Side note get this to work in central time once my data comes in***"
   ]
  },
  {
   "cell_type": "code",
   "execution_count": 8,
   "id": "3ab6b441",
   "metadata": {},
   "outputs": [
    {
     "data": {
      "text/html": [
       "<div>\n",
       "<style scoped>\n",
       "    .dataframe tbody tr th:only-of-type {\n",
       "        vertical-align: middle;\n",
       "    }\n",
       "\n",
       "    .dataframe tbody tr th {\n",
       "        vertical-align: top;\n",
       "    }\n",
       "\n",
       "    .dataframe thead th {\n",
       "        text-align: right;\n",
       "    }\n",
       "</style>\n",
       "<table border=\"1\" class=\"dataframe\">\n",
       "  <thead>\n",
       "    <tr style=\"text-align: right;\">\n",
       "      <th></th>\n",
       "      <th>Start Time</th>\n",
       "      <th>Duration</th>\n",
       "      <th>Title</th>\n",
       "    </tr>\n",
       "  </thead>\n",
       "  <tbody>\n",
       "    <tr>\n",
       "      <th>0</th>\n",
       "      <td>2013-03-20 01:17:53-04:00</td>\n",
       "      <td>0:00:05</td>\n",
       "      <td>Star Trek: Deep Space Nine: Season 5: Empok No...</td>\n",
       "    </tr>\n",
       "  </tbody>\n",
       "</table>\n",
       "</div>"
      ],
      "text/plain": [
       "                 Start Time Duration  \\\n",
       "0 2013-03-20 01:17:53-04:00  0:00:05   \n",
       "\n",
       "                                               Title  \n",
       "0  Star Trek: Deep Space Nine: Season 5: Empok No...  "
      ]
     },
     "execution_count": 8,
     "metadata": {},
     "output_type": "execute_result"
    }
   ],
   "source": [
    "# change the Start Time column into the dataframe's index\n",
    "df = df.set_index('Start Time')\n",
    "\n",
    "# convert from UTC timezone to The North American Central Time Zone\n",
    "df.index = df.index.tz_convert('US/Eastern')\n",
    "\n",
    "# reset the index so that Start Time becomes a column again\n",
    "df = df.reset_index()\n",
    "\n",
    "#double-check that it worked\n",
    "df.head(1)"
   ]
  },
  {
   "cell_type": "markdown",
   "id": "dcefb32e",
   "metadata": {},
   "source": [
    "We can see this is correct because the previous first row in our dataset had a Start Time of 2020-10-29 03:27:48. During Daylight Savings Time, the U.S. Eastern time zone is four hours behind UTC, so we can see that our conversion has happened correctly!\n",
    "\n",
    "Now, let's deal with our Duration column. This is, as the name suggests, a duration — ***a measure of a length of time.*** So, rather than converting it to a datetime, we need to convert it to a ***timedelta, which is a measure of time duration that pandas understands.***\n",
    "\n",
    "This is very similar to what we did when converting the Start Time column. We'll just need to use ***pd.to_timedelta()*** and pass it the column we want to convert as an argument.\n",
    "\n",
    "Once again, we'll use df.dtypes to quickly check our work."
   ]
  },
  {
   "cell_type": "code",
   "execution_count": 9,
   "id": "964a7465",
   "metadata": {},
   "outputs": [
    {
     "data": {
      "text/plain": [
       "Start Time    datetime64[ns, US/Eastern]\n",
       "Duration                 timedelta64[ns]\n",
       "Title                             object\n",
       "dtype: object"
      ]
     },
     "execution_count": 9,
     "metadata": {},
     "output_type": "execute_result"
    }
   ],
   "source": [
    "df['Duration'] = pd.to_timedelta(df['Duration'])\n",
    "df.dtypes"
   ]
  },
  {
   "cell_type": "markdown",
   "id": "ea819e85",
   "metadata": {},
   "source": [
    "# Filtering Strings by Substring in pandas Using str.contains\n",
    "There are many ways we could approach filtering The Office views. For our purposes here, though, we're going to create a new dataframe called office and populate it only with rows where the Title column contains 'The Office (U.S.)'.\n",
    "\n",
    "We can do this using str.contains(), giving it two arguments:\n",
    "\n",
    "'The Office (U.S.)', which is the substring we're using to pick out only episodes of The Office.\n",
    "regex=False, which tells the function that the previous argument is a string and not a regular expression."
   ]
  },
  {
   "cell_type": "code",
   "execution_count": 10,
   "id": "0d51f540",
   "metadata": {},
   "outputs": [],
   "source": [
    "# create a new dataframe called office that that takes from df\n",
    "# only the rows in which the Title column contains 'The Office (U.S.)'\n",
    "office = df[df['Title'].str.contains('The Office (U.S.)', regex=False)]\n"
   ]
  },
  {
   "cell_type": "markdown",
   "id": "6a75e131",
   "metadata": {},
   "source": [
    "Once we've done this, there are a few ways we could double-check our work. For example, we could use office.sample(20) to inspect a random ten rows of our new office dataframe. If all twenty rows contained Office episodes, we could be pretty confident things worked as expected.\n",
    "\n",
    "For if the purposes of preserving a little privacy in this tutorial, though, I'll run office.shape to check the size of the new dataframe. Since this dataframe should contain only my views of The Office, we should expect it to have significantly fewer rows than the 27,000+ row df dataset."
   ]
  },
  {
   "cell_type": "code",
   "execution_count": 11,
   "id": "842957d9",
   "metadata": {},
   "outputs": [
    {
     "data": {
      "text/plain": [
       "(137, 3)"
      ]
     },
     "execution_count": 11,
     "metadata": {},
     "output_type": "execute_result"
    }
   ],
   "source": [
    "office.shape"
   ]
  },
  {
   "cell_type": "code",
   "execution_count": 12,
   "id": "d15c8e25",
   "metadata": {},
   "outputs": [
    {
     "data": {
      "text/html": [
       "<div>\n",
       "<style scoped>\n",
       "    .dataframe tbody tr th:only-of-type {\n",
       "        vertical-align: middle;\n",
       "    }\n",
       "\n",
       "    .dataframe tbody tr th {\n",
       "        vertical-align: top;\n",
       "    }\n",
       "\n",
       "    .dataframe thead th {\n",
       "        text-align: right;\n",
       "    }\n",
       "</style>\n",
       "<table border=\"1\" class=\"dataframe\">\n",
       "  <thead>\n",
       "    <tr style=\"text-align: right;\">\n",
       "      <th></th>\n",
       "      <th>Start Time</th>\n",
       "      <th>Duration</th>\n",
       "      <th>Title</th>\n",
       "    </tr>\n",
       "  </thead>\n",
       "  <tbody>\n",
       "    <tr>\n",
       "      <th>132</th>\n",
       "      <td>2013-03-09 20:52:07-05:00</td>\n",
       "      <td>0 days 00:21:32</td>\n",
       "      <td>The Office (U.S.): Season 7: Michael's Last Du...</td>\n",
       "    </tr>\n",
       "    <tr>\n",
       "      <th>94</th>\n",
       "      <td>2013-03-12 00:11:10-04:00</td>\n",
       "      <td>0 days 00:20:54</td>\n",
       "      <td>The Office (U.S.): Season 2: Dwight's Speech (...</td>\n",
       "    </tr>\n",
       "    <tr>\n",
       "      <th>61</th>\n",
       "      <td>2013-03-14 01:33:24-04:00</td>\n",
       "      <td>0 days 00:21:12</td>\n",
       "      <td>The Office (U.S.): Season 3: Business School (...</td>\n",
       "    </tr>\n",
       "    <tr>\n",
       "      <th>149</th>\n",
       "      <td>2013-03-09 01:27:51-05:00</td>\n",
       "      <td>0 days 00:10:54</td>\n",
       "      <td>The Office (U.S.): Season 7: The Sting (Episod...</td>\n",
       "    </tr>\n",
       "    <tr>\n",
       "      <th>48</th>\n",
       "      <td>2013-03-15 02:03:33-04:00</td>\n",
       "      <td>0 days 00:21:11</td>\n",
       "      <td>The Office (U.S.): Season 3: The Job (Episode 23)</td>\n",
       "    </tr>\n",
       "    <tr>\n",
       "      <th>89</th>\n",
       "      <td>2013-03-12 10:51:11-04:00</td>\n",
       "      <td>0 days 00:00:52</td>\n",
       "      <td>The Office (U.S.): Season 2: Conflict Resoluti...</td>\n",
       "    </tr>\n",
       "    <tr>\n",
       "      <th>118</th>\n",
       "      <td>2013-03-10 20:26:12-04:00</td>\n",
       "      <td>0 days 00:20:35</td>\n",
       "      <td>The Office (U.S.): Season 2: The Dundies (Epis...</td>\n",
       "    </tr>\n",
       "    <tr>\n",
       "      <th>133</th>\n",
       "      <td>2013-03-09 20:25:05-05:00</td>\n",
       "      <td>0 days 00:21:29</td>\n",
       "      <td>The Office (U.S.): Season 7: Training Day (Epi...</td>\n",
       "    </tr>\n",
       "    <tr>\n",
       "      <th>151</th>\n",
       "      <td>2013-03-08 21:36:40-05:00</td>\n",
       "      <td>0 days 00:21:43</td>\n",
       "      <td>The Office (U.S.): Season 7: Sex Ed (Episode 4)</td>\n",
       "    </tr>\n",
       "    <tr>\n",
       "      <th>26</th>\n",
       "      <td>2013-03-17 00:48:28-04:00</td>\n",
       "      <td>0 days 00:21:41</td>\n",
       "      <td>The Office (U.S.): Season 4: Did I Stutter (Ep...</td>\n",
       "    </tr>\n",
       "    <tr>\n",
       "      <th>68</th>\n",
       "      <td>2013-03-13 18:56:08-04:00</td>\n",
       "      <td>0 days 00:21:06</td>\n",
       "      <td>The Office (U.S.): Season 3: Traveling Salesme...</td>\n",
       "    </tr>\n",
       "    <tr>\n",
       "      <th>95</th>\n",
       "      <td>2013-03-11 23:50:09-04:00</td>\n",
       "      <td>0 days 00:20:55</td>\n",
       "      <td>The Office (U.S.): Season 2: Valentine's Day (...</td>\n",
       "    </tr>\n",
       "    <tr>\n",
       "      <th>50</th>\n",
       "      <td>2013-03-15 01:01:11-04:00</td>\n",
       "      <td>0 days 00:28:35</td>\n",
       "      <td>The Office (U.S.): Season 3: Women's Appreciat...</td>\n",
       "    </tr>\n",
       "    <tr>\n",
       "      <th>44</th>\n",
       "      <td>2013-03-15 17:11:53-04:00</td>\n",
       "      <td>0 days 00:11:48</td>\n",
       "      <td>The Office (U.S.): Season 4: Dunder Mifflin In...</td>\n",
       "    </tr>\n",
       "    <tr>\n",
       "      <th>28</th>\n",
       "      <td>2013-03-16 16:14:27-04:00</td>\n",
       "      <td>0 days 00:04:59</td>\n",
       "      <td>The Office (U.S.): Season 4: Night Out (Episod...</td>\n",
       "    </tr>\n",
       "    <tr>\n",
       "      <th>23</th>\n",
       "      <td>2013-03-18 00:27:20-04:00</td>\n",
       "      <td>0 days 00:32:37</td>\n",
       "      <td>The Office (U.S.): Season 4: Goodbye, Toby (Ep...</td>\n",
       "    </tr>\n",
       "    <tr>\n",
       "      <th>57</th>\n",
       "      <td>2013-03-14 19:36:27-04:00</td>\n",
       "      <td>0 days 00:29:32</td>\n",
       "      <td>The Office (U.S.): Season 3: The Negotiation (...</td>\n",
       "    </tr>\n",
       "    <tr>\n",
       "      <th>135</th>\n",
       "      <td>2013-03-09 18:25:22-05:00</td>\n",
       "      <td>0 days 00:21:34</td>\n",
       "      <td>The Office (U.S.): Season 7: Threat Level Midn...</td>\n",
       "    </tr>\n",
       "    <tr>\n",
       "      <th>152</th>\n",
       "      <td>2013-03-08 21:35:43-05:00</td>\n",
       "      <td>0 days 00:00:55</td>\n",
       "      <td>The Office (U.S.): Season 7: Andy's Play (Epis...</td>\n",
       "    </tr>\n",
       "    <tr>\n",
       "      <th>25</th>\n",
       "      <td>2013-03-17 01:10:14-04:00</td>\n",
       "      <td>0 days 00:20:18</td>\n",
       "      <td>The Office (U.S.): Season 4: Job Fair (Episode...</td>\n",
       "    </tr>\n",
       "  </tbody>\n",
       "</table>\n",
       "</div>"
      ],
      "text/plain": [
       "                   Start Time        Duration  \\\n",
       "132 2013-03-09 20:52:07-05:00 0 days 00:21:32   \n",
       "94  2013-03-12 00:11:10-04:00 0 days 00:20:54   \n",
       "61  2013-03-14 01:33:24-04:00 0 days 00:21:12   \n",
       "149 2013-03-09 01:27:51-05:00 0 days 00:10:54   \n",
       "48  2013-03-15 02:03:33-04:00 0 days 00:21:11   \n",
       "89  2013-03-12 10:51:11-04:00 0 days 00:00:52   \n",
       "118 2013-03-10 20:26:12-04:00 0 days 00:20:35   \n",
       "133 2013-03-09 20:25:05-05:00 0 days 00:21:29   \n",
       "151 2013-03-08 21:36:40-05:00 0 days 00:21:43   \n",
       "26  2013-03-17 00:48:28-04:00 0 days 00:21:41   \n",
       "68  2013-03-13 18:56:08-04:00 0 days 00:21:06   \n",
       "95  2013-03-11 23:50:09-04:00 0 days 00:20:55   \n",
       "50  2013-03-15 01:01:11-04:00 0 days 00:28:35   \n",
       "44  2013-03-15 17:11:53-04:00 0 days 00:11:48   \n",
       "28  2013-03-16 16:14:27-04:00 0 days 00:04:59   \n",
       "23  2013-03-18 00:27:20-04:00 0 days 00:32:37   \n",
       "57  2013-03-14 19:36:27-04:00 0 days 00:29:32   \n",
       "135 2013-03-09 18:25:22-05:00 0 days 00:21:34   \n",
       "152 2013-03-08 21:35:43-05:00 0 days 00:00:55   \n",
       "25  2013-03-17 01:10:14-04:00 0 days 00:20:18   \n",
       "\n",
       "                                                 Title  \n",
       "132  The Office (U.S.): Season 7: Michael's Last Du...  \n",
       "94   The Office (U.S.): Season 2: Dwight's Speech (...  \n",
       "61   The Office (U.S.): Season 3: Business School (...  \n",
       "149  The Office (U.S.): Season 7: The Sting (Episod...  \n",
       "48   The Office (U.S.): Season 3: The Job (Episode 23)  \n",
       "89   The Office (U.S.): Season 2: Conflict Resoluti...  \n",
       "118  The Office (U.S.): Season 2: The Dundies (Epis...  \n",
       "133  The Office (U.S.): Season 7: Training Day (Epi...  \n",
       "151    The Office (U.S.): Season 7: Sex Ed (Episode 4)  \n",
       "26   The Office (U.S.): Season 4: Did I Stutter (Ep...  \n",
       "68   The Office (U.S.): Season 3: Traveling Salesme...  \n",
       "95   The Office (U.S.): Season 2: Valentine's Day (...  \n",
       "50   The Office (U.S.): Season 3: Women's Appreciat...  \n",
       "44   The Office (U.S.): Season 4: Dunder Mifflin In...  \n",
       "28   The Office (U.S.): Season 4: Night Out (Episod...  \n",
       "23   The Office (U.S.): Season 4: Goodbye, Toby (Ep...  \n",
       "57   The Office (U.S.): Season 3: The Negotiation (...  \n",
       "135  The Office (U.S.): Season 7: Threat Level Midn...  \n",
       "152  The Office (U.S.): Season 7: Andy's Play (Epis...  \n",
       "25   The Office (U.S.): Season 4: Job Fair (Episode...  "
      ]
     },
     "execution_count": 12,
     "metadata": {},
     "output_type": "execute_result"
    }
   ],
   "source": [
    "office.sample(20)"
   ]
  },
  {
   "cell_type": "markdown",
   "id": "df943e55",
   "metadata": {},
   "source": [
    "# Analyzing the Data\n",
    "***How much time have I spent watching The Office?***\n",
    "\n",
    "First, let's answer the big question: How much time have I spent watching The Office?\n",
    "\n",
    "Since we've already got our Duration column in a format that pandas can compute, answering this question is quite straightforward. We can use .sum() to add up the total duration:"
   ]
  },
  {
   "cell_type": "code",
   "execution_count": 13,
   "id": "8fcc9ec2",
   "metadata": {},
   "outputs": [
    {
     "data": {
      "text/plain": [
       "Timedelta('1 days 15:00:39')"
      ]
     },
     "execution_count": 13,
     "metadata": {},
     "output_type": "execute_result"
    }
   ],
   "source": [
    "office['Duration'].sum()"
   ]
  },
  {
   "cell_type": "markdown",
   "id": "ba82f102",
   "metadata": {},
   "source": [
    "thats 1 day 15 hours zero mins and 39 seconds"
   ]
  },
  {
   "cell_type": "markdown",
   "id": "7e2d6731",
   "metadata": {},
   "source": [
    "# When do I watch The Office?\n",
    "Let's answer this question in two different ways:\n",
    "\n",
    "1) On which days of the week have I watched the most Office episodes?\n",
    "\n",
    "2) During which hours of the day do I most often start Office episodes?\n",
    "\n",
    "We'll start with a little prep work that'll make these tasks a little more straightforward: creating new columns for \"weekday\" and \"hour\".\n",
    "\n",
    "We can use the .dt.weekday and .dt.hour methods on the Start Time column to do this and assign the results to new columns named weekday and hour:"
   ]
  },
  {
   "cell_type": "code",
   "execution_count": 14,
   "id": "5194470d",
   "metadata": {},
   "outputs": [
    {
     "data": {
      "text/html": [
       "<div>\n",
       "<style scoped>\n",
       "    .dataframe tbody tr th:only-of-type {\n",
       "        vertical-align: middle;\n",
       "    }\n",
       "\n",
       "    .dataframe tbody tr th {\n",
       "        vertical-align: top;\n",
       "    }\n",
       "\n",
       "    .dataframe thead th {\n",
       "        text-align: right;\n",
       "    }\n",
       "</style>\n",
       "<table border=\"1\" class=\"dataframe\">\n",
       "  <thead>\n",
       "    <tr style=\"text-align: right;\">\n",
       "      <th></th>\n",
       "      <th>Start Time</th>\n",
       "      <th>Duration</th>\n",
       "      <th>Title</th>\n",
       "      <th>Weekday</th>\n",
       "      <th>Hour</th>\n",
       "    </tr>\n",
       "  </thead>\n",
       "  <tbody>\n",
       "    <tr>\n",
       "      <th>9</th>\n",
       "      <td>2013-03-18 19:25:36-04:00</td>\n",
       "      <td>0 days 00:00:02</td>\n",
       "      <td>The Office (U.S.): Season 5: The Duel (Episode...</td>\n",
       "      <td>0</td>\n",
       "      <td>19</td>\n",
       "    </tr>\n",
       "  </tbody>\n",
       "</table>\n",
       "</div>"
      ],
      "text/plain": [
       "                 Start Time        Duration  \\\n",
       "9 2013-03-18 19:25:36-04:00 0 days 00:00:02   \n",
       "\n",
       "                                               Title  Weekday  Hour  \n",
       "9  The Office (U.S.): Season 5: The Duel (Episode...        0    19  "
      ]
     },
     "execution_count": 14,
     "metadata": {},
     "output_type": "execute_result"
    }
   ],
   "source": [
    "office2 = office.copy(deep=True)\n",
    "office2.loc[:, 'Weekday'] = office2.loc[:, 'Start Time'].dt.weekday\n",
    "office2.loc[:, 'Hour'] = office2.loc[:, 'Start Time'].dt.hour\n",
    "\n",
    "# check to make sure the columns were added correctly\n",
    "office2.head(1)"
   ]
  },
  {
   "cell_type": "markdown",
   "id": "4849bdce",
   "metadata": {},
   "source": [
    "Now, let's do a little analysis! These results will be easier to understand visually, so we'll start by using the %matplotlib inline magic to make our charts show up in our Jupyter notebook. Then, we'll import matplotlib."
   ]
  },
  {
   "cell_type": "code",
   "execution_count": 15,
   "id": "47ec9412",
   "metadata": {},
   "outputs": [],
   "source": [
    "%matplotlib inline\n",
    "import matplotlib"
   ]
  },
  {
   "cell_type": "markdown",
   "id": "f75712d9",
   "metadata": {},
   "source": [
    "Now, let's plot a chart of my viewing habits by day of the week. To do this, we'll need to work through a few steps:\n",
    "\n",
    "Tell pandas the order we want to chart the days in using pd.Categorical — by default, it will plot them in descending order based on the number of episodes watched on each day, but when looking at a graph, it'll be more intuitive to see the data in Monday-Sunday order.\n",
    "Count the number of episodes I viewed on each day in total\n",
    "Sort and plot the data\n",
    "(There are also many other ways we could approach analyzing and visualizing this data, of course.)\n",
    "\n",
    "Let's see how it looks step by step:"
   ]
  },
  {
   "cell_type": "markdown",
   "id": "7ab6180e",
   "metadata": {},
   "source": [
    "## Figure out how to change the numbers into the days of the week. As of now if we try the data outpot is zero or none"
   ]
  },
  {
   "cell_type": "code",
   "execution_count": 18,
   "id": "d393cf1e",
   "metadata": {},
   "outputs": [
    {
     "data": {
      "text/plain": [
       "<AxesSubplot:title={'center':'Office eposodes Watched By Day'}>"
      ]
     },
     "execution_count": 18,
     "metadata": {},
     "output_type": "execute_result"
    },
    {
     "data": {
      "image/png": "[encoded data removed]",
      "text/plain": [
       "<Figure size 1440x720 with 1 Axes>"
      ]
     },
     "metadata": {
      "needs_background": "light"
     },
     "output_type": "display_data"
    }
   ],
   "source": [
    "# set our categorical and define the order so the days are plotted Monday - Sunday\n",
    "office2['Weekday'] = pd.Categorical(office2['Weekday'], categories= [0,1,2,3,4,5,6], ordered=True)\n",
    "\n",
    "# create office_by_date and count the rows for each weekday, assigning the result to that variable\n",
    "office_by_day = office2['Weekday'].value_counts()\n",
    "\n",
    "# sort the index using our categoraical, so that Monday (0)  is forst, Tuesday (1) is second, etc.\n",
    "office_by_day = office_by_day.sort_index()\n",
    "\n",
    "# optional: ipdate the font size to make it a bit larger and easier to read\n",
    "matplotlib.rcParams.update({'font.size': 22})\n",
    "\n",
    "# plot office by day as a bar chart with the listed size and title\n",
    "office_by_day.plot(kind='bar', figsize=(20,10), title='Office eposodes Watched By Day')\n"
   ]
  },
  {
   "cell_type": "markdown",
   "id": "bd024716",
   "metadata": {},
   "source": [
    "Now, let's take a look at the same data by hour. The process here is very similar to what we just did above:"
   ]
  },
  {
   "cell_type": "code",
   "execution_count": 17,
   "id": "1fe01c9a",
   "metadata": {},
   "outputs": [
    {
     "data": {
      "text/plain": [
       "<AxesSubplot:title={'center':'Office Episodes Watched by Hour'}>"
      ]
     },
     "execution_count": 17,
     "metadata": {},
     "output_type": "execute_result"
    },
    {
     "data": {
      "image/png": "[encoded data removed]",
      "text/plain": [
       "<Figure size 1440x720 with 1 Axes>"
      ]
     },
     "metadata": {
      "needs_background": "light"
     },
     "output_type": "display_data"
    }
   ],
   "source": [
    "# set our categorical and define the order so the hours are plotted 0-23\n",
    "office2['Hour'] = pd.Categorical(office2['Hour'], categories=\n",
    "    [0,1,2,3,4,5,6,7,8,9,10,11,12,13,14,15,16,17,18,19,20,21,22,23],\n",
    "    ordered=True)\n",
    "\n",
    "# create office_by_hour and count the rows for each hour, assigning the result to that variable\n",
    "office_by_hour = office2['Hour'].value_counts()\n",
    "\n",
    "# sort the index using our categorical, so that midnight (0) is first, 1 a.m. (1) is second, etc.\n",
    "office_by_hour = office_by_hour.sort_index()\n",
    "\n",
    "# plot office_by_hour as a bar chart with the listed size and title\n",
    "office_by_hour.plot(kind='bar', figsize=(20,10), title='Office Episodes Watched by Hour')"
   ]
  },
  {
   "cell_type": "markdown",
   "id": "44483e19",
   "metadata": {},
   "source": [
    "From the data, it looks like 6 p.m. and 7 p.m. were the hours during which I most often started episodes of The Office. \n",
    "\n",
    "Outside of that, it's no surprise to see that most of my viewing happened during the evenings.\n",
    "\n",
    "\n",
    "What's Next?\n",
    "In this tutorial, we've taken a quick dive into some personal Netflix data and learned that — among other things — I watch The Office too much. But there are tons of places you could go from here! Here are some ideas for expanding this project for yourself:\n",
    "\n",
    "Do the same or similar analysis for another show.\n",
    "See if you can create separate columns for show titles and episode titles using regular expressions [learn to use those in our Advanced Data Cleaning course)\n",
    "Figure out which specific episodes you've watched most and least\n",
    "Create prettier charts (our Storytelling with Data Visualization course can help with that)"
   ]
  },
  {
   "cell_type": "code",
   "execution_count": null,
   "id": "59829c3e",
   "metadata": {},
   "outputs": [],
   "source": []
  },
  {
   "cell_type": "code",
   "execution_count": null,
   "id": "2f7546c5",
   "metadata": {},
   "outputs": [],
   "source": []
  },
  {
   "cell_type": "code",
   "execution_count": null,
   "id": "3e8c6859",
   "metadata": {},
   "outputs": [],
   "source": []
  },
  {
   "cell_type": "code",
   "execution_count": null,
   "id": "818641fc",
   "metadata": {},
   "outputs": [],
   "source": []
  }
 ],
 "metadata": {
  "kernelspec": {
   "display_name": "Python 3",
   "language": "python",
   "name": "python3"
  },
  "language_info": {
   "codemirror_mode": {
    "name": "ipython",
    "version": 3
   },
   "file_extension": ".py",
   "mimetype": "text/x-python",
   "name": "python",
   "nbconvert_exporter": "python",
   "pygments_lexer": "ipython3",
   "version": "3.9.5"
  }
 },
 "nbformat": 4,
 "nbformat_minor": 5
}
