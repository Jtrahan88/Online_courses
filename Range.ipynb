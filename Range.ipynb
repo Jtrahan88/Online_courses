{
 "cells": [
  {
   "cell_type": "markdown",
   "id": "43f31818",
   "metadata": {},
   "source": [
    "Range\n",
    "\n",
    "\n",
    "You are making a date picker for a website and need to output all the years in a given period.\n",
    "Write a program that takes two integers as input and outputs the range of numbers between the two inputs as a list.\n",
    "The output sequence should start with the first input number and end with the second input number, without including it.\n",
    "\n",
    "Sample Input\n",
    "2005\n",
    "2011\n",
    "\n",
    "Sample Output\n",
    "\n",
    "[2005, 2006, 2007, 2008, 2009, 2010]\n",
    "\n",
    "***You can convert a range object to a list and output it.***"
   ]
  },
  {
   "cell_type": "code",
   "execution_count": 1,
   "id": "03bbe2a3",
   "metadata": {},
   "outputs": [
    {
     "name": "stdout",
     "output_type": "stream",
     "text": [
      "2\n",
      "9\n",
      "[2, 3, 4, 5, 6, 7, 8]\n"
     ]
    }
   ],
   "source": [
    "a = int(input())\n",
    "b = int(input())\n",
    "\n",
    "year = list(range(a,b))\n",
    "print(year)"
   ]
  },
  {
   "cell_type": "code",
   "execution_count": null,
   "id": "39770c9c",
   "metadata": {},
   "outputs": [],
   "source": []
  }
 ],
 "metadata": {
  "kernelspec": {
   "display_name": "Python 3",
   "language": "python",
   "name": "python3"
  },
  "language_info": {
   "codemirror_mode": {
    "name": "ipython",
    "version": 3
   },
   "file_extension": ".py",
   "mimetype": "text/x-python",
   "name": "python",
   "nbconvert_exporter": "python",
   "pygments_lexer": "ipython3",
   "version": "3.9.4"
  }
 },
 "nbformat": 4,
 "nbformat_minor": 5
}
