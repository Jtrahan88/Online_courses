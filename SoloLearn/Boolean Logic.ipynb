{
 "cells": [
  {
   "cell_type": "markdown",
   "id": "bca3db85",
   "metadata": {},
   "source": [
    "Boolean Logic\n",
    "\n",
    "\n",
    "You need to create a program that outputs whether a store is Open or Closed, based on the hour and the day of the week.\n",
    "The store is open on all days from 10 to 21, except Saturday and Sunday.\n",
    "You need to take the hour and the day of the week as input.\n",
    "The day of the week is represented as an integer (1 for Monday, 2 for Tuesday, etc.)\n",
    "\n",
    "Sample Input:\n",
    "15\n",
    "4\n",
    "\n",
    "Sample Output:\n",
    "\n",
    "Open\n",
    "\n",
    "Explanation: The store is open at 15:00 on Thursdays (4 represents a Thursday)."
   ]
  },
  {
   "cell_type": "code",
   "execution_count": 1,
   "id": "fe8b3f8f",
   "metadata": {},
   "outputs": [
    {
     "name": "stdout",
     "output_type": "stream",
     "text": [
      "5\n",
      "4\n",
      "Closed\n"
     ]
    }
   ],
   "source": [
    "hour = int(input())\n",
    "day = int(input())\n",
    "# your code goes here\n",
    "if hour in range(10, 22) and day != 6 and 7:\n",
    "\tprint(\"Open\")\n",
    "else:\n",
    "\tprint(\"Closed\")"
   ]
  },
  {
   "cell_type": "code",
   "execution_count": null,
   "id": "626aca9d",
   "metadata": {},
   "outputs": [],
   "source": []
  }
 ],
 "metadata": {
  "kernelspec": {
   "display_name": "Python 3",
   "language": "python",
   "name": "python3"
  },
  "language_info": {
   "codemirror_mode": {
    "name": "ipython",
    "version": 3
   },
   "file_extension": ".py",
   "mimetype": "text/x-python",
   "name": "python",
   "nbconvert_exporter": "python",
   "pygments_lexer": "ipython3",
   "version": "3.9.4"
  }
 },
 "nbformat": 4,
 "nbformat_minor": 5
}
