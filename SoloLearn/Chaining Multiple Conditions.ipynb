{
 "cells": [
  {
   "cell_type": "markdown",
   "id": "c61e2977",
   "metadata": {},
   "source": [
    "Chaining Multiple Conditions\n",
    "\n",
    "\n",
    "The university gives students discounts on tuition fees depending on their performance:\n",
    "90-100 => 50%\n",
    "80-89 => 30%\n",
    "70-79 => 10%\n",
    "0-69 => 0%\n",
    "Write a program that will take the scores from the first and second semesters, then calculate the average score, and output the discount, depending on the score.\n",
    "\n",
    "Sample Input\n",
    "67\n",
    "83\n",
    "\n",
    "Sample Output\n",
    "10\n",
    "\n",
    "Explanation\n",
    "Average of 67 and 83 is 75, which is in range of 70 to 79 and gets a 10% discount. Do not include the % symbol in the output.\n",
    "Average is the sum of numbers divided by quantity of that numbers. For example average of 5,6,7 is (5+6+7)/3 = 6."
   ]
  },
  {
   "cell_type": "code",
   "execution_count": 1,
   "id": "93b3e6dd",
   "metadata": {},
   "outputs": [
    {
     "name": "stdout",
     "output_type": "stream",
     "text": [
      "4\n",
      "5\n",
      "0\n"
     ]
    }
   ],
   "source": [
    "score1 = int(input())\n",
    "score2 = int(input())\n",
    "#your code goes here\n",
    "average = (score1 + score2)/2\n",
    "\n",
    "if average >= 90 and average <= 100:\n",
    "\tprint(50)\n",
    "elif average >= 80 and average <= 89:\n",
    "\tprint(30)\n",
    "elif average >= 70 and average <= 79:\n",
    "\tprint(10)\n",
    "else:\n",
    "\tprint(0)"
   ]
  },
  {
   "cell_type": "code",
   "execution_count": null,
   "id": "c5f51a9a",
   "metadata": {},
   "outputs": [],
   "source": []
  }
 ],
 "metadata": {
  "kernelspec": {
   "display_name": "Python 3",
   "language": "python",
   "name": "python3"
  },
  "language_info": {
   "codemirror_mode": {
    "name": "ipython",
    "version": 3
   },
   "file_extension": ".py",
   "mimetype": "text/x-python",
   "name": "python",
   "nbconvert_exporter": "python",
   "pygments_lexer": "ipython3",
   "version": "3.9.4"
  }
 },
 "nbformat": 4,
 "nbformat_minor": 5
}
