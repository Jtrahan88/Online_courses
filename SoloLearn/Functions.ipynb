{
 "cells": [
  {
   "cell_type": "markdown",
   "id": "17e3283d",
   "metadata": {},
   "source": [
    "Functions\n",
    "\n",
    "\n",
    "We have a function that outputs \"Welcome, user\" as it is called. We want to make it more personalized, so redesign the given function so that it will take the given input as the name of the user and output the welcome message with it.\n",
    "\n",
    "Sample Input\n",
    "Tommy\n",
    "\n",
    "Sample Output:\n",
    "\n",
    "Welcome, Tommy\n",
    "\n",
    "***Don't forget to call the function.***"
   ]
  },
  {
   "cell_type": "code",
   "execution_count": 1,
   "id": "b777c446",
   "metadata": {},
   "outputs": [
    {
     "name": "stdout",
     "output_type": "stream",
     "text": [
      "JQTs\n",
      "Welcome, JQTs\n"
     ]
    }
   ],
   "source": [
    "def welcome_message():\n",
    "\t\n",
    "\tname = input()\n",
    "\tprint(\"Welcome, \" + name)\n",
    "\t\n",
    "welcome_message()"
   ]
  },
  {
   "cell_type": "code",
   "execution_count": null,
   "id": "8fe48503",
   "metadata": {},
   "outputs": [],
   "source": []
  }
 ],
 "metadata": {
  "kernelspec": {
   "display_name": "Python 3",
   "language": "python",
   "name": "python3"
  },
  "language_info": {
   "codemirror_mode": {
    "name": "ipython",
    "version": 3
   },
   "file_extension": ".py",
   "mimetype": "text/x-python",
   "name": "python",
   "nbconvert_exporter": "python",
   "pygments_lexer": "ipython3",
   "version": "3.9.4"
  }
 },
 "nbformat": 4,
 "nbformat_minor": 5
}
