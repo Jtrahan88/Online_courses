{
 "cells": [
  {
   "cell_type": "markdown",
   "id": "bd4fa831",
   "metadata": {},
   "source": [
    "List Functions\n",
    "\n",
    "\n",
    "Given a list, calculate the middle element's index.\n",
    "\n",
    "You can use the len() function to get the number of elements in the list and then floor divide it by 2 using two slashes (//)."
   ]
  },
  {
   "cell_type": "code",
   "execution_count": 1,
   "id": "3dcefac2",
   "metadata": {},
   "outputs": [
    {
     "name": "stdout",
     "output_type": "stream",
     "text": [
      "3\n"
     ]
    }
   ],
   "source": [
    "items = [2, 4, 6, 8, 10, 12, 14]\n",
    "\n",
    "\n",
    "items = len(items)// 2\n",
    "\n",
    "print(items)"
   ]
  },
  {
   "cell_type": "code",
   "execution_count": null,
   "id": "6d3f1b2a",
   "metadata": {},
   "outputs": [],
   "source": []
  }
 ],
 "metadata": {
  "kernelspec": {
   "display_name": "Python 3",
   "language": "python",
   "name": "python3"
  },
  "language_info": {
   "codemirror_mode": {
    "name": "ipython",
    "version": 3
   },
   "file_extension": ".py",
   "mimetype": "text/x-python",
   "name": "python",
   "nbconvert_exporter": "python",
   "pygments_lexer": "ipython3",
   "version": "3.9.4"
  }
 },
 "nbformat": 4,
 "nbformat_minor": 5
}
