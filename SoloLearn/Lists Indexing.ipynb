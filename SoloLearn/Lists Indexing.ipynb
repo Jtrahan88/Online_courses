{
 "cells": [
  {
   "cell_type": "markdown",
   "id": "dd1151d0",
   "metadata": {},
   "source": [
    "Lists\n",
    "\n",
    "\n",
    "Remember, strings can be indexed like lists.\n",
    "\n",
    "Write a program that takes an input string and outputs the 3rd character of the string.\n",
    "\n",
    "Sample Input\n",
    "Hello\n",
    "\n",
    "Sample Output\n",
    "l\n",
    "Remember, the first element has the index 0."
   ]
  },
  {
   "cell_type": "code",
   "execution_count": 1,
   "id": "4ca31435",
   "metadata": {},
   "outputs": [
    {
     "name": "stdout",
     "output_type": "stream",
     "text": [
      "Hello my name is JQTS\n",
      "l\n"
     ]
    }
   ],
   "source": [
    "text = input()\n",
    "\n",
    "print(text[2])"
   ]
  },
  {
   "cell_type": "code",
   "execution_count": null,
   "id": "fb200b31",
   "metadata": {},
   "outputs": [],
   "source": []
  }
 ],
 "metadata": {
  "kernelspec": {
   "display_name": "Python 3",
   "language": "python",
   "name": "python3"
  },
  "language_info": {
   "codemirror_mode": {
    "name": "ipython",
    "version": 3
   },
   "file_extension": ".py",
   "mimetype": "text/x-python",
   "name": "python",
   "nbconvert_exporter": "python",
   "pygments_lexer": "ipython3",
   "version": "3.9.4"
  }
 },
 "nbformat": 4,
 "nbformat_minor": 5
}
