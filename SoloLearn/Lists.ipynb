{
 "cells": [
  {
   "cell_type": "markdown",
   "id": "aba1c563",
   "metadata": {},
   "source": [
    "Lists\n",
    "\n",
    "\n",
    "Imagine a vending machine that sells fruits. Each fruit has its own number, starting from 0.\n",
    "Write a program for the vending machine, which will take n number as input from the customer and return the fruit with that index.\n",
    "fruits = [\"apple\", \"cherry\", \"banana\", \"kiwi\", \"lemon\", \"pear\", \"peach\", \"avocado\"] \n",
    "PY\n",
    "If n< 0 or n>7 (the index of last fruit ), the program outputs \"Wrong number\".\n",
    "\n",
    "Sample Input:\n",
    "2\n",
    "\n",
    "Sample Output:\n",
    "banana\n",
    "Remember that the first element of the list has 0 index."
   ]
  },
  {
   "cell_type": "code",
   "execution_count": 1,
   "id": "cea21a3d",
   "metadata": {},
   "outputs": [
    {
     "name": "stdout",
     "output_type": "stream",
     "text": [
      "4\n",
      "lemon\n"
     ]
    }
   ],
   "source": [
    "fruits = [\"apple\", \"cherry\", \"banana\", \"kiwi\", \"lemon\", \"pear\", \"peach\", \"avocado\"]\n",
    "num = int(input())\n",
    "#your code goes here\n",
    "if num < 0 or  num >7:\n",
    "\tprint(\"Wrong number\")\n",
    "else:\n",
    "\tprint(fruits[num])"
   ]
  },
  {
   "cell_type": "code",
   "execution_count": null,
   "id": "58514897",
   "metadata": {},
   "outputs": [],
   "source": []
  }
 ],
 "metadata": {
  "kernelspec": {
   "display_name": "Python 3",
   "language": "python",
   "name": "python3"
  },
  "language_info": {
   "codemirror_mode": {
    "name": "ipython",
    "version": 3
   },
   "file_extension": ".py",
   "mimetype": "text/x-python",
   "name": "python",
   "nbconvert_exporter": "python",
   "pygments_lexer": "ipython3",
   "version": "3.9.4"
  }
 },
 "nbformat": 4,
 "nbformat_minor": 5
}
