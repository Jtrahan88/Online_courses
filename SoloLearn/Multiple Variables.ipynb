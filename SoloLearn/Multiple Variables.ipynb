{
 "cells": [
  {
   "cell_type": "markdown",
   "id": "d2ffb45c",
   "metadata": {},
   "source": [
    "Multiple Variables\n",
    "\n",
    "\n",
    "You can use multiple variables to take multiple inputs for your program.\n",
    "For example, the following code takes two inputs and stores them in the variables x and y:\n",
    "x = input()\n",
    "y = input()\n",
    "PY\n",
    "Task:\n",
    "Given the code above, output the input x repeated y times.\n",
    "\n",
    "Sample Input:\n",
    "awesome\n",
    "3\n",
    "\n",
    "Sample Output:\n",
    "awesomeawesomeawesome\n",
    "Remember, the input() function results in a string. You need to convert the result into the corresponding type, if you need to use it as a number."
   ]
  },
  {
   "cell_type": "code",
   "execution_count": 1,
   "id": "7ca54af3",
   "metadata": {},
   "outputs": [
    {
     "name": "stdout",
     "output_type": "stream",
     "text": [
      "4\n",
      "5\n",
      "44444\n"
     ]
    }
   ],
   "source": [
    "x = input()\n",
    "y = int(input())\n",
    "z = x * y\n",
    "print(z)"
   ]
  },
  {
   "cell_type": "code",
   "execution_count": null,
   "id": "f2e76bb9",
   "metadata": {},
   "outputs": [],
   "source": []
  }
 ],
 "metadata": {
  "kernelspec": {
   "display_name": "Python 3",
   "language": "python",
   "name": "python3"
  },
  "language_info": {
   "codemirror_mode": {
    "name": "ipython",
    "version": 3
   },
   "file_extension": ".py",
   "mimetype": "text/x-python",
   "name": "python",
   "nbconvert_exporter": "python",
   "pygments_lexer": "ipython3",
   "version": "3.9.4"
  }
 },
 "nbformat": 4,
 "nbformat_minor": 5
}
