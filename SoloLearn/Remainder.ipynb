{
 "cells": [
  {
   "cell_type": "markdown",
   "id": "6c03e876",
   "metadata": {},
   "source": [
    "Remainder\n",
    "\n",
    "\n",
    "We need to distribute math and history textbooks to students.\n",
    "There are 2 class sections: the first section has 18 pupils, and the second one has 19. The total number of books available for distribution is 76.\n",
    "Write a program to calculate and output how many books will be left after each student receives both books.\n",
    "\n",
    "\n",
    "***Use the modulo operator (%) to get the remainder.***"
   ]
  },
  {
   "cell_type": "code",
   "execution_count": 1,
   "id": "74438052",
   "metadata": {},
   "outputs": [
    {
     "name": "stdout",
     "output_type": "stream",
     "text": [
      "2\n"
     ]
    }
   ],
   "source": [
    "print(76 % (18+19))"
   ]
  },
  {
   "cell_type": "code",
   "execution_count": null,
   "id": "297d8b13",
   "metadata": {},
   "outputs": [],
   "source": []
  }
 ],
 "metadata": {
  "kernelspec": {
   "display_name": "Python 3",
   "language": "python",
   "name": "python3"
  },
  "language_info": {
   "codemirror_mode": {
    "name": "ipython",
    "version": 3
   },
   "file_extension": ".py",
   "mimetype": "text/x-python",
   "name": "python",
   "nbconvert_exporter": "python",
   "pygments_lexer": "ipython3",
   "version": "3.9.4"
  }
 },
 "nbformat": 4,
 "nbformat_minor": 5
}
