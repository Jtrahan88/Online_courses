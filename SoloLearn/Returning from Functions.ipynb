{
 "cells": [
  {
   "cell_type": "markdown",
   "id": "7181edc5",
   "metadata": {},
   "source": [
    "Returning from Functions\n",
    "\n",
    "\n",
    "We are creating our own social network application and need to have a hashtag generator program.\n",
    "Complete the program to output the input text starting with the hashtag (#).\n",
    "Also, if the user entered several words, the program should delete the spaces between them.\n",
    "\n",
    "Sample Input:\n",
    "\n",
    "code sleep eat repeat\n",
    "\n",
    "Sample Output:\n",
    "\n",
    "#codesleepeatrepeat\n",
    "\n",
    "***Hint***\n",
    "You can use the replace() function to replace the spaces (\" \") with empty strings (\"\"). See how it works:\n",
    "\n",
    "s = \"I like pears\"\n",
    "\n",
    "s1 = s.replace(\"pears\", \"apricots\")\n",
    "\n",
    "print(s1)\n",
    "\n",
    "#prints I like apricots\n",
    "\n",
    "\n",
    "***Notice that replace() function returns a new string, so you need to declare a new variable for it.***"
   ]
  },
  {
   "cell_type": "code",
   "execution_count": 1,
   "id": "545d6c51",
   "metadata": {},
   "outputs": [
    {
     "name": "stdout",
     "output_type": "stream",
     "text": [
      "JQTs\n",
      "#JQTs\n"
     ]
    }
   ],
   "source": [
    "s = input()\n",
    "\n",
    "def hashtagGen(text):\n",
    "\t#your code goes here\n",
    "\ts1 = s.replace(\" \", \"\")\n",
    "\treturn \"#\" + s1\n",
    "\n",
    "print(hashtagGen(s))"
   ]
  },
  {
   "cell_type": "code",
   "execution_count": null,
   "id": "79e2f55a",
   "metadata": {},
   "outputs": [],
   "source": []
  }
 ],
 "metadata": {
  "kernelspec": {
   "display_name": "Python 3",
   "language": "python",
   "name": "python3"
  },
  "language_info": {
   "codemirror_mode": {
    "name": "ipython",
    "version": 3
   },
   "file_extension": ".py",
   "mimetype": "text/x-python",
   "name": "python",
   "nbconvert_exporter": "python",
   "pygments_lexer": "ipython3",
   "version": "3.9.4"
  }
 },
 "nbformat": 4,
 "nbformat_minor": 5
}
