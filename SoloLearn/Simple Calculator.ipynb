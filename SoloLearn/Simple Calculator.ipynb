{
 "cells": [
  {
   "cell_type": "markdown",
   "id": "bf3beb7e",
   "metadata": {},
   "source": [
    "Simple Calculator\n",
    "\n",
    "\n",
    "Write a program to take two integers as input and output their sum.\n",
    "\n",
    "Sample Input:\n",
    "2\n",
    "8\n",
    "\n",
    "Sample Output:\n",
    "10\n",
    "Remember, input() results in a string."
   ]
  },
  {
   "cell_type": "code",
   "execution_count": 1,
   "id": "f07b47d1",
   "metadata": {},
   "outputs": [
    {
     "name": "stdout",
     "output_type": "stream",
     "text": [
      "1\n",
      "2\n",
      "3\n"
     ]
    }
   ],
   "source": [
    "num1 = int(input())\n",
    "num2 = int(input())\n",
    "\n",
    "print(num1+num2)"
   ]
  },
  {
   "cell_type": "code",
   "execution_count": null,
   "id": "4d5ba5e9",
   "metadata": {},
   "outputs": [],
   "source": []
  }
 ],
 "metadata": {
  "kernelspec": {
   "display_name": "Python 3",
   "language": "python",
   "name": "python3"
  },
  "language_info": {
   "codemirror_mode": {
    "name": "ipython",
    "version": 3
   },
   "file_extension": ".py",
   "mimetype": "text/x-python",
   "name": "python",
   "nbconvert_exporter": "python",
   "pygments_lexer": "ipython3",
   "version": "3.9.4"
  }
 },
 "nbformat": 4,
 "nbformat_minor": 5
}
