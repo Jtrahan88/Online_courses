{
 "cells": [
  {
   "cell_type": "markdown",
   "id": "02b4282c",
   "metadata": {},
   "source": [
    "Simple Operations\n",
    "\n",
    "\n",
    "Today is a holiday at the children's camp, so all the children will be served ice cream.\n",
    "There are 3 groups of children: 23 children in the first group, 27 in the second, and 18 in the third. Every child should get 2 scoops of ice cream.\n",
    "\n",
    "Write a program to calculate and output the total number of ice cream scoops we need.\n",
    "Use the print() function for output."
   ]
  },
  {
   "cell_type": "code",
   "execution_count": 1,
   "id": "04d97a12",
   "metadata": {},
   "outputs": [
    {
     "name": "stdout",
     "output_type": "stream",
     "text": [
      "136\n"
     ]
    }
   ],
   "source": [
    "print((23 + 27 + 18)*2 )"
   ]
  },
  {
   "cell_type": "code",
   "execution_count": null,
   "id": "8d2c0e38",
   "metadata": {},
   "outputs": [],
   "source": []
  }
 ],
 "metadata": {
  "kernelspec": {
   "display_name": "Python 3",
   "language": "python",
   "name": "python3"
  },
  "language_info": {
   "codemirror_mode": {
    "name": "ipython",
    "version": 3
   },
   "file_extension": ".py",
   "mimetype": "text/x-python",
   "name": "python",
   "nbconvert_exporter": "python",
   "pygments_lexer": "ipython3",
   "version": "3.9.4"
  }
 },
 "nbformat": 4,
 "nbformat_minor": 5
}
