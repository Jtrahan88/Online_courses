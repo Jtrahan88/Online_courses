{
 "cells": [
  {
   "cell_type": "markdown",
   "id": "31622dcf",
   "metadata": {},
   "source": [
    "if Statements\n",
    "\n",
    "\n",
    "Write a program that checks if the water is boiling.\n",
    "Take the integer temperature in Celsius as input and output \"Boiling\" if the temperature is above or equal to 100.\n",
    "\n",
    "Sample Input\n",
    "105\n",
    "\n",
    "Sample Output\n",
    "Boiling\n",
    "Do not output anything if the water is not boiling."
   ]
  },
  {
   "cell_type": "code",
   "execution_count": 1,
   "id": "f7c8d70d",
   "metadata": {},
   "outputs": [
    {
     "name": "stdout",
     "output_type": "stream",
     "text": [
      "10000\n",
      "Boiling\n"
     ]
    }
   ],
   "source": [
    "temp = int(input())\n",
    "\n",
    "if temp >= 100:\n",
    "\tprint(\"Boiling\")"
   ]
  },
  {
   "cell_type": "code",
   "execution_count": null,
   "id": "7555cec5",
   "metadata": {},
   "outputs": [],
   "source": []
  }
 ],
 "metadata": {
  "kernelspec": {
   "display_name": "Python 3",
   "language": "python",
   "name": "python3"
  },
  "language_info": {
   "codemirror_mode": {
    "name": "ipython",
    "version": 3
   },
   "file_extension": ".py",
   "mimetype": "text/x-python",
   "name": "python",
   "nbconvert_exporter": "python",
   "pygments_lexer": "ipython3",
   "version": "3.9.4"
  }
 },
 "nbformat": 4,
 "nbformat_minor": 5
}
