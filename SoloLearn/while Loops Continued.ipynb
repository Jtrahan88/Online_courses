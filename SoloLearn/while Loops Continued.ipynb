{
 "cells": [
  {
   "cell_type": "markdown",
   "id": "8ae29670",
   "metadata": {},
   "source": [
    "while Loops\n",
    "\n",
    "\n",
    "The given program calculates and outputs the number of digits in a given number using a while loop.\n",
    "\n",
    "n = int(input())\n",
    "\n",
    "length = 0\n",
    "\n",
    "while n > 0:\n",
    "\n",
    "    n //= 10\n",
    "    \n",
    "    length += 1\n",
    "    \n",
    "print(length) \n",
    "\n",
    "PY\n",
    "During each iteration, the loop uses floor division to divide the given number by 10, thus dropping one digit.\n",
    "The process continues until the number has no more digits (n>0).\n",
    "\n",
    "You need to change the code to calculate and output the sum of all digits of the input number.\n",
    "\n",
    "Sample Input\n",
    "643\n",
    "\n",
    "Sample Output\n",
    "13\n",
    "\n",
    "Explanation:\n",
    "\n",
    "The sum of the digits of 643 is 6+4+3 = 13.\n",
    "\n",
    "***You can get each digit of the number by modulo dividing (%) it by 10 during each iteration.***"
   ]
  },
  {
   "cell_type": "code",
   "execution_count": 1,
   "id": "436b9c3e",
   "metadata": {},
   "outputs": [
    {
     "name": "stdout",
     "output_type": "stream",
     "text": [
      "5\n",
      "5\n"
     ]
    }
   ],
   "source": [
    "n = int(input())\n",
    "\n",
    "total = 0\n",
    "\n",
    "while n > 0:\n",
    "   total += n % 10\n",
    "   n //= 10\n",
    "    \n",
    "print(total)"
   ]
  },
  {
   "cell_type": "code",
   "execution_count": null,
   "id": "c756223a",
   "metadata": {},
   "outputs": [],
   "source": []
  }
 ],
 "metadata": {
  "kernelspec": {
   "display_name": "Python 3",
   "language": "python",
   "name": "python3"
  },
  "language_info": {
   "codemirror_mode": {
    "name": "ipython",
    "version": 3
   },
   "file_extension": ".py",
   "mimetype": "text/x-python",
   "name": "python",
   "nbconvert_exporter": "python",
   "pygments_lexer": "ipython3",
   "version": "3.9.4"
  }
 },
 "nbformat": 4,
 "nbformat_minor": 5
}
