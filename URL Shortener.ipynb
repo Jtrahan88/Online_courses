{
 "cells": [
  {
   "cell_type": "markdown",
   "id": "4543022f",
   "metadata": {},
   "source": [
    "# URL Shortener in Python\n",
    "use the following pip istallation to istall this module\n",
    "\n",
    "pip install pyshorteners"
   ]
  },
  {
   "cell_type": "code",
   "execution_count": 2,
   "id": "2f6ecd6e",
   "metadata": {},
   "outputs": [],
   "source": [
    "import pyshorteners"
   ]
  },
  {
   "cell_type": "code",
   "execution_count": 3,
   "id": "d218cb12",
   "metadata": {
    "scrolled": true
   },
   "outputs": [
    {
     "name": "stdout",
     "output_type": "stream",
     "text": [
      "Enter your URL: https://app.box.com/folder/0/search?isTrashSearch=0&metadata=&owners=&query=021-200-18-00_SSF&resinSessionID=c63d2f39cf28a05e4ee5c3&types=file&updatedTime=0&updatedTimeFrom=0&updatedTimeTo=0\n",
      "Your url:  https://tinyurl.com/ydtzq86o\n"
     ]
    }
   ],
   "source": [
    "url = input(\"Enter your URL: \")\n",
    "print(\"Your url: \", pyshorteners.Shortener().tinyurl.short(url))\n"
   ]
  },
  {
   "cell_type": "code",
   "execution_count": null,
   "id": "51fee378",
   "metadata": {},
   "outputs": [],
   "source": []
  },
  {
   "cell_type": "code",
   "execution_count": null,
   "id": "d590d0c6",
   "metadata": {},
   "outputs": [],
   "source": []
  },
  {
   "cell_type": "code",
   "execution_count": null,
   "id": "4c153371",
   "metadata": {},
   "outputs": [],
   "source": []
  }
 ],
 "metadata": {
  "kernelspec": {
   "display_name": "Python 3",
   "language": "python",
   "name": "python3"
  },
  "language_info": {
   "codemirror_mode": {
    "name": "ipython",
    "version": 3
   },
   "file_extension": ".py",
   "mimetype": "text/x-python",
   "name": "python",
   "nbconvert_exporter": "python",
   "pygments_lexer": "ipython3",
   "version": "3.9.4"
  }
 },
 "nbformat": 4,
 "nbformat_minor": 5
}
