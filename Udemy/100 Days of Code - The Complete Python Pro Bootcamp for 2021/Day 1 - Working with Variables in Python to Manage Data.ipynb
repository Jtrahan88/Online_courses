{
 "cells": [
  {
   "cell_type": "code",
   "execution_count": 1,
   "id": "951264fb",
   "metadata": {
    "scrolled": true
   },
   "outputs": [
    {
     "name": "stdout",
     "output_type": "stream",
     "text": [
      "Hello World!\n"
     ]
    }
   ],
   "source": [
    "print('Hello World!')"
   ]
  },
  {
   "cell_type": "code",
   "execution_count": 2,
   "id": "20d3307c",
   "metadata": {},
   "outputs": [
    {
     "name": "stdout",
     "output_type": "stream",
     "text": [
      "Day1 - Python Print Function\n"
     ]
    }
   ],
   "source": [
    "print('Day1 - Python Print Function')"
   ]
  },
  {
   "cell_type": "code",
   "execution_count": 3,
   "id": "6e371ef4",
   "metadata": {},
   "outputs": [
    {
     "name": "stdout",
     "output_type": "stream",
     "text": [
      "The finction is declared like this\n"
     ]
    }
   ],
   "source": [
    "print('The finction is declared like this')"
   ]
  },
  {
   "cell_type": "code",
   "execution_count": 4,
   "id": "1186fef7",
   "metadata": {},
   "outputs": [
    {
     "name": "stdout",
     "output_type": "stream",
     "text": [
      "print('what to print')\n"
     ]
    }
   ],
   "source": [
    "print(\"print('what to print')\")"
   ]
  },
  {
   "cell_type": "code",
   "execution_count": 5,
   "id": "0a9ef9ab",
   "metadata": {},
   "outputs": [
    {
     "name": "stdout",
     "output_type": "stream",
     "text": [
      "Hello world!\n",
      "Hello World!\n",
      "Hello World!\n"
     ]
    }
   ],
   "source": [
    "print('Hello world!\\nHello World!\\nHello World!')"
   ]
  },
  {
   "cell_type": "markdown",
   "id": "9646016d",
   "metadata": {},
   "source": [
    "# [Interactive Coding Exercise] Printing"
   ]
  },
  {
   "cell_type": "code",
   "execution_count": 6,
   "id": "cda8a225",
   "metadata": {},
   "outputs": [
    {
     "name": "stdout",
     "output_type": "stream",
     "text": [
      "Hello Jacque\n"
     ]
    }
   ],
   "source": [
    "print(\"Hello\" + ' Jacque')"
   ]
  },
  {
   "cell_type": "code",
   "execution_count": 7,
   "id": "86b6bf6b",
   "metadata": {},
   "outputs": [
    {
     "name": "stdout",
     "output_type": "stream",
     "text": [
      "Hello Jacque\n"
     ]
    }
   ],
   "source": [
    "print('Hello' + \" \" + \"Jacque\")"
   ]
  },
  {
   "cell_type": "markdown",
   "id": "3a2a1886",
   "metadata": {},
   "source": [
    "# [Interactive Coding Exercise] Debugging Practice"
   ]
  },
  {
   "cell_type": "code",
   "execution_count": 8,
   "id": "fe674aaf",
   "metadata": {},
   "outputs": [
    {
     "name": "stdout",
     "output_type": "stream",
     "text": [
      "Day 1 - String Manipulation\n",
      "String Concatenation is done with the \"+\" sign.\n",
      "e.g. print(\"Hello \" + \"world\")\n",
      "New lines can be created with a backslash and n.\n"
     ]
    }
   ],
   "source": [
    "print(\"Day 1 - String Manipulation\")\n",
    "print('String Concatenation is done with the \"+\" sign.')\n",
    "print('e.g. print(\"Hello \" + \"world\")')\n",
    "print(\"New lines can be created with a backslash and n.\")"
   ]
  },
  {
   "cell_type": "markdown",
   "id": "477767c9",
   "metadata": {},
   "source": [
    "# The Python Input Function"
   ]
  },
  {
   "cell_type": "code",
   "execution_count": 9,
   "id": "73ea5a70",
   "metadata": {},
   "outputs": [
    {
     "name": "stdout",
     "output_type": "stream",
     "text": [
      "What is your name: Jaque\n",
      "Hello Jaque!\n"
     ]
    }
   ],
   "source": [
    "# take user name and tell them hello\n",
    "print('Hello ' + input('What is your name: ') + '!')"
   ]
  },
  {
   "cell_type": "markdown",
   "id": "5291ef56",
   "metadata": {},
   "source": [
    "# [Interactive Coding Exercise] Input Function\n",
    "len is was not explained. Its a course that asks you to do something with out teaching it first..... Why do courses do this i'll never know. "
   ]
  },
  {
   "cell_type": "code",
   "execution_count": 10,
   "id": "371cf7b8",
   "metadata": {
    "scrolled": true
   },
   "outputs": [
    {
     "name": "stdout",
     "output_type": "stream",
     "text": [
      "Enter your name: jacque trahan\n",
      "13\n"
     ]
    }
   ],
   "source": [
    "print(len(input('Enter your name: ')))"
   ]
  },
  {
   "cell_type": "markdown",
   "id": "ec44223b",
   "metadata": {},
   "source": [
    "# Python Variables"
   ]
  },
  {
   "cell_type": "code",
   "execution_count": 21,
   "id": "d8360868",
   "metadata": {},
   "outputs": [
    {
     "name": "stdout",
     "output_type": "stream",
     "text": [
      "What is your name? Jacque\n",
      "6\n"
     ]
    }
   ],
   "source": [
    "# this is weird in jupyter note books. It forces you to take input even those we just want to set it to a variable name\n",
    "name = input('What is your name? ')\n",
    "length = len(name)\n",
    "print(length)"
   ]
  },
  {
   "cell_type": "code",
   "execution_count": 20,
   "id": "05921739",
   "metadata": {},
   "outputs": [
    {
     "name": "stdout",
     "output_type": "stream",
     "text": [
      "Jacque\n"
     ]
    }
   ],
   "source": [
    "print(name)"
   ]
  },
  {
   "cell_type": "markdown",
   "id": "222dd4ad",
   "metadata": {},
   "source": [
    "# [Interactive Coding Exercise] Variables\n",
    "Make \"a\" print out as \"b\" and \"b\" print out as \"a\"."
   ]
  },
  {
   "cell_type": "code",
   "execution_count": 24,
   "id": "95046060",
   "metadata": {},
   "outputs": [
    {
     "name": "stdout",
     "output_type": "stream",
     "text": [
      "a: 5\n",
      "b: *\n",
      "a: *\n",
      "b: 5\n"
     ]
    }
   ],
   "source": [
    "# 🚨 Don't change the code below 👇\n",
    "a = input(\"a: \")\n",
    "b = input(\"b: \")\n",
    "# 🚨 Don't change the code above 👆\n",
    "\n",
    "####################################\n",
    "#Write your code below this line 👇\n",
    "c = a # this was the trick. Got to use your nogg'en aka brain a bit\n",
    "a = b\n",
    "b = c\n",
    "\n",
    "\n",
    "#Write your code above this line 👆\n",
    "####################################\n",
    "\n",
    "# 🚨 Don't change the code below 👇\n",
    "print(\"a: \" + a)\n",
    "print(\"b: \" + b)"
   ]
  },
  {
   "cell_type": "markdown",
   "id": "5cb386d2",
   "metadata": {},
   "source": [
    "# Variable Naming\n",
    "do not use function names as variables. Try to be specifc to what you are using your variable on."
   ]
  },
  {
   "cell_type": "code",
   "execution_count": null,
   "id": "80989206",
   "metadata": {},
   "outputs": [],
   "source": []
  },
  {
   "cell_type": "code",
   "execution_count": null,
   "id": "5baff2a1",
   "metadata": {},
   "outputs": [],
   "source": []
  },
  {
   "cell_type": "code",
   "execution_count": null,
   "id": "ea967a95",
   "metadata": {},
   "outputs": [],
   "source": []
  },
  {
   "cell_type": "code",
   "execution_count": null,
   "id": "c7a7cb7c",
   "metadata": {},
   "outputs": [],
   "source": []
  },
  {
   "cell_type": "code",
   "execution_count": null,
   "id": "59eb5e81",
   "metadata": {},
   "outputs": [],
   "source": []
  }
 ],
 "metadata": {
  "kernelspec": {
   "display_name": "Python 3",
   "language": "python",
   "name": "python3"
  },
  "language_info": {
   "codemirror_mode": {
    "name": "ipython",
    "version": 3
   },
   "file_extension": ".py",
   "mimetype": "text/x-python",
   "name": "python",
   "nbconvert_exporter": "python",
   "pygments_lexer": "ipython3",
   "version": "3.9.5"
  }
 },
 "nbformat": 4,
 "nbformat_minor": 5
}
