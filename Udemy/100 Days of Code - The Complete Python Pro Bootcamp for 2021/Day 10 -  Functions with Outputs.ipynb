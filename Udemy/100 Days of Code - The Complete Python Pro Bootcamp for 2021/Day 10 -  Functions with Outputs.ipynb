{
 "cells": [
  {
   "cell_type": "markdown",
   "id": "ceeba33e",
   "metadata": {},
   "source": [
    "# Functions with Outputs"
   ]
  },
  {
   "cell_type": "code",
   "execution_count": 1,
   "id": "7aa6d924",
   "metadata": {},
   "outputs": [
    {
     "data": {
      "text/plain": [
       "6"
      ]
     },
     "execution_count": 1,
     "metadata": {},
     "output_type": "execute_result"
    }
   ],
   "source": [
    "def my_function():\n",
    "    result = 3*2\n",
    "    return result # return replaces the function call\n",
    "my_function()"
   ]
  },
  {
   "cell_type": "code",
   "execution_count": 2,
   "id": "e833cd67",
   "metadata": {},
   "outputs": [
    {
     "data": {
      "text/plain": [
       "'Jacque Trahan'"
      ]
     },
     "execution_count": 2,
     "metadata": {},
     "output_type": "execute_result"
    }
   ],
   "source": [
    "def format_name(first, last):\n",
    "    name = (first + \" \" + last)\n",
    "    return name.title()\n",
    "    \n",
    "format_name('jacQue', 'trAhan')"
   ]
  },
  {
   "cell_type": "markdown",
   "id": "a8ea85fb",
   "metadata": {},
   "source": [
    "# Multiple return values\n",
    "\n",
    "[Interactive Coding Exercise] Days in Month\n",
    "\n",
    "### Instructions\n",
    "In the starting code, you'll find the solution from the Leap Year challenge. First, convert this function is_leap() so that instead of printing \"Leap year.\" or \"Not leap year.\" it should return True if it is a leap year and return False if it is not a leap year.\n",
    "\n",
    "You are then going to create a function called days_in_month() which will take a year and a month as inputs, e.g.\n",
    "\n",
    "#### Hint\n",
    "Look at the function call at the bottom of the code to see the positional arguments. The order is very important.\n",
    "\n",
    "Feel free to choose your own parameter names.\n",
    "\n",
    "Remember that month_days is a List and Lists in Python start at position 0. So the number of days in January is month_days[0]\n",
    "\n",
    "Be careful with indentation."
   ]
  },
  {
   "cell_type": "code",
   "execution_count": 3,
   "id": "2c1e5ae0",
   "metadata": {},
   "outputs": [
    {
     "name": "stdout",
     "output_type": "stream",
     "text": [
      "Enter a year: 2000\n",
      "Enter a month: 2\n",
      "29\n"
     ]
    }
   ],
   "source": [
    "def is_leap(year):\n",
    "  if year % 4 == 0:\n",
    "    if year % 100 == 0:\n",
    "      if year % 400 == 0:\n",
    "        return True\n",
    "      else:\n",
    "        return False\n",
    "    else:\n",
    "      return True\n",
    "  else:\n",
    "    return False\n",
    "\n",
    "def days_in_month(year, month):\n",
    "  month_days = [31, 28, 31, 30, 31, 30, 31, 31, 30, 31, 30, 31]\n",
    "  if month > 12 or month < 1:\n",
    "        print('Invalid entry try again')\n",
    "        year = int(input(\"Enter a year: \"))\n",
    "        month = int(input(\"Enter a month: \"))\n",
    "        days = days_in_month(year, month)\n",
    "  if is_leap(year):\n",
    "        month_days[1] = 29\n",
    "  return month_days[month - 1]\n",
    "  \n",
    "  \n",
    "#🚨 Do NOT change any of the code below \n",
    "year = int(input(\"Enter a year: \"))\n",
    "month = int(input(\"Enter a month: \"))\n",
    "days = days_in_month(year, month)\n",
    "print(days)\n",
    "\n"
   ]
  },
  {
   "cell_type": "markdown",
   "id": "4d6799eb",
   "metadata": {},
   "source": [
    "# Calculator Part 1: Combining Dictionaries and Functions"
   ]
  },
  {
   "cell_type": "code",
   "execution_count": 4,
   "id": "ba620fc5",
   "metadata": {},
   "outputs": [],
   "source": [
    "logo = \"\"\"\n",
    " _____________________\n",
    "|  _________________  |\n",
    "| | Pythonista   0. | |  .----------------.  .----------------.  .----------------.  .----------------. \n",
    "| |_________________| | | .--------------. || .--------------. || .--------------. || .--------------. |\n",
    "|  ___ ___ ___   ___  | | |     ______   | || |      __      | || |   _____      | || |     ______   | |\n",
    "| | 7 | 8 | 9 | | + | | | |   .' ___  |  | || |     /  \\     | || |  |_   _|     | || |   .' ___  |  | |\n",
    "| |___|___|___| |___| | | |  / .'   \\_|  | || |    / /\\ \\    | || |    | |       | || |  / .'   \\_|  | |\n",
    "| | 4 | 5 | 6 | | - | | | |  | |         | || |   / ____ \\   | || |    | |   _   | || |  | |         | |\n",
    "| |___|___|___| |___| | | |  \\ `.___.'\\  | || | _/ /    \\ \\_ | || |   _| |__/ |  | || |  \\ `.___.'\\  | |\n",
    "| | 1 | 2 | 3 | | x | | | |   `._____.'  | || ||____|  |____|| || |  |________|  | || |   `._____.'  | |\n",
    "| |___|___|___| |___| | | |              | || |              | || |              | || |              | |\n",
    "| | . | 0 | = | | / | | | '--------------' || '--------------' || '--------------' || '--------------' |\n",
    "| |___|___|___| |___| |  '----------------'  '----------------'  '----------------'  '----------------' \n",
    "|_____________________|\n",
    "\"\"\"\n"
   ]
  },
  {
   "cell_type": "code",
   "execution_count": 6,
   "id": "9a262151",
   "metadata": {},
   "outputs": [
    {
     "name": "stdout",
     "output_type": "stream",
     "text": [
      "What is the first number?: 5\n",
      "+\n",
      "-\n",
      "/\n",
      "*\n",
      "Pick an opertaion from above: /\n",
      "What is the second number?: 3\n",
      "5 / 3 = 1.67\n"
     ]
    }
   ],
   "source": [
    "# Calculator\n",
    "\n",
    "# Adding\n",
    "def add(n1, n2):\n",
    "    return n1 + n2\n",
    "\n",
    "# Subtract\n",
    "def subtract(n1, n2):\n",
    "    return n1 - n2\n",
    "\n",
    "# divide\n",
    "def divide(n1, n2):\n",
    "    return round(n1 / n2, 2)\n",
    "\n",
    "# multiply\n",
    "def multiply(n1, n2):\n",
    "    return n1 * n2\n",
    "\n",
    "opertators = {\n",
    "    \"+\": add,\n",
    "    \"-\": subtract,\n",
    "    \"/\": divide,\n",
    "    \"*\": multiply\n",
    "}\n",
    "\n",
    "\n",
    "num1 = int(input('What is the first number?: '))\n",
    "for operator in calculated:\n",
    "    print(operator)\n",
    "    \n",
    "operation = input('Pick an opertaion from above: ')\n",
    "num2 = int(input('What is the second number?: '))\n",
    "\n",
    "\n",
    "\n",
    "calculate = opertators[operation]\n",
    "answer = calculate(num1,num2)\n",
    "\n",
    "\n",
    "    \n",
    "print(f\"{num1} {operation} {num2} = {answer}\")"
   ]
  },
  {
   "cell_type": "markdown",
   "id": "f7f6362b",
   "metadata": {},
   "source": [
    "# While Loops, Flags and Recursion"
   ]
  },
  {
   "cell_type": "code",
   "execution_count": 19,
   "id": "63fc261a",
   "metadata": {},
   "outputs": [
    {
     "name": "stdout",
     "output_type": "stream",
     "text": [
      "What is the first number?: 5\n",
      "+\n",
      "-\n",
      "/\n",
      "*\n",
      "Pick an opertaion: +\n",
      "What is the next number?: 2\n",
      "5 + 2 = 7\n",
      "Type \"y\" to continue calculating with the 7, or type \"n\" to exit n\n",
      "What is the first number?: 2\n",
      "+\n",
      "-\n",
      "/\n",
      "*\n",
      "Pick an opertaion: +\n",
      "What is the next number?: 2\n",
      "2 + 2 = 4\n",
      "Type \"y\" to continue calculating with the 4, or type \"n\" to exit y\n",
      "Pick an opertaion: +\n",
      "What is the next number?: 2\n",
      "4 + 2 = 6\n"
     ]
    },
    {
     "ename": "KeyboardInterrupt",
     "evalue": "Interrupted by user",
     "output_type": "error",
     "traceback": [
      "\u001b[1;31m---------------------------------------------------------------------------\u001b[0m",
      "\u001b[1;31mKeyboardInterrupt\u001b[0m                         Traceback (most recent call last)",
      "\u001b[1;32m<ipython-input-19-e3cd1665ae07>\u001b[0m in \u001b[0;36m<module>\u001b[1;34m\u001b[0m\n\u001b[0;32m     44\u001b[0m             \u001b[0mshould_continue\u001b[0m \u001b[1;33m=\u001b[0m \u001b[1;32mFalse\u001b[0m\u001b[1;33m\u001b[0m\u001b[1;33m\u001b[0m\u001b[0m\n\u001b[0;32m     45\u001b[0m             \u001b[0mcalculator\u001b[0m\u001b[1;33m(\u001b[0m\u001b[1;33m)\u001b[0m\u001b[1;33m\u001b[0m\u001b[1;33m\u001b[0m\u001b[0m\n\u001b[1;32m---> 46\u001b[1;33m \u001b[0mcalculator\u001b[0m\u001b[1;33m(\u001b[0m\u001b[1;33m)\u001b[0m\u001b[1;33m\u001b[0m\u001b[1;33m\u001b[0m\u001b[0m\n\u001b[0m",
      "\u001b[1;32m<ipython-input-19-e3cd1665ae07>\u001b[0m in \u001b[0;36mcalculator\u001b[1;34m()\u001b[0m\n\u001b[0;32m     43\u001b[0m         \u001b[1;32melse\u001b[0m\u001b[1;33m:\u001b[0m\u001b[1;33m\u001b[0m\u001b[1;33m\u001b[0m\u001b[0m\n\u001b[0;32m     44\u001b[0m             \u001b[0mshould_continue\u001b[0m \u001b[1;33m=\u001b[0m \u001b[1;32mFalse\u001b[0m\u001b[1;33m\u001b[0m\u001b[1;33m\u001b[0m\u001b[0m\n\u001b[1;32m---> 45\u001b[1;33m             \u001b[0mcalculator\u001b[0m\u001b[1;33m(\u001b[0m\u001b[1;33m)\u001b[0m\u001b[1;33m\u001b[0m\u001b[1;33m\u001b[0m\u001b[0m\n\u001b[0m\u001b[0;32m     46\u001b[0m \u001b[0mcalculator\u001b[0m\u001b[1;33m(\u001b[0m\u001b[1;33m)\u001b[0m\u001b[1;33m\u001b[0m\u001b[1;33m\u001b[0m\u001b[0m\n",
      "\u001b[1;32m<ipython-input-19-e3cd1665ae07>\u001b[0m in \u001b[0;36mcalculator\u001b[1;34m()\u001b[0m\n\u001b[0;32m     39\u001b[0m         \u001b[0mprint\u001b[0m\u001b[1;33m(\u001b[0m\u001b[1;34mf\"{num1} {operation} {num2} = {answer}\"\u001b[0m\u001b[1;33m)\u001b[0m\u001b[1;33m\u001b[0m\u001b[1;33m\u001b[0m\u001b[0m\n\u001b[0;32m     40\u001b[0m \u001b[1;33m\u001b[0m\u001b[0m\n\u001b[1;32m---> 41\u001b[1;33m         \u001b[1;32mif\u001b[0m \u001b[0minput\u001b[0m\u001b[1;33m(\u001b[0m\u001b[1;34mf'Type \"y\" to continue calculating with the {answer}, or type \"n\" to exit '\u001b[0m\u001b[1;33m)\u001b[0m\u001b[1;33m.\u001b[0m\u001b[0mlower\u001b[0m\u001b[1;33m(\u001b[0m\u001b[1;33m)\u001b[0m \u001b[1;33m==\u001b[0m \u001b[1;34m'y'\u001b[0m\u001b[1;33m:\u001b[0m\u001b[1;33m\u001b[0m\u001b[1;33m\u001b[0m\u001b[0m\n\u001b[0m\u001b[0;32m     42\u001b[0m             \u001b[0mnum1\u001b[0m \u001b[1;33m=\u001b[0m \u001b[0manswer\u001b[0m\u001b[1;33m\u001b[0m\u001b[1;33m\u001b[0m\u001b[0m\n\u001b[0;32m     43\u001b[0m         \u001b[1;32melse\u001b[0m\u001b[1;33m:\u001b[0m\u001b[1;33m\u001b[0m\u001b[1;33m\u001b[0m\u001b[0m\n",
      "\u001b[1;32mc:\\users\\jacque quinn trahan\\appdata\\local\\programs\\python\\python39\\lib\\site-packages\\ipykernel\\kernelbase.py\u001b[0m in \u001b[0;36mraw_input\u001b[1;34m(self, prompt)\u001b[0m\n\u001b[0;32m    846\u001b[0m                 \u001b[1;34m\"raw_input was called, but this frontend does not support input requests.\"\u001b[0m\u001b[1;33m\u001b[0m\u001b[1;33m\u001b[0m\u001b[0m\n\u001b[0;32m    847\u001b[0m             )\n\u001b[1;32m--> 848\u001b[1;33m         return self._input_request(str(prompt),\n\u001b[0m\u001b[0;32m    849\u001b[0m             \u001b[0mself\u001b[0m\u001b[1;33m.\u001b[0m\u001b[0m_parent_ident\u001b[0m\u001b[1;33m,\u001b[0m\u001b[1;33m\u001b[0m\u001b[1;33m\u001b[0m\u001b[0m\n\u001b[0;32m    850\u001b[0m             \u001b[0mself\u001b[0m\u001b[1;33m.\u001b[0m\u001b[0m_parent_header\u001b[0m\u001b[1;33m,\u001b[0m\u001b[1;33m\u001b[0m\u001b[1;33m\u001b[0m\u001b[0m\n",
      "\u001b[1;32mc:\\users\\jacque quinn trahan\\appdata\\local\\programs\\python\\python39\\lib\\site-packages\\ipykernel\\kernelbase.py\u001b[0m in \u001b[0;36m_input_request\u001b[1;34m(self, prompt, ident, parent, password)\u001b[0m\n\u001b[0;32m    890\u001b[0m             \u001b[1;32mexcept\u001b[0m \u001b[0mKeyboardInterrupt\u001b[0m\u001b[1;33m:\u001b[0m\u001b[1;33m\u001b[0m\u001b[1;33m\u001b[0m\u001b[0m\n\u001b[0;32m    891\u001b[0m                 \u001b[1;31m# re-raise KeyboardInterrupt, to truncate traceback\u001b[0m\u001b[1;33m\u001b[0m\u001b[1;33m\u001b[0m\u001b[1;33m\u001b[0m\u001b[0m\n\u001b[1;32m--> 892\u001b[1;33m                 \u001b[1;32mraise\u001b[0m \u001b[0mKeyboardInterrupt\u001b[0m\u001b[1;33m(\u001b[0m\u001b[1;34m\"Interrupted by user\"\u001b[0m\u001b[1;33m)\u001b[0m \u001b[1;32mfrom\u001b[0m \u001b[1;32mNone\u001b[0m\u001b[1;33m\u001b[0m\u001b[1;33m\u001b[0m\u001b[0m\n\u001b[0m\u001b[0;32m    893\u001b[0m             \u001b[1;32mexcept\u001b[0m \u001b[0mException\u001b[0m \u001b[1;32mas\u001b[0m \u001b[0me\u001b[0m\u001b[1;33m:\u001b[0m\u001b[1;33m\u001b[0m\u001b[1;33m\u001b[0m\u001b[0m\n\u001b[0;32m    894\u001b[0m                 \u001b[0mself\u001b[0m\u001b[1;33m.\u001b[0m\u001b[0mlog\u001b[0m\u001b[1;33m.\u001b[0m\u001b[0mwarning\u001b[0m\u001b[1;33m(\u001b[0m\u001b[1;34m\"Invalid Message:\"\u001b[0m\u001b[1;33m,\u001b[0m \u001b[0mexc_info\u001b[0m\u001b[1;33m=\u001b[0m\u001b[1;32mTrue\u001b[0m\u001b[1;33m)\u001b[0m\u001b[1;33m\u001b[0m\u001b[1;33m\u001b[0m\u001b[0m\n",
      "\u001b[1;31mKeyboardInterrupt\u001b[0m: Interrupted by user"
     ]
    }
   ],
   "source": [
    "# Calculator\n",
    "\n",
    "# Adding\n",
    "def add(n1, n2):\n",
    "    return n1 + n2\n",
    "\n",
    "# Subtract\n",
    "def subtract(n1, n2):\n",
    "    return n1 - n2\n",
    "\n",
    "# divide\n",
    "def divide(n1, n2):\n",
    "    return round(n1 / n2, 2)\n",
    "\n",
    "# multiply\n",
    "def multiply(n1, n2):\n",
    "    return n1 * n2\n",
    "\n",
    "opertators = {\n",
    "    \"+\": add,\n",
    "    \"-\": subtract,\n",
    "    \"/\": divide,\n",
    "    \"*\": multiply\n",
    "}\n",
    "\n",
    "\n",
    "def calculator():\n",
    "    num1 = float(input('What is the first number?: '))\n",
    "    for operator in calculated:\n",
    "        print(operator)\n",
    "    should_continue = True\n",
    "\n",
    "    while should_continue:\n",
    "        operation = input('Pick an opertaion: ')\n",
    "        num2 = float(input('What is the next number?: '))\n",
    "        calculate = opertators[operation]\n",
    "        answer = calculate(num1,num2)\n",
    "\n",
    "        print(f\"{num1} {operation} {num2} = {answer}\")\n",
    "\n",
    "        if input(f'Type \"y\" to continue calculating with the {answer}, or type \"n\" to exit ').lower() == 'y':\n",
    "            num1 = answer\n",
    "        else:\n",
    "            should_continue = False\n",
    "#             calculator() # uncomment this for a recurssion calculator.\n",
    "calculator()"
   ]
  }
 ],
 "metadata": {
  "kernelspec": {
   "display_name": "Python 3",
   "language": "python",
   "name": "python3"
  },
  "language_info": {
   "codemirror_mode": {
    "name": "ipython",
    "version": 3
   },
   "file_extension": ".py",
   "mimetype": "text/x-python",
   "name": "python",
   "nbconvert_exporter": "python",
   "pygments_lexer": "ipython3",
   "version": "3.9.5"
  }
 },
 "nbformat": 4,
 "nbformat_minor": 5
}
