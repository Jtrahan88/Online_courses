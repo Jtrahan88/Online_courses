{
 "cells": [
  {
   "cell_type": "markdown",
   "id": "e7fb5e48",
   "metadata": {},
   "source": [
    "# Python Primitive Data Types"
   ]
  },
  {
   "cell_type": "code",
   "execution_count": 1,
   "id": "631fed2f",
   "metadata": {},
   "outputs": [
    {
     "name": "stdout",
     "output_type": "stream",
     "text": [
      "5\n"
     ]
    }
   ],
   "source": [
    "print(len(\"Hello\"))"
   ]
  },
  {
   "cell_type": "code",
   "execution_count": 2,
   "id": "ab348dfa",
   "metadata": {},
   "outputs": [
    {
     "ename": "TypeError",
     "evalue": "object of type 'int' has no len()",
     "output_type": "error",
     "traceback": [
      "\u001b[1;31m---------------------------------------------------------------------------\u001b[0m",
      "\u001b[1;31mTypeError\u001b[0m                                 Traceback (most recent call last)",
      "\u001b[1;32m<ipython-input-2-7a4479b9e00a>\u001b[0m in \u001b[0;36m<module>\u001b[1;34m\u001b[0m\n\u001b[1;32m----> 1\u001b[1;33m \u001b[0mprint\u001b[0m\u001b[1;33m(\u001b[0m\u001b[0mlen\u001b[0m\u001b[1;33m(\u001b[0m\u001b[1;36m12345\u001b[0m\u001b[1;33m)\u001b[0m\u001b[1;33m)\u001b[0m\u001b[1;33m\u001b[0m\u001b[1;33m\u001b[0m\u001b[0m\n\u001b[0m",
      "\u001b[1;31mTypeError\u001b[0m: object of type 'int' has no len()"
     ]
    }
   ],
   "source": [
    "print(len(12345))"
   ]
  },
  {
   "cell_type": "markdown",
   "id": "2b4448f8",
   "metadata": {},
   "source": [
    "***TypeError:*** is raised whenever an operation is performed on an incorrect/unsupported object type."
   ]
  },
  {
   "cell_type": "code",
   "execution_count": 4,
   "id": "7df0b669",
   "metadata": {},
   "outputs": [
    {
     "name": "stdout",
     "output_type": "stream",
     "text": [
      "h\n"
     ]
    }
   ],
   "source": [
    "print(\"hello\"[0]) # get the first char of a string this is called subscripting "
   ]
  },
  {
   "cell_type": "code",
   "execution_count": 5,
   "id": "9ab9fa99",
   "metadata": {},
   "outputs": [
    {
     "name": "stdout",
     "output_type": "stream",
     "text": [
      "o\n"
     ]
    }
   ],
   "source": [
    "print(\"hello\"[-1])"
   ]
  },
  {
   "cell_type": "code",
   "execution_count": 14,
   "id": "a704b8bf",
   "metadata": {},
   "outputs": [
    {
     "name": "stdout",
     "output_type": "stream",
     "text": [
      "123456\n"
     ]
    }
   ],
   "source": [
    "print(\"123\" + \"456\") # string"
   ]
  },
  {
   "cell_type": "code",
   "execution_count": 8,
   "id": "cf6ec61c",
   "metadata": {},
   "outputs": [
    {
     "name": "stdout",
     "output_type": "stream",
     "text": [
      "579\n"
     ]
    }
   ],
   "source": [
    "print(123 + 456)"
   ]
  },
  {
   "cell_type": "code",
   "execution_count": 13,
   "id": "e90f5cf3",
   "metadata": {},
   "outputs": [
    {
     "data": {
      "text/plain": [
       "123456789"
      ]
     },
     "execution_count": 13,
     "metadata": {},
     "output_type": "execute_result"
    }
   ],
   "source": [
    "123_456_789 # nice integer data type"
   ]
  },
  {
   "cell_type": "code",
   "execution_count": 12,
   "id": "1fe3053b",
   "metadata": {},
   "outputs": [
    {
     "data": {
      "text/plain": [
       "3.145159"
      ]
     },
     "execution_count": 12,
     "metadata": {},
     "output_type": "execute_result"
    }
   ],
   "source": [
    "3.145159 # float"
   ]
  },
  {
   "cell_type": "code",
   "execution_count": 15,
   "id": "2c6a4449",
   "metadata": {},
   "outputs": [
    {
     "data": {
      "text/plain": [
       "True"
      ]
     },
     "execution_count": 15,
     "metadata": {},
     "output_type": "execute_result"
    }
   ],
   "source": [
    "True or False # boolean data type"
   ]
  },
  {
   "cell_type": "code",
   "execution_count": 18,
   "id": "36205f63",
   "metadata": {},
   "outputs": [
    {
     "data": {
      "text/plain": [
       "False"
      ]
     },
     "execution_count": 18,
     "metadata": {},
     "output_type": "execute_result"
    }
   ],
   "source": [
    "True and False # boolean data type"
   ]
  },
  {
   "cell_type": "markdown",
   "id": "b8d202a6",
   "metadata": {},
   "source": [
    "# Type Error, Type Checking and Type Conversion"
   ]
  },
  {
   "cell_type": "code",
   "execution_count": 20,
   "id": "6af4e4cb",
   "metadata": {},
   "outputs": [
    {
     "name": "stdout",
     "output_type": "stream",
     "text": [
      "What is your name?jacque\n"
     ]
    },
    {
     "ename": "TypeError",
     "evalue": "can only concatenate str (not \"int\") to str",
     "output_type": "error",
     "traceback": [
      "\u001b[1;31m---------------------------------------------------------------------------\u001b[0m",
      "\u001b[1;31mTypeError\u001b[0m                                 Traceback (most recent call last)",
      "\u001b[1;32m<ipython-input-20-ccedf7bdf09f>\u001b[0m in \u001b[0;36m<module>\u001b[1;34m\u001b[0m\n\u001b[0;32m      1\u001b[0m \u001b[0mnum_char\u001b[0m \u001b[1;33m=\u001b[0m \u001b[0mlen\u001b[0m\u001b[1;33m(\u001b[0m\u001b[0minput\u001b[0m\u001b[1;33m(\u001b[0m\u001b[1;34m\"What is your name?\"\u001b[0m\u001b[1;33m)\u001b[0m\u001b[1;33m)\u001b[0m\u001b[1;33m\u001b[0m\u001b[1;33m\u001b[0m\u001b[0m\n\u001b[1;32m----> 2\u001b[1;33m \u001b[0mprint\u001b[0m\u001b[1;33m(\u001b[0m\u001b[1;34m\"your name is \"\u001b[0m \u001b[1;33m+\u001b[0m \u001b[0mnum_char\u001b[0m \u001b[1;33m+\u001b[0m \u001b[1;34m\" characters\"\u001b[0m\u001b[1;33m)\u001b[0m\u001b[1;33m\u001b[0m\u001b[1;33m\u001b[0m\u001b[0m\n\u001b[0m",
      "\u001b[1;31mTypeError\u001b[0m: can only concatenate str (not \"int\") to str"
     ]
    }
   ],
   "source": [
    "num_char = len(input(\"What is your name?\"))\n",
    "print(\"your name is \" + num_char + \" characters\")"
   ]
  },
  {
   "cell_type": "code",
   "execution_count": 23,
   "id": "50898396",
   "metadata": {},
   "outputs": [
    {
     "name": "stdout",
     "output_type": "stream",
     "text": [
      "<class 'int'>\n"
     ]
    }
   ],
   "source": [
    "print(type(num_char)) # int data type. # type function will let us know the data type of a variable"
   ]
  },
  {
   "cell_type": "code",
   "execution_count": 25,
   "id": "fe05f520",
   "metadata": {},
   "outputs": [
    {
     "name": "stdout",
     "output_type": "stream",
     "text": [
      "What is your name? Jacque Trhan\n",
      "your name is 12 characters\n"
     ]
    }
   ],
   "source": [
    "num_char = len(input(\"What is your name? \"))\n",
    "print(\"your name is \" + str(num_char) + \" characters\") # convet integer to a string usiig the str() function"
   ]
  },
  {
   "cell_type": "code",
   "execution_count": 27,
   "id": "65e45755",
   "metadata": {},
   "outputs": [
    {
     "data": {
      "text/plain": [
       "int"
      ]
     },
     "execution_count": 27,
     "metadata": {},
     "output_type": "execute_result"
    }
   ],
   "source": [
    "a = 123\n",
    "type(a)"
   ]
  },
  {
   "cell_type": "code",
   "execution_count": 28,
   "id": "74012f47",
   "metadata": {},
   "outputs": [
    {
     "data": {
      "text/plain": [
       "str"
      ]
     },
     "execution_count": 28,
     "metadata": {},
     "output_type": "execute_result"
    }
   ],
   "source": [
    "type(str(a))"
   ]
  },
  {
   "cell_type": "code",
   "execution_count": 29,
   "id": "d697b55c",
   "metadata": {},
   "outputs": [],
   "source": [
    "b = float(123)"
   ]
  },
  {
   "cell_type": "code",
   "execution_count": 30,
   "id": "9c5ade9f",
   "metadata": {},
   "outputs": [
    {
     "name": "stdout",
     "output_type": "stream",
     "text": [
      "<class 'float'>\n"
     ]
    }
   ],
   "source": [
    "print(type(b))"
   ]
  },
  {
   "cell_type": "code",
   "execution_count": 33,
   "id": "5e8c2564",
   "metadata": {},
   "outputs": [
    {
     "name": "stdout",
     "output_type": "stream",
     "text": [
      "170.5\n"
     ]
    }
   ],
   "source": [
    "print(70 + float(100.5))"
   ]
  },
  {
   "cell_type": "code",
   "execution_count": 34,
   "id": "eea6a947",
   "metadata": {},
   "outputs": [
    {
     "name": "stdout",
     "output_type": "stream",
     "text": [
      "70100\n"
     ]
    }
   ],
   "source": [
    "print(\"70\" + \"100\")"
   ]
  },
  {
   "cell_type": "markdown",
   "id": "7e6ad418",
   "metadata": {},
   "source": [
    "# [Interactive Coding Exercise] Data Types\n",
    "Take a two didgit input and add them together"
   ]
  },
  {
   "cell_type": "code",
   "execution_count": 40,
   "id": "d96208b4",
   "metadata": {},
   "outputs": [
    {
     "name": "stdout",
     "output_type": "stream",
     "text": [
      "Type a two digit number: 59\n"
     ]
    },
    {
     "data": {
      "text/plain": [
       "14"
      ]
     },
     "execution_count": 40,
     "metadata": {},
     "output_type": "execute_result"
    }
   ],
   "source": [
    "# 🚨 Don't change the code below 👇\n",
    "two_digit_number = input(\"Type a two digit number: \")\n",
    "# 🚨 Don't change the code above 👆\n",
    "\n",
    "####################################\n",
    "#Write your code below this line 👇\n",
    "add_them_up = int(two_digit_number[0]) + int(two_digit_number[1]) # slicing slicing slicing. Remeber this!!!!!\n",
    "add_them_up"
   ]
  },
  {
   "cell_type": "markdown",
   "id": "e6bdfc14",
   "metadata": {},
   "source": [
    "# Mathematical Operations in Python"
   ]
  },
  {
   "cell_type": "code",
   "execution_count": 45,
   "id": "9e6325f4",
   "metadata": {},
   "outputs": [
    {
     "data": {
      "text/plain": [
       "8"
      ]
     },
     "execution_count": 45,
     "metadata": {},
     "output_type": "execute_result"
    }
   ],
   "source": [
    "3 +5 # additon"
   ]
  },
  {
   "cell_type": "code",
   "execution_count": 46,
   "id": "231a0265",
   "metadata": {},
   "outputs": [
    {
     "data": {
      "text/plain": [
       "1"
      ]
     },
     "execution_count": 46,
     "metadata": {},
     "output_type": "execute_result"
    }
   ],
   "source": [
    "5 - 4 # subtraction"
   ]
  },
  {
   "cell_type": "code",
   "execution_count": 47,
   "id": "1188ec5a",
   "metadata": {},
   "outputs": [
    {
     "data": {
      "text/plain": [
       "15"
      ]
     },
     "execution_count": 47,
     "metadata": {},
     "output_type": "execute_result"
    }
   ],
   "source": [
    "3 * 5 # Multiplication"
   ]
  },
  {
   "cell_type": "code",
   "execution_count": 48,
   "id": "73abcfa3",
   "metadata": {},
   "outputs": [
    {
     "data": {
      "text/plain": [
       "2.0"
      ]
     },
     "execution_count": 48,
     "metadata": {},
     "output_type": "execute_result"
    }
   ],
   "source": [
    "8 / 4 # division"
   ]
  },
  {
   "cell_type": "code",
   "execution_count": 49,
   "id": "d67d1b41",
   "metadata": {},
   "outputs": [
    {
     "data": {
      "text/plain": [
       "16"
      ]
     },
     "execution_count": 49,
     "metadata": {},
     "output_type": "execute_result"
    }
   ],
   "source": [
    "2 ** 4 # to the power of"
   ]
  },
  {
   "cell_type": "markdown",
   "id": "9a8e9b50",
   "metadata": {},
   "source": [
    "##### PEMDASLR ^^^^^^^^ # LR is left to right\n",
    "* () -first\n",
    "* ** -second\n",
    "* / * - third\n",
    "*  \"+ - - last\""
   ]
  },
  {
   "cell_type": "code",
   "execution_count": 54,
   "id": "886f413e",
   "metadata": {},
   "outputs": [
    {
     "name": "stdout",
     "output_type": "stream",
     "text": [
      "7.0\n"
     ]
    }
   ],
   "source": [
    "print(3 * 3 + 3 / 3 - 3) # see code worked out here http://pythontutor.com/visualize.html#mode=edit"
   ]
  },
  {
   "cell_type": "code",
   "execution_count": 55,
   "id": "707d3cd9",
   "metadata": {
    "scrolled": true
   },
   "outputs": [
    {
     "name": "stdout",
     "output_type": "stream",
     "text": [
      "3.0\n"
     ]
    }
   ],
   "source": [
    "print(3 * ((3 + 3) / 3) - 3)"
   ]
  },
  {
   "cell_type": "markdown",
   "id": "b7213f41",
   "metadata": {},
   "source": [
    "# [Interactive Coding Exercise] BMI Calculator"
   ]
  },
  {
   "cell_type": "code",
   "execution_count": 62,
   "id": "1371fb0a",
   "metadata": {},
   "outputs": [
    {
     "name": "stdout",
     "output_type": "stream",
     "text": [
      "enter your height in m: 1.8288\n",
      "enter your weight in kg: 72.575\n"
     ]
    },
    {
     "data": {
      "text/plain": [
       "21"
      ]
     },
     "execution_count": 62,
     "metadata": {},
     "output_type": "execute_result"
    }
   ],
   "source": [
    "# 🚨 Don't change the code below 👇\n",
    "height = input(\"enter your height in m: \")\n",
    "weight = input(\"enter your weight in kg: \")\n",
    "# 🚨 Don't change the code above 👆\n",
    "\n",
    "#Write your code below this line 👇\n",
    "\n",
    "# BMI = kg/m*2\n",
    "int(float(weight)/float(height)**2)\n"
   ]
  },
  {
   "cell_type": "markdown",
   "id": "843aaf7d",
   "metadata": {},
   "source": [
    "***ValueError:*** raised when an operation or function receives an argument with an inappropriate value assigned to it\n",
    "\n",
    "had to convert the string to a integer\n",
    "tried to make an intger at first but we cant not make a string that resembles a float to an intger until we make the \n",
    "string a float first then make an int"
   ]
  },
  {
   "cell_type": "markdown",
   "id": "35a6c27d",
   "metadata": {},
   "source": [
    "# Number Manipulation and F Strings in Python"
   ]
  },
  {
   "cell_type": "code",
   "execution_count": 63,
   "id": "2b74d2c6",
   "metadata": {},
   "outputs": [
    {
     "data": {
      "text/plain": [
       "2.6666666666666665"
      ]
     },
     "execution_count": 63,
     "metadata": {},
     "output_type": "execute_result"
    }
   ],
   "source": [
    "8/3"
   ]
  },
  {
   "cell_type": "code",
   "execution_count": 65,
   "id": "1e897625",
   "metadata": {},
   "outputs": [
    {
     "data": {
      "text/plain": [
       "3"
      ]
     },
     "execution_count": 65,
     "metadata": {},
     "output_type": "execute_result"
    }
   ],
   "source": [
    "round(8/3)"
   ]
  },
  {
   "cell_type": "code",
   "execution_count": 67,
   "id": "d90c5532",
   "metadata": {},
   "outputs": [
    {
     "data": {
      "text/plain": [
       "2.67"
      ]
     },
     "execution_count": 67,
     "metadata": {},
     "output_type": "execute_result"
    }
   ],
   "source": [
    "round(8/3, 2) # comma and a number of place to round number to"
   ]
  },
  {
   "cell_type": "code",
   "execution_count": 68,
   "id": "ac7cadae",
   "metadata": {},
   "outputs": [
    {
     "data": {
      "text/plain": [
       "2"
      ]
     },
     "execution_count": 68,
     "metadata": {},
     "output_type": "execute_result"
    }
   ],
   "source": [
    "8//3 # floor division gets us just the quotant"
   ]
  },
  {
   "cell_type": "code",
   "execution_count": 69,
   "id": "cdd21e4a",
   "metadata": {},
   "outputs": [
    {
     "data": {
      "text/plain": [
       "int"
      ]
     },
     "execution_count": 69,
     "metadata": {},
     "output_type": "execute_result"
    }
   ],
   "source": [
    "type(8//2)"
   ]
  },
  {
   "cell_type": "code",
   "execution_count": 70,
   "id": "74a442a5",
   "metadata": {},
   "outputs": [
    {
     "data": {
      "text/plain": [
       "float"
      ]
     },
     "execution_count": 70,
     "metadata": {},
     "output_type": "execute_result"
    }
   ],
   "source": [
    "type(8/2)"
   ]
  },
  {
   "cell_type": "code",
   "execution_count": 77,
   "id": "806b4f03",
   "metadata": {},
   "outputs": [
    {
     "data": {
      "text/plain": [
       "1"
      ]
     },
     "execution_count": 77,
     "metadata": {},
     "output_type": "execute_result"
    }
   ],
   "source": [
    "score = 0\n",
    "score += 1 # this mean score = score + 1\n",
    "score"
   ]
  },
  {
   "cell_type": "code",
   "execution_count": 78,
   "id": "12e471d5",
   "metadata": {},
   "outputs": [
    {
     "data": {
      "text/plain": [
       "5"
      ]
     },
     "execution_count": 78,
     "metadata": {},
     "output_type": "execute_result"
    }
   ],
   "source": [
    "score *= 5\n",
    "score"
   ]
  },
  {
   "cell_type": "code",
   "execution_count": 80,
   "id": "407626ca",
   "metadata": {},
   "outputs": [
    {
     "name": "stdout",
     "output_type": "stream",
     "text": [
      "your score is 5\n"
     ]
    }
   ],
   "source": [
    "print(f'your score is {score}') # f strings are format strings. super awesome"
   ]
  },
  {
   "cell_type": "code",
   "execution_count": 81,
   "id": "33cec744",
   "metadata": {},
   "outputs": [],
   "source": [
    "score = 0\n",
    "height = 1.8\n",
    "isWinning = True"
   ]
  },
  {
   "cell_type": "code",
   "execution_count": 83,
   "id": "885d9da9",
   "metadata": {},
   "outputs": [
    {
     "data": {
      "text/plain": [
       "'Your score is 0 and your height is 1.8. Are we winnging? True'"
      ]
     },
     "execution_count": 83,
     "metadata": {},
     "output_type": "execute_result"
    }
   ],
   "source": [
    "f\"Your score is {score} and your height is {height}. Are we winnging? {isWinning}\""
   ]
  },
  {
   "cell_type": "markdown",
   "id": "0a84a6ae",
   "metadata": {},
   "source": [
    "# [Interactive Coding Exercise] Life in Weeks\n",
    "Create a program using maths and f-Strings that tells us how many days, weeks, months we have left if we live until 90 years old.\n",
    "* hint:\n",
    "There are 365 days in a year, 52 weeks in a year and 12 months in a year."
   ]
  },
  {
   "cell_type": "code",
   "execution_count": 86,
   "id": "67515d50",
   "metadata": {},
   "outputs": [
    {
     "name": "stdout",
     "output_type": "stream",
     "text": [
      "What is your current age? 32\n"
     ]
    },
    {
     "data": {
      "text/plain": [
       "'You have 21170 days, 3016 weeks, and 696 months left. '"
      ]
     },
     "execution_count": 86,
     "metadata": {},
     "output_type": "execute_result"
    }
   ],
   "source": [
    "# 🚨 Don't change the code below 👇\n",
    "age = input(\"What is your current age? \")\n",
    "# 🚨 Don't change the code above 👆\n",
    "\n",
    "#Write your code below this line 👇\n",
    "\n",
    "days = (90 * 365)  -  int(age) * 365\n",
    "weeks = (90 * 52)  -  int(age) * 52\n",
    "months = (90 * 12) -  int(age) * 12\n",
    "\n",
    "\n",
    "\n",
    "\n",
    "\n",
    "f'You have {days} days, {weeks} weeks, and {months} months left. '\n"
   ]
  },
  {
   "cell_type": "code",
   "execution_count": null,
   "id": "e65b8808",
   "metadata": {},
   "outputs": [],
   "source": []
  },
  {
   "cell_type": "code",
   "execution_count": null,
   "id": "38f37f46",
   "metadata": {},
   "outputs": [],
   "source": []
  },
  {
   "cell_type": "code",
   "execution_count": null,
   "id": "056d30a9",
   "metadata": {},
   "outputs": [],
   "source": []
  },
  {
   "cell_type": "code",
   "execution_count": null,
   "id": "b5b0832e",
   "metadata": {},
   "outputs": [],
   "source": []
  },
  {
   "cell_type": "code",
   "execution_count": null,
   "id": "1cb71008",
   "metadata": {},
   "outputs": [],
   "source": []
  }
 ],
 "metadata": {
  "kernelspec": {
   "display_name": "Python 3",
   "language": "python",
   "name": "python3"
  },
  "language_info": {
   "codemirror_mode": {
    "name": "ipython",
    "version": 3
   },
   "file_extension": ".py",
   "mimetype": "text/x-python",
   "name": "python",
   "nbconvert_exporter": "python",
   "pygments_lexer": "ipython3",
   "version": "3.9.5"
  }
 },
 "nbformat": 4,
 "nbformat_minor": 5
}
