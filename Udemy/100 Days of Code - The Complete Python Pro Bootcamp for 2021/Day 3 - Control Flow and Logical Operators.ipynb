{
 "cells": [
  {
   "cell_type": "markdown",
   "id": "37a8d13e",
   "metadata": {},
   "source": [
    "# Control Flow with if / else and Conditional Operators"
   ]
  },
  {
   "cell_type": "code",
   "execution_count": 2,
   "id": "62b36011",
   "metadata": {},
   "outputs": [
    {
     "name": "stdout",
     "output_type": "stream",
     "text": [
      "Welcome to the rollercoaster!\n",
      "\n",
      "What is your height in cm?\n",
      " 156\n",
      "You can ride the rollercoster!\n",
      "\n"
     ]
    }
   ],
   "source": [
    "print('Welcome to the rollercoaster!\\n')\n",
    "height = int(input('What is your height in cm?\\n '))\n",
    "\n",
    "if height > 120:\n",
    "    print('You can ride the rollercoster!\\n')\n",
    "else:\n",
    "    print('Sorry, you have to grow taller before you can ride')"
   ]
  },
  {
   "cell_type": "code",
   "execution_count": 3,
   "id": "5fbfb2ef",
   "metadata": {},
   "outputs": [
    {
     "name": "stdout",
     "output_type": "stream",
     "text": [
      "Welcome to the rollercoaster!\n",
      "\n",
      "What is your height in cm?\n",
      " 90\n",
      "Sorry, you have to grow taller before you can ride\n"
     ]
    }
   ],
   "source": [
    "print('Welcome to the rollercoaster!\\n')\n",
    "height = int(input('What is your height in cm?\\n '))\n",
    "\n",
    "if height > 120:\n",
    "    print('You can ride the rollercoster!\\n')\n",
    "else:\n",
    "    print('Sorry, you have to grow taller before you can ride')\n",
    "    "
   ]
  },
  {
   "cell_type": "markdown",
   "id": "216f2b63",
   "metadata": {},
   "source": [
    "# [Interactive Coding Exercise] Odd or Even? Introducing the Modulo"
   ]
  },
  {
   "cell_type": "code",
   "execution_count": 5,
   "id": "b774bd83",
   "metadata": {},
   "outputs": [
    {
     "name": "stdout",
     "output_type": "stream",
     "text": [
      "Which number do you want to check? 8\n",
      "This is an even number.\n"
     ]
    }
   ],
   "source": [
    "# 🚨 Don't change the code below 👇\n",
    "number = int(input(\"Which number do you want to check? \"))\n",
    "# 🚨 Don't change the code above 👆\n",
    "\n",
    "#Write your code below this line 👇\n",
    "\n",
    "if number % 2 == 0:\n",
    "    print(\"This is an even number.\")\n",
    "else:\n",
    "    print('This is a odd number.')"
   ]
  },
  {
   "cell_type": "markdown",
   "id": "33420d48",
   "metadata": {},
   "source": [
    "# Nested if statements and elif statements"
   ]
  },
  {
   "cell_type": "code",
   "execution_count": 7,
   "id": "2c522925",
   "metadata": {},
   "outputs": [
    {
     "name": "stdout",
     "output_type": "stream",
     "text": [
      "Welcome to the rollercoaster!\n",
      "\n",
      "What is your height in cm?\n",
      " 156\n",
      "You can ride the rollercoster!\n",
      "\n",
      "What is your age? \n",
      "5\n",
      "Please pay $5.\n"
     ]
    }
   ],
   "source": [
    "print('Welcome to the rollercoaster!\\n')\n",
    "height = int(input('What is your height in cm?\\n '))\n",
    "\n",
    "if height > 120:\n",
    "    print('You can ride the rollercoster!\\n')\n",
    "    age = int(input('What is your age? \\n'))\n",
    "    if age < 12:\n",
    "        print(\"Please pay $5.\")\n",
    "    elif age <= 18:\n",
    "        print('Please pay $7.')\n",
    "    else:\n",
    "        print(\"please pay $12.\")\n",
    "else:\n",
    "    print('Sorry, you have to grow taller before you can ride')\n",
    "    "
   ]
  },
  {
   "cell_type": "code",
   "execution_count": 8,
   "id": "021f196c",
   "metadata": {},
   "outputs": [
    {
     "name": "stdout",
     "output_type": "stream",
     "text": [
      "Welcome to the rollercoaster!\n",
      "\n",
      "What is your height in cm?\n",
      " 180\n",
      "You can ride the rollercoster!\n",
      "\n",
      "What is your age? \n",
      "17\n",
      "Please pay $7.\n"
     ]
    }
   ],
   "source": [
    "print('Welcome to the rollercoaster!\\n')\n",
    "height = int(input('What is your height in cm?\\n '))\n",
    "\n",
    "if height > 120:\n",
    "    print('You can ride the rollercoster!\\n')\n",
    "    age = int(input('What is your age? \\n'))\n",
    "    if age < 12:\n",
    "        print(\"Please pay $5.\")\n",
    "    elif age <= 18:\n",
    "        print('Please pay $7.')\n",
    "    else:\n",
    "        print(\"please pay $12.\")\n",
    "else:\n",
    "    print('Sorry, you have to grow taller before you can ride')\n",
    "    "
   ]
  },
  {
   "cell_type": "code",
   "execution_count": 9,
   "id": "4aee66dd",
   "metadata": {},
   "outputs": [
    {
     "name": "stdout",
     "output_type": "stream",
     "text": [
      "Welcome to the rollercoaster!\n",
      "\n",
      "What is your height in cm?\n",
      " 190\n",
      "You can ride the rollercoster!\n",
      "\n",
      "What is your age? \n",
      "21\n",
      "please pay $12.\n"
     ]
    }
   ],
   "source": [
    "print('Welcome to the rollercoaster!\\n')\n",
    "height = int(input('What is your height in cm?\\n '))\n",
    "\n",
    "if height > 120:\n",
    "    print('You can ride the rollercoster!\\n')\n",
    "    age = int(input('What is your age? \\n'))\n",
    "    if age < 12:\n",
    "        print(\"Please pay $5.\")\n",
    "    elif age <= 18:\n",
    "        print('Please pay $7.')\n",
    "    else:\n",
    "        print(\"please pay $12.\")\n",
    "else:\n",
    "    print('Sorry, you have to grow taller before you can ride')\n",
    "    "
   ]
  },
  {
   "cell_type": "markdown",
   "id": "ba9238de",
   "metadata": {},
   "source": [
    "# [Interactive Coding Exercise] BMI 2.0\n",
    "It should tell them the interpretation of their BMI based on the BMI value.\n",
    "\n",
    "* Under 18.5 they are underweight\n",
    "* Over 18.5 but below 25 they have a normal weight\n",
    "* Over 25 but below 30 they are slightly overweight\n",
    "* Over 30 but below 35 they are obese\n",
    "* Above 35 they are clinically obese."
   ]
  },
  {
   "cell_type": "code",
   "execution_count": 15,
   "id": "d5cc1ec4",
   "metadata": {},
   "outputs": [
    {
     "name": "stdout",
     "output_type": "stream",
     "text": [
      "enter your height in m: 1.8288\n",
      "enter your weight in kg: 74.84\n",
      "Your BMI is 22, you have a normal weight.\n"
     ]
    }
   ],
   "source": [
    "# 🚨 Don't change the code below 👇\n",
    "height = float(input(\"enter your height in m: \"))\n",
    "weight = float(input(\"enter your weight in kg: \"))\n",
    "# 🚨 Don't change the code above 👆\n",
    "\n",
    "#Write your code below this line 👇\n",
    "BMI = round(weight / (height ** 2))\n",
    "\n",
    "if BMI < 18.5:\n",
    "    print(f\"Your BMI is {BMI}, you are underweight.\")\n",
    "elif BMI < 25:\n",
    "    print(f\"Your BMI is {BMI}, you have a normal weight.\")\n",
    "elif BMI < 30:\n",
    "    print(f\"Your BMI is {BMI}, you are slightly overweight.\")\n",
    "elif BMI < 35:\n",
    "    print(f\"Your BMI is {BMI}, you are obese.\")\n",
    "else:\n",
    "    print(f\"Your BMI is {BMI}, you are clinically obese\")\n",
    " "
   ]
  },
  {
   "cell_type": "markdown",
   "id": "5109823d",
   "metadata": {},
   "source": [
    "# [Interactive Coding Exercise] Leap Year\n",
    "This is how you work out whether if a particular year is a leap year.\n",
    "\n",
    "on every year that is evenly divisible by 4 **except** every year that is evenly divisible by 100 **unless** the year is also evenly divisible by 400"
   ]
  },
  {
   "cell_type": "code",
   "execution_count": 38,
   "id": "061b7253",
   "metadata": {},
   "outputs": [
    {
     "name": "stdout",
     "output_type": "stream",
     "text": [
      "This is a leap year\n",
      "This is not a leap year\n",
      "This is not a leap year\n",
      "This is not a leap year\n",
      "This is a leap year\n",
      "This is not a leap year\n",
      "This is not a leap year\n",
      "This is not a leap year\n",
      "This is a leap year\n"
     ]
    }
   ],
   "source": [
    "# 🚨 Don't change the code below 👇\n",
    "years = [2000, 2021, 2022, 2023, 2400, 2025, 2026, 2027, 2028]\n",
    "# 🚨 Don't change the code above 👆\n",
    "\n",
    "#Write your code below this line 👇\n",
    "for year in years:\n",
    "    if year % 4 == 0:\n",
    "        if year % 100 == 0:\n",
    "            if year % 400 == 0:\n",
    "                print('This is a leap year')\n",
    "            else:\n",
    "                print('This is not a leap year')\n",
    "    else:\n",
    "        print(\"This is not a leap year\")"
   ]
  },
  {
   "cell_type": "markdown",
   "id": "f5b7870c",
   "metadata": {},
   "source": [
    "# Multiple If Statements in Succession"
   ]
  },
  {
   "cell_type": "code",
   "execution_count": 42,
   "id": "6646de57",
   "metadata": {},
   "outputs": [
    {
     "name": "stdout",
     "output_type": "stream",
     "text": [
      "Welcome to the rollercoaster!\n",
      "\n",
      "What is your height in cm?\n",
      " 180\n",
      "You can ride the rollercoster!\n",
      "\n",
      "What is your age? \n",
      "21\n",
      "Adult tickets are $12.\n",
      "Do you want a photo? Y or N. Y\n",
      "Your final bill is 15\n"
     ]
    }
   ],
   "source": [
    "print('Welcome to the rollercoaster!\\n')\n",
    "height = int(input('What is your height in cm?\\n '))\n",
    "bill = 0 \n",
    "if height > 120:\n",
    "    print('You can ride the rollercoster!\\n')\n",
    "    age = int(input('What is your age? \\n'))\n",
    "    if age < 12:\n",
    "        print(\"Child tickets are $5.\")\n",
    "        bill = 5\n",
    "    elif age <= 18:\n",
    "        print('Youth tickets are $7.')\n",
    "        bill = 7\n",
    "    else:\n",
    "        print(\"Adult tickets are $12.\")\n",
    "        bill = 12\n",
    "        \n",
    "    wants_photo = input(\"Do you want a photo? Y or N. \")\n",
    "    if wants_photo == \"Y\":\n",
    "        bill += 3\n",
    "    \n",
    "    print(f'Your final bill is {bill}')\n",
    "        \n",
    "else:\n",
    "    print('Sorry, you have to grow taller before you can ride')"
   ]
  },
  {
   "cell_type": "code",
   "execution_count": 43,
   "id": "b2b3f751",
   "metadata": {},
   "outputs": [
    {
     "name": "stdout",
     "output_type": "stream",
     "text": [
      "Welcome to the rollercoaster!\n",
      "\n",
      "What is your height in cm?\n",
      " 180\n",
      "You can ride the rollercoster!\n",
      "\n",
      "What is your age? \n",
      "21\n",
      "Adult tickets are $12.\n",
      "Do you want a photo? Y or N. N\n",
      "Your final bill is 12\n"
     ]
    }
   ],
   "source": [
    "print('Welcome to the rollercoaster!\\n')\n",
    "height = int(input('What is your height in cm?\\n '))\n",
    "bill = 0 \n",
    "if height > 120:\n",
    "    print('You can ride the rollercoster!\\n')\n",
    "    age = int(input('What is your age? \\n'))\n",
    "    if age < 12:\n",
    "        print(\"Child tickets are $5.\")\n",
    "        bill = 5\n",
    "    elif age <= 18:\n",
    "        print('Youth tickets are $7.')\n",
    "        bill = 7\n",
    "    else:\n",
    "        print(\"Adult tickets are $12.\")\n",
    "        bill = 12\n",
    "        \n",
    "    wants_photo = input(\"Do you want a photo? Y or N. \")\n",
    "    if wants_photo == \"Y\":\n",
    "        bill += 3\n",
    "    \n",
    "    print(f'Your final bill is {bill}')\n",
    "        \n",
    "else:\n",
    "    print('Sorry, you have to grow taller before you can ride')"
   ]
  },
  {
   "cell_type": "markdown",
   "id": "8516e372",
   "metadata": {},
   "source": [
    "# [Interactive Coding Exercise] Pizza Order Practice\n",
    "Based on a user's order, work out their final bill.\n",
    "\n",
    "* Small Pizza: $15\n",
    "\n",
    "* Medium Pizza: $20\n",
    "\n",
    "* Large Pizza: $25\n",
    "\n",
    "* Pepperoni for Small Pizza: +$2\n",
    "\n",
    "* Pepperoni for Medium or Large Pizza: +$3\n",
    "\n",
    "* Extra cheese for any size pizza: + $1"
   ]
  },
  {
   "cell_type": "code",
   "execution_count": 46,
   "id": "1ef80628",
   "metadata": {},
   "outputs": [
    {
     "name": "stdout",
     "output_type": "stream",
     "text": [
      "Welcome to Python Pizza Deliveries!\n",
      "What size pizza do you want? S, M, or L L\n",
      "Do you want pepperoni? Y or N Y\n",
      "Do you want extra cheese? Y or N N\n",
      "Your final bill is $28\n"
     ]
    }
   ],
   "source": [
    "# 🚨 Don't change the code below 👇\n",
    "print(\"Welcome to Python Pizza Deliveries!\")\n",
    "size = input(\"What size pizza do you want? S, M, or L:\\n \")\n",
    "add_pepperoni = input(\"Do you want pepperoni? Y or N:\\n \")\n",
    "extra_cheese = input(\"Do you want extra cheese? Y or N:\\n \")\n",
    "# 🚨 Don't change the code above 👆\n",
    "\n",
    "#Write your code below this line 👇\n",
    "bill = 0\n",
    "\n",
    "if size == \"S\":\n",
    "    bill += 15\n",
    "    if add_pepperoni == \"Y\":\n",
    "        bill += 2\n",
    "elif size == \"M\":\n",
    "    bill += 20\n",
    "    if add_pepperoni == \"Y\":\n",
    "        bill += 3\n",
    "elif size == \"L\":\n",
    "    bill += 25\n",
    "    if add_pepperoni == \"Y\":\n",
    "        bill += 3\n",
    "if extra_cheese == \"Y\":\n",
    "    bill += 1\n",
    "\n",
    "print(f\"Your final bill is ${bill}\")"
   ]
  },
  {
   "cell_type": "markdown",
   "id": "2f2634b6",
   "metadata": {},
   "source": [
    "Better way of doing the above"
   ]
  },
  {
   "cell_type": "code",
   "execution_count": 47,
   "id": "808fb7b1",
   "metadata": {},
   "outputs": [
    {
     "name": "stdout",
     "output_type": "stream",
     "text": [
      "Welcome to Python Pizza Deliveries!\n",
      "What size pizza do you want? S, M, or L:\n",
      " L\n",
      "Do you want pepperoni? Y or N:\n",
      " Y\n",
      "Do you want extra cheese? Y or N:\n",
      " N\n",
      "Your final bill is $28\n"
     ]
    }
   ],
   "source": [
    "# 🚨 Don't change the code below 👇\n",
    "print(\"Welcome to Python Pizza Deliveries!\")\n",
    "size = input(\"What size pizza do you want? S, M, or L:\\n \")\n",
    "add_pepperoni = input(\"Do you want pepperoni? Y or N:\\n \")\n",
    "extra_cheese = input(\"Do you want extra cheese? Y or N:\\n \")\n",
    "# 🚨 Don't change the code above 👆\n",
    "\n",
    "#Write your code below this line 👇\n",
    "bill = 0\n",
    "\n",
    "if size == \"S\":\n",
    "    bill += 15\n",
    "elif size == \"M\":\n",
    "    bill += 20\n",
    "elif size == \"L\":\n",
    "    bill += 25\n",
    "    \n",
    "if add_pepperoni == \"Y\":\n",
    "    if size == \"S\":\n",
    "        bill += 2\n",
    "    else:\n",
    "        bill += 3\n",
    "if extra_cheese == \"Y\":\n",
    "    bill += 1\n",
    "\n",
    "print(f\"Your final bill is ${bill}\")"
   ]
  },
  {
   "cell_type": "markdown",
   "id": "851e5e2c",
   "metadata": {},
   "source": [
    "# Logical Operators"
   ]
  },
  {
   "cell_type": "code",
   "execution_count": 48,
   "id": "d7712e2d",
   "metadata": {},
   "outputs": [
    {
     "data": {
      "text/plain": [
       "False"
      ]
     },
     "execution_count": 48,
     "metadata": {},
     "output_type": "execute_result"
    }
   ],
   "source": [
    "a = 12\n",
    "a > 15\n"
   ]
  },
  {
   "cell_type": "code",
   "execution_count": 49,
   "id": "57e550b3",
   "metadata": {},
   "outputs": [
    {
     "data": {
      "text/plain": [
       "True"
      ]
     },
     "execution_count": 49,
     "metadata": {},
     "output_type": "execute_result"
    }
   ],
   "source": [
    "a > 10"
   ]
  },
  {
   "cell_type": "code",
   "execution_count": 50,
   "id": "3fdf85d3",
   "metadata": {},
   "outputs": [
    {
     "data": {
      "text/plain": [
       "True"
      ]
     },
     "execution_count": 50,
     "metadata": {},
     "output_type": "execute_result"
    }
   ],
   "source": [
    "a > 10 and a < 13"
   ]
  },
  {
   "cell_type": "code",
   "execution_count": 51,
   "id": "1b583db2",
   "metadata": {},
   "outputs": [
    {
     "data": {
      "text/plain": [
       "False"
      ]
     },
     "execution_count": 51,
     "metadata": {},
     "output_type": "execute_result"
    }
   ],
   "source": [
    "a > 15 and a < 13"
   ]
  },
  {
   "cell_type": "code",
   "execution_count": 52,
   "id": "b9fa6ebc",
   "metadata": {},
   "outputs": [
    {
     "data": {
      "text/plain": [
       "True"
      ]
     },
     "execution_count": 52,
     "metadata": {},
     "output_type": "execute_result"
    }
   ],
   "source": [
    "not a > 15"
   ]
  },
  {
   "cell_type": "code",
   "execution_count": 54,
   "id": "d3b3369f",
   "metadata": {},
   "outputs": [
    {
     "name": "stdout",
     "output_type": "stream",
     "text": [
      "Welcome to the rollercoaster!\n",
      "\n",
      "What is your height in cm?\n",
      " 180\n",
      "You can ride the rollercoster!\n",
      "\n",
      "What is your age? \n",
      "52\n",
      "Middle age is free\n",
      "Do you want a photo? Y or N. N\n",
      "Your final bill is 0\n"
     ]
    }
   ],
   "source": [
    "print('Welcome to the rollercoaster!\\n')\n",
    "height = int(input('What is your height in cm?\\n '))\n",
    "bill = 0 \n",
    "if height > 120:\n",
    "    print('You can ride the rollercoster!\\n')\n",
    "    age = int(input('What is your age? \\n'))\n",
    "    if age >= 45 and age <= 55:\n",
    "        print(\"Middle age is free\")\n",
    "    elif age < 12:\n",
    "        print(\"Child tickets are $5.\")\n",
    "        bill = 5\n",
    "    elif age <= 18:\n",
    "        print('Youth tickets are $7.')\n",
    "        bill = 7\n",
    "    else:\n",
    "        print(\"Adult tickets are $12.\")\n",
    "        bill = 12\n",
    "        \n",
    "    wants_photo = input(\"Do you want a photo? Y or N. \")\n",
    "    if wants_photo == \"Y\":\n",
    "        bill += 3\n",
    "    \n",
    "    print(f'Your final bill is {bill}')\n",
    "        \n",
    "else:\n",
    "    print('Sorry, you have to grow taller before you can ride')"
   ]
  },
  {
   "cell_type": "markdown",
   "id": "2e6d21eb",
   "metadata": {},
   "source": [
    "# [Interactive Coding Exercise] Love Calculator\n",
    "The lower() function changes all the letters in a string to lower case.\n",
    "\n",
    "https://stackoverflow.com/questions/6797984/how-do-i-lowercase-a-string-in-python\n",
    "\n",
    "The count() function will give you the number of times a letter occurs in a string.\n",
    "\n",
    "https://stackoverflow.com/questions/1155617/count-the-number-occurrences-of-a-character-in-a-string"
   ]
  },
  {
   "cell_type": "code",
   "execution_count": 59,
   "id": "b9d0a29f",
   "metadata": {
    "scrolled": true
   },
   "outputs": [
    {
     "name": "stdout",
     "output_type": "stream",
     "text": [
      "Welcome to the Love Calculator!\n",
      "What is your name? \n",
      "Jacque Trahan\n",
      "What is their name? \n",
      "Rosario Dawson\n",
      "Your score is 10\n"
     ]
    }
   ],
   "source": [
    "# 🚨 Don't change the code below 👇\n",
    "print(\"Welcome to the Love Calculator!\")\n",
    "name1 = input(\"What is your name? \\n\")\n",
    "name2 = input(\"What is their name? \\n\")\n",
    "# 🚨 Don't change the code above 👆\n",
    "\n",
    "#Write your code below this line 👇\n",
    "upper_name1 = name1.upper()\n",
    "upper_name2 = name2.upper()\n",
    "\n",
    "names = upper_name1 + upper_name2\n",
    "T = names.count(\"T\") + names.count(\"R\") + names.count(\"U\") + names.count(\"E\")\n",
    "L = names.count(\"L\") + names.count(\"O\") + names.count(\"V\") + names.count(\"E\")\n",
    "\n",
    "lovescore = T + L\n",
    "\n",
    "if lovescore < 10 or lovescore > 90:\n",
    "    print(f\"Your score is {lovescore}, you go together like coke and mentos.\")\n",
    "elif lovescore > 40 and lovescore < 50:\n",
    "    print(f\"Your score is {lovescore}, you are alright together.\")\n",
    "else:\n",
    "    print(f\"Your score is {lovescore}\")"
   ]
  },
  {
   "cell_type": "markdown",
   "id": "1cb1f141",
   "metadata": {},
   "source": [
    ":("
   ]
  },
  {
   "cell_type": "code",
   "execution_count": null,
   "id": "d07fa3e2",
   "metadata": {},
   "outputs": [],
   "source": []
  },
  {
   "cell_type": "code",
   "execution_count": null,
   "id": "a29c6a3c",
   "metadata": {},
   "outputs": [],
   "source": []
  },
  {
   "cell_type": "code",
   "execution_count": null,
   "id": "acd41bd5",
   "metadata": {},
   "outputs": [],
   "source": []
  },
  {
   "cell_type": "code",
   "execution_count": null,
   "id": "34206702",
   "metadata": {},
   "outputs": [],
   "source": []
  },
  {
   "cell_type": "code",
   "execution_count": null,
   "id": "991e86b3",
   "metadata": {},
   "outputs": [],
   "source": []
  },
  {
   "cell_type": "code",
   "execution_count": null,
   "id": "e72c34b1",
   "metadata": {},
   "outputs": [],
   "source": []
  },
  {
   "cell_type": "code",
   "execution_count": null,
   "id": "0a818cbe",
   "metadata": {},
   "outputs": [],
   "source": []
  },
  {
   "cell_type": "code",
   "execution_count": null,
   "id": "ec9148fb",
   "metadata": {},
   "outputs": [],
   "source": []
  },
  {
   "cell_type": "code",
   "execution_count": null,
   "id": "2cc81186",
   "metadata": {},
   "outputs": [],
   "source": []
  },
  {
   "cell_type": "code",
   "execution_count": null,
   "id": "86db8049",
   "metadata": {},
   "outputs": [],
   "source": []
  },
  {
   "cell_type": "code",
   "execution_count": null,
   "id": "55cbfa67",
   "metadata": {},
   "outputs": [],
   "source": []
  },
  {
   "cell_type": "code",
   "execution_count": null,
   "id": "06477139",
   "metadata": {},
   "outputs": [],
   "source": []
  },
  {
   "cell_type": "code",
   "execution_count": null,
   "id": "7bc2e075",
   "metadata": {},
   "outputs": [],
   "source": []
  },
  {
   "cell_type": "code",
   "execution_count": null,
   "id": "dfa9571d",
   "metadata": {},
   "outputs": [],
   "source": []
  },
  {
   "cell_type": "code",
   "execution_count": null,
   "id": "0cdaef31",
   "metadata": {},
   "outputs": [],
   "source": []
  },
  {
   "cell_type": "code",
   "execution_count": null,
   "id": "de703276",
   "metadata": {},
   "outputs": [],
   "source": []
  },
  {
   "cell_type": "code",
   "execution_count": null,
   "id": "ecca3610",
   "metadata": {},
   "outputs": [],
   "source": []
  },
  {
   "cell_type": "code",
   "execution_count": null,
   "id": "0e462fc9",
   "metadata": {},
   "outputs": [],
   "source": []
  },
  {
   "cell_type": "code",
   "execution_count": null,
   "id": "9280b854",
   "metadata": {},
   "outputs": [],
   "source": []
  },
  {
   "cell_type": "code",
   "execution_count": null,
   "id": "495065fc",
   "metadata": {},
   "outputs": [],
   "source": []
  },
  {
   "cell_type": "code",
   "execution_count": null,
   "id": "dd8dcfce",
   "metadata": {},
   "outputs": [],
   "source": []
  },
  {
   "cell_type": "code",
   "execution_count": null,
   "id": "a2f155d0",
   "metadata": {},
   "outputs": [],
   "source": []
  },
  {
   "cell_type": "code",
   "execution_count": null,
   "id": "ba8438b7",
   "metadata": {},
   "outputs": [],
   "source": []
  },
  {
   "cell_type": "code",
   "execution_count": null,
   "id": "a33061c2",
   "metadata": {},
   "outputs": [],
   "source": []
  },
  {
   "cell_type": "code",
   "execution_count": null,
   "id": "654f6627",
   "metadata": {},
   "outputs": [],
   "source": []
  },
  {
   "cell_type": "code",
   "execution_count": null,
   "id": "5cb3ff32",
   "metadata": {},
   "outputs": [],
   "source": []
  },
  {
   "cell_type": "code",
   "execution_count": null,
   "id": "2b895d7c",
   "metadata": {},
   "outputs": [],
   "source": []
  },
  {
   "cell_type": "code",
   "execution_count": null,
   "id": "2ec8cf20",
   "metadata": {},
   "outputs": [],
   "source": []
  },
  {
   "cell_type": "code",
   "execution_count": null,
   "id": "bd70537a",
   "metadata": {},
   "outputs": [],
   "source": []
  },
  {
   "cell_type": "code",
   "execution_count": null,
   "id": "2ab12687",
   "metadata": {},
   "outputs": [],
   "source": []
  }
 ],
 "metadata": {
  "kernelspec": {
   "display_name": "Python 3",
   "language": "python",
   "name": "python3"
  },
  "language_info": {
   "codemirror_mode": {
    "name": "ipython",
    "version": 3
   },
   "file_extension": ".py",
   "mimetype": "text/x-python",
   "name": "python",
   "nbconvert_exporter": "python",
   "pygments_lexer": "ipython3",
   "version": "3.9.5"
  }
 },
 "nbformat": 4,
 "nbformat_minor": 5
}
