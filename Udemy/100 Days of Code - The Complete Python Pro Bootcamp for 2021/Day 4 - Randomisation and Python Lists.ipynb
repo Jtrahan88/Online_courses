{
 "cells": [
  {
   "cell_type": "markdown",
   "id": "689b2f9f",
   "metadata": {},
   "source": [
    "# Random Module"
   ]
  },
  {
   "cell_type": "code",
   "execution_count": 1,
   "id": "2f60d9dc",
   "metadata": {},
   "outputs": [],
   "source": [
    "import random"
   ]
  },
  {
   "cell_type": "code",
   "execution_count": 2,
   "id": "5b64edaa",
   "metadata": {},
   "outputs": [
    {
     "data": {
      "text/plain": [
       "1.29"
      ]
     },
     "execution_count": 2,
     "metadata": {},
     "output_type": "execute_result"
    }
   ],
   "source": [
    "a = random.random() *5\n",
    "round(a, 2)"
   ]
  },
  {
   "cell_type": "code",
   "execution_count": 3,
   "id": "848ee850",
   "metadata": {},
   "outputs": [
    {
     "name": "stdout",
     "output_type": "stream",
     "text": [
      "your love score is 78\n"
     ]
    }
   ],
   "source": [
    "love_score = random.randint(1,100)\n",
    "print(f'your love score is {love_score}')"
   ]
  },
  {
   "cell_type": "markdown",
   "id": "5b98da0a",
   "metadata": {},
   "source": [
    "# [Interactive Coding Exercise] Random Exercise\n",
    "#Write your code below this line 👇\n",
    "\n",
    "#Hint: Remember to import the random module first. 🎲"
   ]
  },
  {
   "cell_type": "code",
   "execution_count": 4,
   "id": "b3cad785",
   "metadata": {},
   "outputs": [
    {
     "name": "stdout",
     "output_type": "stream",
     "text": [
      "Tails\n"
     ]
    }
   ],
   "source": [
    "coin_toss = random.randint(0,1)\n",
    "if coin_toss == 1:\n",
    "    print('Heads')\n",
    "else:\n",
    "    print('Tails')"
   ]
  },
  {
   "cell_type": "markdown",
   "id": "8643ac46",
   "metadata": {},
   "source": [
    "# Understanding the Offset and Appending Items to Lists\n",
    "also known as a data structure"
   ]
  },
  {
   "cell_type": "code",
   "execution_count": 11,
   "id": "c1ad46d0",
   "metadata": {},
   "outputs": [],
   "source": [
    "# states in the order they joined the union\n",
    "states_of_america = ['Delaware', 'Pennsylvania', 'New Jersey', 'Georgia', 'Connecticut', 'Massachusetts', 'Maryland',\n",
    "                     'South Carolina', 'New Hampshire', 'Virginia', 'New York', 'North Carolina', 'Rhode Island',\n",
    "                     'Vermont', 'Kentucky', 'Tennessee', 'Ohio', 'Louisiana', 'Indiana', 'Mississippi', 'Illinois',\n",
    "                     'Alabama', 'Maine', 'Missouri', 'Arkansas', 'Michigan', 'Florida', 'Texas', 'Iowa', 'Wisconsin', \n",
    "                     'California', 'Minnesota', 'Oregon', 'Kansas', 'West Virginia', 'Nevada', 'Nebraska', 'Colorado',\n",
    "                     'North Dakota', 'South Dakota', 'Montana', 'Washington', 'Idaho', 'Wyoming', 'Utah', 'Oklahoma', \n",
    "                     'New Mexico', 'Arizona', 'Alaska', 'Hawaii']"
   ]
  },
  {
   "cell_type": "code",
   "execution_count": 12,
   "id": "fcee16ad",
   "metadata": {},
   "outputs": [
    {
     "data": {
      "text/plain": [
       "'Michigan'"
      ]
     },
     "execution_count": 12,
     "metadata": {},
     "output_type": "execute_result"
    }
   ],
   "source": [
    "states_of_america[25] # get the order of the states when they become part of the union"
   ]
  },
  {
   "cell_type": "code",
   "execution_count": 13,
   "id": "143ab4dc",
   "metadata": {},
   "outputs": [
    {
     "data": {
      "text/plain": [
       "'Hawaii'"
      ]
     },
     "execution_count": 13,
     "metadata": {},
     "output_type": "execute_result"
    }
   ],
   "source": [
    "states_of_america[-1]"
   ]
  },
  {
   "cell_type": "code",
   "execution_count": 18,
   "id": "a137bd5e",
   "metadata": {},
   "outputs": [],
   "source": [
    "states_of_america[1] = 'PA'"
   ]
  },
  {
   "cell_type": "code",
   "execution_count": 19,
   "id": "7994f399",
   "metadata": {
    "scrolled": true
   },
   "outputs": [
    {
     "data": {
      "text/plain": [
       "['Delaware',\n",
       " 'PA',\n",
       " 'New Jersey',\n",
       " 'Georgia',\n",
       " 'Connecticut',\n",
       " 'Massachusetts',\n",
       " 'Maryland',\n",
       " 'South Carolina',\n",
       " 'New Hampshire',\n",
       " 'Virginia',\n",
       " 'New York',\n",
       " 'North Carolina',\n",
       " 'Rhode Island',\n",
       " 'Vermont',\n",
       " 'Kentucky',\n",
       " 'Tennessee',\n",
       " 'Ohio',\n",
       " 'Louisiana',\n",
       " 'Indiana',\n",
       " 'Mississippi',\n",
       " 'Illinois',\n",
       " 'Alabama',\n",
       " 'Maine',\n",
       " 'Missouri',\n",
       " 'Arkansas',\n",
       " 'Michigan',\n",
       " 'Florida',\n",
       " 'Texas',\n",
       " 'Iowa',\n",
       " 'Wisconsin',\n",
       " 'California',\n",
       " 'Minnesota',\n",
       " 'Oregon',\n",
       " 'Kansas',\n",
       " 'West Virginia',\n",
       " 'Nevada',\n",
       " 'Nebraska',\n",
       " 'Colorado',\n",
       " 'North Dakota',\n",
       " 'South Dakota',\n",
       " 'Montana',\n",
       " 'Washington',\n",
       " 'Idaho',\n",
       " 'Wyoming',\n",
       " 'Utah',\n",
       " 'Oklahoma',\n",
       " 'New Mexico',\n",
       " 'Arizona',\n",
       " 'Alaska',\n",
       " 'Hawaii']"
      ]
     },
     "execution_count": 19,
     "metadata": {},
     "output_type": "execute_result"
    }
   ],
   "source": [
    "states_of_america"
   ]
  },
  {
   "cell_type": "code",
   "execution_count": 20,
   "id": "072a6878",
   "metadata": {},
   "outputs": [],
   "source": [
    "states_of_america.append(\"mer see\") # add to the end of the list"
   ]
  },
  {
   "cell_type": "code",
   "execution_count": 22,
   "id": "429fa1b9",
   "metadata": {},
   "outputs": [
    {
     "data": {
      "text/plain": [
       "'mer see'"
      ]
     },
     "execution_count": 22,
     "metadata": {},
     "output_type": "execute_result"
    }
   ],
   "source": [
    "states_of_america[-1]"
   ]
  },
  {
   "cell_type": "code",
   "execution_count": 23,
   "id": "2d1284fd",
   "metadata": {},
   "outputs": [],
   "source": [
    "states_of_america.extend(['oh', 'no', 'what'])"
   ]
  },
  {
   "cell_type": "code",
   "execution_count": 26,
   "id": "19ce4eb6",
   "metadata": {},
   "outputs": [
    {
     "data": {
      "text/plain": [
       "['oh', 'no', 'what']"
      ]
     },
     "execution_count": 26,
     "metadata": {},
     "output_type": "execute_result"
    }
   ],
   "source": [
    "states_of_america[-3:]"
   ]
  },
  {
   "cell_type": "markdown",
   "id": "bad61966",
   "metadata": {},
   "source": [
    "# [Interactive Coding Exercise] Banker Roulette - \n",
    "Who will pay\n",
    "the bill?\n",
    "\n",
    "Hint\n",
    "You might need the help of the len() function."
   ]
  },
  {
   "cell_type": "code",
   "execution_count": 101,
   "id": "b932a468",
   "metadata": {},
   "outputs": [
    {
     "name": "stdout",
     "output_type": "stream",
     "text": [
      "Give me everybody's names, separated by a comma. Jacque, Lee, Trey, Courtney, Patricia\n",
      "Patricia is going to pay the bill today!\n"
     ]
    }
   ],
   "source": [
    "# Split string method\n",
    "names_string = input(\"Give me everybody's names, separated by a comma. \")\n",
    "names = names_string.split(\", \")\n",
    "# 🚨 Don't change the code above 👆\n",
    "\n",
    "#Write your code below this line 👇\n",
    "\n",
    "random_number = len(names)\n",
    "pay_up = random.randint(0,random_number - 1)\n",
    "print(f\"{names[pay_up]} is going to pay the bill today!\")\n",
    "# Jacque, Lee, Trey, Courtney, Patricia"
   ]
  },
  {
   "cell_type": "code",
   "execution_count": 118,
   "id": "5f6979cd",
   "metadata": {},
   "outputs": [
    {
     "data": {
      "text/plain": [
       "'Jacque'"
      ]
     },
     "execution_count": 118,
     "metadata": {},
     "output_type": "execute_result"
    }
   ],
   "source": [
    "random.choice(names) # short cut but above is important to understand the concepts. !!!!! Super import "
   ]
  },
  {
   "cell_type": "markdown",
   "id": "078ccdc0",
   "metadata": {},
   "source": [
    "# IndexErrors and Working with Nested Lists"
   ]
  },
  {
   "cell_type": "code",
   "execution_count": 119,
   "id": "a4cf6389",
   "metadata": {},
   "outputs": [
    {
     "data": {
      "text/plain": [
       "54"
      ]
     },
     "execution_count": 119,
     "metadata": {},
     "output_type": "execute_result"
    }
   ],
   "source": [
    "len(states_of_america)"
   ]
  },
  {
   "cell_type": "code",
   "execution_count": 124,
   "id": "a2a15c3d",
   "metadata": {},
   "outputs": [],
   "source": [
    "del states_of_america[-4:] # weird set up but ku ku ca chu"
   ]
  },
  {
   "cell_type": "code",
   "execution_count": 130,
   "id": "ecf9ccf4",
   "metadata": {},
   "outputs": [
    {
     "data": {
      "text/plain": [
       "50"
      ]
     },
     "execution_count": 130,
     "metadata": {},
     "output_type": "execute_result"
    }
   ],
   "source": [
    "num_of_state = len(states_of_america)\n",
    "num_of_state"
   ]
  },
  {
   "cell_type": "code",
   "execution_count": 131,
   "id": "495a12e9",
   "metadata": {},
   "outputs": [
    {
     "ename": "IndexError",
     "evalue": "list index out of range",
     "output_type": "error",
     "traceback": [
      "\u001b[1;31m---------------------------------------------------------------------------\u001b[0m",
      "\u001b[1;31mIndexError\u001b[0m                                Traceback (most recent call last)",
      "\u001b[1;32m<ipython-input-131-81d4dff01a51>\u001b[0m in \u001b[0;36m<module>\u001b[1;34m\u001b[0m\n\u001b[1;32m----> 1\u001b[1;33m \u001b[0mstates_of_america\u001b[0m\u001b[1;33m[\u001b[0m\u001b[0mnum_of_state\u001b[0m\u001b[1;33m]\u001b[0m\u001b[1;33m\u001b[0m\u001b[1;33m\u001b[0m\u001b[0m\n\u001b[0m",
      "\u001b[1;31mIndexError\u001b[0m: list index out of range"
     ]
    }
   ],
   "source": [
    "states_of_america[num_of_state]"
   ]
  },
  {
   "cell_type": "markdown",
   "id": "64ea1182",
   "metadata": {},
   "source": [
    "***IndexError:*** is raised when attempting to retrieve an index from a sequence (e.g. list, tuple), and the index isn’t found in the sequence."
   ]
  },
  {
   "cell_type": "code",
   "execution_count": 132,
   "id": "2fe552b9",
   "metadata": {},
   "outputs": [
    {
     "data": {
      "text/plain": [
       "'Hawaii'"
      ]
     },
     "execution_count": 132,
     "metadata": {},
     "output_type": "execute_result"
    }
   ],
   "source": [
    "states_of_america[num_of_state - 1]"
   ]
  },
  {
   "cell_type": "code",
   "execution_count": 158,
   "id": "d3efd8cc",
   "metadata": {
    "scrolled": true
   },
   "outputs": [
    {
     "name": "stdout",
     "output_type": "stream",
     "text": [
      "[['Strawberries', 'Spinach', 'Kale', 'Nectarines', 'Apples', 'Grapes', 'Peaches', 'Cherries', 'Pears', 'Tomatoes', 'Celery', 'Potatoes'], ['Avocados', 'Sweet corn', 'Pineapples', 'Cabbages', 'Onions', 'Sweet peas (frozen)', 'Papayas', 'Asparagus', 'Mangoes', 'Eggplants', 'Honeydew melons', 'Kiwi'], [1, 2, 3]]\n"
     ]
    }
   ],
   "source": [
    "dirt_dozen = [\"Strawberries\", \"Spinach\", \"Kale\", \"Nectarines\", \"Apples\", \"Grapes\", \"Peaches\", \"Cherries\",\n",
    "              \"Pears\", \"Tomatoes\", \"Celery\", \"Potatoes\"]\n",
    "clean_dozen = [\"Avocados\", \"Sweet corn\", \"Pineapples\", \"Cabbages\", \"Onions\", \"Sweet peas (frozen)\", \"Papayas\",\n",
    "               \"Asparagus\", \"Mangoes\", \"Eggplants\", \"Honeydew melons\", \"Kiwi\"]\n",
    "\n",
    "big_list = [dirt_dozen, clean_dozen, [1,2,3]]\n",
    "print(big_list)"
   ]
  },
  {
   "cell_type": "code",
   "execution_count": 161,
   "id": "23008c1d",
   "metadata": {},
   "outputs": [
    {
     "data": {
      "text/plain": [
       "False"
      ]
     },
     "execution_count": 161,
     "metadata": {},
     "output_type": "execute_result"
    }
   ],
   "source": [
    "big_list[2][0] == \"x\""
   ]
  },
  {
   "cell_type": "markdown",
   "id": "0b3766c1",
   "metadata": {},
   "source": [
    "# [Interactive Coding Exercise] Treasure Map\n",
    "Your job is to write a program that allows you to mark a square on the map using a two-digit system\n",
    "\n",
    "***Hint***\n",
    "* Remember that Lists start at index 0!\n",
    "* map is just a variable that contains a nested list. It's not related to the map function in Python.\n",
    "\n",
    "***Personal Note***\n",
    "This took me a while do to she made a remark that we put the columns first then the rows. \n",
    "I had started in pandas just to get some work stuff done quicker and came here to fully understand the basics to take me to the \n",
    "next level.\n",
    "\n",
    "That said,\n",
    "The best way to think about it is vertical and horizontal because the pandas libray uses rows first then columns. Once I got that down it was a piece of cake"
   ]
  },
  {
   "cell_type": "code",
   "execution_count": 172,
   "id": "00028777",
   "metadata": {},
   "outputs": [
    {
     "name": "stdout",
     "output_type": "stream",
     "text": [
      "['⬜️', '⬜️', '⬜️']\n",
      "['⬜️', '⬜️', '⬜️']\n",
      "['⬜️', '⬜️', '⬜️']\n",
      "Where do you want to put the treasure? 13\n",
      "['⬜️', '⬜️', '⬜️']\n",
      "['⬜️', '⬜️', '⬜️']\n",
      "['X', '⬜️', '⬜️']\n"
     ]
    }
   ],
   "source": [
    "# 🚨 Don't change the code below 👇\n",
    "row1 = [\"⬜️\",\"⬜️\",\"⬜️\"]\n",
    "row2 = [\"⬜️\",\"⬜️\",\"⬜️\"]\n",
    "row3 = [\"⬜️\",\"⬜️\",\"⬜️\"]\n",
    "map = [row1, row2, row3]\n",
    "print(f\"{row1}\\n{row2}\\n{row3}\")\n",
    "position = input(\"Where do you want to put the treasure? \")\n",
    "# 🚨 Don't change the code above 👆\n",
    "\n",
    "#Write your code below this row 👇\n",
    "\n",
    "horizontal = int(position[0])\n",
    "vertical = int(position[1])\n",
    "\n",
    "map[vertical - 1][horizontal - 1]  = \"X\"\n",
    "\n",
    "\n",
    "\n",
    "\n",
    "#Write your code above this row 👆\n",
    "\n",
    "# 🚨 Don't change the code below 👇\n",
    "print(f\"{row1}\\n{row2}\\n{row3}\")\n",
    "\n"
   ]
  },
  {
   "cell_type": "code",
   "execution_count": null,
   "id": "1f042c14",
   "metadata": {},
   "outputs": [],
   "source": []
  }
 ],
 "metadata": {
  "kernelspec": {
   "display_name": "Python 3",
   "language": "python",
   "name": "python3"
  },
  "language_info": {
   "codemirror_mode": {
    "name": "ipython",
    "version": 3
   },
   "file_extension": ".py",
   "mimetype": "text/x-python",
   "name": "python",
   "nbconvert_exporter": "python",
   "pygments_lexer": "ipython3",
   "version": "3.9.5"
  }
 },
 "nbformat": 4,
 "nbformat_minor": 5
}
