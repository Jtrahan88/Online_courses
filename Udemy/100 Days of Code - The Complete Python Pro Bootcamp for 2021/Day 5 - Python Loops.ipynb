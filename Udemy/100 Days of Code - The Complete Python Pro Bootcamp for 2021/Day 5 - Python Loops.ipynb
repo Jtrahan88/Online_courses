{
 "cells": [
  {
   "cell_type": "markdown",
   "id": "7557e8e9",
   "metadata": {},
   "source": [
    "# Using the for loop with Python Lists"
   ]
  },
  {
   "cell_type": "code",
   "execution_count": 3,
   "id": "b273b534",
   "metadata": {},
   "outputs": [
    {
     "name": "stdout",
     "output_type": "stream",
     "text": [
      "Appples\n",
      "Appples Pie\n",
      "['Appples', 'Pear', 'Peach']\n",
      "Pear\n",
      "Pear Pie\n",
      "['Appples', 'Pear', 'Peach']\n",
      "Peach\n",
      "Peach Pie\n",
      "['Appples', 'Pear', 'Peach']\n"
     ]
    }
   ],
   "source": [
    "fruits = ['Appples', 'Pear', 'Peach']\n",
    "\n",
    "for fruit in fruits:\n",
    "    print(fruit)\n",
    "    print(fruit + ' Pie')\n",
    "    print(fruits)"
   ]
  },
  {
   "cell_type": "code",
   "execution_count": 4,
   "id": "67f6e660",
   "metadata": {},
   "outputs": [
    {
     "name": "stdout",
     "output_type": "stream",
     "text": [
      "Appples\n",
      "Appples Pie\n",
      "Pear\n",
      "Pear Pie\n",
      "Peach\n",
      "Peach Pie\n"
     ]
    }
   ],
   "source": [
    "for fruit in fruits:\n",
    "    print(fruit)\n",
    "    print(fruit + ' Pie')\n",
    "    "
   ]
  },
  {
   "cell_type": "code",
   "execution_count": 5,
   "id": "2687ed29",
   "metadata": {},
   "outputs": [
    {
     "name": "stdout",
     "output_type": "stream",
     "text": [
      "Appples\n",
      "Appples Pie\n",
      "Pear\n",
      "Pear Pie\n",
      "Peach\n",
      "Peach Pie\n",
      "['Appples', 'Pear', 'Peach']\n"
     ]
    }
   ],
   "source": [
    "for fruit in fruits:\n",
    "    print(fruit)\n",
    "    print(fruit + ' Pie')\n",
    "print(fruits)"
   ]
  },
  {
   "cell_type": "markdown",
   "id": "9c04df5d",
   "metadata": {},
   "source": [
    "# [Interactive Coding Exercise] Average Height\n",
    "\n",
    "***Hint***\n",
    "\n",
    "Remember to use the round() function to round the average height before you print it.\n",
    "\n",
    "***Important*** You should not use the sum() or len() functions in your answer. You should try to replicate their functionality using what you have learnt about for loops."
   ]
  },
  {
   "cell_type": "code",
   "execution_count": 13,
   "id": "585bb115",
   "metadata": {},
   "outputs": [
    {
     "name": "stdout",
     "output_type": "stream",
     "text": [
      "Input a list of student heights 156 178 165 171 187\n"
     ]
    },
    {
     "data": {
      "text/plain": [
       "171"
      ]
     },
     "execution_count": 13,
     "metadata": {},
     "output_type": "execute_result"
    }
   ],
   "source": [
    "# 🚨 Don't change the code below 👇\n",
    "student_heights = input(\"Input a list of student heights \").split()\n",
    "for n in range(0, len(student_heights)):\n",
    "    student_heights[n] = int(student_heights[n])\n",
    "# 🚨 Don't change the code above 👆\n",
    "\n",
    "total_student_heights = 0\n",
    "total_student_counts = 0\n",
    "for height in student_heights:\n",
    "    total_student_heights += height\n",
    "    total_student_counts += 1\n",
    "\n",
    "#Write your code below this row 👇\n",
    "average_height = round(total_student_heights /total_student_counts )\n",
    "average_height"
   ]
  },
  {
   "cell_type": "markdown",
   "id": "9764c280",
   "metadata": {},
   "source": [
    "# [Interactive Coding Exercise] High Score\n",
    "\n",
    "***Important*** you are not allowed to use the max or min functions. The output words must match the example. i.e\n",
    "\n",
    "***Hint***\n",
    "\n",
    "Think about the logic before writing code. How can you compare numbers against each other to see which one is larger?"
   ]
  },
  {
   "cell_type": "code",
   "execution_count": 14,
   "id": "894ffe88",
   "metadata": {},
   "outputs": [
    {
     "name": "stdout",
     "output_type": "stream",
     "text": [
      "Input a list of student scores 78 65 89 86 55 91 64 89\n",
      "[78, 65, 89, 86, 55, 91, 64, 89]\n",
      "The highest score in the class is: 91\n"
     ]
    }
   ],
   "source": [
    "# 🚨 Don't change the code below 👇\n",
    "student_scores = input(\"Input a list of student scores \").split()\n",
    "for n in range(0, len(student_scores)):\n",
    "  student_scores[n] = int(student_scores[n])\n",
    "print(student_scores)\n",
    "# 🚨 Don't change the code above 👆\n",
    "\n",
    "#Write your code below this row 👇\n",
    "high_score = 0\n",
    "for score in student_scores:\n",
    "    if score > high_score:\n",
    "        high_score = score\n",
    "\n",
    "\n",
    "print(f'The highest score in the class is: {high_score}')"
   ]
  },
  {
   "cell_type": "markdown",
   "id": "7be2ddcb",
   "metadata": {},
   "source": [
    "# for loops and the range() function"
   ]
  },
  {
   "cell_type": "code",
   "execution_count": 20,
   "id": "e2742dbc",
   "metadata": {},
   "outputs": [
    {
     "name": "stdout",
     "output_type": "stream",
     "text": [
      "5050\n"
     ]
    }
   ],
   "source": [
    "total = 0\n",
    "for number in range(1, 101):\n",
    "    total += number\n",
    "    \n",
    "print(total)"
   ]
  },
  {
   "cell_type": "markdown",
   "id": "8d289d5f",
   "metadata": {},
   "source": [
    "# [Interactive Coding Exercise] Adding Even Numbers\n",
    "You are going to write a program that calculates the sum of all the even numbers from 1 to 100. Thus, the first even number would be 2 and the last one is 100:\n",
    "\n",
    "***Hint***\n",
    "There are quite a few ways of solving this problem, but you will need to use the range() function in any of the solutions."
   ]
  },
  {
   "cell_type": "code",
   "execution_count": 21,
   "id": "dfb6f216",
   "metadata": {},
   "outputs": [
    {
     "name": "stdout",
     "output_type": "stream",
     "text": [
      "2550\n"
     ]
    }
   ],
   "source": [
    "total_even = 0\n",
    "for number in range(2, 101, 2):\n",
    "    total_even += number\n",
    "print(total_even)"
   ]
  },
  {
   "cell_type": "code",
   "execution_count": 24,
   "id": "95506109",
   "metadata": {},
   "outputs": [
    {
     "name": "stdout",
     "output_type": "stream",
     "text": [
      "2550\n"
     ]
    }
   ],
   "source": [
    "# another way\n",
    "total_even = 0\n",
    "for number in range(1, 101):\n",
    "    if number % 2 == 0:\n",
    "        total_even += number\n",
    "print(total_even)"
   ]
  },
  {
   "cell_type": "markdown",
   "id": "503c9761",
   "metadata": {},
   "source": [
    "# [Interactive Coding Exercise] The FizzBuzz Job Interview Question\n",
    "\n",
    "You are going to write a program that automatically prints the solution to the FizzBuzz game.\n",
    "\n",
    "Your program should print each number from 1 to 100 in turn.\n",
    "\n",
    "When the number is divisible by 3 then instead of printing the number it should print \"Fizz\".\n",
    "\n",
    "When the number is divisible by 5, then instead of printing the number it should print \"Buzz\". \n",
    "And if the number is divisible by both 3 and 5 e.g. 15 then instead of the number it should print \"FizzBuzz\"\n",
    "\n",
    "***Hint***\n",
    "Remember your answer should start from 1 and go up to and including 100.\n",
    "\n",
    "Each number/text should be printed on a separate line."
   ]
  },
  {
   "cell_type": "code",
   "execution_count": 29,
   "id": "6d9d56fd",
   "metadata": {
    "scrolled": true
   },
   "outputs": [
    {
     "name": "stdout",
     "output_type": "stream",
     "text": [
      "1\n",
      "2\n",
      "Fizz\n",
      "4\n",
      "Buzz\n",
      "Fizz\n",
      "7\n",
      "8\n",
      "Fizz\n",
      "Buzz\n",
      "11\n",
      "Fizz\n",
      "13\n",
      "14\n",
      "FizzBuzz\n",
      "16\n",
      "17\n",
      "Fizz\n",
      "19\n",
      "Buzz\n",
      "Fizz\n",
      "22\n",
      "23\n",
      "Fizz\n",
      "Buzz\n",
      "26\n",
      "Fizz\n",
      "28\n",
      "29\n",
      "FizzBuzz\n",
      "31\n",
      "32\n",
      "Fizz\n",
      "34\n",
      "Buzz\n",
      "Fizz\n",
      "37\n",
      "38\n",
      "Fizz\n",
      "Buzz\n",
      "41\n",
      "Fizz\n",
      "43\n",
      "44\n",
      "FizzBuzz\n",
      "46\n",
      "47\n",
      "Fizz\n",
      "49\n",
      "Buzz\n",
      "Fizz\n",
      "52\n",
      "53\n",
      "Fizz\n",
      "Buzz\n",
      "56\n",
      "Fizz\n",
      "58\n",
      "59\n",
      "FizzBuzz\n",
      "61\n",
      "62\n",
      "Fizz\n",
      "64\n",
      "Buzz\n",
      "Fizz\n",
      "67\n",
      "68\n",
      "Fizz\n",
      "Buzz\n",
      "71\n",
      "Fizz\n",
      "73\n",
      "74\n",
      "FizzBuzz\n",
      "76\n",
      "77\n",
      "Fizz\n",
      "79\n",
      "Buzz\n",
      "Fizz\n",
      "82\n",
      "83\n",
      "Fizz\n",
      "Buzz\n",
      "86\n",
      "Fizz\n",
      "88\n",
      "89\n",
      "FizzBuzz\n",
      "91\n",
      "92\n",
      "Fizz\n",
      "94\n",
      "Buzz\n",
      "Fizz\n",
      "97\n",
      "98\n",
      "Fizz\n",
      "Buzz\n"
     ]
    }
   ],
   "source": [
    "for number in range(1, 101):\n",
    "    if number % 3 == 0 and number % 5 == 0:\n",
    "        print(\"FizzBuzz\")\n",
    "    elif number % 3 == 0:\n",
    "        print(\"Fizz\")\n",
    "    elif number % 5 == 0:\n",
    "        print(\"Buzz\")\n",
    "    else:\n",
    "        print(number)"
   ]
  },
  {
   "cell_type": "code",
   "execution_count": null,
   "id": "937ce59c",
   "metadata": {},
   "outputs": [],
   "source": []
  }
 ],
 "metadata": {
  "kernelspec": {
   "display_name": "Python 3",
   "language": "python",
   "name": "python3"
  },
  "language_info": {
   "codemirror_mode": {
    "name": "ipython",
    "version": 3
   },
   "file_extension": ".py",
   "mimetype": "text/x-python",
   "name": "python",
   "nbconvert_exporter": "python",
   "pygments_lexer": "ipython3",
   "version": "3.9.5"
  }
 },
 "nbformat": 4,
 "nbformat_minor": 5
}
