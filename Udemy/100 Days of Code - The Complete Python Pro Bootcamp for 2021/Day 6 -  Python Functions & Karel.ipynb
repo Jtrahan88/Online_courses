{
 "cells": [
  {
   "cell_type": "markdown",
   "id": "6cad6cb6",
   "metadata": {},
   "source": [
    "# Defining and Calling Python Functions"
   ]
  },
  {
   "cell_type": "code",
   "execution_count": 4,
   "id": "1ffdc4f4",
   "metadata": {},
   "outputs": [],
   "source": [
    "def my_function(): # define the function\n",
    "    print('Hello') # what the function does\n",
    "    print('Bye')"
   ]
  },
  {
   "cell_type": "code",
   "execution_count": 5,
   "id": "f0bcdd98",
   "metadata": {},
   "outputs": [
    {
     "name": "stdout",
     "output_type": "stream",
     "text": [
      "Hello\n",
      "Bye\n"
     ]
    }
   ],
   "source": [
    "my_function() # call or function aka executes it"
   ]
  },
  {
   "cell_type": "markdown",
   "id": "d449cd45",
   "metadata": {},
   "source": [
    "# Indentation in Python"
   ]
  },
  {
   "cell_type": "markdown",
   "id": "0722650a",
   "metadata": {},
   "source": [
    "# While Loops"
   ]
  },
  {
   "cell_type": "code",
   "execution_count": 6,
   "id": "df7df97e",
   "metadata": {},
   "outputs": [
    {
     "name": "stdout",
     "output_type": "stream",
     "text": [
      "5\n",
      "4\n",
      "3\n",
      "2\n",
      "1\n",
      "0\n"
     ]
    }
   ],
   "source": [
    "hurdles = 6\n",
    "while hurdles > 0:\n",
    "    hurdles -= 1\n",
    "    print(hurdles)\n",
    "    "
   ]
  },
  {
   "cell_type": "code",
   "execution_count": null,
   "id": "da354533",
   "metadata": {},
   "outputs": [],
   "source": []
  }
 ],
 "metadata": {
  "kernelspec": {
   "display_name": "Python 3",
   "language": "python",
   "name": "python3"
  },
  "language_info": {
   "codemirror_mode": {
    "name": "ipython",
    "version": 3
   },
   "file_extension": ".py",
   "mimetype": "text/x-python",
   "name": "python",
   "nbconvert_exporter": "python",
   "pygments_lexer": "ipython3",
   "version": "3.9.5"
  }
 },
 "nbformat": 4,
 "nbformat_minor": 5
}
