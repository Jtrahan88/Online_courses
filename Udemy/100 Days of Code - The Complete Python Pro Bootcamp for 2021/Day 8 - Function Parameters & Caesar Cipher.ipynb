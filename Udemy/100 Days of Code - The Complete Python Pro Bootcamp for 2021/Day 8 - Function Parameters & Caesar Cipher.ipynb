{
 "cells": [
  {
   "cell_type": "markdown",
   "id": "509548a9",
   "metadata": {},
   "source": [
    "# Goals: what we will make by the end of the day: Caesar Cipher"
   ]
  },
  {
   "cell_type": "code",
   "execution_count": 1,
   "id": "5b9e7c00",
   "metadata": {},
   "outputs": [
    {
     "name": "stdout",
     "output_type": "stream",
     "text": [
      "Hello\n",
      "how do you do\n",
      "Mer seeeeee\n"
     ]
    }
   ],
   "source": [
    "# Review: \n",
    "# Create a function called greet(). \n",
    "# Write 3 print statements inside the function.\n",
    "# Call the greet() function and run your code.\n",
    "\n",
    "def greet():\n",
    "    print('Hello')\n",
    "    print('how do you do')\n",
    "    print('Mer seeeeee')\n",
    "greet()"
   ]
  },
  {
   "cell_type": "markdown",
   "id": "d06ed22e",
   "metadata": {},
   "source": [
    "# Functions with Inputs"
   ]
  },
  {
   "cell_type": "code",
   "execution_count": 2,
   "id": "1c99fbf2",
   "metadata": {},
   "outputs": [
    {
     "name": "stdout",
     "output_type": "stream",
     "text": [
      "Hello Superman\n",
      "how do you do Superman\n",
      "Mer seeeeee\n"
     ]
    }
   ],
   "source": [
    "def greet_with_name(name): # the parameter is the name of the data being passed in\n",
    "    print(f'Hello {name}')\n",
    "    print(f'how do you do {name}')\n",
    "    print('Mer seeeeee')\n",
    "greet_with_name('Superman') # arguement is the value being passed to the function"
   ]
  },
  {
   "cell_type": "markdown",
   "id": "ac235752",
   "metadata": {},
   "source": [
    "# Positional vs. Keyword Arguments"
   ]
  },
  {
   "cell_type": "code",
   "execution_count": 3,
   "id": "bce9d685",
   "metadata": {},
   "outputs": [
    {
     "name": "stdout",
     "output_type": "stream",
     "text": [
      "Hello Superman\n",
      "How do you do Superman\n",
      "I live in Mer seeeeee\n"
     ]
    }
   ],
   "source": [
    "# Fuction with more than one input\n",
    "def greet_with(name, location):\n",
    "    print(f'Hello {name}')\n",
    "    print(f'How do you do {name}')\n",
    "    print(f'I live in {location}')\n",
    "greet_with(\"Superman\", \"Mer seeeeee\")"
   ]
  },
  {
   "cell_type": "code",
   "execution_count": 4,
   "id": "62b24016",
   "metadata": {},
   "outputs": [
    {
     "name": "stdout",
     "output_type": "stream",
     "text": [
      "Hello Mer seeeeee\n",
      "How do you do Mer seeeeee\n",
      "I live in Superman\n"
     ]
    }
   ],
   "source": [
    "greet_with(\"Mer seeeeee\", \"Superman\") # its backeards and nonsense"
   ]
  },
  {
   "cell_type": "code",
   "execution_count": 5,
   "id": "ce3d34f0",
   "metadata": {},
   "outputs": [
    {
     "name": "stdout",
     "output_type": "stream",
     "text": [
      "Hello Mer\n",
      "How do you do seeeeee\n",
      "I live in Superman\n"
     ]
    }
   ],
   "source": [
    "def my_function(a, b, c):\n",
    "    print(f'Hello {a}')\n",
    "    print(f'How do you do {b}')\n",
    "    print(f'I live in {c}')\n",
    "my_function(\"Mer\", \"seeeeee\", \"Superman\")"
   ]
  },
  {
   "cell_type": "code",
   "execution_count": 6,
   "id": "937898e5",
   "metadata": {},
   "outputs": [
    {
     "name": "stdout",
     "output_type": "stream",
     "text": [
      "Hello 2\n",
      "How do you do hi\n",
      "I live in hello\n"
     ]
    }
   ],
   "source": [
    "def my_function(a=\"2\", c=\"hello\", b=\"hi\"): \n",
    "    print(f'Hello {a}')\n",
    "    print(f'How do you do {b}')\n",
    "    print(f'I live in {c}')\n",
    "my_function() # for this to work to not but an arguement in the funtion call"
   ]
  },
  {
   "cell_type": "markdown",
   "id": "b8e8a626",
   "metadata": {},
   "source": [
    "#  [Interactive Coding Exercise] Paint Area Calculator\n",
    "\n",
    "\n",
    "                            area                  5\n",
    "number of cans = (wall height ✖️ wall width) ÷ coverage per can.\n",
    "\n",
    "e.g. Height = 2, Width = 4, Coverage = 5\n",
    "\n",
    "number of cans = (2 ✖️ 4) ÷ 5"
   ]
  },
  {
   "cell_type": "code",
   "execution_count": 7,
   "id": "9195a5e3",
   "metadata": {},
   "outputs": [
    {
     "name": "stdout",
     "output_type": "stream",
     "text": [
      "Height of wall: 3\n",
      "Width of wall: 17\n",
      "You'll need 11.0 cans of paint.\n"
     ]
    }
   ],
   "source": [
    "#Write your code below this line 👇\n",
    "import numpy as np # will help us round up\n",
    "def paint_calc(height, width, cover):\n",
    "    total_cans = np.ceil((height * width) / cover) # np.ceil() makes a float that rounds up for us\n",
    "    print(f\"You'll need {total_cans} cans of paint.\") # we could also imprt math and use math.ceil() same thing make an int\n",
    "\n",
    "\n",
    "\n",
    "\n",
    "\n",
    "#Write your code above this line 👆\n",
    "# Define a function called paint_calc() so that the code below works.   \n",
    "\n",
    "# 🚨 Don't change the code below 👇\n",
    "test_h = int(input(\"Height of wall: \"))\n",
    "test_w = int(input(\"Width of wall: \"))\n",
    "coverage = 5\n",
    "paint_calc(height=test_h, width=test_w, cover=coverage)"
   ]
  },
  {
   "cell_type": "markdown",
   "id": "4ba4a7d6",
   "metadata": {},
   "source": [
    "#  [Interactive Coding Exercise] Prime Number Checker\n",
    "\n",
    "Prime numbers are numbers that can only be cleanly divided by itself and 1\n",
    "\n",
    "You need to write a function that checks whether if the number passed into it is a prime number or not.\n",
    "\n",
    "e.g. 2 is a prime number because it's only divisible by 1 and 2.\n",
    "\n",
    "But 4 is not a prime number because you can divide it by 1, 2 or 4.\n",
    "\n",
    "https://cdn.fs.teachablecdn.com/s0gceS97QD6MP5RUT49H\n",
    "\n",
    "Here are the numbers up to 100, prime numbers are highlighted in yellow:\n",
    "\n",
    "https://cdn.fs.teachablecdn.com/NZqVclSt2qAe8KhTsUtw\n"
   ]
  },
  {
   "cell_type": "code",
   "execution_count": 8,
   "id": "da82f91a",
   "metadata": {
    "scrolled": true
   },
   "outputs": [
    {
     "name": "stdout",
     "output_type": "stream",
     "text": [
      "Check this number: 55\n",
      "It's NOT a prime number.\n"
     ]
    }
   ],
   "source": [
    "#Write your code below this line 👇\n",
    "def prime_checker(number):\n",
    "    is_prime = True\n",
    "    for i in range(2, number):\n",
    "        if number % i == 0:\n",
    "            is_prime = False\n",
    "    if is_prime:\n",
    "        print(\"It's a prime number.\")\n",
    "    else:\n",
    "        print(\"It's NOT a prime number.\")\n",
    "\n",
    "\n",
    "\n",
    "\n",
    "#Write your code above this line 👆\n",
    "    \n",
    "#Do NOT change any of the code below👇\n",
    "n = int(input(\"Check this number: \"))\n",
    "prime_checker(number=n)\n"
   ]
  },
  {
   "cell_type": "markdown",
   "id": "64f08d1e",
   "metadata": {},
   "source": [
    "# Caesar Cipher Part 1 - Encryption"
   ]
  },
  {
   "cell_type": "code",
   "execution_count": 13,
   "id": "339de4ad",
   "metadata": {
    "scrolled": true
   },
   "outputs": [
    {
     "name": "stdout",
     "output_type": "stream",
     "text": [
      "Type your message:\n",
      "hello\n",
      "Type the shift number:\n",
      "5\n",
      "The encoded text is mjqqt\n"
     ]
    }
   ],
   "source": [
    "alphabet = ['a', 'b', 'c', 'd', 'e', 'f', 'g', 'h', 'i', 'j', 'k', 'l', 'm', 'n', 'o', 'p', 'q', 'r', 's', \n",
    "            't', 'u', 'v', 'w', 'x', 'y', 'z', 'a', 'b', 'c', 'd', 'e', 'f', 'g', 'h', 'i', 'j', 'k', 'l', \n",
    "            'm', 'n', 'o', 'p', 'q', 'r', 's', 't', 'u', 'v', 'w', 'x', 'y', 'z']\n",
    "\n",
    "# direction = input(\"Type 'encode' to encrypt, type 'decode' to decrypt:\\n\")\n",
    "text = input(\"Type your message:\\n\").lower()\n",
    "shift = int(input(\"Type the shift number:\\n\"))\n",
    "\n",
    "#TODO-1: Create a function called 'encrypt' that takes the 'text' and 'shift' as inputs.\n",
    "def encrypt(plain_text, shift_amount):\n",
    "    #TODO-2: Inside the 'encrypt' function, shift each letter of the 'text' forwards in the alphabet by \n",
    "    #the shift amount and print the encrypted text.  \n",
    "    cipher_text = \"\"\n",
    "    for letter in text:\n",
    "        position = alphabet.index(letter)\n",
    "        new_position = position + shift\n",
    "        cipher_text += alphabet[new_position]\n",
    "    print(f\"The encoded text is {cipher_text}\")\n",
    "    #e.g. \n",
    "    #plain_text = \"hello\"\n",
    "    #shift = 5\n",
    "    #cipher_text = \"mjqqt\"\n",
    "    #print output: \"The encoded text is mjqqt\"\n",
    "\n",
    "    ##HINT: How do you get the index of an item in a list:\n",
    "    #https://stackoverflow.com/questions/176918/finding-the-index-of-an-item-in-a-list\n",
    "\n",
    "    ##🐛Bug alert: What happens if you try to encode the word 'zoo'?🐛\n",
    "    \n",
    "    # copy the alphabet list and just duplicated it. \n",
    "\n",
    "#TODO-3: Call the encrypt function and pass in the user inputs. You should be able to test the code and encrypt a message.\n",
    "encrypt(plain_text=text, shift_amount=shift)"
   ]
  },
  {
   "cell_type": "markdown",
   "id": "b1913274",
   "metadata": {},
   "source": [
    "# Caesar Cipher Part 2 - Decryption"
   ]
  },
  {
   "cell_type": "code",
   "execution_count": 20,
   "id": "190d7053",
   "metadata": {},
   "outputs": [
    {
     "name": "stdout",
     "output_type": "stream",
     "text": [
      "Type 'encode' to encrypt, type 'decode' to decrypt:\n",
      "decode\n",
      "Type your message:\n",
      "mjqqt\n",
      "Type the shift number:\n",
      "5\n",
      "The decoded text is hello\n"
     ]
    }
   ],
   "source": [
    "alphabet = ['a', 'b', 'c', 'd', 'e', 'f', 'g', 'h', 'i', 'j', 'k', 'l', 'm', 'n', 'o', 'p', 'q', 'r', 's', 't', 'u', 'v', 'w', 'x', 'y', 'z', 'a', 'b', 'c', 'd', 'e', 'f', 'g', 'h', 'i', 'j', 'k', 'l', 'm', 'n', 'o', 'p', 'q', 'r', 's', 't', 'u', 'v', 'w', 'x', 'y', 'z']\n",
    "\n",
    "direction = input(\"Type 'encode' to encrypt, type 'decode' to decrypt:\\n\")\n",
    "text = input(\"Type your message:\\n\").lower()\n",
    "shift = int(input(\"Type the shift number:\\n\"))\n",
    "\n",
    "def encrypt(plain_text, shift_amount):\n",
    "  cipher_text = \"\"\n",
    "  for letter in plain_text:\n",
    "    position = alphabet.index(letter)\n",
    "    code_position = position + shift_amount\n",
    "    cipher_text += alphabet[code_position]\n",
    "  print(f\"The encoded text is {cipher_text}\")\n",
    "\n",
    "def decrypt(cipher_text, shift_amount):\n",
    "    decode_text = \"\"\n",
    "    for letter in cipher_text:\n",
    "        position = alphabet.index(letter)\n",
    "        real_position = position - shift_amount\n",
    "        decode_text += alphabet[real_position]\n",
    "    print(f'The decoded text is {decode_text}')\n",
    "\n",
    "#TODO-1: Create a different function called 'decrypt' that takes the 'text' and 'shift' as inputs.\n",
    "\n",
    "  #TODO-2: Inside the 'decrypt' function, shift each letter of the 'text' *backwards* in the alphabet by the shift amount and print the decrypted text.  \n",
    "  #e.g. \n",
    "  #cipher_text = \"mjqqt\"\n",
    "  #shift = 5\n",
    "  #plain_text = \"hello\"\n",
    "  #print output: \"The decoded text is hello\"\n",
    "\n",
    "\n",
    "#TODO-3: Check if the user wanted to encrypt or decrypt the message by checking the 'direction' variable. Then call the correct function based on that 'drection' variable. You should be able to test the code to encrypt *AND* decrypt a message.\n",
    "if direction == \"encode\":\n",
    "    encrypt(plain_text=text, shift_amount=shift)\n",
    "elif direction == \"decode\":\n",
    "    decrypt(cipher_text=text, shift_amount=shift)"
   ]
  },
  {
   "cell_type": "markdown",
   "id": "c2a3a762",
   "metadata": {},
   "source": [
    "# Caesar Cipher Part 3 - Reorganising our Code"
   ]
  },
  {
   "cell_type": "code",
   "execution_count": 12,
   "id": "901d8c3c",
   "metadata": {},
   "outputs": [
    {
     "name": "stdout",
     "output_type": "stream",
     "text": [
      "Type 'encode' to encrypt, type 'decode' to decrypt:\n",
      "decode\n",
      "Type your message:\n",
      "mjqqt\n",
      "Type the shift number:\n",
      "5\n",
      "The decoded text is hello\n"
     ]
    }
   ],
   "source": [
    "alphabet = ['a', 'b', 'c', 'd', 'e', 'f', 'g', 'h', 'i', 'j', 'k', 'l', 'm', 'n', 'o', 'p', 'q', 'r',\n",
    "            's', 't', 'u', 'v', 'w', 'x', 'y', 'z', 'a', 'b', 'c', 'd', 'e', 'f', 'g', 'h', 'i', 'j', 'k',\n",
    "            'l', 'm', 'n', 'o', 'p', 'q', 'r', 's', 't', 'u', 'v', 'w', 'x', 'y', 'z']\n",
    "\n",
    "direction = input(\"Type 'encode' to encrypt, type 'decode' to decrypt:\\n\")\n",
    "text = input(\"Type your message:\\n\").lower()\n",
    "shift = int(input(\"Type the shift number:\\n\"))\n",
    "\n",
    "#TODO-1: Combine the encrypt() and decrypt() functions into a single function called caesar(). \n",
    "\n",
    "def caesar(direction, text, shift):\n",
    "    end_text = \"\"\n",
    "    \n",
    "    \n",
    "    if direction == \"encode\":\n",
    "        for letter in text:\n",
    "            position = alphabet.index(letter)\n",
    "            new_position = position + shift\n",
    "            end_text += alphabet[new_position]\n",
    "        print(f\"The encoded text is {end_text}\")\n",
    "        \n",
    "    elif direction == \"decode\":\n",
    "        for letter in text:\n",
    "            position = alphabet.index(letter)\n",
    "            new_position = position - shift\n",
    "            end_text += alphabet[new_position]\n",
    "        print(f\"The decoded text is {end_text}\")\n",
    "    else:\n",
    "        print('We can only encode or decode try again: \\n')\n",
    "        direction = input(\"Type 'encode' to encrypt, type 'decode' to decrypt:\\n\")\n",
    "        text = input(\"Type your message:\\n\").lower()\n",
    "        shift = int(input(\"Type the shift number:\\n\"))\n",
    "        caesar(direction, text, shift)\n",
    "\n",
    "#TODO-2: Call the caesar() function, passing over the 'text', 'shift' and 'direction' values.\n",
    "caesar(direction, text, shift)"
   ]
  },
  {
   "cell_type": "markdown",
   "id": "f1044270",
   "metadata": {},
   "source": [
    "# Better way of doing this"
   ]
  },
  {
   "cell_type": "code",
   "execution_count": 25,
   "id": "fe6df356",
   "metadata": {},
   "outputs": [
    {
     "name": "stdout",
     "output_type": "stream",
     "text": [
      "Type 'encode' to encrypt, type 'decode' to decrypt:\n",
      "decode\n",
      "Type your message:\n",
      "mjqqt\n",
      "Type the shift number:\n",
      "5\n",
      "The decoded message is: hello\n"
     ]
    }
   ],
   "source": [
    "alphabet = ['a', 'b', 'c', 'd', 'e', 'f', 'g', 'h', 'i', 'j', 'k', 'l', 'm', 'n', 'o', 'p', 'q', 'r',\n",
    "            's', 't', 'u', 'v', 'w', 'x', 'y', 'z', 'a', 'b', 'c', 'd', 'e', 'f', 'g', 'h', 'i', 'j', 'k',\n",
    "            'l', 'm', 'n', 'o', 'p', 'q', 'r', 's', 't', 'u', 'v', 'w', 'x', 'y', 'z']\n",
    "\n",
    "direction = input(\"Type 'encode' to encrypt, type 'decode' to decrypt:\\n\")\n",
    "text = input(\"Type your message:\\n\").lower()\n",
    "shift = int(input(\"Type the shift number:\\n\"))\n",
    "\n",
    "\n",
    "def caesar(direction, text, shift):\n",
    "    end_text = \"\"\n",
    "    if direction == 'decode':\n",
    "        shift *= -1\n",
    "        # this works bv if we use 5 and 'decode' then 5 * -1 = -5\n",
    "        # this will run if we do not use decode\n",
    "    for letter in text:\n",
    "        position = alphabet.index(letter)\n",
    "        new_position = position + shift\n",
    "        end_text += alphabet[new_position]\n",
    "    print(f'The {direction}d message is: {end_text}')\n",
    "\n",
    "#TODO-2: Call the caesar() function, passing over the 'text', 'shift' and 'direction' values.\n",
    "caesar(direction, text, shift)"
   ]
  },
  {
   "cell_type": "code",
   "execution_count": null,
   "id": "87262217",
   "metadata": {},
   "outputs": [],
   "source": []
  }
 ],
 "metadata": {
  "kernelspec": {
   "display_name": "Python 3",
   "language": "python",
   "name": "python3"
  },
  "language_info": {
   "codemirror_mode": {
    "name": "ipython",
    "version": 3
   },
   "file_extension": ".py",
   "mimetype": "text/x-python",
   "name": "python",
   "nbconvert_exporter": "python",
   "pygments_lexer": "ipython3",
   "version": "3.9.4"
  }
 },
 "nbformat": 4,
 "nbformat_minor": 5
}
