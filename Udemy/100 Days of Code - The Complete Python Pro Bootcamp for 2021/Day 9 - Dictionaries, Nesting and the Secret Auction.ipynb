{
 "cells": [
  {
   "cell_type": "markdown",
   "id": "a4c4cd8a",
   "metadata": {},
   "source": [
    "# The Python Dictionary: Deep Dive"
   ]
  },
  {
   "cell_type": "code",
   "execution_count": 21,
   "id": "7506f73c",
   "metadata": {},
   "outputs": [],
   "source": [
    "programming_dictionary = {\n",
    "    'Bug': 'An error in a program that prevents the programs from running as expected',\n",
    "    \"Function\": \"A piece of code that you can easily call over and over again.\"}"
   ]
  },
  {
   "cell_type": "code",
   "execution_count": 13,
   "id": "e0d49264",
   "metadata": {},
   "outputs": [
    {
     "data": {
      "text/plain": [
       "'An error in a program that prevents the programs from running as expected'"
      ]
     },
     "execution_count": 13,
     "metadata": {},
     "output_type": "execute_result"
    }
   ],
   "source": [
    "programming_dictionary['Bug']"
   ]
  },
  {
   "cell_type": "code",
   "execution_count": 14,
   "id": "a5cf3e44",
   "metadata": {},
   "outputs": [
    {
     "ename": "KeyError",
     "evalue": "'Bog'",
     "output_type": "error",
     "traceback": [
      "\u001b[1;31m---------------------------------------------------------------------------\u001b[0m",
      "\u001b[1;31mKeyError\u001b[0m                                  Traceback (most recent call last)",
      "\u001b[1;32m<ipython-input-14-ec2cb5313b2c>\u001b[0m in \u001b[0;36m<module>\u001b[1;34m\u001b[0m\n\u001b[1;32m----> 1\u001b[1;33m \u001b[0mprogramming_dictionary\u001b[0m\u001b[1;33m[\u001b[0m\u001b[1;34m'Bog'\u001b[0m\u001b[1;33m]\u001b[0m\u001b[1;33m\u001b[0m\u001b[1;33m\u001b[0m\u001b[0m\n\u001b[0m",
      "\u001b[1;31mKeyError\u001b[0m: 'Bog'"
     ]
    }
   ],
   "source": [
    "programming_dictionary['Bog']"
   ]
  },
  {
   "cell_type": "markdown",
   "id": "b5aeccd5",
   "metadata": {},
   "source": [
    "***KeyError:***  occurs when you attempt to access an item in a dictionary that does not exist using the indexing syntax"
   ]
  },
  {
   "cell_type": "code",
   "execution_count": 22,
   "id": "9b845828",
   "metadata": {},
   "outputs": [],
   "source": [
    "# add to the dictionary\n",
    "programming_dictionary['Loop'] = 'The action of soing something over and over again'"
   ]
  },
  {
   "cell_type": "code",
   "execution_count": 16,
   "id": "cf410746",
   "metadata": {},
   "outputs": [
    {
     "data": {
      "text/plain": [
       "'The action of soing something over and over again'"
      ]
     },
     "execution_count": 16,
     "metadata": {},
     "output_type": "execute_result"
    }
   ],
   "source": [
    "programming_dictionary['Loop']"
   ]
  },
  {
   "cell_type": "code",
   "execution_count": 17,
   "id": "07c55e07",
   "metadata": {},
   "outputs": [
    {
     "data": {
      "text/plain": [
       "{'Bug': 'An error in a program that prevents the programs from running as expected',\n",
       " 'Function': 'A piece of code that you can easily call over and over again.',\n",
       " 'Loop': 'The action of soing something over and over again'}"
      ]
     },
     "execution_count": 17,
     "metadata": {},
     "output_type": "execute_result"
    }
   ],
   "source": [
    "# see the whole dictionary\n",
    "programming_dictionary"
   ]
  },
  {
   "cell_type": "code",
   "execution_count": 18,
   "id": "c95b12a4",
   "metadata": {},
   "outputs": [],
   "source": [
    "empty_dict = {}"
   ]
  },
  {
   "cell_type": "code",
   "execution_count": 19,
   "id": "4f4884e5",
   "metadata": {},
   "outputs": [],
   "source": [
    "# whipe an existing dictionary\n",
    "programming_dictionary = {}"
   ]
  },
  {
   "cell_type": "code",
   "execution_count": 20,
   "id": "99bfd6d6",
   "metadata": {},
   "outputs": [
    {
     "data": {
      "text/plain": [
       "{}"
      ]
     },
     "execution_count": 20,
     "metadata": {},
     "output_type": "execute_result"
    }
   ],
   "source": [
    "programming_dictionary"
   ]
  },
  {
   "cell_type": "code",
   "execution_count": 23,
   "id": "3d7b260f",
   "metadata": {},
   "outputs": [],
   "source": [
    "#edit item i a diction\n",
    "programming_dictionary['Bug'] = 'A moth in your computer'"
   ]
  },
  {
   "cell_type": "code",
   "execution_count": 24,
   "id": "28f98b50",
   "metadata": {},
   "outputs": [
    {
     "data": {
      "text/plain": [
       "{'Bug': 'A moth in your computer',\n",
       " 'Function': 'A piece of code that you can easily call over and over again.',\n",
       " 'Loop': 'The action of soing something over and over again'}"
      ]
     },
     "execution_count": 24,
     "metadata": {},
     "output_type": "execute_result"
    }
   ],
   "source": [
    "programming_dictionary"
   ]
  },
  {
   "cell_type": "code",
   "execution_count": 28,
   "id": "f03e163c",
   "metadata": {},
   "outputs": [
    {
     "name": "stdout",
     "output_type": "stream",
     "text": [
      "A moth in your computer\n",
      "A piece of code that you can easily call over and over again.\n",
      "The action of soing something over and over again\n"
     ]
    }
   ],
   "source": [
    "# loop through a dictionary\n",
    "for key in programming_dictionary:\n",
    "    print(programming_dictionary[key]) # prints only the keys"
   ]
  },
  {
   "cell_type": "markdown",
   "id": "37befd11",
   "metadata": {},
   "source": [
    "#  [Interactive Coding Exercise] Grading Program"
   ]
  },
  {
   "cell_type": "code",
   "execution_count": 39,
   "id": "28670f31",
   "metadata": {},
   "outputs": [
    {
     "name": "stdout",
     "output_type": "stream",
     "text": [
      "{'Harry': 'Exceeds Expectations', 'Ron': 'Acceptable', 'Hermione': 'Outstanding', 'Draco': 'Acceptable', 'Neville': 'Fail'}\n"
     ]
    }
   ],
   "source": [
    "student_scores = {\n",
    "  \"Harry\": 81,\n",
    "  \"Ron\": 78,\n",
    "  \"Hermione\": 99, \n",
    "  \"Draco\": 74,\n",
    "  \"Neville\": 62,\n",
    "}\n",
    "# 🚨 Don't change the code above 👆\n",
    "\n",
    "#TODO-1: Create an empty dictionary called student_grades.\n",
    "student_grades = {}\n",
    "\n",
    "#TODO-2: Write your code below to add the grades to student_grades.👇\n",
    "for key in student_scores:\n",
    "    score = student_scores[key]\n",
    "    if score >= 91:\n",
    "        student_grades[key] =  \"Outstanding\"\n",
    "    elif score  >= 81:\n",
    "        student_grades[key]= 'Exceeds Expectations'\n",
    "    elif score  >= 71:\n",
    "        student_grades[key] ='Acceptable'\n",
    "    else:\n",
    "        student_grades[key] ='Fail'\n",
    "    \n",
    "\n",
    "# 🚨 Don't change the code below 👇\n",
    "print(student_grades)"
   ]
  },
  {
   "cell_type": "markdown",
   "id": "7d9b5421",
   "metadata": {},
   "source": [
    "# Nesting Lists and Dictionaries"
   ]
  },
  {
   "cell_type": "code",
   "execution_count": 3,
   "id": "c8fe7972",
   "metadata": {},
   "outputs": [],
   "source": [
    "# nesting\n",
    "capitals ={\n",
    "    'France': 'Paris',\n",
    "    'Germany': 'Berlin'\n",
    "}"
   ]
  },
  {
   "cell_type": "code",
   "execution_count": 5,
   "id": "45d9ee52",
   "metadata": {},
   "outputs": [],
   "source": [
    "travel_log = {\n",
    "    'France': ['Parish', \"Lille\", \"Dijon\"],\n",
    "    'Germany': ['Berlin', 'Hamburg', 'Stuttgart']\n",
    "}"
   ]
  },
  {
   "cell_type": "code",
   "execution_count": 6,
   "id": "0dff3fde",
   "metadata": {},
   "outputs": [
    {
     "data": {
      "text/plain": [
       "[1, 2, [3, 4]]"
      ]
     },
     "execution_count": 6,
     "metadata": {},
     "output_type": "execute_result"
    }
   ],
   "source": [
    "[1, 2, [3, 4]] # not as useful as nesting a list in a dictionary"
   ]
  },
  {
   "cell_type": "code",
   "execution_count": 14,
   "id": "03a7c485",
   "metadata": {},
   "outputs": [],
   "source": [
    "# nest a dictionary inside a dictionary\n",
    "travel_log = {\n",
    "    'France': {'cities_visited': ['Parish', \"Lille\", \"Dijon\"], 'total_visits': 12},\n",
    "    'Germany':{'cities_visited': ['Berlin', 'Hamburg', 'Stuttgart'], 'total_visits': 5}\n",
    "}"
   ]
  },
  {
   "cell_type": "code",
   "execution_count": 16,
   "id": "1032bdda",
   "metadata": {},
   "outputs": [
    {
     "data": {
      "text/plain": [
       "['Parish', 'Lille', 'Dijon']"
      ]
     },
     "execution_count": 16,
     "metadata": {},
     "output_type": "execute_result"
    }
   ],
   "source": [
    "travel_log['France']['cities_visited']"
   ]
  },
  {
   "cell_type": "code",
   "execution_count": 22,
   "id": "9e2fc44b",
   "metadata": {},
   "outputs": [],
   "source": [
    "# nest a dictionary inside a dictionary\n",
    "travel_log = [\n",
    "    {\n",
    "    'country': 'France',\n",
    "    'cities_visited': ['Parish', \"Lille\", \"Dijon\"],\n",
    "    'total_visits': 12\n",
    "    },\n",
    "    {\n",
    "    'country':'Germany',\n",
    "    'cities_visited': ['Berlin', 'Hamburg', 'Stuttgart'],\n",
    "    'total_visits': 5\n",
    "    },\n",
    "     ]"
   ]
  },
  {
   "cell_type": "markdown",
   "id": "896baee4",
   "metadata": {},
   "source": [
    "# [Interactive Coding Exercise] Dictionary in List\n",
    "You are going to write a program that adds to a travel_log. You can see a travel_log which is a List that contains 2 Dictionaries.\n",
    "\n",
    "Write a function that will work with the following line of code on line 21 to add the entry for Russia to the travel_log.\n",
    "\n",
    "***Hint***\n",
    "\n",
    "* add_new_country(\"Russia\", 2, [\"Moscow\", \"Saint Petersburg\"])\n",
    "\n",
    "Look at the function call above to see what the name of the function should be.\n",
    "\n",
    "The inputs for the function are positional arguments. The order is very important.\n",
    "\n",
    "Feel free to choose your own parameter names."
   ]
  },
  {
   "cell_type": "code",
   "execution_count": 30,
   "id": "bcea8ade",
   "metadata": {},
   "outputs": [
    {
     "name": "stdout",
     "output_type": "stream",
     "text": [
      "[{'country': 'France', 'visits': 12, 'cities': ['Paris', 'Lille', 'Dijon']}, {'country': 'Germany', 'visits': 5, 'cities': ['Berlin', 'Hamburg', 'Stuttgart']}, {'country': 'Russia', 'visits': 2, 'cities': ['Moscow', 'Saint Petersburg']}]\n"
     ]
    }
   ],
   "source": [
    "travel_log = [\n",
    "{\n",
    "  \"country\": \"France\",\n",
    "  \"visits\": 12,\n",
    "  \"cities\": [\"Paris\", \"Lille\", \"Dijon\"]\n",
    "},\n",
    "{\n",
    "  \"country\": \"Germany\",\n",
    "  \"visits\": 5,\n",
    "  \"cities\": [\"Berlin\", \"Hamburg\", \"Stuttgart\"]\n",
    "},\n",
    "]\n",
    "#🚨 Do NOT change the code above\n",
    "\n",
    "#TODO: Write the function that will allow new countries\n",
    "#to be added to the travel_log. 👇\n",
    "def add_new_country(country, visits, cities):\n",
    "    new_country = {} # create a new dictionary\n",
    "    new_country['country'] = country # add the forst items\n",
    "    new_country['visits'] = visits # addes the second item\n",
    "    new_country['cities'] = cities # addes the last item\n",
    "    travel_log.append(new_country) # since travel log is a list we have to use the append method to add the doct to\n",
    "    \n",
    "\n",
    "\n",
    "\n",
    "\n",
    "\n",
    "#🚨 Do not change the code below\n",
    "add_new_country(\"Russia\", 2, [\"Moscow\", \"Saint Petersburg\"])\n",
    "print(travel_log)\n",
    "\n"
   ]
  },
  {
   "cell_type": "code",
   "execution_count": 36,
   "id": "9b17013e",
   "metadata": {},
   "outputs": [
    {
     "data": {
      "text/plain": [
       "'Moscow'"
      ]
     },
     "execution_count": 36,
     "metadata": {},
     "output_type": "execute_result"
    }
   ],
   "source": [
    "travel_log[2]['cities'][0]"
   ]
  },
  {
   "cell_type": "code",
   "execution_count": 43,
   "id": "af09480b",
   "metadata": {},
   "outputs": [
    {
     "data": {
      "text/plain": [
       "7"
      ]
     },
     "execution_count": 43,
     "metadata": {},
     "output_type": "execute_result"
    }
   ],
   "source": [
    "starting_dictionary ={\n",
    "    'a': 1,\n",
    "    'b': 5\n",
    "}\n",
    "\n",
    "test = starting_dictionary['c'] = 7\n",
    " \n",
    "test"
   ]
  },
  {
   "cell_type": "code",
   "execution_count": 51,
   "id": "66a3ff28",
   "metadata": {},
   "outputs": [
    {
     "ename": "KeyError",
     "evalue": "1",
     "output_type": "error",
     "traceback": [
      "\u001b[1;31m---------------------------------------------------------------------------\u001b[0m",
      "\u001b[1;31mKeyError\u001b[0m                                  Traceback (most recent call last)",
      "\u001b[1;32m<ipython-input-51-9fd434552e38>\u001b[0m in \u001b[0;36m<module>\u001b[1;34m\u001b[0m\n\u001b[0;32m      6\u001b[0m \u001b[1;33m\u001b[0m\u001b[0m\n\u001b[0;32m      7\u001b[0m \u001b[1;33m\u001b[0m\u001b[0m\n\u001b[1;32m----> 8\u001b[1;33m \u001b[0mdict\u001b[0m\u001b[1;33m[\u001b[0m\u001b[1;36m1\u001b[0m\u001b[1;33m]\u001b[0m\u001b[1;33m\u001b[0m\u001b[1;33m\u001b[0m\u001b[0m\n\u001b[0m",
      "\u001b[1;31mKeyError\u001b[0m: 1"
     ]
    }
   ],
   "source": [
    "dict = {\n",
    "    \"a\": 1,\n",
    "    \"b\": 2,\n",
    "    \"c\": 3,\n",
    "}\n",
    "\n",
    "\n",
    "dict[1]\n"
   ]
  },
  {
   "cell_type": "code",
   "execution_count": 59,
   "id": "b88fcf6f",
   "metadata": {},
   "outputs": [
    {
     "data": {
      "text/plain": [
       "'Steak'"
      ]
     },
     "execution_count": 59,
     "metadata": {},
     "output_type": "execute_result"
    }
   ],
   "source": [
    "order = {\n",
    "    \"starter\": {1: \"Salad\", 2: \"Soup\"},\n",
    "    \"main\": {1: [\"Burger\", \"Fries\"], 2: [\"Steak\"]},\n",
    "    \"dessert\": {1: [\"Ice Cream\"], 2: []},\n",
    "}\n",
    "\n",
    "\n",
    "order['main'][2][0]"
   ]
  },
  {
   "cell_type": "markdown",
   "id": "a04d8528",
   "metadata": {},
   "source": [
    "# The Secret Auction Program Instructions and Flow Chart"
   ]
  },
  {
   "cell_type": "code",
   "execution_count": 63,
   "id": "d421b1fc",
   "metadata": {},
   "outputs": [
    {
     "name": "stdout",
     "output_type": "stream",
     "text": [
      "Stored 'data' (str)\n"
     ]
    }
   ],
   "source": [
    "logo = '''\n",
    "                         ___________\n",
    "                         \\         /\n",
    "                          )_______(\n",
    "                          |\"\"\"\"\"\"\"|_.-._,.---------.,_.-._\n",
    "                          |       | | |               | | ''-.\n",
    "                          |       |_| |_             _| |_..-'\n",
    "                          |_______| '-' `'---------'` '-'\n",
    "                          )\"\"\"\"\"\"\"(\n",
    "                         /_________\\\\\n",
    "                       .-------------.\n",
    "                      /_______________\\\\\n",
    "'''\n",
    "data = logo\n",
    "%store data"
   ]
  },
  {
   "cell_type": "code",
   "execution_count": 89,
   "id": "0bdaa494",
   "metadata": {},
   "outputs": [
    {
     "name": "stdout",
     "output_type": "stream",
     "text": [
      "\n",
      "                         ___________\n",
      "                         \\         /\n",
      "                          )_______(\n",
      "                          |\"\"\"\"\"\"\"|_.-._,.---------.,_.-._\n",
      "                          |       | | |               | | ''-.\n",
      "                          |       |_| |_             _| |_..-'\n",
      "                          |_______| '-' `'---------'` '-'\n",
      "                          )\"\"\"\"\"\"\"(\n",
      "                         /_________\\\n",
      "                       .-------------.\n",
      "                      /_______________\\\n",
      "\n",
      "What is your name?: \n",
      "sdfgsdfgsdf\n",
      "What's your bid?: $6\n",
      "Are there other bidders? Type \"yes\" or \"no\". yes\n",
      "\u001b[H\u001b[2JWhat is your name?: \n",
      "gfhdghdgh\n",
      "What's your bid?: $58\n",
      "Are there other bidders? Type \"yes\" or \"no\". no\n",
      "\u001b[H\u001b[2JThe winner is gfhdghdgh, they won with a bid of $58\n"
     ]
    }
   ],
   "source": [
    "from replit import clear\n",
    "\n",
    "print(logo)\n",
    "\n",
    "bids = {}\n",
    "\n",
    "# get the highest bidder\n",
    "def highest_bidder(bid_record):\n",
    "    highest_bid = 0\n",
    "    winner = \"\"\n",
    "    for bidder in bid_record:\n",
    "        bid_amount= bid_record[bidder]\n",
    "        if bid_amount > highest_bid:\n",
    "            highest_bid = bid_amount\n",
    "            winner = bidder\n",
    "    print(f'The winner is {winner}, they won with a bid of ${highest_bid}')\n",
    "\n",
    "\n",
    "\n",
    "more_bidders = True\n",
    "while more_bidders:\n",
    "    users_name = input('What is your name?: \\n')\n",
    "    bid_amount = int(input(\"What's your bid?: $\"))\n",
    "    \n",
    "    bids[users_name] = bid_amount\n",
    "    \n",
    "    \n",
    "    other_bidder = input('Are there other bidders? Type \"yes\" or \"no\". ').lower()\n",
    "\n",
    "    \n",
    "    if other_bidder == 'no':\n",
    "        more_bidders = False\n",
    "        clear()\n",
    "        highest_bidder(bids)\n",
    "    elif  other_bidder == 'yes':\n",
    "        clear()# doesnt work on jupyter notebook FYI\n",
    "\n"
   ]
  },
  {
   "cell_type": "code",
   "execution_count": null,
   "id": "5e7233b5",
   "metadata": {},
   "outputs": [],
   "source": []
  },
  {
   "cell_type": "code",
   "execution_count": null,
   "id": "fc3b56ae",
   "metadata": {},
   "outputs": [],
   "source": []
  }
 ],
 "metadata": {
  "kernelspec": {
   "display_name": "Python 3",
   "language": "python",
   "name": "python3"
  },
  "language_info": {
   "codemirror_mode": {
    "name": "ipython",
    "version": 3
   },
   "file_extension": ".py",
   "mimetype": "text/x-python",
   "name": "python",
   "nbconvert_exporter": "python",
   "pygments_lexer": "ipython3",
   "version": "3.9.5"
  }
 },
 "nbformat": 4,
 "nbformat_minor": 5
}
