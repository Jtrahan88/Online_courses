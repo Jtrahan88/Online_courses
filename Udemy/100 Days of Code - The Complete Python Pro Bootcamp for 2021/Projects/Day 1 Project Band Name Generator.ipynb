{
 "cells": [
  {
   "cell_type": "markdown",
   "id": "959b2151",
   "metadata": {},
   "source": [
    "# Project Goals:\n",
    "#1. Create a greeting for your program.\n",
    "\n",
    "#2. Ask the user for the city that they grew up in.\n",
    "\n",
    "#3. Ask the user for the name of a pet.\n",
    "\n",
    "#4. Combine the name of their city and pet and show them their band name."
   ]
  },
  {
   "cell_type": "code",
   "execution_count": 5,
   "id": "e4cb118d",
   "metadata": {},
   "outputs": [
    {
     "name": "stdout",
     "output_type": "stream",
     "text": [
      "This is the band name geterator\n",
      "What is the name of the city you grew up in?\n",
      " Lafayette\n",
      "What is the name of your pet?\n",
      " Prem\n",
      "You live in the city Lafayette with your pet Prem\n"
     ]
    }
   ],
   "source": [
    "print('This is the band name geterator')\n",
    "city = input('What is the name of the city you grew up in?\\n ')\n",
    "pet = input(\"What is the name of your pet?\\n \")\n",
    "print('You live in the city ' + city + ' with your pet ' + pet)"
   ]
  },
  {
   "cell_type": "code",
   "execution_count": null,
   "id": "e26dbe55",
   "metadata": {},
   "outputs": [],
   "source": []
  }
 ],
 "metadata": {
  "kernelspec": {
   "display_name": "Python 3",
   "language": "python",
   "name": "python3"
  },
  "language_info": {
   "codemirror_mode": {
    "name": "ipython",
    "version": 3
   },
   "file_extension": ".py",
   "mimetype": "text/x-python",
   "name": "python",
   "nbconvert_exporter": "python",
   "pygments_lexer": "ipython3",
   "version": "3.9.5"
  }
 },
 "nbformat": 4,
 "nbformat_minor": 5
}
