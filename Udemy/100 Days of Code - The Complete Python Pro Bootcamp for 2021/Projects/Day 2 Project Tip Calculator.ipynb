{
 "cells": [
  {
   "cell_type": "code",
   "execution_count": 1,
   "id": "72ba018b",
   "metadata": {},
   "outputs": [],
   "source": [
    "#If the bill was $150.00, split between 5 people, with 12% tip. \n",
    "#Each person should pay (150.00 / 5) * 1.12 = 33.6\n",
    "#Format the result to 2 decimal places = 33.60\n",
    "#Tip: There are 2 ways to round a number. You might have to do some Googling to solve this.💪\n",
    "#HINT 1: https://www.google.com/search?q=how+to+round+number+to+2+decimal+places+python&oq=how+to+round+number+to+2+decimal\n",
    "#HINT 2: https://www.kite.com/python/answers/how-to-limit-a-float-to-two-decimal-places-in-python"
   ]
  },
  {
   "cell_type": "code",
   "execution_count": 11,
   "id": "126b6e97",
   "metadata": {},
   "outputs": [
    {
     "name": "stdout",
     "output_type": "stream",
     "text": [
      "What is the cost of the bill? 186\n",
      "Type the percent amout as a whole number: 15\n",
      "How many people will split the bill? 5\n"
     ]
    },
    {
     "data": {
      "text/plain": [
       "5.58"
      ]
     },
     "execution_count": 11,
     "metadata": {},
     "output_type": "execute_result"
    }
   ],
   "source": [
    "bill_cost = input('What is the cost of the bill? ')\n",
    "tip_percent = input('Type the percent amout as a whole number: ')\n",
    "number_of_people = input('How many people will split the bill? ')\n",
    "total_tip_each = (float(bill_cost) / int(number_of_people)) * (float(tip_percent) / 100)\n",
    "round(total_tip_each, 2)"
   ]
  },
  {
   "cell_type": "code",
   "execution_count": null,
   "id": "08add79b",
   "metadata": {},
   "outputs": [],
   "source": []
  },
  {
   "cell_type": "code",
   "execution_count": null,
   "id": "3da38321",
   "metadata": {},
   "outputs": [],
   "source": []
  }
 ],
 "metadata": {
  "kernelspec": {
   "display_name": "Python 3",
   "language": "python",
   "name": "python3"
  },
  "language_info": {
   "codemirror_mode": {
    "name": "ipython",
    "version": 3
   },
   "file_extension": ".py",
   "mimetype": "text/x-python",
   "name": "python",
   "nbconvert_exporter": "python",
   "pygments_lexer": "ipython3",
   "version": "3.9.5"
  }
 },
 "nbformat": 4,
 "nbformat_minor": 5
}
