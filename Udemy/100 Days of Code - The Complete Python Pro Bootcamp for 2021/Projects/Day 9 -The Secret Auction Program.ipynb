{
 "cells": [
  {
   "cell_type": "code",
   "execution_count": 4,
   "id": "6d2db9fb",
   "metadata": {},
   "outputs": [],
   "source": [
    "logo = '''\n",
    "                         ___________\n",
    "                         \\         /\n",
    "                          )_______(\n",
    "                          |\"\"\"\"\"\"\"|_.-._,.---------.,_.-._\n",
    "                          |       | | |               | | ''-.\n",
    "                          |       |_| |_             _| |_..-'\n",
    "                          |_______| '-' `'---------'` '-'\n",
    "                          )\"\"\"\"\"\"\"(\n",
    "                         /_________\\\\\n",
    "                       .-------------.\n",
    "                      /_______________\\\\\n",
    "'''"
   ]
  },
  {
   "cell_type": "code",
   "execution_count": 13,
   "id": "c7c28d5a",
   "metadata": {},
   "outputs": [
    {
     "name": "stdout",
     "output_type": "stream",
     "text": [
      "\n",
      "                         ___________\n",
      "                         \\         /\n",
      "                          )_______(\n",
      "                          |\"\"\"\"\"\"\"|_.-._,.---------.,_.-._\n",
      "                          |       | | |               | | ''-.\n",
      "                          |       |_| |_             _| |_..-'\n",
      "                          |_______| '-' `'---------'` '-'\n",
      "                          )\"\"\"\"\"\"\"(\n",
      "                         /_________\\\n",
      "                       .-------------.\n",
      "                      /_______________\\\n",
      "\n",
      "What is your name?: \n",
      "Jacque\n",
      "What's your bid?: $369\n",
      "Are there other bidders? Type \"yes\" or \"no\". yes\n",
      "\u001b[H\u001b[2JWhat is your name?: \n",
      "Fran\n",
      "What's your bid?: $136\n",
      "Are there other bidders? Type \"yes\" or \"no\". yes\n",
      "\u001b[H\u001b[2JWhat is your name?: \n",
      "Mur See\n",
      "What's your bid?: $256\n",
      "Are there other bidders? Type \"yes\" or \"no\". no\n",
      "\u001b[H\u001b[2JThe winner is Jacque, they won with a bid of $369\n"
     ]
    }
   ],
   "source": [
    "from replit import clear\n",
    "\n",
    "print(logo)\n",
    "\n",
    "bids = {}\n",
    "\n",
    "# get the highest bidder\n",
    "def highest_bidder(bid_record):\n",
    "    highest_bid = 0\n",
    "    winner = \"\"\n",
    "    for bidder in bid_record:\n",
    "        bid_amount= bid_record[bidder]\n",
    "        if bid_amount > highest_bid:\n",
    "            highest_bid = bid_amount\n",
    "            winner = bidder\n",
    "    print(f'The winner is {winner}, they won with a bid of ${highest_bid}')\n",
    "\n",
    "\n",
    "\n",
    "more_bidders = True\n",
    "while more_bidders:\n",
    "    users_name = input('What is your name?: \\n')\n",
    "    bid_amount = int(input(\"What's your bid?: $\"))\n",
    "    \n",
    "    bids[users_name] = bid_amount\n",
    "    \n",
    "    \n",
    "    other_bidder = input('Are there other bidders? Type \"yes\" or \"no\". ').lower()\n",
    "\n",
    "    \n",
    "    if other_bidder == 'no':\n",
    "        more_bidders = False\n",
    "        clear()\n",
    "        highest_bidder(bids)\n",
    "    elif  other_bidder == 'yes':\n",
    "        clear()# doesnt work on jupyter notebook FYI\n",
    "\n"
   ]
  },
  {
   "cell_type": "code",
   "execution_count": null,
   "id": "29af066d",
   "metadata": {},
   "outputs": [],
   "source": []
  }
 ],
 "metadata": {
  "kernelspec": {
   "display_name": "Python 3",
   "language": "python",
   "name": "python3"
  },
  "language_info": {
   "codemirror_mode": {
    "name": "ipython",
    "version": 3
   },
   "file_extension": ".py",
   "mimetype": "text/x-python",
   "name": "python",
   "nbconvert_exporter": "python",
   "pygments_lexer": "ipython3",
   "version": "3.9.5"
  }
 },
 "nbformat": 4,
 "nbformat_minor": 5
}
