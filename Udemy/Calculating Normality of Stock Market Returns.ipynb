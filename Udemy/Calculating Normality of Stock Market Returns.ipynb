{
 "cells": [
  {
   "cell_type": "code",
   "execution_count": 1,
   "id": "73fcb7b2",
   "metadata": {},
   "outputs": [],
   "source": [
    "import pandas as pd\n",
    "import quandl\n",
    "\n",
    "with open('../API.txt') as f:\n",
    "    api_key = f.read()"
   ]
  },
  {
   "cell_type": "markdown",
   "id": "a20789e2",
   "metadata": {},
   "source": [
    "# Amazon stock price data"
   ]
  },
  {
   "cell_type": "code",
   "execution_count": 7,
   "id": "31809829",
   "metadata": {},
   "outputs": [
    {
     "data": {
      "text/html": [
       "<div>\n",
       "<style scoped>\n",
       "    .dataframe tbody tr th:only-of-type {\n",
       "        vertical-align: middle;\n",
       "    }\n",
       "\n",
       "    .dataframe tbody tr th {\n",
       "        vertical-align: top;\n",
       "    }\n",
       "\n",
       "    .dataframe thead th {\n",
       "        text-align: right;\n",
       "    }\n",
       "</style>\n",
       "<table border=\"1\" class=\"dataframe\">\n",
       "  <thead>\n",
       "    <tr style=\"text-align: right;\">\n",
       "      <th></th>\n",
       "      <th>Open</th>\n",
       "      <th>High</th>\n",
       "      <th>Low</th>\n",
       "      <th>Close</th>\n",
       "      <th>Volume</th>\n",
       "      <th>Ex-Dividend</th>\n",
       "      <th>Split Ratio</th>\n",
       "      <th>Adj. Open</th>\n",
       "      <th>Adj. High</th>\n",
       "      <th>Adj. Low</th>\n",
       "      <th>Adj. Close</th>\n",
       "      <th>Adj. Volume</th>\n",
       "    </tr>\n",
       "    <tr>\n",
       "      <th>Date</th>\n",
       "      <th></th>\n",
       "      <th></th>\n",
       "      <th></th>\n",
       "      <th></th>\n",
       "      <th></th>\n",
       "      <th></th>\n",
       "      <th></th>\n",
       "      <th></th>\n",
       "      <th></th>\n",
       "      <th></th>\n",
       "      <th></th>\n",
       "      <th></th>\n",
       "    </tr>\n",
       "  </thead>\n",
       "  <tbody>\n",
       "    <tr>\n",
       "      <th>2018-01-02</th>\n",
       "      <td>1172.0</td>\n",
       "      <td>1190.00</td>\n",
       "      <td>1170.51</td>\n",
       "      <td>1189.01</td>\n",
       "      <td>2587899.0</td>\n",
       "      <td>0.0</td>\n",
       "      <td>1.0</td>\n",
       "      <td>1172.0</td>\n",
       "      <td>1190.00</td>\n",
       "      <td>1170.51</td>\n",
       "      <td>1189.01</td>\n",
       "      <td>2587899.0</td>\n",
       "    </tr>\n",
       "    <tr>\n",
       "      <th>2018-01-03</th>\n",
       "      <td>1188.3</td>\n",
       "      <td>1205.49</td>\n",
       "      <td>1188.30</td>\n",
       "      <td>1204.20</td>\n",
       "      <td>3044664.0</td>\n",
       "      <td>0.0</td>\n",
       "      <td>1.0</td>\n",
       "      <td>1188.3</td>\n",
       "      <td>1205.49</td>\n",
       "      <td>1188.30</td>\n",
       "      <td>1204.20</td>\n",
       "      <td>3044664.0</td>\n",
       "    </tr>\n",
       "    <tr>\n",
       "      <th>2018-01-04</th>\n",
       "      <td>1205.0</td>\n",
       "      <td>1215.87</td>\n",
       "      <td>1204.66</td>\n",
       "      <td>1209.59</td>\n",
       "      <td>3000366.0</td>\n",
       "      <td>0.0</td>\n",
       "      <td>1.0</td>\n",
       "      <td>1205.0</td>\n",
       "      <td>1215.87</td>\n",
       "      <td>1204.66</td>\n",
       "      <td>1209.59</td>\n",
       "      <td>3000366.0</td>\n",
       "    </tr>\n",
       "  </tbody>\n",
       "</table>\n",
       "</div>"
      ],
      "text/plain": [
       "              Open     High      Low    Close     Volume  Ex-Dividend  \\\n",
       "Date                                                                    \n",
       "2018-01-02  1172.0  1190.00  1170.51  1189.01  2587899.0          0.0   \n",
       "2018-01-03  1188.3  1205.49  1188.30  1204.20  3044664.0          0.0   \n",
       "2018-01-04  1205.0  1215.87  1204.66  1209.59  3000366.0          0.0   \n",
       "\n",
       "            Split Ratio  Adj. Open  Adj. High  Adj. Low  Adj. Close  \\\n",
       "Date                                                                  \n",
       "2018-01-02          1.0     1172.0    1190.00   1170.51     1189.01   \n",
       "2018-01-03          1.0     1188.3    1205.49   1188.30     1204.20   \n",
       "2018-01-04          1.0     1205.0    1215.87   1204.66     1209.59   \n",
       "\n",
       "            Adj. Volume  \n",
       "Date                     \n",
       "2018-01-02    2587899.0  \n",
       "2018-01-03    3044664.0  \n",
       "2018-01-04    3000366.0  "
      ]
     },
     "execution_count": 7,
     "metadata": {},
     "output_type": "execute_result"
    }
   ],
   "source": [
    "amzn = quandl.get('WIKI/AMZN', api_key=api_key, \n",
    "                  start_date='2018-01-01', end_date='2021-08-01')\n",
    "amzn.head(3)"
   ]
  },
  {
   "cell_type": "code",
   "execution_count": 8,
   "id": "a73d8170",
   "metadata": {},
   "outputs": [
    {
     "data": {
      "text/plain": [
       "Open           float64\n",
       "High           float64\n",
       "Low            float64\n",
       "Close          float64\n",
       "Volume         float64\n",
       "Ex-Dividend    float64\n",
       "Split Ratio    float64\n",
       "Adj. Open      float64\n",
       "Adj. High      float64\n",
       "Adj. Low       float64\n",
       "Adj. Close     float64\n",
       "Adj. Volume    float64\n",
       "dtype: object"
      ]
     },
     "execution_count": 8,
     "metadata": {},
     "output_type": "execute_result"
    }
   ],
   "source": [
    "amzn.dtypes"
   ]
  },
  {
   "cell_type": "markdown",
   "id": "eb4adeb0",
   "metadata": {},
   "source": [
    "# Select the closing price¶"
   ]
  },
  {
   "cell_type": "code",
   "execution_count": 9,
   "id": "25e326e1",
   "metadata": {},
   "outputs": [
    {
     "data": {
      "text/plain": [
       "Date\n",
       "2018-01-02    1189.01\n",
       "2018-01-03    1204.20\n",
       "2018-01-04    1209.59\n",
       "Name: Adj. Close, dtype: float64"
      ]
     },
     "execution_count": 9,
     "metadata": {},
     "output_type": "execute_result"
    }
   ],
   "source": [
    "close = amzn['Adj. Close']\n",
    "close.head(3)"
   ]
  },
  {
   "cell_type": "markdown",
   "id": "3c67b790",
   "metadata": {},
   "source": [
    "# Daily percent change"
   ]
  },
  {
   "cell_type": "code",
   "execution_count": 10,
   "id": "f3c4375e",
   "metadata": {},
   "outputs": [
    {
     "data": {
      "text/plain": [
       "Date\n",
       "2018-01-02         NaN\n",
       "2018-01-03    0.012775\n",
       "2018-01-04    0.004476\n",
       "2018-01-05    0.016163\n",
       "2018-01-08    0.014425\n",
       "Name: Adj. Close, dtype: float64"
      ]
     },
     "execution_count": 10,
     "metadata": {},
     "output_type": "execute_result"
    }
   ],
   "source": [
    "close_change = close.pct_change()\n",
    "close_change.head()"
   ]
  },
  {
   "cell_type": "markdown",
   "id": "7b724594",
   "metadata": {},
   "source": [
    "# Handling Missing Value"
   ]
  },
  {
   "cell_type": "code",
   "execution_count": 11,
   "id": "9a32a33c",
   "metadata": {},
   "outputs": [
    {
     "data": {
      "text/plain": [
       "Date\n",
       "2018-01-03    0.012775\n",
       "2018-01-04    0.004476\n",
       "2018-01-05    0.016163\n",
       "Name: Adj. Close, dtype: float64"
      ]
     },
     "execution_count": 11,
     "metadata": {},
     "output_type": "execute_result"
    }
   ],
   "source": [
    "close_change = close_change.dropna()\n",
    "close_change.head(3)"
   ]
  },
  {
   "cell_type": "markdown",
   "id": "18d38068",
   "metadata": {},
   "source": [
    "# Checking for Normality and Plotting the returns\n",
    "The 68-95-99.7 rule can be used to determine if the data is approximately normal."
   ]
  },
  {
   "cell_type": "code",
   "execution_count": 12,
   "id": "9308358d",
   "metadata": {},
   "outputs": [
    {
     "data": {
      "image/png": "[encoded data removed]",
      "text/plain": [
       "<Figure size 576x216 with 1 Axes>"
      ]
     },
     "metadata": {
      "needs_background": "light"
     },
     "output_type": "display_data"
    }
   ],
   "source": [
    "%matplotlib inline\n",
    "close_change.plot(kind='hist', bins=40, figsize=(8, 3));"
   ]
  },
  {
   "cell_type": "markdown",
   "id": "bf686c5c",
   "metadata": {},
   "source": [
    "check for normality"
   ]
  },
  {
   "cell_type": "code",
   "execution_count": 13,
   "id": "9d79d861",
   "metadata": {},
   "outputs": [
    {
     "data": {
      "text/plain": [
       "(0.0042, 0.0186)"
      ]
     },
     "execution_count": 13,
     "metadata": {},
     "output_type": "execute_result"
    }
   ],
   "source": [
    "mean = close_change.mean()\n",
    "std = close_change.std()\n",
    "mean.round(4), std.round(4)"
   ]
  },
  {
   "cell_type": "markdown",
   "id": "8e543d12",
   "metadata": {},
   "source": [
    "# number of standard deviations from the mean"
   ]
  },
  {
   "cell_type": "code",
   "execution_count": 15,
   "id": "90deb5d6",
   "metadata": {},
   "outputs": [
    {
     "data": {
      "text/plain": [
       "Date\n",
       "2018-01-03    0.464366\n",
       "2018-01-04    0.017541\n",
       "2018-01-05    0.646726\n",
       "Name: Adj. Close, dtype: float64"
      ]
     },
     "execution_count": 15,
     "metadata": {},
     "output_type": "execute_result"
    }
   ],
   "source": [
    "z_score = (close_change - mean) / std\n",
    "z_score.head(3)"
   ]
  },
  {
   "cell_type": "markdown",
   "id": "db58e305",
   "metadata": {},
   "source": [
    "To help make calculations easier, we will use the absolute value of the z-score."
   ]
  },
  {
   "cell_type": "code",
   "execution_count": 17,
   "id": "c0e5b4e8",
   "metadata": {
    "scrolled": true
   },
   "outputs": [
    {
     "data": {
      "text/plain": [
       "Date\n",
       "2018-01-03    0.464366\n",
       "2018-01-04    0.017541\n",
       "Name: Adj. Close, dtype: float64"
      ]
     },
     "execution_count": 17,
     "metadata": {},
     "output_type": "execute_result"
    }
   ],
   "source": [
    "z_score_abs = z_score.abs()\n",
    "z_score_abs.head(2)"
   ]
  },
  {
   "cell_type": "markdown",
   "id": "b3cb31be",
   "metadata": {},
   "source": [
    "# Find the percentage by taking the mean\n",
    "looking at 1 to 3 std"
   ]
  },
  {
   "cell_type": "code",
   "execution_count": 18,
   "id": "94393695",
   "metadata": {},
   "outputs": [
    {
     "data": {
      "text/plain": [
       "(0.724, 0.948, 1.0)"
      ]
     },
     "execution_count": 18,
     "metadata": {},
     "output_type": "execute_result"
    }
   ],
   "source": [
    "pct_within1 = (z_score_abs < 1).mean().round(3)\n",
    "pct_within2 = (z_score_abs < 2).mean().round(3)\n",
    "pct_within3 = (z_score_abs < 3).mean().round(3)\n",
    "\n",
    "pct_within1, pct_within2, pct_within3"
   ]
  },
  {
   "cell_type": "markdown",
   "id": "b86fbfd7",
   "metadata": {},
   "source": [
    "Using the percentile to check for normality"
   ]
  },
  {
   "cell_type": "code",
   "execution_count": 19,
   "id": "66e473ae",
   "metadata": {},
   "outputs": [
    {
     "data": {
      "text/plain": [
       "0.680    0.84\n",
       "0.950    1.99\n",
       "0.997    2.70\n",
       "Name: Adj. Close, dtype: float64"
      ]
     },
     "execution_count": 19,
     "metadata": {},
     "output_type": "execute_result"
    }
   ],
   "source": [
    "# Normal distributions return 1, 2, 3\n",
    "z_score_abs.quantile([.68, .95, .997]).round(2)"
   ]
  },
  {
   "cell_type": "code",
   "execution_count": null,
   "id": "9e415aa9",
   "metadata": {},
   "outputs": [],
   "source": []
  }
 ],
 "metadata": {
  "kernelspec": {
   "display_name": "Python 3",
   "language": "python",
   "name": "python3"
  },
  "language_info": {
   "codemirror_mode": {
    "name": "ipython",
    "version": 3
   },
   "file_extension": ".py",
   "mimetype": "text/x-python",
   "name": "python",
   "nbconvert_exporter": "python",
   "pygments_lexer": "ipython3",
   "version": "3.9.5"
  }
 },
 "nbformat": 4,
 "nbformat_minor": 5
}
