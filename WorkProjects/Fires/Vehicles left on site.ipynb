{
 "cells": [
  {
   "cell_type": "code",
   "execution_count": 1,
   "id": "7c277d9b",
   "metadata": {},
   "outputs": [],
   "source": [
    "import pandas as pd\n",
    "import matplotlib.pyplot as plt\n",
    "import numpy as np"
   ]
  },
  {
   "cell_type": "code",
   "execution_count": 2,
   "id": "b8d21013",
   "metadata": {},
   "outputs": [],
   "source": [
    "file_Name = \"Northern Branch Phase II Debris Removal Ops.xlsx\""
   ]
  },
  {
   "cell_type": "code",
   "execution_count": 3,
   "id": "e38b9d7f",
   "metadata": {
    "scrolled": true
   },
   "outputs": [
    {
     "data": {
      "text/html": [
       "<div>\n",
       "<style scoped>\n",
       "    .dataframe tbody tr th:only-of-type {\n",
       "        vertical-align: middle;\n",
       "    }\n",
       "\n",
       "    .dataframe tbody tr th {\n",
       "        vertical-align: top;\n",
       "    }\n",
       "\n",
       "    .dataframe thead th {\n",
       "        text-align: right;\n",
       "    }\n",
       "</style>\n",
       "<table border=\"1\" class=\"dataframe\">\n",
       "  <thead>\n",
       "    <tr style=\"text-align: right;\">\n",
       "      <th></th>\n",
       "      <th>APN</th>\n",
       "      <th>Structural Status</th>\n",
       "      <th>Haz Tree Only</th>\n",
       "      <th># of Trees</th>\n",
       "      <th>Haz Trees Assessment</th>\n",
       "      <th>Haz Trees</th>\n",
       "      <th>Hazard Tree Status</th>\n",
       "      <th>Street #</th>\n",
       "      <th>Unit #</th>\n",
       "      <th>Street Name</th>\n",
       "      <th>...</th>\n",
       "      <th>Tree Eligibility (Butte/Shasta/Trinity/Siskiyou)</th>\n",
       "      <th>Trinity Lease Lots Eligibility</th>\n",
       "      <th>Hazard Tree Work Package</th>\n",
       "      <th>Tree Felling Complete</th>\n",
       "      <th>Tree Removal Complete</th>\n",
       "      <th>Number of Hazard Trees Felled</th>\n",
       "      <th>Trees Final Site Walk</th>\n",
       "      <th>Modified Date</th>\n",
       "      <th>duplicate</th>\n",
       "      <th>Sync Status</th>\n",
       "    </tr>\n",
       "  </thead>\n",
       "  <tbody>\n",
       "    <tr>\n",
       "      <th>0</th>\n",
       "      <td>062-130-003-000</td>\n",
       "      <td>Ready for Tree Operations</td>\n",
       "      <td>1.0</td>\n",
       "      <td>146.0</td>\n",
       "      <td>2021-05-07</td>\n",
       "      <td>Yes</td>\n",
       "      <td>Hazard Trees Felled</td>\n",
       "      <td>062-130-003-000</td>\n",
       "      <td>NaN</td>\n",
       "      <td>001.80 AC SEC 27 T21N R5E</td>\n",
       "      <td>...</td>\n",
       "      <td>Butte Eligible</td>\n",
       "      <td>NaN</td>\n",
       "      <td>Butte_WP_09</td>\n",
       "      <td>2021-06-14</td>\n",
       "      <td>NaT</td>\n",
       "      <td>144.0</td>\n",
       "      <td>NaN</td>\n",
       "      <td>2021-07-06 16:42:12</td>\n",
       "      <td>NaN</td>\n",
       "      <td>NaN</td>\n",
       "    </tr>\n",
       "    <tr>\n",
       "      <th>1</th>\n",
       "      <td>071-300-001-000</td>\n",
       "      <td>Ineligible</td>\n",
       "      <td>1.0</td>\n",
       "      <td>0.0</td>\n",
       "      <td>2021-06-02</td>\n",
       "      <td>No</td>\n",
       "      <td>No Hazard Trees</td>\n",
       "      <td>071-300-001-000</td>\n",
       "      <td>NaN</td>\n",
       "      <td>001.94 AC SEC 36 T20N R5E</td>\n",
       "      <td>...</td>\n",
       "      <td>Butte Eligible</td>\n",
       "      <td>NaN</td>\n",
       "      <td>NaN</td>\n",
       "      <td>NaT</td>\n",
       "      <td>NaT</td>\n",
       "      <td>NaN</td>\n",
       "      <td>NaN</td>\n",
       "      <td>2021-07-06 16:42:12</td>\n",
       "      <td>NaN</td>\n",
       "      <td>NaN</td>\n",
       "    </tr>\n",
       "    <tr>\n",
       "      <th>2</th>\n",
       "      <td>071-290-028-000</td>\n",
       "      <td>Ready for Tree Operations</td>\n",
       "      <td>1.0</td>\n",
       "      <td>2.0</td>\n",
       "      <td>2021-04-24</td>\n",
       "      <td>Yes</td>\n",
       "      <td>Hazard Trees Felled</td>\n",
       "      <td>071-290-028-000</td>\n",
       "      <td>NaN</td>\n",
       "      <td>002.30 AC SEC 36 T20N R5E</td>\n",
       "      <td>...</td>\n",
       "      <td>Butte Eligible</td>\n",
       "      <td>NaN</td>\n",
       "      <td>Butte_WP_06</td>\n",
       "      <td>2021-06-21</td>\n",
       "      <td>NaT</td>\n",
       "      <td>2.0</td>\n",
       "      <td>NaN</td>\n",
       "      <td>2021-07-06 16:42:12</td>\n",
       "      <td>NaN</td>\n",
       "      <td>NaN</td>\n",
       "    </tr>\n",
       "    <tr>\n",
       "      <th>3</th>\n",
       "      <td>071-200-048-000</td>\n",
       "      <td>Ready for Tree Operations</td>\n",
       "      <td>1.0</td>\n",
       "      <td>5.0</td>\n",
       "      <td>2021-04-24</td>\n",
       "      <td>Yes</td>\n",
       "      <td>Hazard Trees Felled</td>\n",
       "      <td>071-200-048-000</td>\n",
       "      <td>NaN</td>\n",
       "      <td>002.50 AC SEC 29 T20N R6E</td>\n",
       "      <td>...</td>\n",
       "      <td>Butte Eligible</td>\n",
       "      <td>NaN</td>\n",
       "      <td>Butte_WP_06</td>\n",
       "      <td>2021-06-18</td>\n",
       "      <td>NaT</td>\n",
       "      <td>5.0</td>\n",
       "      <td>NaN</td>\n",
       "      <td>2021-07-06 16:42:12</td>\n",
       "      <td>NaN</td>\n",
       "      <td>NaN</td>\n",
       "    </tr>\n",
       "    <tr>\n",
       "      <th>4</th>\n",
       "      <td>062-760-009-000</td>\n",
       "      <td>Ready for Tree Operations</td>\n",
       "      <td>1.0</td>\n",
       "      <td>14.0</td>\n",
       "      <td>2021-06-29</td>\n",
       "      <td>Yes</td>\n",
       "      <td>Hazard Trees Assessed</td>\n",
       "      <td>062-760-009-000</td>\n",
       "      <td>NaN</td>\n",
       "      <td>003.20 AC SEC 34 T21N R5E</td>\n",
       "      <td>...</td>\n",
       "      <td>Butte Eligible</td>\n",
       "      <td>NaN</td>\n",
       "      <td>Butte_WP_14</td>\n",
       "      <td>NaT</td>\n",
       "      <td>NaT</td>\n",
       "      <td>NaN</td>\n",
       "      <td>NaN</td>\n",
       "      <td>2021-07-08 20:45:46</td>\n",
       "      <td>NaN</td>\n",
       "      <td>NaN</td>\n",
       "    </tr>\n",
       "  </tbody>\n",
       "</table>\n",
       "<p>5 rows × 117 columns</p>\n",
       "</div>"
      ],
      "text/plain": [
       "               APN          Structural Status  Haz Tree Only  # of Trees  \\\n",
       "0  062-130-003-000  Ready for Tree Operations            1.0       146.0   \n",
       "1  071-300-001-000                 Ineligible            1.0         0.0   \n",
       "2  071-290-028-000  Ready for Tree Operations            1.0         2.0   \n",
       "3  071-200-048-000  Ready for Tree Operations            1.0         5.0   \n",
       "4  062-760-009-000  Ready for Tree Operations            1.0        14.0   \n",
       "\n",
       "  Haz Trees Assessment Haz Trees     Hazard Tree Status         Street #  \\\n",
       "0           2021-05-07       Yes    Hazard Trees Felled  062-130-003-000   \n",
       "1           2021-06-02        No        No Hazard Trees  071-300-001-000   \n",
       "2           2021-04-24       Yes    Hazard Trees Felled  071-290-028-000   \n",
       "3           2021-04-24       Yes    Hazard Trees Felled  071-200-048-000   \n",
       "4           2021-06-29       Yes  Hazard Trees Assessed  062-760-009-000   \n",
       "\n",
       "  Unit #                Street Name  ...  \\\n",
       "0    NaN  001.80 AC SEC 27 T21N R5E  ...   \n",
       "1    NaN  001.94 AC SEC 36 T20N R5E  ...   \n",
       "2    NaN  002.30 AC SEC 36 T20N R5E  ...   \n",
       "3    NaN  002.50 AC SEC 29 T20N R6E  ...   \n",
       "4    NaN  003.20 AC SEC 34 T21N R5E  ...   \n",
       "\n",
       "  Tree Eligibility (Butte/Shasta/Trinity/Siskiyou)  \\\n",
       "0                                   Butte Eligible   \n",
       "1                                   Butte Eligible   \n",
       "2                                   Butte Eligible   \n",
       "3                                   Butte Eligible   \n",
       "4                                   Butte Eligible   \n",
       "\n",
       "  Trinity Lease Lots Eligibility Hazard Tree Work Package  \\\n",
       "0                            NaN              Butte_WP_09   \n",
       "1                            NaN                      NaN   \n",
       "2                            NaN              Butte_WP_06   \n",
       "3                            NaN              Butte_WP_06   \n",
       "4                            NaN              Butte_WP_14   \n",
       "\n",
       "  Tree Felling Complete  Tree Removal Complete  Number of Hazard Trees Felled  \\\n",
       "0            2021-06-14                    NaT                          144.0   \n",
       "1                   NaT                    NaT                            NaN   \n",
       "2            2021-06-21                    NaT                            2.0   \n",
       "3            2021-06-18                    NaT                            5.0   \n",
       "4                   NaT                    NaT                            NaN   \n",
       "\n",
       "  Trees Final Site Walk       Modified Date duplicate Sync Status  \n",
       "0                   NaN 2021-07-06 16:42:12       NaN         NaN  \n",
       "1                   NaN 2021-07-06 16:42:12       NaN         NaN  \n",
       "2                   NaN 2021-07-06 16:42:12       NaN         NaN  \n",
       "3                   NaN 2021-07-06 16:42:12       NaN         NaN  \n",
       "4                   NaN 2021-07-08 20:45:46       NaN         NaN  \n",
       "\n",
       "[5 rows x 117 columns]"
      ]
     },
     "execution_count": 3,
     "metadata": {},
     "output_type": "execute_result"
    }
   ],
   "source": [
    "df = pd.read_excel(file_Name)\n",
    "df.head()"
   ]
  },
  {
   "cell_type": "code",
   "execution_count": null,
   "id": "b0439ecb",
   "metadata": {},
   "outputs": [],
   "source": [
    "df.dtypes"
   ]
  },
  {
   "cell_type": "code",
   "execution_count": null,
   "id": "7110971b",
   "metadata": {},
   "outputs": [],
   "source": [
    "df.columns.to_list()"
   ]
  },
  {
   "cell_type": "code",
   "execution_count": 4,
   "id": "bba4c412",
   "metadata": {},
   "outputs": [],
   "source": [
    "df.loc[:, ['Number of Vehicles', 'Number of Vehicles Removed']] = df.loc[:, ['Number of Vehicles', 'Number of Vehicles Removed']].fillna(0)"
   ]
  },
  {
   "cell_type": "code",
   "execution_count": 5,
   "id": "8a0f902c",
   "metadata": {},
   "outputs": [
    {
     "data": {
      "text/plain": [
       "dtype('float64')"
      ]
     },
     "execution_count": 5,
     "metadata": {},
     "output_type": "execute_result"
    }
   ],
   "source": [
    "df['Number of Vehicles'].dtypes"
   ]
  },
  {
   "cell_type": "code",
   "execution_count": 6,
   "id": "caad86b3",
   "metadata": {},
   "outputs": [
    {
     "data": {
      "text/plain": [
       "dtype('O')"
      ]
     },
     "execution_count": 6,
     "metadata": {},
     "output_type": "execute_result"
    }
   ],
   "source": [
    "df['Number of Vehicles Removed'].dtypes"
   ]
  },
  {
   "cell_type": "markdown",
   "id": "b5093910",
   "metadata": {},
   "source": [
    "covert Number of vehicles object to a int or float category"
   ]
  },
  {
   "cell_type": "code",
   "execution_count": 7,
   "id": "b167dbfa",
   "metadata": {},
   "outputs": [],
   "source": [
    "df['Number of Vehicles Removed'] = pd.to_numeric(df['Number of Vehicles Removed'], errors='coerce')"
   ]
  },
  {
   "cell_type": "code",
   "execution_count": 8,
   "id": "a76c045f",
   "metadata": {},
   "outputs": [
    {
     "data": {
      "text/plain": [
       "dtype('float64')"
      ]
     },
     "execution_count": 8,
     "metadata": {},
     "output_type": "execute_result"
    }
   ],
   "source": [
    "df['Number of Vehicles Removed'].dtype"
   ]
  },
  {
   "cell_type": "markdown",
   "id": "41a1d300",
   "metadata": {},
   "source": [
    "Create a new column with vehicles left over"
   ]
  },
  {
   "cell_type": "code",
   "execution_count": 9,
   "id": "f6bf6ec1",
   "metadata": {},
   "outputs": [],
   "source": [
    "df.loc[:, 'Vehicle Left'] =  df.loc[:, 'Number of Vehicles'] - df.loc[:, 'Number of Vehicles Removed']"
   ]
  },
  {
   "cell_type": "code",
   "execution_count": null,
   "id": "66809937",
   "metadata": {},
   "outputs": [],
   "source": [
    "dfVecfilt = df[['Number of Vehicles','Number of Vehicles Removed', 'County','Vehicle Left']].groupby('County').sum()\n",
    "dfVecfilt"
   ]
  },
  {
   "cell_type": "code",
   "execution_count": null,
   "id": "03873dcb",
   "metadata": {
    "scrolled": false
   },
   "outputs": [],
   "source": [
    "dfVecfilt.plot(kind='bar', figsize=(25,10))"
   ]
  },
  {
   "cell_type": "markdown",
   "id": "30dc3e67",
   "metadata": {},
   "source": [
    "# Make graph above with total for each bar placed on top"
   ]
  },
  {
   "cell_type": "code",
   "execution_count": 39,
   "id": "a2a47f42",
   "metadata": {},
   "outputs": [],
   "source": [
    "df_index = df.groupby(['County']).sum()\n",
    "df_value = df_index.loc[:, ['Number of Vehicles','Number of Vehicles Removed','Vehicle Left']]"
   ]
  },
  {
   "cell_type": "code",
   "execution_count": null,
   "id": "e35f5ce2",
   "metadata": {
    "scrolled": false
   },
   "outputs": [],
   "source": [
    "df_value"
   ]
  },
  {
   "cell_type": "code",
   "execution_count": null,
   "id": "58483218",
   "metadata": {
    "scrolled": true
   },
   "outputs": [],
   "source": [
    "df_index"
   ]
  },
  {
   "cell_type": "code",
   "execution_count": null,
   "id": "bccc63f9",
   "metadata": {},
   "outputs": [],
   "source": [
    "df_value.plot(kind='bar', figsize=(25,10))\n",
    "\n",
    "for i in range(len(df_index)):\n",
    "    plt.text(i, df_value[i], df_value[i], ha='center', va='bottom')\n",
    "\n",
    "\n",
    "\n",
    "plt.xticks(rotation=30, horizontalalignment='center')\n",
    "plt.title(\"NorthenBranch Fire Vehicle Summary\")\n",
    "plt.ylabel(\"Counts\")\n",
    "plt.show()"
   ]
  },
  {
   "cell_type": "code",
   "execution_count": 80,
   "id": "68d6b8f8",
   "metadata": {},
   "outputs": [],
   "source": [
    "df_index = df.groupby(['County']).sum()\n",
    "\n",
    "df_value2 = df_index.loc[:, 'Number of Vehicles']\n",
    "df_value3 = df_index.loc[:, 'Number of Vehicles Removed']\n",
    "df_value4 = df_index.loc[:, 'Vehicle Left']"
   ]
  },
  {
   "cell_type": "code",
   "execution_count": 154,
   "id": "2e4bb507",
   "metadata": {
    "scrolled": false
   },
   "outputs": [
    {
     "data": {
      "image/png": "[encoded data removed]",
      "text/plain": [
       "<Figure size 1440x1080 with 1 Axes>"
      ]
     },
     "metadata": {
      "needs_background": "light"
     },
     "output_type": "display_data"
    }
   ],
   "source": [
    "df_value.plot(kind='bar',  figsize=(20,15))\n",
    "\n",
    "for i in range(len(df_index)):\n",
    "    plt.text(i, df_value2[i], df_value2[i], ha='right', va='bottom')\n",
    "    plt.text(i, df_value3[i], df_value3[i], ha='center', va='bottom')\n",
    "    plt.text(i, df_value4[i], df_value4[i], ha='left', va='bottom')\n",
    "plt.xticks(rotation=30)\n",
    "plt.title(\"Northen Branch Fire Vehicle Summary\")\n",
    "plt.ylabel(\"Counts\")\n",
    "plt.grid(color='gray', linestyle='--', axis='y')\n",
    "# plt.tight_layout()\n",
    "plt.show()"
   ]
  },
  {
   "cell_type": "code",
   "execution_count": 150,
   "id": "b82e4d6b",
   "metadata": {},
   "outputs": [
    {
     "ename": "AttributeError",
     "evalue": "'float' object has no attribute 'get_height'",
     "output_type": "error",
     "traceback": [
      "\u001b[1;31m---------------------------------------------------------------------------\u001b[0m",
      "\u001b[1;31mAttributeError\u001b[0m                            Traceback (most recent call last)",
      "\u001b[1;32m<ipython-input-150-f7c4473db4c9>\u001b[0m in \u001b[0;36m<module>\u001b[1;34m\u001b[0m\n\u001b[0;32m      1\u001b[0m \u001b[1;32mfor\u001b[0m \u001b[0midx\u001b[0m\u001b[1;33m,\u001b[0m \u001b[0mrect\u001b[0m \u001b[1;32min\u001b[0m \u001b[0menumerate\u001b[0m\u001b[1;33m(\u001b[0m\u001b[0mdf_value2\u001b[0m\u001b[1;33m)\u001b[0m\u001b[1;33m:\u001b[0m\u001b[1;33m\u001b[0m\u001b[1;33m\u001b[0m\u001b[0m\n\u001b[1;32m----> 2\u001b[1;33m     \u001b[0mheight\u001b[0m \u001b[1;33m=\u001b[0m \u001b[0mrect\u001b[0m\u001b[1;33m.\u001b[0m\u001b[0mget_height\u001b[0m\u001b[1;33m(\u001b[0m\u001b[1;33m)\u001b[0m\u001b[1;33m\u001b[0m\u001b[1;33m\u001b[0m\u001b[0m\n\u001b[0m\u001b[0;32m      3\u001b[0m     \u001b[0mplt\u001b[0m\u001b[1;33m.\u001b[0m\u001b[0mtext\u001b[0m\u001b[1;33m(\u001b[0m\u001b[0mrect\u001b[0m\u001b[1;33m.\u001b[0m\u001b[0mget_x\u001b[0m\u001b[1;33m(\u001b[0m\u001b[1;33m)\u001b[0m \u001b[1;33m+\u001b[0m \u001b[0mrect\u001b[0m\u001b[1;33m.\u001b[0m\u001b[0mget_width\u001b[0m\u001b[1;33m(\u001b[0m\u001b[1;33m)\u001b[0m\u001b[1;33m/\u001b[0m\u001b[1;36m2.\u001b[0m\u001b[1;33m,\u001b[0m \u001b[1;36m1.05\u001b[0m\u001b[1;33m*\u001b[0m \u001b[0mheight\u001b[0m\u001b[1;33m,\u001b[0m \u001b[0mdf_index\u001b[0m\u001b[1;33m[\u001b[0m\u001b[0midx\u001b[0m\u001b[1;33m]\u001b[0m\u001b[1;33m,\u001b[0m \u001b[0mha\u001b[0m\u001b[1;33m=\u001b[0m\u001b[1;34m'center'\u001b[0m\u001b[1;33m,\u001b[0m \u001b[0mva\u001b[0m\u001b[1;33m=\u001b[0m\u001b[1;34m'bottom'\u001b[0m\u001b[1;33m)\u001b[0m\u001b[1;33m\u001b[0m\u001b[1;33m\u001b[0m\u001b[0m\n\u001b[0;32m      4\u001b[0m \u001b[0mplt\u001b[0m\u001b[1;33m.\u001b[0m\u001b[0mshow\u001b[0m\u001b[1;33m(\u001b[0m\u001b[1;33m)\u001b[0m\u001b[1;33m\u001b[0m\u001b[1;33m\u001b[0m\u001b[0m\n",
      "\u001b[1;31mAttributeError\u001b[0m: 'float' object has no attribute 'get_height'"
     ]
    }
   ],
   "source": [
    "for idx, rect in enumerate(df_value2):\n",
    "    height = rect.get_height()\n",
    "    plt.text(rect.get_x() + rect.get_width()/2., 1.05* height, df_index[idx], ha='center', va='bottom')\n",
    "plt.show()"
   ]
  },
  {
   "cell_type": "code",
   "execution_count": null,
   "id": "a4a0b2b5",
   "metadata": {},
   "outputs": [],
   "source": []
  }
 ],
 "metadata": {
  "kernelspec": {
   "display_name": "Python 3",
   "language": "python",
   "name": "python3"
  },
  "language_info": {
   "codemirror_mode": {
    "name": "ipython",
    "version": 3
   },
   "file_extension": ".py",
   "mimetype": "text/x-python",
   "name": "python",
   "nbconvert_exporter": "python",
   "pygments_lexer": "ipython3",
   "version": "3.9.4"
  }
 },
 "nbformat": 4,
 "nbformat_minor": 5
}
